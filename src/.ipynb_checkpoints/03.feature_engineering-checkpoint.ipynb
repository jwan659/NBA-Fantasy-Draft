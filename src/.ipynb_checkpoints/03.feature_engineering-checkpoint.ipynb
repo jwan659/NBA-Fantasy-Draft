{
 "cells": [
  {
   "cell_type": "markdown",
   "id": "1173257c",
   "metadata": {},
   "source": [
    "A weighted average of a players stats over the past three seasons can be used to predict next season's perfomance, whereby more recent seasons are weighted more heavily."
   ]
  },
  {
   "cell_type": "code",
   "execution_count": 9,
   "id": "8e532aec",
   "metadata": {},
   "outputs": [],
   "source": [
    "import utils\n",
    "import os\n",
    "import pandas as pd\n",
    "from scipy.stats import zscore \n",
    "from tqdm.notebook import tqdm\n",
    "from constants import DATA_DIR"
   ]
  },
  {
   "cell_type": "code",
   "execution_count": 3,
   "id": "455d3c8b",
   "metadata": {},
   "outputs": [],
   "source": [
    "def add_player_value(df):\n",
    "    #calculate zscore - blocks not included!!\n",
    "    #consider punting more than one\n",
    "    columns = ['G','FG%','FT%','3P','PTS','TRB','AST','STL','TOV']\n",
    "    numeric_stats = df[columns]\n",
    "    z_scores = pd.DataFrame(zscore(numeric_stats, axis=0, nan_policy='omit'),columns=columns)\n",
    "    z_scores['TOV'] = z_scores['TOV'] * -1\n",
    "    value = pd.DataFrame(columns = ['VALUE'])\n",
    "    value['VALUE'] = z_scores.sum(axis=1)\n",
    "    result = pd.concat([df, value], axis=1)\n",
    "    return result"
   ]
  },
  {
   "cell_type": "code",
   "execution_count": 34,
   "id": "35d47f0b",
   "metadata": {},
   "outputs": [],
   "source": [
    "def weigh_rows(row, weighting, old_row):\n",
    "    if weighting == 'linear':\n",
    "        weights = [i for i in range(1,4)]\n",
    "    elif weighting == 'quad':\n",
    "        weights = [i**2 for i in range(1,4)]\n",
    "    elif weighting == 'sqrt':\n",
    "        weights = [i**(1/2) for i in range(1,4)]\n",
    "    elif weighting == 'base':\n",
    "        weights = [1, 1, 1]\n",
    "    #columns = ['G','FG%','FT%','3P','PTS','TRB','AST','STL','TOV'] #change this to all stats\n",
    "    new_row = pd.DataFrame(columns=row.columns)\n",
    "    new_row.drop(['PLAYER','POS','AGE','TEAM','SEASON','VALUE'],axis=1,inplace=True)\n",
    "    for column in new_row.columns:\n",
    "        values = row[column].tolist()\n",
    "        n = len(weights)\n",
    "        weighted_sum = [weights[i]*values[i] for i in range(n)]\n",
    "        weighted_mean = sum(weighted_sum)/sum(weights)\n",
    "        old_row.loc[:,column] = weighted_mean\n",
    "    return old_row"
   ]
  },
  {
   "cell_type": "code",
   "execution_count": 30,
   "id": "ea9be587",
   "metadata": {},
   "outputs": [],
   "source": [
    "def weigh_data(weighting, season, merged):\n",
    "    curr = merged.loc[merged['SEASON']==season].reset_index()\n",
    "    weighted = pd.DataFrame()\n",
    "    for i in tqdm(range(curr.shape[0])): #iterate through players\n",
    "        name = curr.loc[i,'PLAYER']\n",
    "        df_name = merged.loc[merged['PLAYER']==name].reset_index(drop=True)\n",
    "        new = df_name.loc[df_name['SEASON'] < season]\n",
    "        if len(new.index) >=3:\n",
    "            row = new.iloc[-3:]\n",
    "            old_row = df_name.loc[df_name['SEASON'] == season]\n",
    "            new_row = weigh_rows(row, weighting, old_row)\n",
    "            # add value to row\n",
    "            weighted = weighted.append(new_row)\n",
    "    weighted = weighted.fillna(0)\n",
    "    return weighted"
   ]
  },
  {
   "cell_type": "code",
   "execution_count": 31,
   "id": "aa91a315",
   "metadata": {},
   "outputs": [],
   "source": [
    "# combine data\n",
    "seasons = ['2009-10','2010-11','2011-12','2012-13','2013-14','2014-15', \n",
    "           '2015-16','2016-17','2017-18','2018-19','2019-20','2020-21']\n",
    "merged = pd.DataFrame()\n",
    "for season in seasons:\n",
    "    df = pd.read_csv('~/Desktop/NBA-Fantasy-Draft/data/PlayerStats/'+season+'.csv')\n",
    "    df = add_player_value(df)\n",
    "    df.to_csv('~/Desktop/NBA-Fantasy-Draft/data/Value/'+season+'.csv')\n",
    "merged = utils.csv_concatenate(os.path.join(DATA_DIR,'Value'))\n",
    "merged = merged.iloc[:,1:]"
   ]
  },
  {
   "cell_type": "code",
   "execution_count": 35,
   "id": "b309ce16",
   "metadata": {},
   "outputs": [
    {
     "data": {
      "application/vnd.jupyter.widget-view+json": {
       "model_id": "80234f05a76b4b7597b01ba69f6a5f3f",
       "version_major": 2,
       "version_minor": 0
      },
      "text/plain": [
       "HBox(children=(FloatProgress(value=0.0, max=4.0), HTML(value='')))"
      ]
     },
     "metadata": {},
     "output_type": "display_data"
    },
    {
     "name": "stdout",
     "output_type": "stream",
     "text": [
      "   index        PLAYER POS  AGE TEAM   G  GS    MP   FG   FGA  ...  DRB   TRB  \\\n",
      "0    973  Devin Harris  SG   29  ATL  58  34  24.5  3.3   7.6  ...  1.9   2.0   \n",
      "1    974    Al Horford   C   26  ATL  74  74  37.2  7.8  14.3  ...  7.6  10.2   \n",
      "2    975  John Jenkins  SG   21  ATL  61   2  14.8  2.1   4.8  ...  1.3   1.5   \n",
      "3    976  Ivan Johnson  PF   28  ATL  69   5  15.0  2.7   5.2  ...  2.8   3.9   \n",
      "4    977   Kyle Korver  SF   31  ATL  74  60  30.5  3.7   8.1  ...  3.6   4.0   \n",
      "\n",
      "   AST  STL  BLK  TOV   PF   PTS   SEASON     VALUE  \n",
      "0  3.4  1.1  0.2  1.5  1.8   9.9  2012-13  2.663024  \n",
      "1  3.2  1.1  1.1  2.0  2.2  17.4  2012-13  5.855667  \n",
      "2  0.9  0.2  0.2  0.7  0.6   6.1  2012-13 -0.406579  \n",
      "3  0.7  0.8  0.2  1.0  1.9   6.6  2012-13  0.048343  \n",
      "4  2.0  0.9  0.5  0.9  2.3  10.9  2012-13  6.722283  \n",
      "\n",
      "[5 rows x 32 columns]\n"
     ]
    },
    {
     "data": {
      "application/vnd.jupyter.widget-view+json": {
       "model_id": "0257dbbd5b9b49629ab223f9ee6ce1ae",
       "version_major": 2,
       "version_minor": 0
      },
      "text/plain": [
       "HBox(children=(FloatProgress(value=0.0, max=466.0), HTML(value='')))"
      ]
     },
     "metadata": {},
     "output_type": "display_data"
    },
    {
     "name": "stderr",
     "output_type": "stream",
     "text": [
      "/Users/jefferywang/opt/anaconda3/lib/python3.8/site-packages/pandas/core/indexing.py:1817: SettingWithCopyWarning: \n",
      "A value is trying to be set on a copy of a slice from a DataFrame.\n",
      "Try using .loc[row_indexer,col_indexer] = value instead\n",
      "\n",
      "See the caveats in the documentation: https://pandas.pydata.org/pandas-docs/stable/user_guide/indexing.html#returning-a-view-versus-a-copy\n",
      "  self._setitem_single_column(loc, value, pi)\n"
     ]
    },
    {
     "name": "stdout",
     "output_type": "stream",
     "text": [
      "\n",
      "   index           PLAYER POS  AGE TEAM   G  GS    MP   FG   FGA  ...  DRB  \\\n",
      "0   4932       Pero Antić   C   31  ATL  50  26  18.5  2.5   5.9  ...  3.0   \n",
      "1   4933     Gustavo Ayón   C   28  ATL  26  14  16.5  2.0   3.9  ...  3.2   \n",
      "2   4934      Elton Brand   C   34  ATL  73  15  19.4  2.5   4.5  ...  3.6   \n",
      "3   4935  DeMarre Carroll  SF   27  ATL  73  73  32.1  4.1   8.8  ...  4.1   \n",
      "4   4936       Al Horford   C   27  ATL  29  29  33.0  8.2  14.5  ...  6.1   \n",
      "\n",
      "   TRB  AST  STL  BLK  TOV   PF   PTS   SEASON     VALUE  \n",
      "0  4.2  1.2  0.4  0.2  1.1  2.5   7.0  2013-14  0.023723  \n",
      "1  4.8  1.1  1.0  0.4  1.1  1.8   4.3  2013-14 -2.203990  \n",
      "2  4.9  1.0  0.5  1.2  0.8  2.6   5.7  2013-14  0.515961  \n",
      "3  5.5  1.8  1.5  0.3  1.1  2.6  11.1  2013-14  5.870113  \n",
      "4  8.4  2.6  0.9  1.5  2.2  1.9  18.6  2013-14  3.082766  \n",
      "\n",
      "[5 rows x 32 columns]\n"
     ]
    },
    {
     "data": {
      "application/vnd.jupyter.widget-view+json": {
       "model_id": "074c48c2a97e4a799dc04c3105e13846",
       "version_major": 2,
       "version_minor": 0
      },
      "text/plain": [
       "HBox(children=(FloatProgress(value=0.0, max=478.0), HTML(value='')))"
      ]
     },
     "metadata": {},
     "output_type": "display_data"
    },
    {
     "name": "stderr",
     "output_type": "stream",
     "text": [
      "/Users/jefferywang/opt/anaconda3/lib/python3.8/site-packages/pandas/core/indexing.py:1817: SettingWithCopyWarning: \n",
      "A value is trying to be set on a copy of a slice from a DataFrame.\n",
      "Try using .loc[row_indexer,col_indexer] = value instead\n",
      "\n",
      "See the caveats in the documentation: https://pandas.pydata.org/pandas-docs/stable/user_guide/indexing.html#returning-a-view-versus-a-copy\n",
      "  self._setitem_single_column(loc, value, pi)\n"
     ]
    },
    {
     "name": "stdout",
     "output_type": "stream",
     "text": [
      "\n",
      "   index           PLAYER POS  AGE TEAM   G  GS    MP   FG   FGA  ...  DRB  \\\n",
      "0    482       Pero Antić   C   32  ATL  63   3  16.5  1.7   4.7  ...  2.1   \n",
      "1    483    Kent Bazemore  SG   25  ATL  75  10  17.7  1.9   4.4  ...  2.7   \n",
      "2    484      Elton Brand   C   35  ATL  36   4  13.5  1.2   2.6  ...  2.0   \n",
      "3    485  DeMarre Carroll  SF   28  ATL  70  69  31.3  4.5   9.3  ...  3.9   \n",
      "4    486       Al Horford   C   28  ATL  76  76  30.5  6.8  12.7  ...  5.4   \n",
      "\n",
      "   TRB  AST  STL  BLK  TOV   PF   PTS   SEASON     VALUE  \n",
      "0  3.0  0.8  0.3  0.2  0.8  2.1   5.7  2014-15 -1.552119  \n",
      "1  3.0  1.0  0.7  0.4  1.0  1.7   5.2  2014-15 -0.644942  \n",
      "2  2.8  0.6  0.5  0.7  0.5  1.5   2.7  2014-15 -3.964199  \n",
      "3  5.3  1.7  1.3  0.2  1.1  2.2  12.6  2014-15  5.879529  \n",
      "4  7.2  3.2  0.9  1.3  1.3  1.6  15.2  2014-15  5.469797  \n",
      "\n",
      "[5 rows x 32 columns]\n"
     ]
    },
    {
     "data": {
      "application/vnd.jupyter.widget-view+json": {
       "model_id": "75a7461da7f946f7bb01b4d2c39e27b5",
       "version_major": 2,
       "version_minor": 0
      },
      "text/plain": [
       "HBox(children=(FloatProgress(value=0.0, max=491.0), HTML(value='')))"
      ]
     },
     "metadata": {},
     "output_type": "display_data"
    },
    {
     "name": "stderr",
     "output_type": "stream",
     "text": [
      "/Users/jefferywang/opt/anaconda3/lib/python3.8/site-packages/pandas/core/indexing.py:1817: SettingWithCopyWarning: \n",
      "A value is trying to be set on a copy of a slice from a DataFrame.\n",
      "Try using .loc[row_indexer,col_indexer] = value instead\n",
      "\n",
      "See the caveats in the documentation: https://pandas.pydata.org/pandas-docs/stable/user_guide/indexing.html#returning-a-view-versus-a-copy\n",
      "  self._setitem_single_column(loc, value, pi)\n"
     ]
    },
    {
     "name": "stdout",
     "output_type": "stream",
     "text": [
      "\n",
      "   index         PLAYER POS  AGE TEAM   G  GS    MP   FG   FGA  ...  DRB  TRB  \\\n",
      "0   2953  Kent Bazemore  SF   26  ATL  75  68  27.8  4.3   9.7  ...  4.7  5.1   \n",
      "1   2954   Tim Hardaway  SG   23  ATL  51   1  16.9  2.2   5.2  ...  1.5  1.7   \n",
      "2   2955     Al Horford   C   29  ATL  82  82  32.1  6.5  12.8  ...  5.5  7.3   \n",
      "3   2956    Kyle Korver  SG   34  ATL  80  80  30.0  3.4   7.7  ...  3.1  3.3   \n",
      "4   2957   Paul Millsap  PF   30  ATL  81  81  32.7  6.2  13.2  ...  6.6  9.0   \n",
      "\n",
      "   AST  STL  BLK  TOV   PF   PTS   SEASON     VALUE  \n",
      "0  2.3  1.3  0.5  1.8  2.3  11.6  2015-16  4.578106  \n",
      "1  1.0  0.4  0.1  0.5  0.9   6.4  2015-16 -0.405508  \n",
      "2  3.2  0.8  1.5  1.3  2.0  15.2  2015-16  6.503694  \n",
      "3  2.1  0.8  0.4  1.2  2.0   9.2  2015-16  3.858300  \n",
      "4  3.3  1.8  1.7  2.4  2.9  17.1  2015-16  7.526634  \n",
      "\n",
      "[5 rows x 32 columns]\n"
     ]
    },
    {
     "data": {
      "application/vnd.jupyter.widget-view+json": {
       "model_id": "e13ad8b1a36e49ab98d5743390d1bb72",
       "version_major": 2,
       "version_minor": 0
      },
      "text/plain": [
       "HBox(children=(FloatProgress(value=0.0, max=475.0), HTML(value='')))"
      ]
     },
     "metadata": {},
     "output_type": "display_data"
    },
    {
     "name": "stderr",
     "output_type": "stream",
     "text": [
      "/Users/jefferywang/opt/anaconda3/lib/python3.8/site-packages/pandas/core/indexing.py:1817: SettingWithCopyWarning: \n",
      "A value is trying to be set on a copy of a slice from a DataFrame.\n",
      "Try using .loc[row_indexer,col_indexer] = value instead\n",
      "\n",
      "See the caveats in the documentation: https://pandas.pydata.org/pandas-docs/stable/user_guide/indexing.html#returning-a-view-versus-a-copy\n",
      "  self._setitem_single_column(loc, value, pi)\n"
     ]
    },
    {
     "name": "stdout",
     "output_type": "stream",
     "text": [
      "\n",
      "   index           PLAYER POS  AGE TEAM   G  GS    MP   FG   FGA  ...  DRB  \\\n",
      "0      0    Kent Bazemore  SF   27  ATL  73  64  26.9  4.0   9.9  ...  2.5   \n",
      "1      1  DeAndre' Bembry  SF   22  ATL  38   1   9.8  1.2   2.6  ...  1.2   \n",
      "2      2  Malcolm Delaney  PG   27  ATL  73   2  17.1  2.0   5.3  ...  1.5   \n",
      "3      3     Tim Hardaway  SG   24  ATL  79  30  27.3  5.3  11.5  ...  2.4   \n",
      "4      4    Dwight Howard   C   31  ATL  74  74  29.7  5.2   8.3  ...  8.7   \n",
      "\n",
      "    TRB  AST  STL  BLK  TOV   PF   PTS   SEASON     VALUE  \n",
      "0   3.2  2.4  1.2  0.7  1.7  2.3  11.0  2016-17  2.274383  \n",
      "1   1.6  0.7  0.2  0.1  0.4  0.6   2.7  2016-17 -5.648678  \n",
      "2   1.7  2.6  0.5  0.0  1.3  1.5   5.4  2016-17 -1.365142  \n",
      "3   2.8  2.3  0.7  0.2  1.3  1.3  14.5  2016-17  3.720829  \n",
      "4  12.7  1.4  0.9  1.2  2.3  2.7  13.5  2016-17  4.160297  \n",
      "\n",
      "[5 rows x 32 columns]\n"
     ]
    },
    {
     "data": {
      "application/vnd.jupyter.widget-view+json": {
       "model_id": "7b6c1cde72b1421a8a6d61a4386bd8da",
       "version_major": 2,
       "version_minor": 0
      },
      "text/plain": [
       "HBox(children=(FloatProgress(value=0.0, max=482.0), HTML(value='')))"
      ]
     },
     "metadata": {},
     "output_type": "display_data"
    },
    {
     "name": "stderr",
     "output_type": "stream",
     "text": [
      "/Users/jefferywang/opt/anaconda3/lib/python3.8/site-packages/pandas/core/indexing.py:1817: SettingWithCopyWarning: \n",
      "A value is trying to be set on a copy of a slice from a DataFrame.\n",
      "Try using .loc[row_indexer,col_indexer] = value instead\n",
      "\n",
      "See the caveats in the documentation: https://pandas.pydata.org/pandas-docs/stable/user_guide/indexing.html#returning-a-view-versus-a-copy\n",
      "  self._setitem_single_column(loc, value, pi)\n"
     ]
    },
    {
     "name": "stdout",
     "output_type": "stream",
     "text": [
      "\n",
      "   index            PLAYER POS  AGE TEAM   G  GS    MP   FG   FGA  ...  DRB  \\\n",
      "0   2418     Kent Bazemore  SG   28  ATL  65  65  27.5  4.4  10.4  ...  3.4   \n",
      "1   2419   DeAndre' Bembry  SF   23  ATL  26   3  17.5  2.0   4.9  ...  2.5   \n",
      "2   2420  Nicolás Brussino  SF   24  ATL   4   0   2.5  0.0   0.5  ...  0.8   \n",
      "3   2421   Tyler Cavanaugh  PF   23  ATL  39   1  13.3  1.7   3.9  ...  2.1   \n",
      "4   2422      John Collins  PF   20  ATL  74  26  24.1  4.2   7.4  ...  4.9   \n",
      "\n",
      "   TRB  AST  STL  BLK  TOV   PF   PTS   SEASON      VALUE  \n",
      "0  3.8  3.5  1.5  0.7  2.4  2.3  12.9  2017-18   4.313854  \n",
      "1  2.8  1.9  0.8  0.5  1.8  1.5   5.2  2017-18  -3.188808  \n",
      "2  0.8  0.0  0.0  0.0  0.0  0.0   0.0  2017-18 -12.841444  \n",
      "3  3.3  0.7  0.2  0.1  0.4  1.6   4.7  2017-18  -1.191072  \n",
      "4  7.3  1.3  0.6  1.1  1.4  2.9  10.5  2017-18   2.660180  \n",
      "\n",
      "[5 rows x 32 columns]\n"
     ]
    },
    {
     "data": {
      "application/vnd.jupyter.widget-view+json": {
       "model_id": "af13e40c2ceb4a858216f2908ef9cd75",
       "version_major": 2,
       "version_minor": 0
      },
      "text/plain": [
       "HBox(children=(FloatProgress(value=0.0, max=535.0), HTML(value='')))"
      ]
     },
     "metadata": {},
     "output_type": "display_data"
    },
    {
     "name": "stderr",
     "output_type": "stream",
     "text": [
      "/Users/jefferywang/opt/anaconda3/lib/python3.8/site-packages/pandas/core/indexing.py:1817: SettingWithCopyWarning: \n",
      "A value is trying to be set on a copy of a slice from a DataFrame.\n",
      "Try using .loc[row_indexer,col_indexer] = value instead\n",
      "\n",
      "See the caveats in the documentation: https://pandas.pydata.org/pandas-docs/stable/user_guide/indexing.html#returning-a-view-versus-a-copy\n",
      "  self._setitem_single_column(loc, value, pi)\n"
     ]
    },
    {
     "name": "stdout",
     "output_type": "stream",
     "text": [
      "\n",
      "   index           PLAYER POS  AGE TEAM   G  GS    MP   FG   FGA  ...  DRB  \\\n",
      "0   3870     Jaylen Adams  PG   22  ATL  34   1  12.6  1.1   3.2  ...  1.4   \n",
      "1   3871  Justin Anderson  SF   25  ATL  48   4   9.6  1.3   3.3  ...  1.3   \n",
      "2   3872    Kent Bazemore  SG   29  ATL  67  35  24.5  4.1  10.3  ...  3.3   \n",
      "3   3873  DeAndre' Bembry  SG   24  ATL  82  15  23.5  3.4   7.5  ...  3.7   \n",
      "4   3874     Vince Carter  PF   42  ATL  76   9  17.5  2.6   6.2  ...  2.1   \n",
      "\n",
      "   TRB  AST  STL  BLK  TOV   PF   PTS   SEASON     VALUE  \n",
      "0  1.8  1.9  0.4  0.1  0.8  1.3   3.2  2018-19 -3.171911  \n",
      "1  1.8  0.5  0.5  0.3  0.5  1.0   3.7  2018-19 -2.560012  \n",
      "2  3.9  2.3  1.3  0.6  1.8  2.5  11.6  2018-19  2.602441  \n",
      "3  4.4  2.5  1.3  0.5  1.7  2.3   8.4  2018-19  2.086581  \n",
      "4  2.6  1.1  0.6  0.4  0.6  1.9   7.4  2018-19  1.224036  \n",
      "\n",
      "[5 rows x 32 columns]\n"
     ]
    },
    {
     "data": {
      "application/vnd.jupyter.widget-view+json": {
       "model_id": "c19a03946c1b449695b31f0c1afc3be0",
       "version_major": 2,
       "version_minor": 0
      },
      "text/plain": [
       "HBox(children=(FloatProgress(value=0.0, max=526.0), HTML(value='')))"
      ]
     },
     "metadata": {},
     "output_type": "display_data"
    },
    {
     "name": "stderr",
     "output_type": "stream",
     "text": [
      "/Users/jefferywang/opt/anaconda3/lib/python3.8/site-packages/pandas/core/indexing.py:1817: SettingWithCopyWarning: \n",
      "A value is trying to be set on a copy of a slice from a DataFrame.\n",
      "Try using .loc[row_indexer,col_indexer] = value instead\n",
      "\n",
      "See the caveats in the documentation: https://pandas.pydata.org/pandas-docs/stable/user_guide/indexing.html#returning-a-view-versus-a-copy\n",
      "  self._setitem_single_column(loc, value, pi)\n"
     ]
    },
    {
     "name": "stdout",
     "output_type": "stream",
     "text": [
      "\n",
      "   index           PLAYER POS  AGE TEAM   G  GS    MP   FG   FGA  ...  DRB  \\\n",
      "0   1439  DeAndre' Bembry  SG   25  ATL  43   4  21.3  2.4   5.3  ...  2.7   \n",
      "1   1440    Charlie Brown  SG   22  ATL  10   0   4.0  0.6   1.9  ...  0.2   \n",
      "2   1441     Vince Carter  PF   43  ATL  60   0  14.6  1.8   5.1  ...  1.8   \n",
      "3   1442     John Collins  PF   22  ATL  41  41  33.2  8.6  14.8  ...  7.3   \n",
      "4   1443   Bruno Fernando   C   21  ATL  56  13  12.7  1.8   3.6  ...  2.3   \n",
      "\n",
      "    TRB  AST  STL  BLK  TOV   PF   PTS   SEASON     VALUE  \n",
      "0   3.5  1.9  1.3  0.4  1.4  2.0   5.8  2019-20 -1.212720  \n",
      "1   0.4  0.2  0.2  0.2  0.3  0.3   2.0  2019-20 -5.031324  \n",
      "2   2.1  0.8  0.4  0.4  0.6  1.5   5.0  2019-20 -1.482551  \n",
      "3  10.1  1.5  0.8  1.6  1.8  3.4  21.6  2019-20  6.145021  \n",
      "4   3.5  0.9  0.3  0.3  0.8  1.9   4.3  2019-20 -2.670592  \n",
      "\n",
      "[5 rows x 32 columns]\n"
     ]
    },
    {
     "data": {
      "application/vnd.jupyter.widget-view+json": {
       "model_id": "611c61add76e41b582e7da46eaa05374",
       "version_major": 2,
       "version_minor": 0
      },
      "text/plain": [
       "HBox(children=(FloatProgress(value=0.0, max=526.0), HTML(value='')))"
      ]
     },
     "metadata": {},
     "output_type": "display_data"
    },
    {
     "name": "stderr",
     "output_type": "stream",
     "text": [
      "/Users/jefferywang/opt/anaconda3/lib/python3.8/site-packages/pandas/core/indexing.py:1817: SettingWithCopyWarning: \n",
      "A value is trying to be set on a copy of a slice from a DataFrame.\n",
      "Try using .loc[row_indexer,col_indexer] = value instead\n",
      "\n",
      "See the caveats in the documentation: https://pandas.pydata.org/pandas-docs/stable/user_guide/indexing.html#returning-a-view-versus-a-copy\n",
      "  self._setitem_single_column(loc, value, pi)\n"
     ]
    },
    {
     "name": "stdout",
     "output_type": "stream",
     "text": [
      "\n",
      "   index             PLAYER POS  AGE TEAM   G  GS    MP   FG   FGA  ...  DRB  \\\n",
      "0   4396  Bogdan Bogdanović  SG   28  ATL  44  27  29.7  6.1  12.8  ...  3.2   \n",
      "1   4397       Clint Capela   C   26  ATL  63  63  30.1  6.6  11.0  ...  9.6   \n",
      "2   4398       John Collins  PF   23  ATL  63  63  29.3  6.8  12.2  ...  5.5   \n",
      "3   4399          Kris Dunn  PG   26  ATL   4   0  11.3  0.3   3.0  ...  1.5   \n",
      "4   4400     Bruno Fernando   C   22  ATL  33   0   6.8  0.5   1.3  ...  1.9   \n",
      "\n",
      "    TRB  AST  STL  BLK  TOV   PF   PTS   SEASON     VALUE  \n",
      "0   3.6  3.3  1.1  0.3  1.2  2.3  16.4  2020-21  6.840439  \n",
      "1  14.3  0.8  0.7  2.0  1.2  2.3  15.2  2020-21  4.826255  \n",
      "2   7.4  1.2  0.5  1.0  1.3  3.1  17.6  2020-21  4.777654  \n",
      "3   1.5  0.5  0.5  0.5  0.8  2.5   1.3  2020-21 -9.329991  \n",
      "4   2.4  0.3  0.1  0.1  0.6  0.7   1.5  2020-21 -5.792363  \n",
      "\n",
      "[5 rows x 32 columns]\n"
     ]
    },
    {
     "data": {
      "application/vnd.jupyter.widget-view+json": {
       "model_id": "385b1ffa6e2e4ab0944549808317f6d8",
       "version_major": 2,
       "version_minor": 0
      },
      "text/plain": [
       "HBox(children=(FloatProgress(value=0.0, max=536.0), HTML(value='')))"
      ]
     },
     "metadata": {},
     "output_type": "display_data"
    },
    {
     "name": "stderr",
     "output_type": "stream",
     "text": [
      "/Users/jefferywang/opt/anaconda3/lib/python3.8/site-packages/pandas/core/indexing.py:1817: SettingWithCopyWarning: \n",
      "A value is trying to be set on a copy of a slice from a DataFrame.\n",
      "Try using .loc[row_indexer,col_indexer] = value instead\n",
      "\n",
      "See the caveats in the documentation: https://pandas.pydata.org/pandas-docs/stable/user_guide/indexing.html#returning-a-view-versus-a-copy\n",
      "  self._setitem_single_column(loc, value, pi)\n"
     ]
    },
    {
     "name": "stdout",
     "output_type": "stream",
     "text": [
      "\n",
      "   index        PLAYER POS  AGE TEAM   G  GS    MP   FG   FGA  ...  DRB   TRB  \\\n",
      "0    973  Devin Harris  SG   29  ATL  58  34  24.5  3.3   7.6  ...  1.9   2.0   \n",
      "1    974    Al Horford   C   26  ATL  74  74  37.2  7.8  14.3  ...  7.6  10.2   \n",
      "2    975  John Jenkins  SG   21  ATL  61   2  14.8  2.1   4.8  ...  1.3   1.5   \n",
      "3    976  Ivan Johnson  PF   28  ATL  69   5  15.0  2.7   5.2  ...  2.8   3.9   \n",
      "4    977   Kyle Korver  SF   31  ATL  74  60  30.5  3.7   8.1  ...  3.6   4.0   \n",
      "\n",
      "   AST  STL  BLK  TOV   PF   PTS   SEASON     VALUE  \n",
      "0  3.4  1.1  0.2  1.5  1.8   9.9  2012-13  2.663024  \n",
      "1  3.2  1.1  1.1  2.0  2.2  17.4  2012-13  5.855667  \n",
      "2  0.9  0.2  0.2  0.7  0.6   6.1  2012-13 -0.406579  \n",
      "3  0.7  0.8  0.2  1.0  1.9   6.6  2012-13  0.048343  \n",
      "4  2.0  0.9  0.5  0.9  2.3  10.9  2012-13  6.722283  \n",
      "\n",
      "[5 rows x 32 columns]\n"
     ]
    },
    {
     "data": {
      "application/vnd.jupyter.widget-view+json": {
       "model_id": "75f8fff2bef04a1da313f685237ba151",
       "version_major": 2,
       "version_minor": 0
      },
      "text/plain": [
       "HBox(children=(FloatProgress(value=0.0, max=466.0), HTML(value='')))"
      ]
     },
     "metadata": {},
     "output_type": "display_data"
    },
    {
     "name": "stderr",
     "output_type": "stream",
     "text": [
      "/Users/jefferywang/opt/anaconda3/lib/python3.8/site-packages/pandas/core/indexing.py:1817: SettingWithCopyWarning: \n",
      "A value is trying to be set on a copy of a slice from a DataFrame.\n",
      "Try using .loc[row_indexer,col_indexer] = value instead\n",
      "\n",
      "See the caveats in the documentation: https://pandas.pydata.org/pandas-docs/stable/user_guide/indexing.html#returning-a-view-versus-a-copy\n",
      "  self._setitem_single_column(loc, value, pi)\n"
     ]
    },
    {
     "name": "stdout",
     "output_type": "stream",
     "text": [
      "\n",
      "   index           PLAYER POS  AGE TEAM   G  GS    MP   FG   FGA  ...  DRB  \\\n",
      "0   4932       Pero Antić   C   31  ATL  50  26  18.5  2.5   5.9  ...  3.0   \n",
      "1   4933     Gustavo Ayón   C   28  ATL  26  14  16.5  2.0   3.9  ...  3.2   \n",
      "2   4934      Elton Brand   C   34  ATL  73  15  19.4  2.5   4.5  ...  3.6   \n",
      "3   4935  DeMarre Carroll  SF   27  ATL  73  73  32.1  4.1   8.8  ...  4.1   \n",
      "4   4936       Al Horford   C   27  ATL  29  29  33.0  8.2  14.5  ...  6.1   \n",
      "\n",
      "   TRB  AST  STL  BLK  TOV   PF   PTS   SEASON     VALUE  \n",
      "0  4.2  1.2  0.4  0.2  1.1  2.5   7.0  2013-14  0.023723  \n",
      "1  4.8  1.1  1.0  0.4  1.1  1.8   4.3  2013-14 -2.203990  \n",
      "2  4.9  1.0  0.5  1.2  0.8  2.6   5.7  2013-14  0.515961  \n",
      "3  5.5  1.8  1.5  0.3  1.1  2.6  11.1  2013-14  5.870113  \n",
      "4  8.4  2.6  0.9  1.5  2.2  1.9  18.6  2013-14  3.082766  \n",
      "\n",
      "[5 rows x 32 columns]\n"
     ]
    },
    {
     "data": {
      "application/vnd.jupyter.widget-view+json": {
       "model_id": "457248be07a14b2ca48229f4ab5f6d04",
       "version_major": 2,
       "version_minor": 0
      },
      "text/plain": [
       "HBox(children=(FloatProgress(value=0.0, max=478.0), HTML(value='')))"
      ]
     },
     "metadata": {},
     "output_type": "display_data"
    },
    {
     "name": "stderr",
     "output_type": "stream",
     "text": [
      "/Users/jefferywang/opt/anaconda3/lib/python3.8/site-packages/pandas/core/indexing.py:1817: SettingWithCopyWarning: \n",
      "A value is trying to be set on a copy of a slice from a DataFrame.\n",
      "Try using .loc[row_indexer,col_indexer] = value instead\n",
      "\n",
      "See the caveats in the documentation: https://pandas.pydata.org/pandas-docs/stable/user_guide/indexing.html#returning-a-view-versus-a-copy\n",
      "  self._setitem_single_column(loc, value, pi)\n"
     ]
    },
    {
     "name": "stdout",
     "output_type": "stream",
     "text": [
      "\n",
      "   index           PLAYER POS  AGE TEAM   G  GS    MP   FG   FGA  ...  DRB  \\\n",
      "0    482       Pero Antić   C   32  ATL  63   3  16.5  1.7   4.7  ...  2.1   \n",
      "1    483    Kent Bazemore  SG   25  ATL  75  10  17.7  1.9   4.4  ...  2.7   \n",
      "2    484      Elton Brand   C   35  ATL  36   4  13.5  1.2   2.6  ...  2.0   \n",
      "3    485  DeMarre Carroll  SF   28  ATL  70  69  31.3  4.5   9.3  ...  3.9   \n",
      "4    486       Al Horford   C   28  ATL  76  76  30.5  6.8  12.7  ...  5.4   \n",
      "\n",
      "   TRB  AST  STL  BLK  TOV   PF   PTS   SEASON     VALUE  \n",
      "0  3.0  0.8  0.3  0.2  0.8  2.1   5.7  2014-15 -1.552119  \n",
      "1  3.0  1.0  0.7  0.4  1.0  1.7   5.2  2014-15 -0.644942  \n",
      "2  2.8  0.6  0.5  0.7  0.5  1.5   2.7  2014-15 -3.964199  \n",
      "3  5.3  1.7  1.3  0.2  1.1  2.2  12.6  2014-15  5.879529  \n",
      "4  7.2  3.2  0.9  1.3  1.3  1.6  15.2  2014-15  5.469797  \n",
      "\n",
      "[5 rows x 32 columns]\n"
     ]
    },
    {
     "data": {
      "application/vnd.jupyter.widget-view+json": {
       "model_id": "7ef33ee1e944470d96b2fc611ed9ae57",
       "version_major": 2,
       "version_minor": 0
      },
      "text/plain": [
       "HBox(children=(FloatProgress(value=0.0, max=491.0), HTML(value='')))"
      ]
     },
     "metadata": {},
     "output_type": "display_data"
    },
    {
     "name": "stderr",
     "output_type": "stream",
     "text": [
      "/Users/jefferywang/opt/anaconda3/lib/python3.8/site-packages/pandas/core/indexing.py:1817: SettingWithCopyWarning: \n",
      "A value is trying to be set on a copy of a slice from a DataFrame.\n",
      "Try using .loc[row_indexer,col_indexer] = value instead\n",
      "\n",
      "See the caveats in the documentation: https://pandas.pydata.org/pandas-docs/stable/user_guide/indexing.html#returning-a-view-versus-a-copy\n",
      "  self._setitem_single_column(loc, value, pi)\n"
     ]
    },
    {
     "name": "stdout",
     "output_type": "stream",
     "text": [
      "\n",
      "   index         PLAYER POS  AGE TEAM   G  GS    MP   FG   FGA  ...  DRB  TRB  \\\n",
      "0   2953  Kent Bazemore  SF   26  ATL  75  68  27.8  4.3   9.7  ...  4.7  5.1   \n",
      "1   2954   Tim Hardaway  SG   23  ATL  51   1  16.9  2.2   5.2  ...  1.5  1.7   \n",
      "2   2955     Al Horford   C   29  ATL  82  82  32.1  6.5  12.8  ...  5.5  7.3   \n",
      "3   2956    Kyle Korver  SG   34  ATL  80  80  30.0  3.4   7.7  ...  3.1  3.3   \n",
      "4   2957   Paul Millsap  PF   30  ATL  81  81  32.7  6.2  13.2  ...  6.6  9.0   \n",
      "\n",
      "   AST  STL  BLK  TOV   PF   PTS   SEASON     VALUE  \n",
      "0  2.3  1.3  0.5  1.8  2.3  11.6  2015-16  4.578106  \n",
      "1  1.0  0.4  0.1  0.5  0.9   6.4  2015-16 -0.405508  \n",
      "2  3.2  0.8  1.5  1.3  2.0  15.2  2015-16  6.503694  \n",
      "3  2.1  0.8  0.4  1.2  2.0   9.2  2015-16  3.858300  \n",
      "4  3.3  1.8  1.7  2.4  2.9  17.1  2015-16  7.526634  \n",
      "\n",
      "[5 rows x 32 columns]\n"
     ]
    },
    {
     "data": {
      "application/vnd.jupyter.widget-view+json": {
       "model_id": "1ebc0707941b48c0890c99467174e365",
       "version_major": 2,
       "version_minor": 0
      },
      "text/plain": [
       "HBox(children=(FloatProgress(value=0.0, max=475.0), HTML(value='')))"
      ]
     },
     "metadata": {},
     "output_type": "display_data"
    },
    {
     "name": "stderr",
     "output_type": "stream",
     "text": [
      "/Users/jefferywang/opt/anaconda3/lib/python3.8/site-packages/pandas/core/indexing.py:1817: SettingWithCopyWarning: \n",
      "A value is trying to be set on a copy of a slice from a DataFrame.\n",
      "Try using .loc[row_indexer,col_indexer] = value instead\n",
      "\n",
      "See the caveats in the documentation: https://pandas.pydata.org/pandas-docs/stable/user_guide/indexing.html#returning-a-view-versus-a-copy\n",
      "  self._setitem_single_column(loc, value, pi)\n"
     ]
    },
    {
     "name": "stdout",
     "output_type": "stream",
     "text": [
      "\n",
      "   index           PLAYER POS  AGE TEAM   G  GS    MP   FG   FGA  ...  DRB  \\\n",
      "0      0    Kent Bazemore  SF   27  ATL  73  64  26.9  4.0   9.9  ...  2.5   \n",
      "1      1  DeAndre' Bembry  SF   22  ATL  38   1   9.8  1.2   2.6  ...  1.2   \n",
      "2      2  Malcolm Delaney  PG   27  ATL  73   2  17.1  2.0   5.3  ...  1.5   \n",
      "3      3     Tim Hardaway  SG   24  ATL  79  30  27.3  5.3  11.5  ...  2.4   \n",
      "4      4    Dwight Howard   C   31  ATL  74  74  29.7  5.2   8.3  ...  8.7   \n",
      "\n",
      "    TRB  AST  STL  BLK  TOV   PF   PTS   SEASON     VALUE  \n",
      "0   3.2  2.4  1.2  0.7  1.7  2.3  11.0  2016-17  2.274383  \n",
      "1   1.6  0.7  0.2  0.1  0.4  0.6   2.7  2016-17 -5.648678  \n",
      "2   1.7  2.6  0.5  0.0  1.3  1.5   5.4  2016-17 -1.365142  \n",
      "3   2.8  2.3  0.7  0.2  1.3  1.3  14.5  2016-17  3.720829  \n",
      "4  12.7  1.4  0.9  1.2  2.3  2.7  13.5  2016-17  4.160297  \n",
      "\n",
      "[5 rows x 32 columns]\n"
     ]
    },
    {
     "data": {
      "application/vnd.jupyter.widget-view+json": {
       "model_id": "a8fab073738a4517bc5b7b91aa548871",
       "version_major": 2,
       "version_minor": 0
      },
      "text/plain": [
       "HBox(children=(FloatProgress(value=0.0, max=482.0), HTML(value='')))"
      ]
     },
     "metadata": {},
     "output_type": "display_data"
    },
    {
     "name": "stderr",
     "output_type": "stream",
     "text": [
      "/Users/jefferywang/opt/anaconda3/lib/python3.8/site-packages/pandas/core/indexing.py:1817: SettingWithCopyWarning: \n",
      "A value is trying to be set on a copy of a slice from a DataFrame.\n",
      "Try using .loc[row_indexer,col_indexer] = value instead\n",
      "\n",
      "See the caveats in the documentation: https://pandas.pydata.org/pandas-docs/stable/user_guide/indexing.html#returning-a-view-versus-a-copy\n",
      "  self._setitem_single_column(loc, value, pi)\n"
     ]
    },
    {
     "name": "stdout",
     "output_type": "stream",
     "text": [
      "\n",
      "   index            PLAYER POS  AGE TEAM   G  GS    MP   FG   FGA  ...  DRB  \\\n",
      "0   2418     Kent Bazemore  SG   28  ATL  65  65  27.5  4.4  10.4  ...  3.4   \n",
      "1   2419   DeAndre' Bembry  SF   23  ATL  26   3  17.5  2.0   4.9  ...  2.5   \n",
      "2   2420  Nicolás Brussino  SF   24  ATL   4   0   2.5  0.0   0.5  ...  0.8   \n",
      "3   2421   Tyler Cavanaugh  PF   23  ATL  39   1  13.3  1.7   3.9  ...  2.1   \n",
      "4   2422      John Collins  PF   20  ATL  74  26  24.1  4.2   7.4  ...  4.9   \n",
      "\n",
      "   TRB  AST  STL  BLK  TOV   PF   PTS   SEASON      VALUE  \n",
      "0  3.8  3.5  1.5  0.7  2.4  2.3  12.9  2017-18   4.313854  \n",
      "1  2.8  1.9  0.8  0.5  1.8  1.5   5.2  2017-18  -3.188808  \n",
      "2  0.8  0.0  0.0  0.0  0.0  0.0   0.0  2017-18 -12.841444  \n",
      "3  3.3  0.7  0.2  0.1  0.4  1.6   4.7  2017-18  -1.191072  \n",
      "4  7.3  1.3  0.6  1.1  1.4  2.9  10.5  2017-18   2.660180  \n",
      "\n",
      "[5 rows x 32 columns]\n"
     ]
    },
    {
     "data": {
      "application/vnd.jupyter.widget-view+json": {
       "model_id": "80c27d0ff8284382bf2233f9eff00489",
       "version_major": 2,
       "version_minor": 0
      },
      "text/plain": [
       "HBox(children=(FloatProgress(value=0.0, max=535.0), HTML(value='')))"
      ]
     },
     "metadata": {},
     "output_type": "display_data"
    },
    {
     "name": "stderr",
     "output_type": "stream",
     "text": [
      "/Users/jefferywang/opt/anaconda3/lib/python3.8/site-packages/pandas/core/indexing.py:1817: SettingWithCopyWarning: \n",
      "A value is trying to be set on a copy of a slice from a DataFrame.\n",
      "Try using .loc[row_indexer,col_indexer] = value instead\n",
      "\n",
      "See the caveats in the documentation: https://pandas.pydata.org/pandas-docs/stable/user_guide/indexing.html#returning-a-view-versus-a-copy\n",
      "  self._setitem_single_column(loc, value, pi)\n"
     ]
    },
    {
     "name": "stdout",
     "output_type": "stream",
     "text": [
      "\n",
      "   index           PLAYER POS  AGE TEAM   G  GS    MP   FG   FGA  ...  DRB  \\\n",
      "0   3870     Jaylen Adams  PG   22  ATL  34   1  12.6  1.1   3.2  ...  1.4   \n",
      "1   3871  Justin Anderson  SF   25  ATL  48   4   9.6  1.3   3.3  ...  1.3   \n",
      "2   3872    Kent Bazemore  SG   29  ATL  67  35  24.5  4.1  10.3  ...  3.3   \n",
      "3   3873  DeAndre' Bembry  SG   24  ATL  82  15  23.5  3.4   7.5  ...  3.7   \n",
      "4   3874     Vince Carter  PF   42  ATL  76   9  17.5  2.6   6.2  ...  2.1   \n",
      "\n",
      "   TRB  AST  STL  BLK  TOV   PF   PTS   SEASON     VALUE  \n",
      "0  1.8  1.9  0.4  0.1  0.8  1.3   3.2  2018-19 -3.171911  \n",
      "1  1.8  0.5  0.5  0.3  0.5  1.0   3.7  2018-19 -2.560012  \n",
      "2  3.9  2.3  1.3  0.6  1.8  2.5  11.6  2018-19  2.602441  \n",
      "3  4.4  2.5  1.3  0.5  1.7  2.3   8.4  2018-19  2.086581  \n",
      "4  2.6  1.1  0.6  0.4  0.6  1.9   7.4  2018-19  1.224036  \n",
      "\n",
      "[5 rows x 32 columns]\n"
     ]
    },
    {
     "data": {
      "application/vnd.jupyter.widget-view+json": {
       "model_id": "079f7a5602d6466cab63d798c2f5e564",
       "version_major": 2,
       "version_minor": 0
      },
      "text/plain": [
       "HBox(children=(FloatProgress(value=0.0, max=526.0), HTML(value='')))"
      ]
     },
     "metadata": {},
     "output_type": "display_data"
    },
    {
     "name": "stderr",
     "output_type": "stream",
     "text": [
      "/Users/jefferywang/opt/anaconda3/lib/python3.8/site-packages/pandas/core/indexing.py:1817: SettingWithCopyWarning: \n",
      "A value is trying to be set on a copy of a slice from a DataFrame.\n",
      "Try using .loc[row_indexer,col_indexer] = value instead\n",
      "\n",
      "See the caveats in the documentation: https://pandas.pydata.org/pandas-docs/stable/user_guide/indexing.html#returning-a-view-versus-a-copy\n",
      "  self._setitem_single_column(loc, value, pi)\n"
     ]
    },
    {
     "name": "stdout",
     "output_type": "stream",
     "text": [
      "\n",
      "   index           PLAYER POS  AGE TEAM   G  GS    MP   FG   FGA  ...  DRB  \\\n",
      "0   1439  DeAndre' Bembry  SG   25  ATL  43   4  21.3  2.4   5.3  ...  2.7   \n",
      "1   1440    Charlie Brown  SG   22  ATL  10   0   4.0  0.6   1.9  ...  0.2   \n",
      "2   1441     Vince Carter  PF   43  ATL  60   0  14.6  1.8   5.1  ...  1.8   \n",
      "3   1442     John Collins  PF   22  ATL  41  41  33.2  8.6  14.8  ...  7.3   \n",
      "4   1443   Bruno Fernando   C   21  ATL  56  13  12.7  1.8   3.6  ...  2.3   \n",
      "\n",
      "    TRB  AST  STL  BLK  TOV   PF   PTS   SEASON     VALUE  \n",
      "0   3.5  1.9  1.3  0.4  1.4  2.0   5.8  2019-20 -1.212720  \n",
      "1   0.4  0.2  0.2  0.2  0.3  0.3   2.0  2019-20 -5.031324  \n",
      "2   2.1  0.8  0.4  0.4  0.6  1.5   5.0  2019-20 -1.482551  \n",
      "3  10.1  1.5  0.8  1.6  1.8  3.4  21.6  2019-20  6.145021  \n",
      "4   3.5  0.9  0.3  0.3  0.8  1.9   4.3  2019-20 -2.670592  \n",
      "\n",
      "[5 rows x 32 columns]\n"
     ]
    },
    {
     "data": {
      "application/vnd.jupyter.widget-view+json": {
       "model_id": "d086adfb79554d76ba7d1b237b1d9ed9",
       "version_major": 2,
       "version_minor": 0
      },
      "text/plain": [
       "HBox(children=(FloatProgress(value=0.0, max=526.0), HTML(value='')))"
      ]
     },
     "metadata": {},
     "output_type": "display_data"
    },
    {
     "name": "stderr",
     "output_type": "stream",
     "text": [
      "/Users/jefferywang/opt/anaconda3/lib/python3.8/site-packages/pandas/core/indexing.py:1817: SettingWithCopyWarning: \n",
      "A value is trying to be set on a copy of a slice from a DataFrame.\n",
      "Try using .loc[row_indexer,col_indexer] = value instead\n",
      "\n",
      "See the caveats in the documentation: https://pandas.pydata.org/pandas-docs/stable/user_guide/indexing.html#returning-a-view-versus-a-copy\n",
      "  self._setitem_single_column(loc, value, pi)\n"
     ]
    },
    {
     "name": "stdout",
     "output_type": "stream",
     "text": [
      "\n",
      "   index             PLAYER POS  AGE TEAM   G  GS    MP   FG   FGA  ...  DRB  \\\n",
      "0   4396  Bogdan Bogdanović  SG   28  ATL  44  27  29.7  6.1  12.8  ...  3.2   \n",
      "1   4397       Clint Capela   C   26  ATL  63  63  30.1  6.6  11.0  ...  9.6   \n",
      "2   4398       John Collins  PF   23  ATL  63  63  29.3  6.8  12.2  ...  5.5   \n",
      "3   4399          Kris Dunn  PG   26  ATL   4   0  11.3  0.3   3.0  ...  1.5   \n",
      "4   4400     Bruno Fernando   C   22  ATL  33   0   6.8  0.5   1.3  ...  1.9   \n",
      "\n",
      "    TRB  AST  STL  BLK  TOV   PF   PTS   SEASON     VALUE  \n",
      "0   3.6  3.3  1.1  0.3  1.2  2.3  16.4  2020-21  6.840439  \n",
      "1  14.3  0.8  0.7  2.0  1.2  2.3  15.2  2020-21  4.826255  \n",
      "2   7.4  1.2  0.5  1.0  1.3  3.1  17.6  2020-21  4.777654  \n",
      "3   1.5  0.5  0.5  0.5  0.8  2.5   1.3  2020-21 -9.329991  \n",
      "4   2.4  0.3  0.1  0.1  0.6  0.7   1.5  2020-21 -5.792363  \n",
      "\n",
      "[5 rows x 32 columns]\n"
     ]
    },
    {
     "data": {
      "application/vnd.jupyter.widget-view+json": {
       "model_id": "8e164d49c2574ed1989757d50b4473c7",
       "version_major": 2,
       "version_minor": 0
      },
      "text/plain": [
       "HBox(children=(FloatProgress(value=0.0, max=536.0), HTML(value='')))"
      ]
     },
     "metadata": {},
     "output_type": "display_data"
    },
    {
     "name": "stderr",
     "output_type": "stream",
     "text": [
      "/Users/jefferywang/opt/anaconda3/lib/python3.8/site-packages/pandas/core/indexing.py:1817: SettingWithCopyWarning: \n",
      "A value is trying to be set on a copy of a slice from a DataFrame.\n",
      "Try using .loc[row_indexer,col_indexer] = value instead\n",
      "\n",
      "See the caveats in the documentation: https://pandas.pydata.org/pandas-docs/stable/user_guide/indexing.html#returning-a-view-versus-a-copy\n",
      "  self._setitem_single_column(loc, value, pi)\n"
     ]
    },
    {
     "name": "stdout",
     "output_type": "stream",
     "text": [
      "\n",
      "   index        PLAYER POS  AGE TEAM   G  GS    MP   FG   FGA  ...  DRB   TRB  \\\n",
      "0    973  Devin Harris  SG   29  ATL  58  34  24.5  3.3   7.6  ...  1.9   2.0   \n",
      "1    974    Al Horford   C   26  ATL  74  74  37.2  7.8  14.3  ...  7.6  10.2   \n",
      "2    975  John Jenkins  SG   21  ATL  61   2  14.8  2.1   4.8  ...  1.3   1.5   \n",
      "3    976  Ivan Johnson  PF   28  ATL  69   5  15.0  2.7   5.2  ...  2.8   3.9   \n",
      "4    977   Kyle Korver  SF   31  ATL  74  60  30.5  3.7   8.1  ...  3.6   4.0   \n",
      "\n",
      "   AST  STL  BLK  TOV   PF   PTS   SEASON     VALUE  \n",
      "0  3.4  1.1  0.2  1.5  1.8   9.9  2012-13  2.663024  \n",
      "1  3.2  1.1  1.1  2.0  2.2  17.4  2012-13  5.855667  \n",
      "2  0.9  0.2  0.2  0.7  0.6   6.1  2012-13 -0.406579  \n",
      "3  0.7  0.8  0.2  1.0  1.9   6.6  2012-13  0.048343  \n",
      "4  2.0  0.9  0.5  0.9  2.3  10.9  2012-13  6.722283  \n",
      "\n",
      "[5 rows x 32 columns]\n"
     ]
    },
    {
     "data": {
      "application/vnd.jupyter.widget-view+json": {
       "model_id": "df9beee8410c4a32a4bf2affa9a8e80e",
       "version_major": 2,
       "version_minor": 0
      },
      "text/plain": [
       "HBox(children=(FloatProgress(value=0.0, max=466.0), HTML(value='')))"
      ]
     },
     "metadata": {},
     "output_type": "display_data"
    },
    {
     "name": "stderr",
     "output_type": "stream",
     "text": [
      "/Users/jefferywang/opt/anaconda3/lib/python3.8/site-packages/pandas/core/indexing.py:1817: SettingWithCopyWarning: \n",
      "A value is trying to be set on a copy of a slice from a DataFrame.\n",
      "Try using .loc[row_indexer,col_indexer] = value instead\n",
      "\n",
      "See the caveats in the documentation: https://pandas.pydata.org/pandas-docs/stable/user_guide/indexing.html#returning-a-view-versus-a-copy\n",
      "  self._setitem_single_column(loc, value, pi)\n"
     ]
    },
    {
     "name": "stdout",
     "output_type": "stream",
     "text": [
      "\n",
      "   index           PLAYER POS  AGE TEAM   G  GS    MP   FG   FGA  ...  DRB  \\\n",
      "0   4932       Pero Antić   C   31  ATL  50  26  18.5  2.5   5.9  ...  3.0   \n",
      "1   4933     Gustavo Ayón   C   28  ATL  26  14  16.5  2.0   3.9  ...  3.2   \n",
      "2   4934      Elton Brand   C   34  ATL  73  15  19.4  2.5   4.5  ...  3.6   \n",
      "3   4935  DeMarre Carroll  SF   27  ATL  73  73  32.1  4.1   8.8  ...  4.1   \n",
      "4   4936       Al Horford   C   27  ATL  29  29  33.0  8.2  14.5  ...  6.1   \n",
      "\n",
      "   TRB  AST  STL  BLK  TOV   PF   PTS   SEASON     VALUE  \n",
      "0  4.2  1.2  0.4  0.2  1.1  2.5   7.0  2013-14  0.023723  \n",
      "1  4.8  1.1  1.0  0.4  1.1  1.8   4.3  2013-14 -2.203990  \n",
      "2  4.9  1.0  0.5  1.2  0.8  2.6   5.7  2013-14  0.515961  \n",
      "3  5.5  1.8  1.5  0.3  1.1  2.6  11.1  2013-14  5.870113  \n",
      "4  8.4  2.6  0.9  1.5  2.2  1.9  18.6  2013-14  3.082766  \n",
      "\n",
      "[5 rows x 32 columns]\n"
     ]
    },
    {
     "data": {
      "application/vnd.jupyter.widget-view+json": {
       "model_id": "a6f7475359cb4ddd893d7eb743935e65",
       "version_major": 2,
       "version_minor": 0
      },
      "text/plain": [
       "HBox(children=(FloatProgress(value=0.0, max=478.0), HTML(value='')))"
      ]
     },
     "metadata": {},
     "output_type": "display_data"
    },
    {
     "name": "stderr",
     "output_type": "stream",
     "text": [
      "/Users/jefferywang/opt/anaconda3/lib/python3.8/site-packages/pandas/core/indexing.py:1817: SettingWithCopyWarning: \n",
      "A value is trying to be set on a copy of a slice from a DataFrame.\n",
      "Try using .loc[row_indexer,col_indexer] = value instead\n",
      "\n",
      "See the caveats in the documentation: https://pandas.pydata.org/pandas-docs/stable/user_guide/indexing.html#returning-a-view-versus-a-copy\n",
      "  self._setitem_single_column(loc, value, pi)\n"
     ]
    },
    {
     "name": "stdout",
     "output_type": "stream",
     "text": [
      "\n",
      "   index           PLAYER POS  AGE TEAM   G  GS    MP   FG   FGA  ...  DRB  \\\n",
      "0    482       Pero Antić   C   32  ATL  63   3  16.5  1.7   4.7  ...  2.1   \n",
      "1    483    Kent Bazemore  SG   25  ATL  75  10  17.7  1.9   4.4  ...  2.7   \n",
      "2    484      Elton Brand   C   35  ATL  36   4  13.5  1.2   2.6  ...  2.0   \n",
      "3    485  DeMarre Carroll  SF   28  ATL  70  69  31.3  4.5   9.3  ...  3.9   \n",
      "4    486       Al Horford   C   28  ATL  76  76  30.5  6.8  12.7  ...  5.4   \n",
      "\n",
      "   TRB  AST  STL  BLK  TOV   PF   PTS   SEASON     VALUE  \n",
      "0  3.0  0.8  0.3  0.2  0.8  2.1   5.7  2014-15 -1.552119  \n",
      "1  3.0  1.0  0.7  0.4  1.0  1.7   5.2  2014-15 -0.644942  \n",
      "2  2.8  0.6  0.5  0.7  0.5  1.5   2.7  2014-15 -3.964199  \n",
      "3  5.3  1.7  1.3  0.2  1.1  2.2  12.6  2014-15  5.879529  \n",
      "4  7.2  3.2  0.9  1.3  1.3  1.6  15.2  2014-15  5.469797  \n",
      "\n",
      "[5 rows x 32 columns]\n"
     ]
    },
    {
     "data": {
      "application/vnd.jupyter.widget-view+json": {
       "model_id": "9e5d0941f507434091005b65caa5a982",
       "version_major": 2,
       "version_minor": 0
      },
      "text/plain": [
       "HBox(children=(FloatProgress(value=0.0, max=491.0), HTML(value='')))"
      ]
     },
     "metadata": {},
     "output_type": "display_data"
    },
    {
     "name": "stderr",
     "output_type": "stream",
     "text": [
      "/Users/jefferywang/opt/anaconda3/lib/python3.8/site-packages/pandas/core/indexing.py:1817: SettingWithCopyWarning: \n",
      "A value is trying to be set on a copy of a slice from a DataFrame.\n",
      "Try using .loc[row_indexer,col_indexer] = value instead\n",
      "\n",
      "See the caveats in the documentation: https://pandas.pydata.org/pandas-docs/stable/user_guide/indexing.html#returning-a-view-versus-a-copy\n",
      "  self._setitem_single_column(loc, value, pi)\n"
     ]
    },
    {
     "name": "stdout",
     "output_type": "stream",
     "text": [
      "\n",
      "   index         PLAYER POS  AGE TEAM   G  GS    MP   FG   FGA  ...  DRB  TRB  \\\n",
      "0   2953  Kent Bazemore  SF   26  ATL  75  68  27.8  4.3   9.7  ...  4.7  5.1   \n",
      "1   2954   Tim Hardaway  SG   23  ATL  51   1  16.9  2.2   5.2  ...  1.5  1.7   \n",
      "2   2955     Al Horford   C   29  ATL  82  82  32.1  6.5  12.8  ...  5.5  7.3   \n",
      "3   2956    Kyle Korver  SG   34  ATL  80  80  30.0  3.4   7.7  ...  3.1  3.3   \n",
      "4   2957   Paul Millsap  PF   30  ATL  81  81  32.7  6.2  13.2  ...  6.6  9.0   \n",
      "\n",
      "   AST  STL  BLK  TOV   PF   PTS   SEASON     VALUE  \n",
      "0  2.3  1.3  0.5  1.8  2.3  11.6  2015-16  4.578106  \n",
      "1  1.0  0.4  0.1  0.5  0.9   6.4  2015-16 -0.405508  \n",
      "2  3.2  0.8  1.5  1.3  2.0  15.2  2015-16  6.503694  \n",
      "3  2.1  0.8  0.4  1.2  2.0   9.2  2015-16  3.858300  \n",
      "4  3.3  1.8  1.7  2.4  2.9  17.1  2015-16  7.526634  \n",
      "\n",
      "[5 rows x 32 columns]\n"
     ]
    },
    {
     "data": {
      "application/vnd.jupyter.widget-view+json": {
       "model_id": "282107e9ff164590b71bad493e74d128",
       "version_major": 2,
       "version_minor": 0
      },
      "text/plain": [
       "HBox(children=(FloatProgress(value=0.0, max=475.0), HTML(value='')))"
      ]
     },
     "metadata": {},
     "output_type": "display_data"
    },
    {
     "name": "stderr",
     "output_type": "stream",
     "text": [
      "/Users/jefferywang/opt/anaconda3/lib/python3.8/site-packages/pandas/core/indexing.py:1817: SettingWithCopyWarning: \n",
      "A value is trying to be set on a copy of a slice from a DataFrame.\n",
      "Try using .loc[row_indexer,col_indexer] = value instead\n",
      "\n",
      "See the caveats in the documentation: https://pandas.pydata.org/pandas-docs/stable/user_guide/indexing.html#returning-a-view-versus-a-copy\n",
      "  self._setitem_single_column(loc, value, pi)\n"
     ]
    },
    {
     "name": "stdout",
     "output_type": "stream",
     "text": [
      "\n",
      "   index           PLAYER POS  AGE TEAM   G  GS    MP   FG   FGA  ...  DRB  \\\n",
      "0      0    Kent Bazemore  SF   27  ATL  73  64  26.9  4.0   9.9  ...  2.5   \n",
      "1      1  DeAndre' Bembry  SF   22  ATL  38   1   9.8  1.2   2.6  ...  1.2   \n",
      "2      2  Malcolm Delaney  PG   27  ATL  73   2  17.1  2.0   5.3  ...  1.5   \n",
      "3      3     Tim Hardaway  SG   24  ATL  79  30  27.3  5.3  11.5  ...  2.4   \n",
      "4      4    Dwight Howard   C   31  ATL  74  74  29.7  5.2   8.3  ...  8.7   \n",
      "\n",
      "    TRB  AST  STL  BLK  TOV   PF   PTS   SEASON     VALUE  \n",
      "0   3.2  2.4  1.2  0.7  1.7  2.3  11.0  2016-17  2.274383  \n",
      "1   1.6  0.7  0.2  0.1  0.4  0.6   2.7  2016-17 -5.648678  \n",
      "2   1.7  2.6  0.5  0.0  1.3  1.5   5.4  2016-17 -1.365142  \n",
      "3   2.8  2.3  0.7  0.2  1.3  1.3  14.5  2016-17  3.720829  \n",
      "4  12.7  1.4  0.9  1.2  2.3  2.7  13.5  2016-17  4.160297  \n",
      "\n",
      "[5 rows x 32 columns]\n"
     ]
    },
    {
     "data": {
      "application/vnd.jupyter.widget-view+json": {
       "model_id": "131f2e500bf54b00b24e09e9b09e4d60",
       "version_major": 2,
       "version_minor": 0
      },
      "text/plain": [
       "HBox(children=(FloatProgress(value=0.0, max=482.0), HTML(value='')))"
      ]
     },
     "metadata": {},
     "output_type": "display_data"
    },
    {
     "name": "stderr",
     "output_type": "stream",
     "text": [
      "/Users/jefferywang/opt/anaconda3/lib/python3.8/site-packages/pandas/core/indexing.py:1817: SettingWithCopyWarning: \n",
      "A value is trying to be set on a copy of a slice from a DataFrame.\n",
      "Try using .loc[row_indexer,col_indexer] = value instead\n",
      "\n",
      "See the caveats in the documentation: https://pandas.pydata.org/pandas-docs/stable/user_guide/indexing.html#returning-a-view-versus-a-copy\n",
      "  self._setitem_single_column(loc, value, pi)\n"
     ]
    },
    {
     "name": "stdout",
     "output_type": "stream",
     "text": [
      "\n",
      "   index            PLAYER POS  AGE TEAM   G  GS    MP   FG   FGA  ...  DRB  \\\n",
      "0   2418     Kent Bazemore  SG   28  ATL  65  65  27.5  4.4  10.4  ...  3.4   \n",
      "1   2419   DeAndre' Bembry  SF   23  ATL  26   3  17.5  2.0   4.9  ...  2.5   \n",
      "2   2420  Nicolás Brussino  SF   24  ATL   4   0   2.5  0.0   0.5  ...  0.8   \n",
      "3   2421   Tyler Cavanaugh  PF   23  ATL  39   1  13.3  1.7   3.9  ...  2.1   \n",
      "4   2422      John Collins  PF   20  ATL  74  26  24.1  4.2   7.4  ...  4.9   \n",
      "\n",
      "   TRB  AST  STL  BLK  TOV   PF   PTS   SEASON      VALUE  \n",
      "0  3.8  3.5  1.5  0.7  2.4  2.3  12.9  2017-18   4.313854  \n",
      "1  2.8  1.9  0.8  0.5  1.8  1.5   5.2  2017-18  -3.188808  \n",
      "2  0.8  0.0  0.0  0.0  0.0  0.0   0.0  2017-18 -12.841444  \n",
      "3  3.3  0.7  0.2  0.1  0.4  1.6   4.7  2017-18  -1.191072  \n",
      "4  7.3  1.3  0.6  1.1  1.4  2.9  10.5  2017-18   2.660180  \n",
      "\n",
      "[5 rows x 32 columns]\n"
     ]
    },
    {
     "data": {
      "application/vnd.jupyter.widget-view+json": {
       "model_id": "58bd9e9e0d5b46ad8979cc10f69f8058",
       "version_major": 2,
       "version_minor": 0
      },
      "text/plain": [
       "HBox(children=(FloatProgress(value=0.0, max=535.0), HTML(value='')))"
      ]
     },
     "metadata": {},
     "output_type": "display_data"
    },
    {
     "name": "stderr",
     "output_type": "stream",
     "text": [
      "/Users/jefferywang/opt/anaconda3/lib/python3.8/site-packages/pandas/core/indexing.py:1817: SettingWithCopyWarning: \n",
      "A value is trying to be set on a copy of a slice from a DataFrame.\n",
      "Try using .loc[row_indexer,col_indexer] = value instead\n",
      "\n",
      "See the caveats in the documentation: https://pandas.pydata.org/pandas-docs/stable/user_guide/indexing.html#returning-a-view-versus-a-copy\n",
      "  self._setitem_single_column(loc, value, pi)\n"
     ]
    },
    {
     "name": "stdout",
     "output_type": "stream",
     "text": [
      "\n",
      "   index           PLAYER POS  AGE TEAM   G  GS    MP   FG   FGA  ...  DRB  \\\n",
      "0   3870     Jaylen Adams  PG   22  ATL  34   1  12.6  1.1   3.2  ...  1.4   \n",
      "1   3871  Justin Anderson  SF   25  ATL  48   4   9.6  1.3   3.3  ...  1.3   \n",
      "2   3872    Kent Bazemore  SG   29  ATL  67  35  24.5  4.1  10.3  ...  3.3   \n",
      "3   3873  DeAndre' Bembry  SG   24  ATL  82  15  23.5  3.4   7.5  ...  3.7   \n",
      "4   3874     Vince Carter  PF   42  ATL  76   9  17.5  2.6   6.2  ...  2.1   \n",
      "\n",
      "   TRB  AST  STL  BLK  TOV   PF   PTS   SEASON     VALUE  \n",
      "0  1.8  1.9  0.4  0.1  0.8  1.3   3.2  2018-19 -3.171911  \n",
      "1  1.8  0.5  0.5  0.3  0.5  1.0   3.7  2018-19 -2.560012  \n",
      "2  3.9  2.3  1.3  0.6  1.8  2.5  11.6  2018-19  2.602441  \n",
      "3  4.4  2.5  1.3  0.5  1.7  2.3   8.4  2018-19  2.086581  \n",
      "4  2.6  1.1  0.6  0.4  0.6  1.9   7.4  2018-19  1.224036  \n",
      "\n",
      "[5 rows x 32 columns]\n"
     ]
    },
    {
     "data": {
      "application/vnd.jupyter.widget-view+json": {
       "model_id": "1a549d2cb85e4de4bd8188e60dc1a7bf",
       "version_major": 2,
       "version_minor": 0
      },
      "text/plain": [
       "HBox(children=(FloatProgress(value=0.0, max=526.0), HTML(value='')))"
      ]
     },
     "metadata": {},
     "output_type": "display_data"
    },
    {
     "name": "stderr",
     "output_type": "stream",
     "text": [
      "/Users/jefferywang/opt/anaconda3/lib/python3.8/site-packages/pandas/core/indexing.py:1817: SettingWithCopyWarning: \n",
      "A value is trying to be set on a copy of a slice from a DataFrame.\n",
      "Try using .loc[row_indexer,col_indexer] = value instead\n",
      "\n",
      "See the caveats in the documentation: https://pandas.pydata.org/pandas-docs/stable/user_guide/indexing.html#returning-a-view-versus-a-copy\n",
      "  self._setitem_single_column(loc, value, pi)\n"
     ]
    },
    {
     "name": "stdout",
     "output_type": "stream",
     "text": [
      "\n",
      "   index           PLAYER POS  AGE TEAM   G  GS    MP   FG   FGA  ...  DRB  \\\n",
      "0   1439  DeAndre' Bembry  SG   25  ATL  43   4  21.3  2.4   5.3  ...  2.7   \n",
      "1   1440    Charlie Brown  SG   22  ATL  10   0   4.0  0.6   1.9  ...  0.2   \n",
      "2   1441     Vince Carter  PF   43  ATL  60   0  14.6  1.8   5.1  ...  1.8   \n",
      "3   1442     John Collins  PF   22  ATL  41  41  33.2  8.6  14.8  ...  7.3   \n",
      "4   1443   Bruno Fernando   C   21  ATL  56  13  12.7  1.8   3.6  ...  2.3   \n",
      "\n",
      "    TRB  AST  STL  BLK  TOV   PF   PTS   SEASON     VALUE  \n",
      "0   3.5  1.9  1.3  0.4  1.4  2.0   5.8  2019-20 -1.212720  \n",
      "1   0.4  0.2  0.2  0.2  0.3  0.3   2.0  2019-20 -5.031324  \n",
      "2   2.1  0.8  0.4  0.4  0.6  1.5   5.0  2019-20 -1.482551  \n",
      "3  10.1  1.5  0.8  1.6  1.8  3.4  21.6  2019-20  6.145021  \n",
      "4   3.5  0.9  0.3  0.3  0.8  1.9   4.3  2019-20 -2.670592  \n",
      "\n",
      "[5 rows x 32 columns]\n"
     ]
    },
    {
     "data": {
      "application/vnd.jupyter.widget-view+json": {
       "model_id": "c4402f3b5d384bb5a2739ff04ede7039",
       "version_major": 2,
       "version_minor": 0
      },
      "text/plain": [
       "HBox(children=(FloatProgress(value=0.0, max=526.0), HTML(value='')))"
      ]
     },
     "metadata": {},
     "output_type": "display_data"
    },
    {
     "name": "stderr",
     "output_type": "stream",
     "text": [
      "/Users/jefferywang/opt/anaconda3/lib/python3.8/site-packages/pandas/core/indexing.py:1817: SettingWithCopyWarning: \n",
      "A value is trying to be set on a copy of a slice from a DataFrame.\n",
      "Try using .loc[row_indexer,col_indexer] = value instead\n",
      "\n",
      "See the caveats in the documentation: https://pandas.pydata.org/pandas-docs/stable/user_guide/indexing.html#returning-a-view-versus-a-copy\n",
      "  self._setitem_single_column(loc, value, pi)\n"
     ]
    },
    {
     "name": "stdout",
     "output_type": "stream",
     "text": [
      "\n",
      "   index             PLAYER POS  AGE TEAM   G  GS    MP   FG   FGA  ...  DRB  \\\n",
      "0   4396  Bogdan Bogdanović  SG   28  ATL  44  27  29.7  6.1  12.8  ...  3.2   \n",
      "1   4397       Clint Capela   C   26  ATL  63  63  30.1  6.6  11.0  ...  9.6   \n",
      "2   4398       John Collins  PF   23  ATL  63  63  29.3  6.8  12.2  ...  5.5   \n",
      "3   4399          Kris Dunn  PG   26  ATL   4   0  11.3  0.3   3.0  ...  1.5   \n",
      "4   4400     Bruno Fernando   C   22  ATL  33   0   6.8  0.5   1.3  ...  1.9   \n",
      "\n",
      "    TRB  AST  STL  BLK  TOV   PF   PTS   SEASON     VALUE  \n",
      "0   3.6  3.3  1.1  0.3  1.2  2.3  16.4  2020-21  6.840439  \n",
      "1  14.3  0.8  0.7  2.0  1.2  2.3  15.2  2020-21  4.826255  \n",
      "2   7.4  1.2  0.5  1.0  1.3  3.1  17.6  2020-21  4.777654  \n",
      "3   1.5  0.5  0.5  0.5  0.8  2.5   1.3  2020-21 -9.329991  \n",
      "4   2.4  0.3  0.1  0.1  0.6  0.7   1.5  2020-21 -5.792363  \n",
      "\n",
      "[5 rows x 32 columns]\n"
     ]
    },
    {
     "data": {
      "application/vnd.jupyter.widget-view+json": {
       "model_id": "24c29cd176a846fc8b5f3c30fa5d78d8",
       "version_major": 2,
       "version_minor": 0
      },
      "text/plain": [
       "HBox(children=(FloatProgress(value=0.0, max=536.0), HTML(value='')))"
      ]
     },
     "metadata": {},
     "output_type": "display_data"
    },
    {
     "name": "stderr",
     "output_type": "stream",
     "text": [
      "/Users/jefferywang/opt/anaconda3/lib/python3.8/site-packages/pandas/core/indexing.py:1817: SettingWithCopyWarning: \n",
      "A value is trying to be set on a copy of a slice from a DataFrame.\n",
      "Try using .loc[row_indexer,col_indexer] = value instead\n",
      "\n",
      "See the caveats in the documentation: https://pandas.pydata.org/pandas-docs/stable/user_guide/indexing.html#returning-a-view-versus-a-copy\n",
      "  self._setitem_single_column(loc, value, pi)\n"
     ]
    },
    {
     "name": "stdout",
     "output_type": "stream",
     "text": [
      "\n",
      "   index        PLAYER POS  AGE TEAM   G  GS    MP   FG   FGA  ...  DRB   TRB  \\\n",
      "0    973  Devin Harris  SG   29  ATL  58  34  24.5  3.3   7.6  ...  1.9   2.0   \n",
      "1    974    Al Horford   C   26  ATL  74  74  37.2  7.8  14.3  ...  7.6  10.2   \n",
      "2    975  John Jenkins  SG   21  ATL  61   2  14.8  2.1   4.8  ...  1.3   1.5   \n",
      "3    976  Ivan Johnson  PF   28  ATL  69   5  15.0  2.7   5.2  ...  2.8   3.9   \n",
      "4    977   Kyle Korver  SF   31  ATL  74  60  30.5  3.7   8.1  ...  3.6   4.0   \n",
      "\n",
      "   AST  STL  BLK  TOV   PF   PTS   SEASON     VALUE  \n",
      "0  3.4  1.1  0.2  1.5  1.8   9.9  2012-13  2.663024  \n",
      "1  3.2  1.1  1.1  2.0  2.2  17.4  2012-13  5.855667  \n",
      "2  0.9  0.2  0.2  0.7  0.6   6.1  2012-13 -0.406579  \n",
      "3  0.7  0.8  0.2  1.0  1.9   6.6  2012-13  0.048343  \n",
      "4  2.0  0.9  0.5  0.9  2.3  10.9  2012-13  6.722283  \n",
      "\n",
      "[5 rows x 32 columns]\n"
     ]
    },
    {
     "data": {
      "application/vnd.jupyter.widget-view+json": {
       "model_id": "1dfda3bc6935488db780a3ac2089b360",
       "version_major": 2,
       "version_minor": 0
      },
      "text/plain": [
       "HBox(children=(FloatProgress(value=0.0, max=466.0), HTML(value='')))"
      ]
     },
     "metadata": {},
     "output_type": "display_data"
    },
    {
     "name": "stderr",
     "output_type": "stream",
     "text": [
      "/Users/jefferywang/opt/anaconda3/lib/python3.8/site-packages/pandas/core/indexing.py:1817: SettingWithCopyWarning: \n",
      "A value is trying to be set on a copy of a slice from a DataFrame.\n",
      "Try using .loc[row_indexer,col_indexer] = value instead\n",
      "\n",
      "See the caveats in the documentation: https://pandas.pydata.org/pandas-docs/stable/user_guide/indexing.html#returning-a-view-versus-a-copy\n",
      "  self._setitem_single_column(loc, value, pi)\n"
     ]
    },
    {
     "name": "stdout",
     "output_type": "stream",
     "text": [
      "\n",
      "   index           PLAYER POS  AGE TEAM   G  GS    MP   FG   FGA  ...  DRB  \\\n",
      "0   4932       Pero Antić   C   31  ATL  50  26  18.5  2.5   5.9  ...  3.0   \n",
      "1   4933     Gustavo Ayón   C   28  ATL  26  14  16.5  2.0   3.9  ...  3.2   \n",
      "2   4934      Elton Brand   C   34  ATL  73  15  19.4  2.5   4.5  ...  3.6   \n",
      "3   4935  DeMarre Carroll  SF   27  ATL  73  73  32.1  4.1   8.8  ...  4.1   \n",
      "4   4936       Al Horford   C   27  ATL  29  29  33.0  8.2  14.5  ...  6.1   \n",
      "\n",
      "   TRB  AST  STL  BLK  TOV   PF   PTS   SEASON     VALUE  \n",
      "0  4.2  1.2  0.4  0.2  1.1  2.5   7.0  2013-14  0.023723  \n",
      "1  4.8  1.1  1.0  0.4  1.1  1.8   4.3  2013-14 -2.203990  \n",
      "2  4.9  1.0  0.5  1.2  0.8  2.6   5.7  2013-14  0.515961  \n",
      "3  5.5  1.8  1.5  0.3  1.1  2.6  11.1  2013-14  5.870113  \n",
      "4  8.4  2.6  0.9  1.5  2.2  1.9  18.6  2013-14  3.082766  \n",
      "\n",
      "[5 rows x 32 columns]\n"
     ]
    },
    {
     "data": {
      "application/vnd.jupyter.widget-view+json": {
       "model_id": "5808589805694e3b94fcc1d958aab386",
       "version_major": 2,
       "version_minor": 0
      },
      "text/plain": [
       "HBox(children=(FloatProgress(value=0.0, max=478.0), HTML(value='')))"
      ]
     },
     "metadata": {},
     "output_type": "display_data"
    },
    {
     "name": "stderr",
     "output_type": "stream",
     "text": [
      "/Users/jefferywang/opt/anaconda3/lib/python3.8/site-packages/pandas/core/indexing.py:1817: SettingWithCopyWarning: \n",
      "A value is trying to be set on a copy of a slice from a DataFrame.\n",
      "Try using .loc[row_indexer,col_indexer] = value instead\n",
      "\n",
      "See the caveats in the documentation: https://pandas.pydata.org/pandas-docs/stable/user_guide/indexing.html#returning-a-view-versus-a-copy\n",
      "  self._setitem_single_column(loc, value, pi)\n"
     ]
    },
    {
     "name": "stdout",
     "output_type": "stream",
     "text": [
      "\n",
      "   index           PLAYER POS  AGE TEAM   G  GS    MP   FG   FGA  ...  DRB  \\\n",
      "0    482       Pero Antić   C   32  ATL  63   3  16.5  1.7   4.7  ...  2.1   \n",
      "1    483    Kent Bazemore  SG   25  ATL  75  10  17.7  1.9   4.4  ...  2.7   \n",
      "2    484      Elton Brand   C   35  ATL  36   4  13.5  1.2   2.6  ...  2.0   \n",
      "3    485  DeMarre Carroll  SF   28  ATL  70  69  31.3  4.5   9.3  ...  3.9   \n",
      "4    486       Al Horford   C   28  ATL  76  76  30.5  6.8  12.7  ...  5.4   \n",
      "\n",
      "   TRB  AST  STL  BLK  TOV   PF   PTS   SEASON     VALUE  \n",
      "0  3.0  0.8  0.3  0.2  0.8  2.1   5.7  2014-15 -1.552119  \n",
      "1  3.0  1.0  0.7  0.4  1.0  1.7   5.2  2014-15 -0.644942  \n",
      "2  2.8  0.6  0.5  0.7  0.5  1.5   2.7  2014-15 -3.964199  \n",
      "3  5.3  1.7  1.3  0.2  1.1  2.2  12.6  2014-15  5.879529  \n",
      "4  7.2  3.2  0.9  1.3  1.3  1.6  15.2  2014-15  5.469797  \n",
      "\n",
      "[5 rows x 32 columns]\n"
     ]
    },
    {
     "data": {
      "application/vnd.jupyter.widget-view+json": {
       "model_id": "e2021fbeba5f443db54b233f6ef79143",
       "version_major": 2,
       "version_minor": 0
      },
      "text/plain": [
       "HBox(children=(FloatProgress(value=0.0, max=491.0), HTML(value='')))"
      ]
     },
     "metadata": {},
     "output_type": "display_data"
    },
    {
     "name": "stderr",
     "output_type": "stream",
     "text": [
      "/Users/jefferywang/opt/anaconda3/lib/python3.8/site-packages/pandas/core/indexing.py:1817: SettingWithCopyWarning: \n",
      "A value is trying to be set on a copy of a slice from a DataFrame.\n",
      "Try using .loc[row_indexer,col_indexer] = value instead\n",
      "\n",
      "See the caveats in the documentation: https://pandas.pydata.org/pandas-docs/stable/user_guide/indexing.html#returning-a-view-versus-a-copy\n",
      "  self._setitem_single_column(loc, value, pi)\n"
     ]
    },
    {
     "name": "stdout",
     "output_type": "stream",
     "text": [
      "\n",
      "   index         PLAYER POS  AGE TEAM   G  GS    MP   FG   FGA  ...  DRB  TRB  \\\n",
      "0   2953  Kent Bazemore  SF   26  ATL  75  68  27.8  4.3   9.7  ...  4.7  5.1   \n",
      "1   2954   Tim Hardaway  SG   23  ATL  51   1  16.9  2.2   5.2  ...  1.5  1.7   \n",
      "2   2955     Al Horford   C   29  ATL  82  82  32.1  6.5  12.8  ...  5.5  7.3   \n",
      "3   2956    Kyle Korver  SG   34  ATL  80  80  30.0  3.4   7.7  ...  3.1  3.3   \n",
      "4   2957   Paul Millsap  PF   30  ATL  81  81  32.7  6.2  13.2  ...  6.6  9.0   \n",
      "\n",
      "   AST  STL  BLK  TOV   PF   PTS   SEASON     VALUE  \n",
      "0  2.3  1.3  0.5  1.8  2.3  11.6  2015-16  4.578106  \n",
      "1  1.0  0.4  0.1  0.5  0.9   6.4  2015-16 -0.405508  \n",
      "2  3.2  0.8  1.5  1.3  2.0  15.2  2015-16  6.503694  \n",
      "3  2.1  0.8  0.4  1.2  2.0   9.2  2015-16  3.858300  \n",
      "4  3.3  1.8  1.7  2.4  2.9  17.1  2015-16  7.526634  \n",
      "\n",
      "[5 rows x 32 columns]\n"
     ]
    },
    {
     "data": {
      "application/vnd.jupyter.widget-view+json": {
       "model_id": "5461d63ae8464dfa9e979f0d2ee59bb1",
       "version_major": 2,
       "version_minor": 0
      },
      "text/plain": [
       "HBox(children=(FloatProgress(value=0.0, max=475.0), HTML(value='')))"
      ]
     },
     "metadata": {},
     "output_type": "display_data"
    },
    {
     "name": "stderr",
     "output_type": "stream",
     "text": [
      "/Users/jefferywang/opt/anaconda3/lib/python3.8/site-packages/pandas/core/indexing.py:1817: SettingWithCopyWarning: \n",
      "A value is trying to be set on a copy of a slice from a DataFrame.\n",
      "Try using .loc[row_indexer,col_indexer] = value instead\n",
      "\n",
      "See the caveats in the documentation: https://pandas.pydata.org/pandas-docs/stable/user_guide/indexing.html#returning-a-view-versus-a-copy\n",
      "  self._setitem_single_column(loc, value, pi)\n"
     ]
    },
    {
     "name": "stdout",
     "output_type": "stream",
     "text": [
      "\n",
      "   index           PLAYER POS  AGE TEAM   G  GS    MP   FG   FGA  ...  DRB  \\\n",
      "0      0    Kent Bazemore  SF   27  ATL  73  64  26.9  4.0   9.9  ...  2.5   \n",
      "1      1  DeAndre' Bembry  SF   22  ATL  38   1   9.8  1.2   2.6  ...  1.2   \n",
      "2      2  Malcolm Delaney  PG   27  ATL  73   2  17.1  2.0   5.3  ...  1.5   \n",
      "3      3     Tim Hardaway  SG   24  ATL  79  30  27.3  5.3  11.5  ...  2.4   \n",
      "4      4    Dwight Howard   C   31  ATL  74  74  29.7  5.2   8.3  ...  8.7   \n",
      "\n",
      "    TRB  AST  STL  BLK  TOV   PF   PTS   SEASON     VALUE  \n",
      "0   3.2  2.4  1.2  0.7  1.7  2.3  11.0  2016-17  2.274383  \n",
      "1   1.6  0.7  0.2  0.1  0.4  0.6   2.7  2016-17 -5.648678  \n",
      "2   1.7  2.6  0.5  0.0  1.3  1.5   5.4  2016-17 -1.365142  \n",
      "3   2.8  2.3  0.7  0.2  1.3  1.3  14.5  2016-17  3.720829  \n",
      "4  12.7  1.4  0.9  1.2  2.3  2.7  13.5  2016-17  4.160297  \n",
      "\n",
      "[5 rows x 32 columns]\n"
     ]
    },
    {
     "data": {
      "application/vnd.jupyter.widget-view+json": {
       "model_id": "d29be4bccbe64db0b4e4d18e279948d9",
       "version_major": 2,
       "version_minor": 0
      },
      "text/plain": [
       "HBox(children=(FloatProgress(value=0.0, max=482.0), HTML(value='')))"
      ]
     },
     "metadata": {},
     "output_type": "display_data"
    },
    {
     "name": "stderr",
     "output_type": "stream",
     "text": [
      "/Users/jefferywang/opt/anaconda3/lib/python3.8/site-packages/pandas/core/indexing.py:1817: SettingWithCopyWarning: \n",
      "A value is trying to be set on a copy of a slice from a DataFrame.\n",
      "Try using .loc[row_indexer,col_indexer] = value instead\n",
      "\n",
      "See the caveats in the documentation: https://pandas.pydata.org/pandas-docs/stable/user_guide/indexing.html#returning-a-view-versus-a-copy\n",
      "  self._setitem_single_column(loc, value, pi)\n"
     ]
    },
    {
     "name": "stdout",
     "output_type": "stream",
     "text": [
      "\n",
      "   index            PLAYER POS  AGE TEAM   G  GS    MP   FG   FGA  ...  DRB  \\\n",
      "0   2418     Kent Bazemore  SG   28  ATL  65  65  27.5  4.4  10.4  ...  3.4   \n",
      "1   2419   DeAndre' Bembry  SF   23  ATL  26   3  17.5  2.0   4.9  ...  2.5   \n",
      "2   2420  Nicolás Brussino  SF   24  ATL   4   0   2.5  0.0   0.5  ...  0.8   \n",
      "3   2421   Tyler Cavanaugh  PF   23  ATL  39   1  13.3  1.7   3.9  ...  2.1   \n",
      "4   2422      John Collins  PF   20  ATL  74  26  24.1  4.2   7.4  ...  4.9   \n",
      "\n",
      "   TRB  AST  STL  BLK  TOV   PF   PTS   SEASON      VALUE  \n",
      "0  3.8  3.5  1.5  0.7  2.4  2.3  12.9  2017-18   4.313854  \n",
      "1  2.8  1.9  0.8  0.5  1.8  1.5   5.2  2017-18  -3.188808  \n",
      "2  0.8  0.0  0.0  0.0  0.0  0.0   0.0  2017-18 -12.841444  \n",
      "3  3.3  0.7  0.2  0.1  0.4  1.6   4.7  2017-18  -1.191072  \n",
      "4  7.3  1.3  0.6  1.1  1.4  2.9  10.5  2017-18   2.660180  \n",
      "\n",
      "[5 rows x 32 columns]\n"
     ]
    },
    {
     "data": {
      "application/vnd.jupyter.widget-view+json": {
       "model_id": "2770dff677a042ef8d561ed98fcf26fc",
       "version_major": 2,
       "version_minor": 0
      },
      "text/plain": [
       "HBox(children=(FloatProgress(value=0.0, max=535.0), HTML(value='')))"
      ]
     },
     "metadata": {},
     "output_type": "display_data"
    },
    {
     "name": "stderr",
     "output_type": "stream",
     "text": [
      "/Users/jefferywang/opt/anaconda3/lib/python3.8/site-packages/pandas/core/indexing.py:1817: SettingWithCopyWarning: \n",
      "A value is trying to be set on a copy of a slice from a DataFrame.\n",
      "Try using .loc[row_indexer,col_indexer] = value instead\n",
      "\n",
      "See the caveats in the documentation: https://pandas.pydata.org/pandas-docs/stable/user_guide/indexing.html#returning-a-view-versus-a-copy\n",
      "  self._setitem_single_column(loc, value, pi)\n"
     ]
    },
    {
     "name": "stdout",
     "output_type": "stream",
     "text": [
      "\n",
      "   index           PLAYER POS  AGE TEAM   G  GS    MP   FG   FGA  ...  DRB  \\\n",
      "0   3870     Jaylen Adams  PG   22  ATL  34   1  12.6  1.1   3.2  ...  1.4   \n",
      "1   3871  Justin Anderson  SF   25  ATL  48   4   9.6  1.3   3.3  ...  1.3   \n",
      "2   3872    Kent Bazemore  SG   29  ATL  67  35  24.5  4.1  10.3  ...  3.3   \n",
      "3   3873  DeAndre' Bembry  SG   24  ATL  82  15  23.5  3.4   7.5  ...  3.7   \n",
      "4   3874     Vince Carter  PF   42  ATL  76   9  17.5  2.6   6.2  ...  2.1   \n",
      "\n",
      "   TRB  AST  STL  BLK  TOV   PF   PTS   SEASON     VALUE  \n",
      "0  1.8  1.9  0.4  0.1  0.8  1.3   3.2  2018-19 -3.171911  \n",
      "1  1.8  0.5  0.5  0.3  0.5  1.0   3.7  2018-19 -2.560012  \n",
      "2  3.9  2.3  1.3  0.6  1.8  2.5  11.6  2018-19  2.602441  \n",
      "3  4.4  2.5  1.3  0.5  1.7  2.3   8.4  2018-19  2.086581  \n",
      "4  2.6  1.1  0.6  0.4  0.6  1.9   7.4  2018-19  1.224036  \n",
      "\n",
      "[5 rows x 32 columns]\n"
     ]
    },
    {
     "data": {
      "application/vnd.jupyter.widget-view+json": {
       "model_id": "9c05c53f22584172aece53c2abe1b206",
       "version_major": 2,
       "version_minor": 0
      },
      "text/plain": [
       "HBox(children=(FloatProgress(value=0.0, max=526.0), HTML(value='')))"
      ]
     },
     "metadata": {},
     "output_type": "display_data"
    },
    {
     "name": "stderr",
     "output_type": "stream",
     "text": [
      "/Users/jefferywang/opt/anaconda3/lib/python3.8/site-packages/pandas/core/indexing.py:1817: SettingWithCopyWarning: \n",
      "A value is trying to be set on a copy of a slice from a DataFrame.\n",
      "Try using .loc[row_indexer,col_indexer] = value instead\n",
      "\n",
      "See the caveats in the documentation: https://pandas.pydata.org/pandas-docs/stable/user_guide/indexing.html#returning-a-view-versus-a-copy\n",
      "  self._setitem_single_column(loc, value, pi)\n"
     ]
    },
    {
     "name": "stdout",
     "output_type": "stream",
     "text": [
      "\n",
      "   index           PLAYER POS  AGE TEAM   G  GS    MP   FG   FGA  ...  DRB  \\\n",
      "0   1439  DeAndre' Bembry  SG   25  ATL  43   4  21.3  2.4   5.3  ...  2.7   \n",
      "1   1440    Charlie Brown  SG   22  ATL  10   0   4.0  0.6   1.9  ...  0.2   \n",
      "2   1441     Vince Carter  PF   43  ATL  60   0  14.6  1.8   5.1  ...  1.8   \n",
      "3   1442     John Collins  PF   22  ATL  41  41  33.2  8.6  14.8  ...  7.3   \n",
      "4   1443   Bruno Fernando   C   21  ATL  56  13  12.7  1.8   3.6  ...  2.3   \n",
      "\n",
      "    TRB  AST  STL  BLK  TOV   PF   PTS   SEASON     VALUE  \n",
      "0   3.5  1.9  1.3  0.4  1.4  2.0   5.8  2019-20 -1.212720  \n",
      "1   0.4  0.2  0.2  0.2  0.3  0.3   2.0  2019-20 -5.031324  \n",
      "2   2.1  0.8  0.4  0.4  0.6  1.5   5.0  2019-20 -1.482551  \n",
      "3  10.1  1.5  0.8  1.6  1.8  3.4  21.6  2019-20  6.145021  \n",
      "4   3.5  0.9  0.3  0.3  0.8  1.9   4.3  2019-20 -2.670592  \n",
      "\n",
      "[5 rows x 32 columns]\n"
     ]
    },
    {
     "data": {
      "application/vnd.jupyter.widget-view+json": {
       "model_id": "9ee7855cfc5346e680a8cc62bb31c9c0",
       "version_major": 2,
       "version_minor": 0
      },
      "text/plain": [
       "HBox(children=(FloatProgress(value=0.0, max=526.0), HTML(value='')))"
      ]
     },
     "metadata": {},
     "output_type": "display_data"
    },
    {
     "name": "stderr",
     "output_type": "stream",
     "text": [
      "/Users/jefferywang/opt/anaconda3/lib/python3.8/site-packages/pandas/core/indexing.py:1817: SettingWithCopyWarning: \n",
      "A value is trying to be set on a copy of a slice from a DataFrame.\n",
      "Try using .loc[row_indexer,col_indexer] = value instead\n",
      "\n",
      "See the caveats in the documentation: https://pandas.pydata.org/pandas-docs/stable/user_guide/indexing.html#returning-a-view-versus-a-copy\n",
      "  self._setitem_single_column(loc, value, pi)\n"
     ]
    },
    {
     "name": "stdout",
     "output_type": "stream",
     "text": [
      "\n",
      "   index             PLAYER POS  AGE TEAM   G  GS    MP   FG   FGA  ...  DRB  \\\n",
      "0   4396  Bogdan Bogdanović  SG   28  ATL  44  27  29.7  6.1  12.8  ...  3.2   \n",
      "1   4397       Clint Capela   C   26  ATL  63  63  30.1  6.6  11.0  ...  9.6   \n",
      "2   4398       John Collins  PF   23  ATL  63  63  29.3  6.8  12.2  ...  5.5   \n",
      "3   4399          Kris Dunn  PG   26  ATL   4   0  11.3  0.3   3.0  ...  1.5   \n",
      "4   4400     Bruno Fernando   C   22  ATL  33   0   6.8  0.5   1.3  ...  1.9   \n",
      "\n",
      "    TRB  AST  STL  BLK  TOV   PF   PTS   SEASON     VALUE  \n",
      "0   3.6  3.3  1.1  0.3  1.2  2.3  16.4  2020-21  6.840439  \n",
      "1  14.3  0.8  0.7  2.0  1.2  2.3  15.2  2020-21  4.826255  \n",
      "2   7.4  1.2  0.5  1.0  1.3  3.1  17.6  2020-21  4.777654  \n",
      "3   1.5  0.5  0.5  0.5  0.8  2.5   1.3  2020-21 -9.329991  \n",
      "4   2.4  0.3  0.1  0.1  0.6  0.7   1.5  2020-21 -5.792363  \n",
      "\n",
      "[5 rows x 32 columns]\n"
     ]
    },
    {
     "data": {
      "application/vnd.jupyter.widget-view+json": {
       "model_id": "057a00c047b64415a37d94068b8082d6",
       "version_major": 2,
       "version_minor": 0
      },
      "text/plain": [
       "HBox(children=(FloatProgress(value=0.0, max=536.0), HTML(value='')))"
      ]
     },
     "metadata": {},
     "output_type": "display_data"
    },
    {
     "name": "stderr",
     "output_type": "stream",
     "text": [
      "/Users/jefferywang/opt/anaconda3/lib/python3.8/site-packages/pandas/core/indexing.py:1817: SettingWithCopyWarning: \n",
      "A value is trying to be set on a copy of a slice from a DataFrame.\n",
      "Try using .loc[row_indexer,col_indexer] = value instead\n",
      "\n",
      "See the caveats in the documentation: https://pandas.pydata.org/pandas-docs/stable/user_guide/indexing.html#returning-a-view-versus-a-copy\n",
      "  self._setitem_single_column(loc, value, pi)\n"
     ]
    },
    {
     "name": "stdout",
     "output_type": "stream",
     "text": [
      "\n",
      "\n"
     ]
    }
   ],
   "source": [
    "weightings = ['base', 'linear', 'quad', 'sqrt']\n",
    "seasons = ['2012-13','2013-14','2014-15','2015-16','2016-17','2017-18','2018-19','2019-20','2020-21']\n",
    "for weighting in tqdm(weightings):\n",
    "    for season in seasons:\n",
    "        df = weigh_data(weighting, season, merged)\n",
    "        df.to_csv(os.path.join(DATA_DIR,'Weighted',weighting,season+'.csv'), index=False)"
   ]
  },
  {
   "cell_type": "code",
   "execution_count": null,
   "id": "414a178b",
   "metadata": {},
   "outputs": [],
   "source": []
  }
 ],
 "metadata": {
  "kernelspec": {
   "display_name": "Python 3",
   "language": "python",
   "name": "python3"
  },
  "language_info": {
   "codemirror_mode": {
    "name": "ipython",
    "version": 3
   },
   "file_extension": ".py",
   "mimetype": "text/x-python",
   "name": "python",
   "nbconvert_exporter": "python",
   "pygments_lexer": "ipython3",
   "version": "3.8.8"
  }
 },
 "nbformat": 4,
 "nbformat_minor": 5
}
