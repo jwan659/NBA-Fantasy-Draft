{
 "cells": [
  {
   "cell_type": "markdown",
   "id": "1173257c",
   "metadata": {},
   "source": [
    "A weighted average of a players stats over the past three seasons can be used to predict next season's perfomance, whereby more recent seasons are weighted more heavily."
   ]
  },
  {
   "cell_type": "code",
   "execution_count": null,
   "id": "3d30011a",
   "metadata": {},
   "outputs": [],
   "source": [
    "2017\n",
    "2015,2016,20\n",
    "2016,2017,2016 -> 2019\n",
    "2017,2018,2019 -> 2020\n",
    "#2018,2019,2020 -> 2021"
   ]
  }
 ],
 "metadata": {
  "kernelspec": {
   "display_name": "Python 3",
   "language": "python",
   "name": "python3"
  },
  "language_info": {
   "codemirror_mode": {
    "name": "ipython",
    "version": 3
   },
   "file_extension": ".py",
   "mimetype": "text/x-python",
   "name": "python",
   "nbconvert_exporter": "python",
   "pygments_lexer": "ipython3",
   "version": "3.8.8"
  }
 },
 "nbformat": 4,
 "nbformat_minor": 5
}
