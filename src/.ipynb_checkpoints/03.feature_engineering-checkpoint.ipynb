{
 "cells": [
  {
   "cell_type": "markdown",
   "id": "1173257c",
   "metadata": {},
   "source": [
    "A weighted average of a players stats over the past three seasons can be used to predict next season's perfomance, whereby more recent seasons are weighted more heavily."
   ]
  },
  {
   "cell_type": "code",
   "execution_count": 1,
   "id": "8e532aec",
   "metadata": {},
   "outputs": [],
   "source": [
    "import os\n",
    "import pandas as pd\n",
    "from scipy.stats import zscore \n",
    "from constants import DATA_DIR\n",
    "from tqdm import tqdm_notebook as tqdm"
   ]
  },
  {
   "cell_type": "code",
   "execution_count": 2,
   "id": "455d3c8b",
   "metadata": {},
   "outputs": [],
   "source": [
    "def add_player_value(df):\n",
    "    #calculate zscore - blocks not included!!\n",
    "    #consider punting more than one\n",
    "    columns = ['G','FG%','FT%','3P','PTS','TRB','AST','STL','TOV']\n",
    "    numeric_stats = df[columns]\n",
    "    z_scores = pd.DataFrame(zscore(numeric_stats, axis=0, nan_policy='omit'),columns=columns)\n",
    "    #turnovers need to be inverted maybe nerfed?\n",
    "    z_scores['TOV'] = z_scores['TOV'] * -1\n",
    "    value = pd.DataFrame(columns = ['VALUE'])\n",
    "    value['VALUE'] = z_scores.sum(axis=1)\n",
    "    result = pd.concat([df, value], axis=1)\n",
    "    result.to_csv('asdf.csv')\n",
    "    return result"
   ]
  },
  {
   "cell_type": "code",
   "execution_count": 3,
   "id": "aa91a315",
   "metadata": {},
   "outputs": [],
   "source": [
    "years = ['2016-17','2017-18','2018-19','2019-20','2020-21']\n",
    "merged = pd.DataFrame()\n",
    "for year in years:\n",
    "    df = pd.read_csv('~/Desktop/NBA-Fantasy-Draft/data/PlayerStats/'+year+'.csv')\n",
    "    df = add_player_value(df)\n",
    "    df.to_csv('~/Desktop/NBA-Fantasy-Draft/data/Value/'+year+'.csv')\n",
    "    merged = merged.append(df)"
   ]
  },
  {
   "cell_type": "code",
   "execution_count": 4,
   "id": "35d47f0b",
   "metadata": {},
   "outputs": [],
   "source": [
    "def weigh_rows(row, weighting, old_row):\n",
    "    if weighting == 'linear':\n",
    "        weights = [i for i in range(1,4)]\n",
    "    elif weighting == 'quad':\n",
    "        weights = [i**2 for i in range(1,4)]\n",
    "    elif weighting == 'sqrt':\n",
    "        weights = [i**(1/2) for i in range(1,4)]\n",
    "    elif weighting == 'base':\n",
    "        weights = [1, 1, 1]\n",
    "    columns = ['G','FG%','FT%','3P','PTS','TRB','AST','STL','TOV']\n",
    "    new_row = pd.DataFrame(columns=columns)\n",
    "    for column in columns:\n",
    "        values = row[column].tolist()\n",
    "        n = len(weights)\n",
    "        weighted_sum = [weights[i] * values[i] for i in range(n)]\n",
    "        weighted_mean = sum(weighted_sum) / sum(weights)\n",
    "        old_row[column]=[weighted_mean]\n",
    "    return old_row\n",
    "\n",
    "def weigh_data(weighting, season, merged):\n",
    "#for year (2018, 2019, 2020)\n",
    "    #merge years e.g. merge(2015,2016,2017) -> 2018\n",
    "    curr = merged.loc[merged['SEASON'] == season]\n",
    "    weighted = pd.DataFrame()\n",
    "    for i in tqdm(range(curr.shape[0])):\n",
    "        #filter to just that player\n",
    "        #ensure that there are three years worth of data\n",
    "        #get dataframe of past years three years\n",
    "        #define weightings\n",
    "        date = curr.loc[i,'SEASON']\n",
    "        name = curr.loc[i,'PLAYER']\n",
    "        df_name = merged.loc[merged['PLAYER']==name].reset_index(drop=True)\n",
    "        \n",
    "        new = df_name.loc[df_name['SEASON'] < season]\n",
    "        if len(new.index) >=3:\n",
    "            # get bottome three\n",
    "            row = new.iloc[-3:]\n",
    "            old_row = df_name.loc[df_name['SEASON'] == season]\n",
    "            new_row = weigh_rows(row, weighting, old_row)\n",
    "            # add value to row\n",
    "            weighted = weighted.append(new_row)\n",
    "            #if name == 'James Harden':\n",
    "                #print(new)\n",
    "    return weighted"
   ]
  },
  {
   "cell_type": "code",
   "execution_count": 8,
   "id": "b309ce16",
   "metadata": {},
   "outputs": [
    {
     "name": "stderr",
     "output_type": "stream",
     "text": [
      "<ipython-input-4-fadf8f5c39df>:23: TqdmDeprecationWarning: This function will be removed in tqdm==5.0.0\n",
      "Please use `tqdm.notebook.tqdm` instead of `tqdm.tqdm_notebook`\n",
      "  for i in tqdm(range(curr.shape[0])):\n"
     ]
    },
    {
     "data": {
      "application/vnd.jupyter.widget-view+json": {
       "model_id": "b606e201e8334d05ba9d8dadc6587bcd",
       "version_major": 2,
       "version_minor": 0
      },
      "text/plain": [
       "HBox(children=(FloatProgress(value=0.0, max=534.0), HTML(value='')))"
      ]
     },
     "metadata": {},
     "output_type": "display_data"
    },
    {
     "name": "stderr",
     "output_type": "stream",
     "text": [
      "<ipython-input-4-fadf8f5c39df>:15: SettingWithCopyWarning: \n",
      "A value is trying to be set on a copy of a slice from a DataFrame.\n",
      "Try using .loc[row_indexer,col_indexer] = value instead\n",
      "\n",
      "See the caveats in the documentation: https://pandas.pydata.org/pandas-docs/stable/user_guide/indexing.html#returning-a-view-versus-a-copy\n",
      "  old_row[column]=[weighted_mean]\n"
     ]
    },
    {
     "name": "stdout",
     "output_type": "stream",
     "text": [
      "\n"
     ]
    },
    {
     "data": {
      "application/vnd.jupyter.widget-view+json": {
       "model_id": "26f616e13e914700950cb62f2cbf4eb2",
       "version_major": 2,
       "version_minor": 0
      },
      "text/plain": [
       "HBox(children=(FloatProgress(value=0.0, max=534.0), HTML(value='')))"
      ]
     },
     "metadata": {},
     "output_type": "display_data"
    },
    {
     "name": "stdout",
     "output_type": "stream",
     "text": [
      "\n"
     ]
    }
   ],
   "source": [
    "weightings = ['linear', 'quad', 'sqrt']\n",
    "seasons = ['2020-21']\n",
    "\n",
    "for weighting in weightings:\n",
    "    for season in seasons:\n",
    "        df = weigh_data(weighting, season, merged)\n",
    "        merged.to_csv('merged.csv')\n",
    "        df.to_csv(os.path.join(D,\n",
    "                                        weighting{}.csv'.format(season)), index=False)"
   ]
  },
  {
   "cell_type": "code",
   "execution_count": null,
   "id": "6f0bbea4",
   "metadata": {},
   "outputs": [],
   "source": [
    "print(df_name)"
   ]
  }
 ],
 "metadata": {
  "kernelspec": {
   "display_name": "Python 3",
   "language": "python",
   "name": "python3"
  },
  "language_info": {
   "codemirror_mode": {
    "name": "ipython",
    "version": 3
   },
   "file_extension": ".py",
   "mimetype": "text/x-python",
   "name": "python",
   "nbconvert_exporter": "python",
   "pygments_lexer": "ipython3",
   "version": "3.8.8"
  }
 },
 "nbformat": 4,
 "nbformat_minor": 5
}
