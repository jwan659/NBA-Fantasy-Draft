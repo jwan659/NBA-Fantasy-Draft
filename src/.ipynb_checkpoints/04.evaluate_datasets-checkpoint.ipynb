{
 "cells": [
  {
   "cell_type": "code",
   "execution_count": 2,
   "id": "debdae1f",
   "metadata": {},
   "outputs": [],
   "source": [
    "import os\n",
    "import glob\n",
    "import warnings\n",
    "import numpy as np\n",
    "import pandas as pd\n",
    "import matplotlib.pyplot as plt\n",
    "from sklearn.feature_selection import SelectKBest\n",
    "from sklearn.feature_selection import f_regression\n",
    "import warnings\n",
    "from tqdm import tqdm_notebook as tqdm\n",
    "from sklearn.ensemble import GradientBoostingRegressor\n",
    "from sklearn.linear_model import LinearRegression\n",
    "from sklearn.linear_model import Lasso\n",
    "from sklearn.linear_model import LassoCV\n",
    "from sklearn.metrics import mean_absolute_error as mae\n",
    "from sklearn.metrics import mean_squared_error as mse\n",
    "from sklearn.metrics import r2_score as r2\n",
    "from sklearn.model_selection import cross_val_score\n",
    "from sklearn.model_selection import GridSearchCV\n",
    "from sklearn.model_selection import RepeatedKFold\n",
    "from sklearn.model_selection import train_test_split\n",
    "from sklearn.preprocessing import MinMaxScaler\n",
    "\n",
    "import utils\n",
    "from constants import DATA_DIR\n",
    "warnings.filterwarnings('ignore')"
   ]
  },
  {
   "cell_type": "markdown",
   "id": "e835a0ee",
   "metadata": {},
   "source": [
    "Baseline and weighted data with 9 features: Select best weighting"
   ]
  },
  {
   "cell_type": "code",
   "execution_count": 5,
   "id": "a9a2d26a",
   "metadata": {},
   "outputs": [
    {
     "data": {
      "application/vnd.jupyter.widget-view+json": {
       "model_id": "c15ffd5425be45d39fc6c025b719619c",
       "version_major": 2,
       "version_minor": 0
      },
      "text/plain": [
       "HBox(children=(FloatProgress(value=0.0, max=4.0), HTML(value='')))"
      ]
     },
     "metadata": {},
     "output_type": "display_data"
    },
    {
     "name": "stdout",
     "output_type": "stream",
     "text": [
      "base\n",
      "Accuracy: -2.876 (0.094)\n",
      "2.0238647975151243\n",
      "2.676762901875008\n",
      "\n",
      "\n",
      "sqrt\n",
      "Accuracy: -2.749 (0.094)\n",
      "2.123618540582793\n",
      "2.762604317009168\n",
      "\n",
      "\n",
      "linear\n",
      "Accuracy: -2.722 (0.092)\n",
      "2.045890413708809\n",
      "2.615059396935846\n",
      "\n",
      "\n",
      "quad\n",
      "Accuracy: -2.632 (0.096)\n",
      "2.039208205366634\n",
      "2.633878854974409\n",
      "\n",
      "\n",
      "\n"
     ]
    }
   ],
   "source": [
    "weights = ['base','sqrt','linear','quad']\n",
    "seasons = ['2016-17','2017-18','2018-19','2019-20']\n",
    "\n",
    "for weight in tqdm(weights):\n",
    "    df = pd.DataFrame()\n",
    "    mean = []\n",
    "    for season in seasons:\n",
    "        df1 = pd.read_csv(os.path.join(DATA_DIR,'Weighted',weight,season+'.csv'))\n",
    "        df = df.append(df1)\n",
    "    df.fillna(0, inplace=True)\n",
    "    columns = ['G','FG%','FT%','3P','PTS','TRB','AST','STL','TOV']\n",
    "    X = df.loc[:, columns]\n",
    "    y = df['VALUE']\n",
    "    X_train, X_test, y_train, y_test = train_test_split(X, y, stratify=None)\n",
    "    cv = RepeatedKFold(n_splits=2, n_repeats=1000)\n",
    "    reg = LinearRegression()\n",
    "    scores = cross_val_score(reg, X_train, y_train, scoring='neg_root_mean_squared_error', cv=cv)\n",
    "    model = reg.fit(X_train, y_train)\n",
    "    y_pred = model.predict(X_test)\n",
    "    mean.append(np.mean(scores))\n",
    "    print(weight)\n",
    "    print('Accuracy: %.3f (%.3f)' % (np.mean(scores), np.std(scores)))\n",
    "    print(mae(y_test, y_pred))\n",
    "    print(mse(y_test, y_pred, squared=False))\n",
    "    print('\\n')\n",
    "    \n",
    "    #print(sum(mean) / len(mean))"
   ]
  },
  {
   "cell_type": "markdown",
   "id": "d1cbf090",
   "metadata": {},
   "source": [
    "Here's where we add more features and cut them down with feature selection"
   ]
  },
  {
   "cell_type": "code",
   "execution_count": 12,
   "id": "57321bf0",
   "metadata": {},
   "outputs": [
    {
     "data": {
      "image/png": "[encoded data removed]",
      "text/plain": [
       "<Figure size 1080x720 with 1 Axes>"
      ]
     },
     "metadata": {
      "needs_background": "light"
     },
     "output_type": "display_data"
    },
    {
     "name": "stdout",
     "output_type": "stream",
     "text": [
      "(1083, 32)\n"
     ]
    }
   ],
   "source": [
    "#feature selection add more features prior to this?\n",
    "weight = 'quad'\n",
    "df = pd.DataFrame()\n",
    "for season in seasons:\n",
    "    df1 = pd.read_csv(os.path.join(DATA_DIR,'Weighted',weight,season+'.csv'))\n",
    "    df = df.append(df1)\n",
    "df.drop(columns=['PLAYER','TEAM','SEASON'], inplace=True)\n",
    "df = pd.get_dummies(df)\n",
    "df.fillna(0, inplace=True)\n",
    "df.to_csv(os.path.join(DATA_DIR,'ABT','abt.csv'), index=False)\n",
    "X = df.loc[:, df.columns != 'VALUE']\n",
    "y = df['VALUE']\n",
    "model = GradientBoostingRegressor()\n",
    "model.fit(X, y)\n",
    "column = df.columns.drop(['VALUE'])\n",
    "top_features = pd.Series(model.feature_importances_, index = column).sort_values()\n",
    "top_features.plot(kind = \"barh\", figsize=(15,10) ,title='Top Features')\n",
    "plt.show()\n",
    "print(df.shape)"
   ]
  },
  {
   "cell_type": "code",
   "execution_count": 13,
   "id": "e492bd01",
   "metadata": {},
   "outputs": [
    {
     "name": "stdout",
     "output_type": "stream",
     "text": [
      "(1083, 27)\n"
     ]
    }
   ],
   "source": [
    "# create ABT\n",
    "omit_lowest = 5\n",
    "selected = list(top_features[omit_lowest:].index)\n",
    "new_abt = df.loc[:,selected]\n",
    "new_abt['VALUE'] = y\n",
    "new_abt.to_csv(os.path.join(DATA_DIR,'ABT','data.csv'), index=False)\n",
    "print(new_abt.shape)"
   ]
  },
  {
   "cell_type": "code",
   "execution_count": null,
   "id": "7e73a6e5",
   "metadata": {},
   "outputs": [],
   "source": []
  }
 ],
 "metadata": {
  "kernelspec": {
   "display_name": "Python 3",
   "language": "python",
   "name": "python3"
  },
  "language_info": {
   "codemirror_mode": {
    "name": "ipython",
    "version": 3
   },
   "file_extension": ".py",
   "mimetype": "text/x-python",
   "name": "python",
   "nbconvert_exporter": "python",
   "pygments_lexer": "ipython3",
   "version": "3.8.8"
  }
 },
 "nbformat": 4,
 "nbformat_minor": 5
}
