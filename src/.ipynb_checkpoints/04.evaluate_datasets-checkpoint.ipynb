{
 "cells": [
  {
   "cell_type": "code",
   "execution_count": 42,
   "id": "39474c59",
   "metadata": {},
   "outputs": [],
   "source": [
    "import os\n",
    "import glob\n",
    "import warnings\n",
    "import numpy as np\n",
    "import pandas as pd\n",
    "import matplotlib.pyplot as plt\n",
    "\n",
    "from tqdm import tqdm_notebook as tqdm\n",
    "from sklearn.ensemble import GradientBoostingRegressor\n",
    "from sklearn.linear_model import LinearRegression\n",
    "from sklearn.metrics import mean_absolute_error as mae\n",
    "from sklearn.metrics import mean_squared_error as mse\n",
    "from sklearn.metrics import r2_score as r2\n",
    "from sklearn.model_selection import cross_val_score\n",
    "from sklearn.model_selection import train_test_split\n",
    "from sklearn.preprocessing import MinMaxScaler\n",
    "\n",
    "import utils\n",
    "from constants import DATA_DIR"
   ]
  },
  {
   "cell_type": "code",
   "execution_count": 43,
   "id": "211ebfd9",
   "metadata": {},
   "outputs": [],
   "source": [
    "# Linear Regression with basic 9 variables counted for fantasy points\n",
    "season = '2018-19'\n",
    "def pred(weight):\n",
    "    df = pd.read_csv(os.path.join(DATA_DIR,'Weighted',weight,season+'.csv'))\n",
    "    df.fillna(0, inplace=True)\n",
    "    #pred_columns = ['FG%','FT%','3P','PTS','TRB','AST','STL','BLK','TOV']\n",
    "    X = df.loc[:, pred_columns]\n",
    "    X = df.loc[:, df.columns != 'VALUE']._get_numeric_data()\n",
    "    X = MinMaxScaler().fit_transform(X)\n",
    "    y = df['VALUE']\n",
    "    X_train, X_test, y_train, y_test = train_test_split(X, y, stratify=None)\n",
    "    reg = LinearRegression()\n",
    "    scores = cross_val_score(reg, X_train, y_train, scoring='r2', cv=5)\n",
    "    print(scores)\n",
    "    reg.fit(X_train, y_train)\n",
    "    y_pred = reg.predict(X_test)\n",
    "    print(weight)\n",
    "    print(mae(y_test, y_pred))\n",
    "    print(mse(y_test, y_pred, squared=False))\n",
    "    print(r2(y_test, y_pred))\n",
    "    print('\\n')\n",
    "\n",
    "#errors = utils.cross_val(reg, X, y, n_folds=5, verbose=0)\n",
    "#utils.summarize_errors(errors)"
   ]
  },
  {
   "cell_type": "code",
   "execution_count": 44,
   "id": "48f28cc0",
   "metadata": {},
   "outputs": [
    {
     "name": "stdout",
     "output_type": "stream",
     "text": [
      "weight\n",
      "0.8995022008549463\n",
      "1.2048660107173825\n",
      "0.8957361952464968\n",
      "\n",
      "\n",
      "weight\n",
      "1.0046373627563043\n",
      "1.5035784196929436\n",
      "0.8903192138979136\n",
      "\n",
      "\n",
      "weight\n",
      "1.1323274894542288\n",
      "1.5860731565859774\n",
      "0.8966144711325302\n",
      "\n",
      "\n",
      "weight\n",
      "1.0091753237699177\n",
      "1.3974725883112498\n",
      "0.8746578398352551\n",
      "\n",
      "\n"
     ]
    }
   ],
   "source": [
    "preds = ['base', 'linear', 'quad', 'sqrt']\n",
    "for line in preds:\n",
    "    pred(line)"
   ]
  },
  {
   "cell_type": "code",
   "execution_count": null,
   "id": "97f42ae8",
   "metadata": {},
   "outputs": [],
   "source": [
    "for weighting in ['sqrt', 'linear', 'quad']:\n",
    "    print(\"\\nweighting sheme:\", weighting)\n",
    "    df_features = utils.csv_concatenate(os.path.join(DATA_DIR, 'Dataframes','Modelling', 'Features', weighting))  \n",
    "    \n",
    "    X = df_features.loc[:, features]\n",
    "    X = MinMaxScaler().fit_transform(X)\n",
    "    y = df_features['FPTS'].values.reshape(-1,1).flatten()\n",
    "\n",
    "    reg = LinearRegression()\n",
    "    errors = utils.cross_val(reg, X, y, n_folds=5, verbose=0)\n",
    "    utils.summarize_errors(errors, verbose=0)"
   ]
  }
 ],
 "metadata": {
  "kernelspec": {
   "display_name": "Python 3",
   "language": "python",
   "name": "python3"
  },
  "language_info": {
   "codemirror_mode": {
    "name": "ipython",
    "version": 3
   },
   "file_extension": ".py",
   "mimetype": "text/x-python",
   "name": "python",
   "nbconvert_exporter": "python",
   "pygments_lexer": "ipython3",
   "version": "3.8.8"
  }
 },
 "nbformat": 4,
 "nbformat_minor": 5
}
