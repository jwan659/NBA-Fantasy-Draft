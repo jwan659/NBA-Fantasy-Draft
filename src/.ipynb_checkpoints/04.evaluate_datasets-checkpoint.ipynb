{
 "cells": [
  {
   "cell_type": "code",
   "execution_count": 1,
   "id": "debdae1f",
   "metadata": {},
   "outputs": [],
   "source": [
    "import os\n",
    "import glob\n",
    "import warnings\n",
    "import numpy as np\n",
    "import pandas as pd\n",
    "import matplotlib.pyplot as plt\n",
    "from sklearn.feature_selection import SelectKBest\n",
    "from sklearn.feature_selection import f_regression\n",
    "import warnings\n",
    "from tqdm import tqdm_notebook as tqdm\n",
    "from sklearn.ensemble import GradientBoostingRegressor\n",
    "from sklearn.linear_model import LinearRegression\n",
    "from sklearn.linear_model import Lasso\n",
    "from sklearn.linear_model import LassoCV\n",
    "from sklearn.metrics import mean_absolute_error as mae\n",
    "from sklearn.metrics import mean_squared_error as mse\n",
    "from sklearn.metrics import r2_score as r2\n",
    "from sklearn.model_selection import cross_val_score\n",
    "from sklearn.model_selection import GridSearchCV\n",
    "from sklearn.model_selection import RepeatedKFold\n",
    "from sklearn.model_selection import train_test_split\n",
    "from sklearn.preprocessing import MinMaxScaler\n",
    "\n",
    "import utils\n",
    "from constants import DATA_DIR\n",
    "warnings.filterwarnings('ignore')"
   ]
  },
  {
   "cell_type": "code",
   "execution_count": 14,
   "id": "d4212b88",
   "metadata": {},
   "outputs": [],
   "source": [
    "df = utils.csv_concatenate(os.path.join(DATA_DIR,'Weighted','base'))"
   ]
  },
  {
   "cell_type": "code",
   "execution_count": 15,
   "id": "b79db4f2",
   "metadata": {},
   "outputs": [
    {
     "name": "stdout",
     "output_type": "stream",
     "text": [
      "Baseline MAE is 3.07\n",
      "Baseline RMSE is 4.00\n"
     ]
    }
   ],
   "source": [
    "import numpy as np\n",
    "import math\n",
    "from sklearn.metrics import mean_absolute_error\n",
    "from sklearn.metrics import mean_squared_error\n",
    "columns = ['G','FG%','FT%','3P','PTS','TRB','AST','STL','TOV']\n",
    "X = df.loc[:, columns]\n",
    "y = df['VALUE']\n",
    "X_train, X_test, y_train, y_test = train_test_split(X, y, random_state=42, stratify=None)\n",
    "mean_train = np.mean(y_train)\n",
    "baseline_predictions = np.ones(y_test.shape)*mean_train\n",
    "# Compute MAE\n",
    "mae_baseline = mean_absolute_error(y_test, baseline_predictions)\n",
    "rmse_baseline = math.sqrt(mean_squared_error(y_test, baseline_predictions))\n",
    "print(\"Baseline MAE is {:.2f}\".format(mae_baseline))\n",
    "print(\"Baseline RMSE is {:.2f}\".format(rmse_baseline))\n",
    "#Baseline MAE is 11.3"
   ]
  },
  {
   "cell_type": "code",
   "execution_count": 33,
   "id": "6c370132",
   "metadata": {},
   "outputs": [
    {
     "data": {
      "application/vnd.jupyter.widget-view+json": {
       "model_id": "97b7c67fa129478e99558f32d06e3a11",
       "version_major": 2,
       "version_minor": 0
      },
      "text/plain": [
       "HBox(children=(FloatProgress(value=0.0, max=3.0), HTML(value='')))"
      ]
     },
     "metadata": {},
     "output_type": "display_data"
    },
    {
     "name": "stdout",
     "output_type": "stream",
     "text": [
      "\n",
      "sqrt\n",
      "\n",
      "   <--- Validation Errors --->\n",
      "MAE  | Mean: 2.53934, SD: 0.06334\n",
      "RMSE | Mean: 3.30361, SD: 0.1074\n",
      "\n"
     ]
    }
   ],
   "source": [
    "df = utils.csv_concatenate(os.path.join(DATA_DIR,'Weighted','base'))\n",
    "columns = ['G','FG%','FT%','3P','PTS','TRB','AST','STL','TOV']\n",
    "X = df.loc[:, columns]\n",
    "y = df['VALUE'].values.reshape(-1,1).flatten()\n",
    "reg = LinearRegression()\n",
    "errors = utils.cross_val(reg, X, y, n_folds=3, verbose=0)\n",
    "utils.summarize_errors(errors, verbose=0)"
   ]
  },
  {
   "cell_type": "markdown",
   "id": "e835a0ee",
   "metadata": {},
   "source": [
    "Baseline and weighted data with 9 features: Select best weighting"
   ]
  },
  {
   "cell_type": "code",
   "execution_count": 34,
   "id": "a9a2d26a",
   "metadata": {},
   "outputs": [
    {
     "name": "stdout",
     "output_type": "stream",
     "text": [
      "(2519, 31)\n"
     ]
    },
    {
     "data": {
      "application/vnd.jupyter.widget-view+json": {
       "model_id": "4b63c7b37a5f48f1a189a67ddb83aaaa",
       "version_major": 2,
       "version_minor": 0
      },
      "text/plain": [
       "HBox(children=(FloatProgress(value=0.0, max=3.0), HTML(value='')))"
      ]
     },
     "metadata": {},
     "output_type": "display_data"
    },
    {
     "name": "stdout",
     "output_type": "stream",
     "text": [
      "\n",
      "sqrt\n",
      "\n",
      "   <--- Validation Errors --->\n",
      "MAE  | Mean: 2.34072, SD: 0.06421\n",
      "RMSE | Mean: 3.02609, SD: 0.0951\n",
      "\n",
      "(2519, 31)\n"
     ]
    },
    {
     "data": {
      "application/vnd.jupyter.widget-view+json": {
       "model_id": "b9f8a0650b38436e95cb57e81f40b928",
       "version_major": 2,
       "version_minor": 0
      },
      "text/plain": [
       "HBox(children=(FloatProgress(value=0.0, max=3.0), HTML(value='')))"
      ]
     },
     "metadata": {},
     "output_type": "display_data"
    },
    {
     "name": "stdout",
     "output_type": "stream",
     "text": [
      "\n",
      "linear\n",
      "\n",
      "   <--- Validation Errors --->\n",
      "MAE  | Mean: 2.37155, SD: 0.065\n",
      "RMSE | Mean: 3.06442, SD: 0.09461\n",
      "\n",
      "(2519, 31)\n"
     ]
    },
    {
     "data": {
      "application/vnd.jupyter.widget-view+json": {
       "model_id": "f65251b595224b0f85b9880bf3ca5f29",
       "version_major": 2,
       "version_minor": 0
      },
      "text/plain": [
       "HBox(children=(FloatProgress(value=0.0, max=3.0), HTML(value='')))"
      ]
     },
     "metadata": {},
     "output_type": "display_data"
    },
    {
     "name": "stdout",
     "output_type": "stream",
     "text": [
      "\n",
      "quad\n",
      "\n",
      "   <--- Validation Errors --->\n",
      "MAE  | Mean: 2.43759, SD: 0.07111\n",
      "RMSE | Mean: 3.15195, SD: 0.09282\n",
      "\n"
     ]
    }
   ],
   "source": [
    "weights = ['sqrt','linear','quad']\n",
    "\n",
    "for weight in weights:\n",
    "    mean = []\n",
    "    df = utils.csv_concatenate(os.path.join(DATA_DIR,'Weighted',weight))\n",
    "    df.drop(columns=['PLAYER','TEAM','SEASON'], inplace=True)\n",
    "    df = pd.get_dummies(df)\n",
    "    X = df.loc[:, df.columns != 'VALUE']\n",
    "    y = df['VALUE'].values.reshape(-1,1).flatten()\n",
    "    reg = LinearRegression()\n",
    "    print(X.shape)\n",
    "    errors = utils.cross_val(reg, X, y, n_folds=3, verbose=0)\n",
    "    print(weight)\n",
    "    utils.summarize_errors(errors, verbose=0)\n",
    "    \n",
    "    #print(sum(mean) / len(mean))\n",
    "    \n"
   ]
  },
  {
   "cell_type": "markdown",
   "id": "d1cbf090",
   "metadata": {},
   "source": [
    "Here's where we add more features and cut them down with feature selection"
   ]
  },
  {
   "cell_type": "code",
   "execution_count": 35,
   "id": "57321bf0",
   "metadata": {},
   "outputs": [
    {
     "data": {
      "image/png": "[encoded data removed]",
      "text/plain": [
       "<Figure size 1080x720 with 1 Axes>"
      ]
     },
     "metadata": {
      "needs_background": "light"
     },
     "output_type": "display_data"
    },
    {
     "name": "stdout",
     "output_type": "stream",
     "text": [
      "(2519, 32)\n"
     ]
    }
   ],
   "source": [
    "#feature selection add more features prior to this?\n",
    "weight = 'sqrt'\n",
    "df = utils.csv_concatenate(os.path.join(DATA_DIR,'Weighted',weight))\n",
    "df.drop(columns=['PLAYER','TEAM','SEASON'], inplace=True)\n",
    "df = pd.get_dummies(df)\n",
    "df.fillna(0, inplace=True)\n",
    "df.to_csv(os.path.join(DATA_DIR,'ABT','abt.csv'), index=False)\n",
    "X = df.loc[:, df.columns != 'VALUE']\n",
    "y = df['VALUE']\n",
    "model = GradientBoostingRegressor()\n",
    "model.fit(X, y)\n",
    "column = df.columns.drop(['VALUE'])\n",
    "top_features = pd.Series(model.feature_importances_, index = column).sort_values()\n",
    "top_features.plot(kind = \"barh\", figsize=(15,10) ,title='Top Features')\n",
    "plt.show()\n",
    "print(df.shape)"
   ]
  },
  {
   "cell_type": "code",
   "execution_count": 36,
   "id": "e492bd01",
   "metadata": {},
   "outputs": [
    {
     "name": "stdout",
     "output_type": "stream",
     "text": [
      "(2519, 27)\n"
     ]
    }
   ],
   "source": [
    "# create ABT\n",
    "omit_lowest = 5\n",
    "selected = list(top_features[omit_lowest:].index)\n",
    "new_abt = df.loc[:,selected]\n",
    "new_abt['VALUE'] = y\n",
    "new_abt.to_csv(os.path.join(DATA_DIR,'ABT','data.csv'), index=False)\n",
    "print(new_abt.shape)"
   ]
  },
  {
   "cell_type": "code",
   "execution_count": null,
   "id": "7e73a6e5",
   "metadata": {},
   "outputs": [],
   "source": []
  }
 ],
 "metadata": {
  "kernelspec": {
   "display_name": "Python 3",
   "language": "python",
   "name": "python3"
  },
  "language_info": {
   "codemirror_mode": {
    "name": "ipython",
    "version": 3
   },
   "file_extension": ".py",
   "mimetype": "text/x-python",
   "name": "python",
   "nbconvert_exporter": "python",
   "pygments_lexer": "ipython3",
   "version": "3.8.8"
  }
 },
 "nbformat": 4,
 "nbformat_minor": 5
}
