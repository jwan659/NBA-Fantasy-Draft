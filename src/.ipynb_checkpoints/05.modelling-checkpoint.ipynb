{
 "cells": [
  {
   "cell_type": "code",
   "execution_count": 3,
   "id": "f9441432",
   "metadata": {},
   "outputs": [],
   "source": [
    "import os\n",
    "import utils\n",
    "import warnings\n",
    "\n",
    "import matplotlib.pyplot as plt\n",
    "import numpy as np\n",
    "import pandas as pd\n",
    "import xgboost as xgb\n",
    "\n",
    "from bayes_opt import BayesianOptimization\n",
    "from tqdm import tqdm_notebook as tqdm\n",
    "from sklearn.ensemble import GradientBoostingRegressor\n",
    "from sklearn.linear_model import LinearRegression\n",
    "from sklearn.linear_model import Lasso\n",
    "from sklearn.linear_model import Ridge\n",
    "from sklearn.metrics import mean_absolute_error as mae\n",
    "from sklearn.metrics import mean_squared_error as mse\n",
    "from sklearn.metrics import r2_score as r2\n",
    "from sklearn.model_selection import cross_val_score\n",
    "from sklearn.model_selection import GridSearchCV\n",
    "from sklearn.model_selection import RepeatedKFold\n",
    "from sklearn.model_selection import train_test_split\n",
    "from xgboost import XGBRegressor\n",
    "from constants import DATA_DIR\n",
    "from constants import PUNT_TYPES\n",
    "warnings.filterwarnings('ignore')"
   ]
  },
  {
   "cell_type": "code",
   "execution_count": 14,
   "id": "6222bdff",
   "metadata": {},
   "outputs": [],
   "source": [
    "cv = RepeatedKFold(n_splits=2, n_repeats=100)"
   ]
  },
  {
   "cell_type": "markdown",
   "id": "1487313b",
   "metadata": {},
   "source": [
    "### Ridge Regression"
   ]
  },
  {
   "cell_type": "code",
   "execution_count": 5,
   "id": "f0a7bdb8",
   "metadata": {},
   "outputs": [],
   "source": [
    "def ridge(X, y):\n",
    "    parameters = {'alpha':[1, 10, 100]}\n",
    "    Ridge_reg= GridSearchCV(Ridge(), parameters, scoring='neg_root_mean_squared_error', cv=cv, n_jobs=-1)\n",
    "    Ridge_reg.fit(X, y)\n",
    "    best_ridge = Ridge_reg.best_estimator_\n",
    "    print(Ridge_reg.best_params_)\n",
    "    errors = utils.cross_val(best_ridge, X, y, n_folds=3)\n",
    "    #utils.summarize_errors(errors, verbose=0)\n",
    "    return np.mean(errors['MAE']['valid']), np.mean(errors['RMSE']['valid'])"
   ]
  },
  {
   "cell_type": "markdown",
   "id": "e201c37c",
   "metadata": {},
   "source": [
    "### Lasso Regression"
   ]
  },
  {
   "cell_type": "code",
   "execution_count": 6,
   "id": "128173b3",
   "metadata": {},
   "outputs": [],
   "source": [
    "def lasso(X, y):\n",
    "    parameters = {'alpha':[1e-3, 1e-2, 1e-1]}\n",
    "    lasso_result = GridSearchCV(Lasso(), parameters, scoring='neg_root_mean_squared_error',cv=cv,n_jobs=-1)\n",
    "    lasso_result.fit(X, y)\n",
    "    best_model = lasso_result.best_estimator_\n",
    "    print(lasso_result.best_params_)\n",
    "    errors = utils.cross_val(best_model, X, y, n_folds=3)\n",
    "    utils.summarize_errors(errors, verbose=0)\n",
    "    return np.mean(errors['MAE']['valid']), np.mean(errors['RMSE']['valid'])"
   ]
  },
  {
   "cell_type": "markdown",
   "id": "4c9ebc2e",
   "metadata": {},
   "source": [
    "### Vanilla XGBRegressor"
   ]
  },
  {
   "cell_type": "code",
   "execution_count": 7,
   "id": "137a5647",
   "metadata": {},
   "outputs": [],
   "source": [
    "def vanilla_xgb(X,y):\n",
    "    vanilla_reg = XGBRegressor().fit(X, y)\n",
    "    errors = utils.cross_val(vanilla_reg, X, y, n_folds=3)\n",
    "    utils.summarize_errors(errors, verbose=0)\n",
    "    return np.mean(errors['MAE']['valid']), np.mean(errors['RMSE']['valid'])"
   ]
  },
  {
   "cell_type": "markdown",
   "id": "18eea015",
   "metadata": {},
   "source": [
    "###  XGBRegressor w/Bayesian Optimized Hyperparameters"
   ]
  },
  {
   "cell_type": "code",
   "execution_count": 25,
   "id": "2ce628e6",
   "metadata": {},
   "outputs": [],
   "source": [
    "def bo_tune_xgb(max_depth, gamma, n_estimators, learning_rate, subsample):\n",
    "    params = {'gamma': gamma, \n",
    "              'learning_rate':learning_rate, \n",
    "              'max_depth': int(max_depth), \n",
    "              'n_estimators': int(n_estimators), \n",
    "              'subsample': subsample, \n",
    "              'eta': 0.1, \n",
    "              'eval_metric': 'rmse'}\n",
    "    scores = cross_val_score(XGBRegressor(random_state=1, **params), X, y, scoring='neg_root_mean_squared_error', cv=3).mean()\n",
    "    score = scores.mean()\n",
    "    return score"
   ]
  },
  {
   "cell_type": "code",
   "execution_count": 26,
   "id": "36dd57fa",
   "metadata": {
    "scrolled": true
   },
   "outputs": [],
   "source": [
    "def bo_xgb(X, y):\n",
    "    params = {'max_depth': (3, 10), \n",
    "              'gamma': (0, 1), \n",
    "              'n_estimators':(100,120), \n",
    "              'learning_rate':(0,1), \n",
    "              'subsample': (0.8, 1)}\n",
    "    xgb_bo = BayesianOptimization(bo_tune_xgb, params, random_state = 1)\n",
    "    xgb_bo.maximize(n_iter=5, init_points=20)\n",
    "    \n",
    "    params = xgb_bo.max['params']\n",
    "    params['max_depth']= int(params['max_depth'])\n",
    "    params['n_estimators']= int(params['n_estimators'])\n",
    "    print(params)\n",
    "    clf = XGBRegressor(**params)\n",
    "    errors = utils.cross_val(clf, X, y, n_folds=3)\n",
    "    return np.mean(errors['MAE']['valid']), np.mean(errors['RMSE']['valid'])"
   ]
  },
  {
   "cell_type": "markdown",
   "id": "8b509433",
   "metadata": {},
   "source": [
    "### Neural Network"
   ]
  },
  {
   "cell_type": "code",
   "execution_count": 27,
   "id": "0599bc82",
   "metadata": {},
   "outputs": [],
   "source": [
    "from keras.models import Sequential\n",
    "from keras.layers import Dense, Dropout\n",
    "from keras.wrappers.scikit_learn import KerasRegressor\n",
    "from sklearn.preprocessing import StandardScaler\n",
    "from sklearn.pipeline import Pipeline\n",
    "from sklearn.model_selection import KFold\n",
    "from sklearn import preprocessing\n",
    "from keras import regularizers\n",
    "from keras.callbacks import ModelCheckpoint\n",
    "import math"
   ]
  },
  {
   "cell_type": "code",
   "execution_count": 28,
   "id": "54b1857d",
   "metadata": {},
   "outputs": [],
   "source": [
    "def get_modelcheckpoint_path():\n",
    "    #Create a file path for a model and save models in hdf5 files with datetime, validation losses and epochs\n",
    "    parent = DATA_DIR+\"/NN/\"\n",
    "    child = pd.Timestamp.now().strftime('%Y%m%d-%Hh%Mm') + \"-model-epoch_{epoch:02d}-rmse_{val_loss:.5f}.hdf5\"\n",
    "    return parent + child \n",
    "\n",
    "def baseline_model():\n",
    "    # create model\n",
    "    model = Sequential()\n",
    "    model.add(Dense(X.shape[1], input_dim=X.shape[1], kernel_initializer='normal', activation='relu'))\n",
    "    model.add(Dense(15, kernel_initializer='normal', activation='relu'))\n",
    "    model.add(Dense(1, kernel_initializer='normal'))\n",
    "    model.compile(loss='mean_squared_error', optimizer='adam')\n",
    "    return model\n",
    "\n",
    "def dropout_model():\n",
    "    # create model\n",
    "    model = Sequential()\n",
    "    model.add(Dense(X.shape[1], input_dim=X.shape[1], kernel_initializer='normal', activation='relu'))\n",
    "    model.add(Dense(15, kernel_initializer='normal', activation='relu'))\n",
    "    #model.add(Dense(8, kernel_initializer='normal', activation='relu'))\n",
    "    model.add(Dropout(0.2))\n",
    "    model.add(Dense(1, kernel_initializer='normal'))\n",
    "    model.compile(loss='mean_squared_error', optimizer='adam')\n",
    "    return model\n",
    "\n",
    "def create_regressor(model, verbose=0):\n",
    "    reg = KerasRegressor(build_fn=model, epochs=100, batch_size=5, validation_split=0.2, shuffle=True, verbose=verbose)\n",
    "    return reg\n",
    "\n",
    "def plot_learning_process(history):\n",
    "    # summarize history for loss\n",
    "    plt.plot(history.history['loss'])\n",
    "    plt.plot(history.history['val_loss'])\n",
    "    plt.title('model loss')\n",
    "    plt.ylabel('loss')\n",
    "    plt.xlabel('epoch')\n",
    "    plt.legend(['train', 'test'], loc='upper left')\n",
    "    plt.show()\n",
    "    return None\n",
    "\n",
    "def base_keras_model(X, y):\n",
    "    base_keras = create_regressor(baseline_model, 0)\n",
    "    #base_history = base_keras.fit(X, y)\n",
    "    errors = utils.cross_val(base_keras, X, y, n_folds=5)\n",
    "    #plot_learning_process(base_history)\n",
    "    return np.mean(errors['MAE']['valid']), np.mean(errors['RMSE']['valid'])\n",
    "\n",
    "def dropout_keras_model(X, y):\n",
    "    dropout_keras = create_regressor(dropout_model, 0)\n",
    "    #dropout_history = base_keras.fit(X, y)\n",
    "    #plot_learning_process(dropout_history)\n",
    "    errors = utils.cross_val(dropout_keras, X, y, n_folds=5)\n",
    "    #utils.summarize_errors(errors, verbose=1)\n",
    "    return np.mean(errors['MAE']['valid']), np.mean(errors['RMSE']['valid'])"
   ]
  },
  {
   "cell_type": "code",
   "execution_count": 29,
   "id": "40b93b8a",
   "metadata": {
    "scrolled": true
   },
   "outputs": [
    {
     "data": {
      "application/vnd.jupyter.widget-view+json": {
       "model_id": "97d099861bc8458693aee9d7ecef4a18",
       "version_major": 2,
       "version_minor": 0
      },
      "text/plain": [
       "HBox(children=(FloatProgress(value=0.0, max=12.0), HTML(value='')))"
      ]
     },
     "metadata": {},
     "output_type": "display_data"
    },
    {
     "data": {
      "application/vnd.jupyter.widget-view+json": {
       "model_id": "afbbc960c64845c38369d380d885b8e8",
       "version_major": 2,
       "version_minor": 0
      },
      "text/plain": [
       "HBox(children=(FloatProgress(value=0.0, max=1.0), HTML(value='')))"
      ]
     },
     "metadata": {},
     "output_type": "display_data"
    },
    {
     "name": "stdout",
     "output_type": "stream",
     "text": [
      "|   iter    |  target   |   gamma   | learni... | max_depth | n_esti... | subsample |\n",
      "-------------------------------------------------------------------------------------\n",
      "| \u001b[0m 1       \u001b[0m | \u001b[0m-3.083   \u001b[0m | \u001b[0m 0.417   \u001b[0m | \u001b[0m 0.7203  \u001b[0m | \u001b[0m 3.001   \u001b[0m | \u001b[0m 106.0   \u001b[0m | \u001b[0m 0.8294  \u001b[0m |\n",
      "| \u001b[95m 2       \u001b[0m | \u001b[95m-2.663   \u001b[0m | \u001b[95m 0.09234 \u001b[0m | \u001b[95m 0.1863  \u001b[0m | \u001b[95m 5.419   \u001b[0m | \u001b[95m 107.9   \u001b[0m | \u001b[95m 0.9078  \u001b[0m |\n",
      "| \u001b[0m 3       \u001b[0m | \u001b[0m-3.187   \u001b[0m | \u001b[0m 0.4192  \u001b[0m | \u001b[0m 0.6852  \u001b[0m | \u001b[0m 4.431   \u001b[0m | \u001b[0m 117.6   \u001b[0m | \u001b[0m 0.8055  \u001b[0m |\n",
      "| \u001b[0m 4       \u001b[0m | \u001b[0m-2.878   \u001b[0m | \u001b[0m 0.6705  \u001b[0m | \u001b[0m 0.4173  \u001b[0m | \u001b[0m 6.911   \u001b[0m | \u001b[0m 102.8   \u001b[0m | \u001b[0m 0.8396  \u001b[0m |\n",
      "| \u001b[0m 5       \u001b[0m | \u001b[0m-3.403   \u001b[0m | \u001b[0m 0.8007  \u001b[0m | \u001b[0m 0.9683  \u001b[0m | \u001b[0m 5.194   \u001b[0m | \u001b[0m 113.8   \u001b[0m | \u001b[0m 0.9753  \u001b[0m |\n",
      "| \u001b[95m 6       \u001b[0m | \u001b[95m-2.559   \u001b[0m | \u001b[95m 0.8946  \u001b[0m | \u001b[95m 0.08504 \u001b[0m | \u001b[95m 3.273   \u001b[0m | \u001b[95m 103.4   \u001b[0m | \u001b[95m 0.9756  \u001b[0m |\n",
      "| \u001b[0m 7       \u001b[0m | \u001b[0m-2.855   \u001b[0m | \u001b[0m 0.09835 \u001b[0m | \u001b[0m 0.4211  \u001b[0m | \u001b[0m 9.705   \u001b[0m | \u001b[0m 110.7   \u001b[0m | \u001b[0m 0.9384  \u001b[0m |\n",
      "| \u001b[0m 8       \u001b[0m | \u001b[0m-3.081   \u001b[0m | \u001b[0m 0.3155  \u001b[0m | \u001b[0m 0.6865  \u001b[0m | \u001b[0m 8.842   \u001b[0m | \u001b[0m 100.4   \u001b[0m | \u001b[0m 0.95    \u001b[0m |\n",
      "| \u001b[0m 9       \u001b[0m | \u001b[0m-3.152   \u001b[0m | \u001b[0m 0.9889  \u001b[0m | \u001b[0m 0.7482  \u001b[0m | \u001b[0m 4.963   \u001b[0m | \u001b[0m 115.8   \u001b[0m | \u001b[0m 0.8206  \u001b[0m |\n",
      "| \u001b[0m 10      \u001b[0m | \u001b[0m-3.532   \u001b[0m | \u001b[0m 0.4479  \u001b[0m | \u001b[0m 0.9086  \u001b[0m | \u001b[0m 5.055   \u001b[0m | \u001b[0m 105.8   \u001b[0m | \u001b[0m 0.826   \u001b[0m |\n",
      "| \u001b[0m 11      \u001b[0m | \u001b[0m-3.079   \u001b[0m | \u001b[0m 0.01937 \u001b[0m | \u001b[0m 0.6788  \u001b[0m | \u001b[0m 4.481   \u001b[0m | \u001b[0m 105.3   \u001b[0m | \u001b[0m 0.8983  \u001b[0m |\n",
      "| \u001b[0m 12      \u001b[0m | \u001b[0m-2.989   \u001b[0m | \u001b[0m 0.05336 \u001b[0m | \u001b[0m 0.5741  \u001b[0m | \u001b[0m 4.027   \u001b[0m | \u001b[0m 111.8   \u001b[0m | \u001b[0m 0.94    \u001b[0m |\n",
      "| \u001b[0m 13      \u001b[0m | \u001b[0m-2.921   \u001b[0m | \u001b[0m 0.1023  \u001b[0m | \u001b[0m 0.4141  \u001b[0m | \u001b[0m 7.861   \u001b[0m | \u001b[0m 108.3   \u001b[0m | \u001b[0m 0.81    \u001b[0m |\n",
      "| \u001b[0m 14      \u001b[0m | \u001b[0m-3.089   \u001b[0m | \u001b[0m 0.5359  \u001b[0m | \u001b[0m 0.6638  \u001b[0m | \u001b[0m 6.604   \u001b[0m | \u001b[0m 118.9   \u001b[0m | \u001b[0m 0.9173  \u001b[0m |\n",
      "| \u001b[0m 15      \u001b[0m | \u001b[0m-2.588   \u001b[0m | \u001b[0m 0.9034  \u001b[0m | \u001b[0m 0.1375  \u001b[0m | \u001b[0m 3.975   \u001b[0m | \u001b[0m 116.1   \u001b[0m | \u001b[0m 0.8795  \u001b[0m |\n",
      "| \u001b[0m 16      \u001b[0m | \u001b[0m-3.295   \u001b[0m | \u001b[0m 0.1654  \u001b[0m | \u001b[0m 0.9275  \u001b[0m | \u001b[0m 5.434   \u001b[0m | \u001b[0m 115.0   \u001b[0m | \u001b[0m 0.9452  \u001b[0m |\n",
      "| \u001b[0m 17      \u001b[0m | \u001b[0m-3.038   \u001b[0m | \u001b[0m 0.8833  \u001b[0m | \u001b[0m 0.6237  \u001b[0m | \u001b[0m 8.257   \u001b[0m | \u001b[0m 107.0   \u001b[0m | \u001b[0m 0.854   \u001b[0m |\n",
      "| \u001b[0m 18      \u001b[0m | \u001b[0m-2.848   \u001b[0m | \u001b[0m 0.8959  \u001b[0m | \u001b[0m 0.4281  \u001b[0m | \u001b[0m 9.754   \u001b[0m | \u001b[0m 113.3   \u001b[0m | \u001b[0m 0.9243  \u001b[0m |\n",
      "| \u001b[0m 19      \u001b[0m | \u001b[0m-3.433   \u001b[0m | \u001b[0m 0.1147  \u001b[0m | \u001b[0m 0.9495  \u001b[0m | \u001b[0m 6.149   \u001b[0m | \u001b[0m 111.6   \u001b[0m | \u001b[0m 0.8816  \u001b[0m |\n",
      "| \u001b[0m 20      \u001b[0m | \u001b[0m-3.384   \u001b[0m | \u001b[0m 0.237   \u001b[0m | \u001b[0m 0.9034  \u001b[0m | \u001b[0m 7.016   \u001b[0m | \u001b[0m 100.1   \u001b[0m | \u001b[0m 0.9234  \u001b[0m |\n",
      "| \u001b[0m 21      \u001b[0m | \u001b[0m-2.656   \u001b[0m | \u001b[0m 0.7014  \u001b[0m | \u001b[0m 0.226   \u001b[0m | \u001b[0m 3.533   \u001b[0m | \u001b[0m 103.4   \u001b[0m | \u001b[0m 0.889   \u001b[0m |\n",
      "| \u001b[0m 22      \u001b[0m | \u001b[0m-4.129   \u001b[0m | \u001b[0m 0.8036  \u001b[0m | \u001b[0m 0.0     \u001b[0m | \u001b[0m 3.0     \u001b[0m | \u001b[0m 104.0   \u001b[0m | \u001b[0m 1.0     \u001b[0m |\n",
      "| \u001b[0m 23      \u001b[0m | \u001b[0m-3.777   \u001b[0m | \u001b[0m 0.732   \u001b[0m | \u001b[0m 0.001862\u001b[0m | \u001b[0m 3.128   \u001b[0m | \u001b[0m 103.3   \u001b[0m | \u001b[0m 0.8997  \u001b[0m |\n",
      "| \u001b[0m 24      \u001b[0m | \u001b[0m-3.54    \u001b[0m | \u001b[0m 0.3885  \u001b[0m | \u001b[0m 0.9258  \u001b[0m | \u001b[0m 8.941   \u001b[0m | \u001b[0m 111.7   \u001b[0m | \u001b[0m 0.8439  \u001b[0m |\n",
      "| \u001b[0m 25      \u001b[0m | \u001b[0m-3.33    \u001b[0m | \u001b[0m 0.0809  \u001b[0m | \u001b[0m 0.85    \u001b[0m | \u001b[0m 8.609   \u001b[0m | \u001b[0m 113.8   \u001b[0m | \u001b[0m 0.9512  \u001b[0m |\n",
      "=====================================================================================\n",
      "{'gamma': 0.8946066635038473, 'learning_rate': 0.08504421136977791, 'max_depth': 3, 'n_estimators': 103, 'subsample': 0.9756285006858827}\n"
     ]
    },
    {
     "data": {
      "application/vnd.jupyter.widget-view+json": {
       "model_id": "7caf13c95ff049a6b3266e5438e84abc",
       "version_major": 2,
       "version_minor": 0
      },
      "text/plain": [
       "HBox(children=(FloatProgress(value=0.0, max=3.0), HTML(value='')))"
      ]
     },
     "metadata": {},
     "output_type": "display_data"
    },
    {
     "name": "stdout",
     "output_type": "stream",
     "text": [
      "\n",
      "\n",
      "   <--- Validation Errors --->\n",
      "MAE  | Mean: 1.90437, SD: 0.04409\n",
      "RMSE | Mean: 2.56093, SD: 0.10679\n",
      "\n",
      "\n"
     ]
    },
    {
     "data": {
      "application/vnd.jupyter.widget-view+json": {
       "model_id": "19ea97f93d1346be8e7d48061c6361b5",
       "version_major": 2,
       "version_minor": 0
      },
      "text/plain": [
       "HBox(children=(FloatProgress(value=0.0, max=1.0), HTML(value='')))"
      ]
     },
     "metadata": {},
     "output_type": "display_data"
    },
    {
     "name": "stdout",
     "output_type": "stream",
     "text": [
      "|   iter    |  target   |   gamma   | learni... | max_depth | n_esti... | subsample |\n",
      "-------------------------------------------------------------------------------------\n",
      "| \u001b[0m 1       \u001b[0m | \u001b[0m-2.794   \u001b[0m | \u001b[0m 0.417   \u001b[0m | \u001b[0m 0.7203  \u001b[0m | \u001b[0m 3.001   \u001b[0m | \u001b[0m 106.0   \u001b[0m | \u001b[0m 0.8294  \u001b[0m |\n",
      "| \u001b[95m 2       \u001b[0m | \u001b[95m-2.392   \u001b[0m | \u001b[95m 0.09234 \u001b[0m | \u001b[95m 0.1863  \u001b[0m | \u001b[95m 5.419   \u001b[0m | \u001b[95m 107.9   \u001b[0m | \u001b[95m 0.9078  \u001b[0m |\n",
      "| \u001b[0m 3       \u001b[0m | \u001b[0m-2.834   \u001b[0m | \u001b[0m 0.4192  \u001b[0m | \u001b[0m 0.6852  \u001b[0m | \u001b[0m 4.431   \u001b[0m | \u001b[0m 117.6   \u001b[0m | \u001b[0m 0.8055  \u001b[0m |\n",
      "| \u001b[0m 4       \u001b[0m | \u001b[0m-2.526   \u001b[0m | \u001b[0m 0.6705  \u001b[0m | \u001b[0m 0.4173  \u001b[0m | \u001b[0m 6.911   \u001b[0m | \u001b[0m 102.8   \u001b[0m | \u001b[0m 0.8396  \u001b[0m |\n",
      "| \u001b[0m 5       \u001b[0m | \u001b[0m-2.981   \u001b[0m | \u001b[0m 0.8007  \u001b[0m | \u001b[0m 0.9683  \u001b[0m | \u001b[0m 5.194   \u001b[0m | \u001b[0m 113.8   \u001b[0m | \u001b[0m 0.9753  \u001b[0m |\n",
      "| \u001b[95m 6       \u001b[0m | \u001b[95m-2.27    \u001b[0m | \u001b[95m 0.8946  \u001b[0m | \u001b[95m 0.08504 \u001b[0m | \u001b[95m 3.273   \u001b[0m | \u001b[95m 103.4   \u001b[0m | \u001b[95m 0.9756  \u001b[0m |\n",
      "| \u001b[0m 7       \u001b[0m | \u001b[0m-2.543   \u001b[0m | \u001b[0m 0.09835 \u001b[0m | \u001b[0m 0.4211  \u001b[0m | \u001b[0m 9.705   \u001b[0m | \u001b[0m 110.7   \u001b[0m | \u001b[0m 0.9384  \u001b[0m |\n",
      "| \u001b[0m 8       \u001b[0m | \u001b[0m-2.699   \u001b[0m | \u001b[0m 0.3155  \u001b[0m | \u001b[0m 0.6865  \u001b[0m | \u001b[0m 8.842   \u001b[0m | \u001b[0m 100.4   \u001b[0m | \u001b[0m 0.95    \u001b[0m |\n",
      "| \u001b[0m 9       \u001b[0m | \u001b[0m-2.918   \u001b[0m | \u001b[0m 0.9889  \u001b[0m | \u001b[0m 0.7482  \u001b[0m | \u001b[0m 4.963   \u001b[0m | \u001b[0m 115.8   \u001b[0m | \u001b[0m 0.8206  \u001b[0m |\n",
      "| \u001b[0m 10      \u001b[0m | \u001b[0m-3.154   \u001b[0m | \u001b[0m 0.4479  \u001b[0m | \u001b[0m 0.9086  \u001b[0m | \u001b[0m 5.055   \u001b[0m | \u001b[0m 105.8   \u001b[0m | \u001b[0m 0.826   \u001b[0m |\n",
      "| \u001b[0m 11      \u001b[0m | \u001b[0m-2.758   \u001b[0m | \u001b[0m 0.01937 \u001b[0m | \u001b[0m 0.6788  \u001b[0m | \u001b[0m 4.481   \u001b[0m | \u001b[0m 105.3   \u001b[0m | \u001b[0m 0.8983  \u001b[0m |\n",
      "| \u001b[0m 12      \u001b[0m | \u001b[0m-2.584   \u001b[0m | \u001b[0m 0.05336 \u001b[0m | \u001b[0m 0.5741  \u001b[0m | \u001b[0m 4.027   \u001b[0m | \u001b[0m 111.8   \u001b[0m | \u001b[0m 0.94    \u001b[0m |\n",
      "| \u001b[0m 13      \u001b[0m | \u001b[0m-2.603   \u001b[0m | \u001b[0m 0.1023  \u001b[0m | \u001b[0m 0.4141  \u001b[0m | \u001b[0m 7.861   \u001b[0m | \u001b[0m 108.3   \u001b[0m | \u001b[0m 0.81    \u001b[0m |\n",
      "| \u001b[0m 14      \u001b[0m | \u001b[0m-2.734   \u001b[0m | \u001b[0m 0.5359  \u001b[0m | \u001b[0m 0.6638  \u001b[0m | \u001b[0m 6.604   \u001b[0m | \u001b[0m 118.9   \u001b[0m | \u001b[0m 0.9173  \u001b[0m |\n",
      "| \u001b[0m 15      \u001b[0m | \u001b[0m-2.312   \u001b[0m | \u001b[0m 0.9034  \u001b[0m | \u001b[0m 0.1375  \u001b[0m | \u001b[0m 3.975   \u001b[0m | \u001b[0m 116.1   \u001b[0m | \u001b[0m 0.8795  \u001b[0m |\n",
      "| \u001b[0m 16      \u001b[0m | \u001b[0m-3.004   \u001b[0m | \u001b[0m 0.1654  \u001b[0m | \u001b[0m 0.9275  \u001b[0m | \u001b[0m 5.434   \u001b[0m | \u001b[0m 115.0   \u001b[0m | \u001b[0m 0.9452  \u001b[0m |\n",
      "| \u001b[0m 17      \u001b[0m | \u001b[0m-2.698   \u001b[0m | \u001b[0m 0.8833  \u001b[0m | \u001b[0m 0.6237  \u001b[0m | \u001b[0m 8.257   \u001b[0m | \u001b[0m 107.0   \u001b[0m | \u001b[0m 0.854   \u001b[0m |\n",
      "| \u001b[0m 18      \u001b[0m | \u001b[0m-2.555   \u001b[0m | \u001b[0m 0.8959  \u001b[0m | \u001b[0m 0.4281  \u001b[0m | \u001b[0m 9.754   \u001b[0m | \u001b[0m 113.3   \u001b[0m | \u001b[0m 0.9243  \u001b[0m |\n",
      "| \u001b[0m 19      \u001b[0m | \u001b[0m-3.115   \u001b[0m | \u001b[0m 0.1147  \u001b[0m | \u001b[0m 0.9495  \u001b[0m | \u001b[0m 6.149   \u001b[0m | \u001b[0m 111.6   \u001b[0m | \u001b[0m 0.8816  \u001b[0m |\n",
      "| \u001b[0m 20      \u001b[0m | \u001b[0m-3.083   \u001b[0m | \u001b[0m 0.237   \u001b[0m | \u001b[0m 0.9034  \u001b[0m | \u001b[0m 7.016   \u001b[0m | \u001b[0m 100.1   \u001b[0m | \u001b[0m 0.9234  \u001b[0m |\n",
      "| \u001b[0m 21      \u001b[0m | \u001b[0m-2.341   \u001b[0m | \u001b[0m 0.7014  \u001b[0m | \u001b[0m 0.226   \u001b[0m | \u001b[0m 3.533   \u001b[0m | \u001b[0m 103.4   \u001b[0m | \u001b[0m 0.889   \u001b[0m |\n",
      "| \u001b[0m 22      \u001b[0m | \u001b[0m-2.402   \u001b[0m | \u001b[0m 0.7223  \u001b[0m | \u001b[0m 0.3613  \u001b[0m | \u001b[0m 3.134   \u001b[0m | \u001b[0m 102.8   \u001b[0m | \u001b[0m 0.9656  \u001b[0m |\n",
      "| \u001b[0m 23      \u001b[0m | \u001b[0m-2.307   \u001b[0m | \u001b[0m 0.7933  \u001b[0m | \u001b[0m 0.1732  \u001b[0m | \u001b[0m 3.218   \u001b[0m | \u001b[0m 116.2   \u001b[0m | \u001b[0m 0.964   \u001b[0m |\n",
      "| \u001b[0m 24      \u001b[0m | \u001b[0m-3.851   \u001b[0m | \u001b[0m 1.0     \u001b[0m | \u001b[0m 0.0     \u001b[0m | \u001b[0m 3.324   \u001b[0m | \u001b[0m 115.3   \u001b[0m | \u001b[0m 0.8     \u001b[0m |\n",
      "| \u001b[0m 25      \u001b[0m | \u001b[0m-2.316   \u001b[0m | \u001b[0m 0.7927  \u001b[0m | \u001b[0m 0.1728  \u001b[0m | \u001b[0m 3.27    \u001b[0m | \u001b[0m 116.2   \u001b[0m | \u001b[0m 0.9636  \u001b[0m |\n",
      "=====================================================================================\n",
      "{'gamma': 0.8946066635038473, 'learning_rate': 0.08504421136977791, 'max_depth': 3, 'n_estimators': 103, 'subsample': 0.9756285006858827}\n"
     ]
    },
    {
     "data": {
      "application/vnd.jupyter.widget-view+json": {
       "model_id": "d01f715c85e0401eaf0774566531536f",
       "version_major": 2,
       "version_minor": 0
      },
      "text/plain": [
       "HBox(children=(FloatProgress(value=0.0, max=3.0), HTML(value='')))"
      ]
     },
     "metadata": {},
     "output_type": "display_data"
    },
    {
     "name": "stdout",
     "output_type": "stream",
     "text": [
      "\n",
      "\n",
      "   <--- Validation Errors --->\n",
      "MAE  | Mean: 1.73231, SD: 0.04409\n",
      "RMSE | Mean: 2.28917, SD: 0.1033\n",
      "\n",
      "\n"
     ]
    },
    {
     "data": {
      "application/vnd.jupyter.widget-view+json": {
       "model_id": "e1afca327df946f59f0f93f67a3376ca",
       "version_major": 2,
       "version_minor": 0
      },
      "text/plain": [
       "HBox(children=(FloatProgress(value=0.0, max=1.0), HTML(value='')))"
      ]
     },
     "metadata": {},
     "output_type": "display_data"
    },
    {
     "name": "stdout",
     "output_type": "stream",
     "text": [
      "|   iter    |  target   |   gamma   | learni... | max_depth | n_esti... | subsample |\n",
      "-------------------------------------------------------------------------------------\n",
      "| \u001b[0m 1       \u001b[0m | \u001b[0m-2.791   \u001b[0m | \u001b[0m 0.417   \u001b[0m | \u001b[0m 0.7203  \u001b[0m | \u001b[0m 3.001   \u001b[0m | \u001b[0m 106.0   \u001b[0m | \u001b[0m 0.8294  \u001b[0m |\n",
      "| \u001b[95m 2       \u001b[0m | \u001b[95m-2.393   \u001b[0m | \u001b[95m 0.09234 \u001b[0m | \u001b[95m 0.1863  \u001b[0m | \u001b[95m 5.419   \u001b[0m | \u001b[95m 107.9   \u001b[0m | \u001b[95m 0.9078  \u001b[0m |\n",
      "| \u001b[0m 3       \u001b[0m | \u001b[0m-2.845   \u001b[0m | \u001b[0m 0.4192  \u001b[0m | \u001b[0m 0.6852  \u001b[0m | \u001b[0m 4.431   \u001b[0m | \u001b[0m 117.6   \u001b[0m | \u001b[0m 0.8055  \u001b[0m |\n",
      "| \u001b[0m 4       \u001b[0m | \u001b[0m-2.54    \u001b[0m | \u001b[0m 0.6705  \u001b[0m | \u001b[0m 0.4173  \u001b[0m | \u001b[0m 6.911   \u001b[0m | \u001b[0m 102.8   \u001b[0m | \u001b[0m 0.8396  \u001b[0m |\n",
      "| \u001b[0m 5       \u001b[0m | \u001b[0m-3.106   \u001b[0m | \u001b[0m 0.8007  \u001b[0m | \u001b[0m 0.9683  \u001b[0m | \u001b[0m 5.194   \u001b[0m | \u001b[0m 113.8   \u001b[0m | \u001b[0m 0.9753  \u001b[0m |\n",
      "| \u001b[95m 6       \u001b[0m | \u001b[95m-2.311   \u001b[0m | \u001b[95m 0.8946  \u001b[0m | \u001b[95m 0.08504 \u001b[0m | \u001b[95m 3.273   \u001b[0m | \u001b[95m 103.4   \u001b[0m | \u001b[95m 0.9756  \u001b[0m |\n",
      "| \u001b[0m 7       \u001b[0m | \u001b[0m-2.548   \u001b[0m | \u001b[0m 0.09835 \u001b[0m | \u001b[0m 0.4211  \u001b[0m | \u001b[0m 9.705   \u001b[0m | \u001b[0m 110.7   \u001b[0m | \u001b[0m 0.9384  \u001b[0m |\n",
      "| \u001b[0m 8       \u001b[0m | \u001b[0m-2.758   \u001b[0m | \u001b[0m 0.3155  \u001b[0m | \u001b[0m 0.6865  \u001b[0m | \u001b[0m 8.842   \u001b[0m | \u001b[0m 100.4   \u001b[0m | \u001b[0m 0.95    \u001b[0m |\n",
      "| \u001b[0m 9       \u001b[0m | \u001b[0m-2.839   \u001b[0m | \u001b[0m 0.9889  \u001b[0m | \u001b[0m 0.7482  \u001b[0m | \u001b[0m 4.963   \u001b[0m | \u001b[0m 115.8   \u001b[0m | \u001b[0m 0.8206  \u001b[0m |\n",
      "| \u001b[0m 10      \u001b[0m | \u001b[0m-3.116   \u001b[0m | \u001b[0m 0.4479  \u001b[0m | \u001b[0m 0.9086  \u001b[0m | \u001b[0m 5.055   \u001b[0m | \u001b[0m 105.8   \u001b[0m | \u001b[0m 0.826   \u001b[0m |\n",
      "| \u001b[0m 11      \u001b[0m | \u001b[0m-2.759   \u001b[0m | \u001b[0m 0.01937 \u001b[0m | \u001b[0m 0.6788  \u001b[0m | \u001b[0m 4.481   \u001b[0m | \u001b[0m 105.3   \u001b[0m | \u001b[0m 0.8983  \u001b[0m |\n",
      "| \u001b[0m 12      \u001b[0m | \u001b[0m-2.67    \u001b[0m | \u001b[0m 0.05336 \u001b[0m | \u001b[0m 0.5741  \u001b[0m | \u001b[0m 4.027   \u001b[0m | \u001b[0m 111.8   \u001b[0m | \u001b[0m 0.94    \u001b[0m |\n",
      "| \u001b[0m 13      \u001b[0m | \u001b[0m-2.559   \u001b[0m | \u001b[0m 0.1023  \u001b[0m | \u001b[0m 0.4141  \u001b[0m | \u001b[0m 7.861   \u001b[0m | \u001b[0m 108.3   \u001b[0m | \u001b[0m 0.81    \u001b[0m |\n",
      "| \u001b[0m 14      \u001b[0m | \u001b[0m-2.779   \u001b[0m | \u001b[0m 0.5359  \u001b[0m | \u001b[0m 0.6638  \u001b[0m | \u001b[0m 6.604   \u001b[0m | \u001b[0m 118.9   \u001b[0m | \u001b[0m 0.9173  \u001b[0m |\n",
      "| \u001b[0m 15      \u001b[0m | \u001b[0m-2.35    \u001b[0m | \u001b[0m 0.9034  \u001b[0m | \u001b[0m 0.1375  \u001b[0m | \u001b[0m 3.975   \u001b[0m | \u001b[0m 116.1   \u001b[0m | \u001b[0m 0.8795  \u001b[0m |\n",
      "| \u001b[0m 16      \u001b[0m | \u001b[0m-3.083   \u001b[0m | \u001b[0m 0.1654  \u001b[0m | \u001b[0m 0.9275  \u001b[0m | \u001b[0m 5.434   \u001b[0m | \u001b[0m 115.0   \u001b[0m | \u001b[0m 0.9452  \u001b[0m |\n",
      "| \u001b[0m 17      \u001b[0m | \u001b[0m-2.73    \u001b[0m | \u001b[0m 0.8833  \u001b[0m | \u001b[0m 0.6237  \u001b[0m | \u001b[0m 8.257   \u001b[0m | \u001b[0m 107.0   \u001b[0m | \u001b[0m 0.854   \u001b[0m |\n",
      "| \u001b[0m 18      \u001b[0m | \u001b[0m-2.583   \u001b[0m | \u001b[0m 0.8959  \u001b[0m | \u001b[0m 0.4281  \u001b[0m | \u001b[0m 9.754   \u001b[0m | \u001b[0m 113.3   \u001b[0m | \u001b[0m 0.9243  \u001b[0m |\n",
      "| \u001b[0m 19      \u001b[0m | \u001b[0m-3.038   \u001b[0m | \u001b[0m 0.1147  \u001b[0m | \u001b[0m 0.9495  \u001b[0m | \u001b[0m 6.149   \u001b[0m | \u001b[0m 111.6   \u001b[0m | \u001b[0m 0.8816  \u001b[0m |\n",
      "| \u001b[0m 20      \u001b[0m | \u001b[0m-3.025   \u001b[0m | \u001b[0m 0.237   \u001b[0m | \u001b[0m 0.9034  \u001b[0m | \u001b[0m 7.016   \u001b[0m | \u001b[0m 100.1   \u001b[0m | \u001b[0m 0.9234  \u001b[0m |\n",
      "| \u001b[0m 21      \u001b[0m | \u001b[0m-2.48    \u001b[0m | \u001b[0m 0.421   \u001b[0m | \u001b[0m 0.4151  \u001b[0m | \u001b[0m 3.409   \u001b[0m | \u001b[0m 103.2   \u001b[0m | \u001b[0m 0.9805  \u001b[0m |\n",
      "| \u001b[0m 22      \u001b[0m | \u001b[0m-3.824   \u001b[0m | \u001b[0m 1.0     \u001b[0m | \u001b[0m 0.0     \u001b[0m | \u001b[0m 3.9     \u001b[0m | \u001b[0m 103.8   \u001b[0m | \u001b[0m 1.0     \u001b[0m |\n",
      "| \u001b[95m 23      \u001b[0m | \u001b[95m-2.306   \u001b[0m | \u001b[95m 0.8542  \u001b[0m | \u001b[95m 0.03434 \u001b[0m | \u001b[95m 4.018   \u001b[0m | \u001b[95m 116.3   \u001b[0m | \u001b[95m 0.8588  \u001b[0m |\n",
      "| \u001b[0m 24      \u001b[0m | \u001b[0m-3.111   \u001b[0m | \u001b[0m 0.3885  \u001b[0m | \u001b[0m 0.9258  \u001b[0m | \u001b[0m 8.941   \u001b[0m | \u001b[0m 111.7   \u001b[0m | \u001b[0m 0.8439  \u001b[0m |\n",
      "| \u001b[0m 25      \u001b[0m | \u001b[0m-2.366   \u001b[0m | \u001b[0m 0.7164  \u001b[0m | \u001b[0m 0.2126  \u001b[0m | \u001b[0m 3.129   \u001b[0m | \u001b[0m 103.2   \u001b[0m | \u001b[0m 0.9699  \u001b[0m |\n",
      "=====================================================================================\n",
      "{'gamma': 0.8541500381068592, 'learning_rate': 0.034337491158131006, 'max_depth': 4, 'n_estimators': 116, 'subsample': 0.8588285219078816}\n"
     ]
    },
    {
     "data": {
      "application/vnd.jupyter.widget-view+json": {
       "model_id": "623ee6aebd0445249ebfe71ac94c2741",
       "version_major": 2,
       "version_minor": 0
      },
      "text/plain": [
       "HBox(children=(FloatProgress(value=0.0, max=3.0), HTML(value='')))"
      ]
     },
     "metadata": {},
     "output_type": "display_data"
    },
    {
     "name": "stdout",
     "output_type": "stream",
     "text": [
      "\n",
      "\n",
      "   <--- Validation Errors --->\n",
      "MAE  | Mean: 1.75584, SD: 0.03432\n",
      "RMSE | Mean: 2.3311, SD: 0.09208\n",
      "\n",
      "\n"
     ]
    },
    {
     "data": {
      "application/vnd.jupyter.widget-view+json": {
       "model_id": "700da8fa6034403eb8f856c487d33f28",
       "version_major": 2,
       "version_minor": 0
      },
      "text/plain": [
       "HBox(children=(FloatProgress(value=0.0, max=1.0), HTML(value='')))"
      ]
     },
     "metadata": {},
     "output_type": "display_data"
    },
    {
     "name": "stdout",
     "output_type": "stream",
     "text": [
      "|   iter    |  target   |   gamma   | learni... | max_depth | n_esti... | subsample |\n",
      "-------------------------------------------------------------------------------------\n",
      "| \u001b[0m 1       \u001b[0m | \u001b[0m-2.592   \u001b[0m | \u001b[0m 0.417   \u001b[0m | \u001b[0m 0.7203  \u001b[0m | \u001b[0m 3.001   \u001b[0m | \u001b[0m 106.0   \u001b[0m | \u001b[0m 0.8294  \u001b[0m |\n",
      "| \u001b[95m 2       \u001b[0m | \u001b[95m-2.269   \u001b[0m | \u001b[95m 0.09234 \u001b[0m | \u001b[95m 0.1863  \u001b[0m | \u001b[95m 5.419   \u001b[0m | \u001b[95m 107.9   \u001b[0m | \u001b[95m 0.9078  \u001b[0m |\n",
      "| \u001b[0m 3       \u001b[0m | \u001b[0m-2.614   \u001b[0m | \u001b[0m 0.4192  \u001b[0m | \u001b[0m 0.6852  \u001b[0m | \u001b[0m 4.431   \u001b[0m | \u001b[0m 117.6   \u001b[0m | \u001b[0m 0.8055  \u001b[0m |\n",
      "| \u001b[0m 4       \u001b[0m | \u001b[0m-2.438   \u001b[0m | \u001b[0m 0.6705  \u001b[0m | \u001b[0m 0.4173  \u001b[0m | \u001b[0m 6.911   \u001b[0m | \u001b[0m 102.8   \u001b[0m | \u001b[0m 0.8396  \u001b[0m |\n",
      "| \u001b[0m 5       \u001b[0m | \u001b[0m-2.901   \u001b[0m | \u001b[0m 0.8007  \u001b[0m | \u001b[0m 0.9683  \u001b[0m | \u001b[0m 5.194   \u001b[0m | \u001b[0m 113.8   \u001b[0m | \u001b[0m 0.9753  \u001b[0m |\n",
      "| \u001b[95m 6       \u001b[0m | \u001b[95m-2.161   \u001b[0m | \u001b[95m 0.8946  \u001b[0m | \u001b[95m 0.08504 \u001b[0m | \u001b[95m 3.273   \u001b[0m | \u001b[95m 103.4   \u001b[0m | \u001b[95m 0.9756  \u001b[0m |\n",
      "| \u001b[0m 7       \u001b[0m | \u001b[0m-2.43    \u001b[0m | \u001b[0m 0.09835 \u001b[0m | \u001b[0m 0.4211  \u001b[0m | \u001b[0m 9.705   \u001b[0m | \u001b[0m 110.7   \u001b[0m | \u001b[0m 0.9384  \u001b[0m |\n",
      "| \u001b[0m 8       \u001b[0m | \u001b[0m-2.575   \u001b[0m | \u001b[0m 0.3155  \u001b[0m | \u001b[0m 0.6865  \u001b[0m | \u001b[0m 8.842   \u001b[0m | \u001b[0m 100.4   \u001b[0m | \u001b[0m 0.95    \u001b[0m |\n",
      "| \u001b[0m 9       \u001b[0m | \u001b[0m-2.699   \u001b[0m | \u001b[0m 0.9889  \u001b[0m | \u001b[0m 0.7482  \u001b[0m | \u001b[0m 4.963   \u001b[0m | \u001b[0m 115.8   \u001b[0m | \u001b[0m 0.8206  \u001b[0m |\n",
      "| \u001b[0m 10      \u001b[0m | \u001b[0m-2.89    \u001b[0m | \u001b[0m 0.4479  \u001b[0m | \u001b[0m 0.9086  \u001b[0m | \u001b[0m 5.055   \u001b[0m | \u001b[0m 105.8   \u001b[0m | \u001b[0m 0.826   \u001b[0m |\n",
      "| \u001b[0m 11      \u001b[0m | \u001b[0m-2.589   \u001b[0m | \u001b[0m 0.01937 \u001b[0m | \u001b[0m 0.6788  \u001b[0m | \u001b[0m 4.481   \u001b[0m | \u001b[0m 105.3   \u001b[0m | \u001b[0m 0.8983  \u001b[0m |\n",
      "| \u001b[0m 12      \u001b[0m | \u001b[0m-2.495   \u001b[0m | \u001b[0m 0.05336 \u001b[0m | \u001b[0m 0.5741  \u001b[0m | \u001b[0m 4.027   \u001b[0m | \u001b[0m 111.8   \u001b[0m | \u001b[0m 0.94    \u001b[0m |\n",
      "| \u001b[0m 13      \u001b[0m | \u001b[0m-2.42    \u001b[0m | \u001b[0m 0.1023  \u001b[0m | \u001b[0m 0.4141  \u001b[0m | \u001b[0m 7.861   \u001b[0m | \u001b[0m 108.3   \u001b[0m | \u001b[0m 0.81    \u001b[0m |\n",
      "| \u001b[0m 14      \u001b[0m | \u001b[0m-2.596   \u001b[0m | \u001b[0m 0.5359  \u001b[0m | \u001b[0m 0.6638  \u001b[0m | \u001b[0m 6.604   \u001b[0m | \u001b[0m 118.9   \u001b[0m | \u001b[0m 0.9173  \u001b[0m |\n",
      "| \u001b[0m 15      \u001b[0m | \u001b[0m-2.179   \u001b[0m | \u001b[0m 0.9034  \u001b[0m | \u001b[0m 0.1375  \u001b[0m | \u001b[0m 3.975   \u001b[0m | \u001b[0m 116.1   \u001b[0m | \u001b[0m 0.8795  \u001b[0m |\n",
      "| \u001b[0m 16      \u001b[0m | \u001b[0m-2.822   \u001b[0m | \u001b[0m 0.1654  \u001b[0m | \u001b[0m 0.9275  \u001b[0m | \u001b[0m 5.434   \u001b[0m | \u001b[0m 115.0   \u001b[0m | \u001b[0m 0.9452  \u001b[0m |\n",
      "| \u001b[0m 17      \u001b[0m | \u001b[0m-2.601   \u001b[0m | \u001b[0m 0.8833  \u001b[0m | \u001b[0m 0.6237  \u001b[0m | \u001b[0m 8.257   \u001b[0m | \u001b[0m 107.0   \u001b[0m | \u001b[0m 0.854   \u001b[0m |\n",
      "| \u001b[0m 18      \u001b[0m | \u001b[0m-2.416   \u001b[0m | \u001b[0m 0.8959  \u001b[0m | \u001b[0m 0.4281  \u001b[0m | \u001b[0m 9.754   \u001b[0m | \u001b[0m 113.3   \u001b[0m | \u001b[0m 0.9243  \u001b[0m |\n",
      "| \u001b[0m 19      \u001b[0m | \u001b[0m-2.936   \u001b[0m | \u001b[0m 0.1147  \u001b[0m | \u001b[0m 0.9495  \u001b[0m | \u001b[0m 6.149   \u001b[0m | \u001b[0m 111.6   \u001b[0m | \u001b[0m 0.8816  \u001b[0m |\n",
      "| \u001b[0m 20      \u001b[0m | \u001b[0m-2.747   \u001b[0m | \u001b[0m 0.237   \u001b[0m | \u001b[0m 0.9034  \u001b[0m | \u001b[0m 7.016   \u001b[0m | \u001b[0m 100.1   \u001b[0m | \u001b[0m 0.9234  \u001b[0m |\n",
      "| \u001b[0m 21      \u001b[0m | \u001b[0m-2.18    \u001b[0m | \u001b[0m 0.5262  \u001b[0m | \u001b[0m 0.1629  \u001b[0m | \u001b[0m 3.491   \u001b[0m | \u001b[0m 103.7   \u001b[0m | \u001b[0m 0.9802  \u001b[0m |\n",
      "| \u001b[0m 22      \u001b[0m | \u001b[0m-3.225   \u001b[0m | \u001b[0m 1.0     \u001b[0m | \u001b[0m 0.0     \u001b[0m | \u001b[0m 3.121   \u001b[0m | \u001b[0m 116.2   \u001b[0m | \u001b[0m 0.9189  \u001b[0m |\n",
      "| \u001b[0m 23      \u001b[0m | \u001b[0m-2.23    \u001b[0m | \u001b[0m 0.5775  \u001b[0m | \u001b[0m 0.2447  \u001b[0m | \u001b[0m 3.237   \u001b[0m | \u001b[0m 103.5   \u001b[0m | \u001b[0m 0.8478  \u001b[0m |\n",
      "| \u001b[0m 24      \u001b[0m | \u001b[0m-2.976   \u001b[0m | \u001b[0m 0.3885  \u001b[0m | \u001b[0m 0.9258  \u001b[0m | \u001b[0m 8.941   \u001b[0m | \u001b[0m 111.7   \u001b[0m | \u001b[0m 0.8439  \u001b[0m |\n",
      "| \u001b[0m 25      \u001b[0m | \u001b[0m-2.18    \u001b[0m | \u001b[0m 0.5123  \u001b[0m | \u001b[0m 0.1307  \u001b[0m | \u001b[0m 3.541   \u001b[0m | \u001b[0m 103.7   \u001b[0m | \u001b[0m 0.8838  \u001b[0m |\n",
      "=====================================================================================\n",
      "{'gamma': 0.8946066635038473, 'learning_rate': 0.08504421136977791, 'max_depth': 3, 'n_estimators': 103, 'subsample': 0.9756285006858827}\n"
     ]
    },
    {
     "data": {
      "application/vnd.jupyter.widget-view+json": {
       "model_id": "4d7e01329e974557a7f15751fa6a213e",
       "version_major": 2,
       "version_minor": 0
      },
      "text/plain": [
       "HBox(children=(FloatProgress(value=0.0, max=3.0), HTML(value='')))"
      ]
     },
     "metadata": {},
     "output_type": "display_data"
    },
    {
     "name": "stdout",
     "output_type": "stream",
     "text": [
      "\n",
      "\n",
      "   <--- Validation Errors --->\n",
      "MAE  | Mean: 1.56619, SD: 0.04001\n",
      "RMSE | Mean: 2.1514, SD: 0.09483\n",
      "\n",
      "\n"
     ]
    },
    {
     "data": {
      "application/vnd.jupyter.widget-view+json": {
       "model_id": "698a6cb9ea1b4d8e960377e8ca525ea0",
       "version_major": 2,
       "version_minor": 0
      },
      "text/plain": [
       "HBox(children=(FloatProgress(value=0.0, max=1.0), HTML(value='')))"
      ]
     },
     "metadata": {},
     "output_type": "display_data"
    },
    {
     "name": "stdout",
     "output_type": "stream",
     "text": [
      "|   iter    |  target   |   gamma   | learni... | max_depth | n_esti... | subsample |\n",
      "-------------------------------------------------------------------------------------\n",
      "| \u001b[0m 1       \u001b[0m | \u001b[0m-2.672   \u001b[0m | \u001b[0m 0.417   \u001b[0m | \u001b[0m 0.7203  \u001b[0m | \u001b[0m 3.001   \u001b[0m | \u001b[0m 106.0   \u001b[0m | \u001b[0m 0.8294  \u001b[0m |\n",
      "| \u001b[95m 2       \u001b[0m | \u001b[95m-2.34    \u001b[0m | \u001b[95m 0.09234 \u001b[0m | \u001b[95m 0.1863  \u001b[0m | \u001b[95m 5.419   \u001b[0m | \u001b[95m 107.9   \u001b[0m | \u001b[95m 0.9078  \u001b[0m |\n",
      "| \u001b[0m 3       \u001b[0m | \u001b[0m-2.76    \u001b[0m | \u001b[0m 0.4192  \u001b[0m | \u001b[0m 0.6852  \u001b[0m | \u001b[0m 4.431   \u001b[0m | \u001b[0m 117.6   \u001b[0m | \u001b[0m 0.8055  \u001b[0m |\n",
      "| \u001b[0m 4       \u001b[0m | \u001b[0m-2.532   \u001b[0m | \u001b[0m 0.6705  \u001b[0m | \u001b[0m 0.4173  \u001b[0m | \u001b[0m 6.911   \u001b[0m | \u001b[0m 102.8   \u001b[0m | \u001b[0m 0.8396  \u001b[0m |\n",
      "| \u001b[0m 5       \u001b[0m | \u001b[0m-2.985   \u001b[0m | \u001b[0m 0.8007  \u001b[0m | \u001b[0m 0.9683  \u001b[0m | \u001b[0m 5.194   \u001b[0m | \u001b[0m 113.8   \u001b[0m | \u001b[0m 0.9753  \u001b[0m |\n",
      "| \u001b[95m 6       \u001b[0m | \u001b[95m-2.217   \u001b[0m | \u001b[95m 0.8946  \u001b[0m | \u001b[95m 0.08504 \u001b[0m | \u001b[95m 3.273   \u001b[0m | \u001b[95m 103.4   \u001b[0m | \u001b[95m 0.9756  \u001b[0m |\n",
      "| \u001b[0m 7       \u001b[0m | \u001b[0m-2.49    \u001b[0m | \u001b[0m 0.09835 \u001b[0m | \u001b[0m 0.4211  \u001b[0m | \u001b[0m 9.705   \u001b[0m | \u001b[0m 110.7   \u001b[0m | \u001b[0m 0.9384  \u001b[0m |\n",
      "| \u001b[0m 8       \u001b[0m | \u001b[0m-2.712   \u001b[0m | \u001b[0m 0.3155  \u001b[0m | \u001b[0m 0.6865  \u001b[0m | \u001b[0m 8.842   \u001b[0m | \u001b[0m 100.4   \u001b[0m | \u001b[0m 0.95    \u001b[0m |\n",
      "| \u001b[0m 9       \u001b[0m | \u001b[0m-2.848   \u001b[0m | \u001b[0m 0.9889  \u001b[0m | \u001b[0m 0.7482  \u001b[0m | \u001b[0m 4.963   \u001b[0m | \u001b[0m 115.8   \u001b[0m | \u001b[0m 0.8206  \u001b[0m |\n",
      "| \u001b[0m 10      \u001b[0m | \u001b[0m-3.109   \u001b[0m | \u001b[0m 0.4479  \u001b[0m | \u001b[0m 0.9086  \u001b[0m | \u001b[0m 5.055   \u001b[0m | \u001b[0m 105.8   \u001b[0m | \u001b[0m 0.826   \u001b[0m |\n",
      "| \u001b[0m 11      \u001b[0m | \u001b[0m-2.733   \u001b[0m | \u001b[0m 0.01937 \u001b[0m | \u001b[0m 0.6788  \u001b[0m | \u001b[0m 4.481   \u001b[0m | \u001b[0m 105.3   \u001b[0m | \u001b[0m 0.8983  \u001b[0m |\n",
      "| \u001b[0m 12      \u001b[0m | \u001b[0m-2.539   \u001b[0m | \u001b[0m 0.05336 \u001b[0m | \u001b[0m 0.5741  \u001b[0m | \u001b[0m 4.027   \u001b[0m | \u001b[0m 111.8   \u001b[0m | \u001b[0m 0.94    \u001b[0m |\n",
      "| \u001b[0m 13      \u001b[0m | \u001b[0m-2.498   \u001b[0m | \u001b[0m 0.1023  \u001b[0m | \u001b[0m 0.4141  \u001b[0m | \u001b[0m 7.861   \u001b[0m | \u001b[0m 108.3   \u001b[0m | \u001b[0m 0.81    \u001b[0m |\n",
      "| \u001b[0m 14      \u001b[0m | \u001b[0m-2.682   \u001b[0m | \u001b[0m 0.5359  \u001b[0m | \u001b[0m 0.6638  \u001b[0m | \u001b[0m 6.604   \u001b[0m | \u001b[0m 118.9   \u001b[0m | \u001b[0m 0.9173  \u001b[0m |\n",
      "| \u001b[0m 15      \u001b[0m | \u001b[0m-2.231   \u001b[0m | \u001b[0m 0.9034  \u001b[0m | \u001b[0m 0.1375  \u001b[0m | \u001b[0m 3.975   \u001b[0m | \u001b[0m 116.1   \u001b[0m | \u001b[0m 0.8795  \u001b[0m |\n",
      "| \u001b[0m 16      \u001b[0m | \u001b[0m-2.918   \u001b[0m | \u001b[0m 0.1654  \u001b[0m | \u001b[0m 0.9275  \u001b[0m | \u001b[0m 5.434   \u001b[0m | \u001b[0m 115.0   \u001b[0m | \u001b[0m 0.9452  \u001b[0m |\n",
      "| \u001b[0m 17      \u001b[0m | \u001b[0m-2.651   \u001b[0m | \u001b[0m 0.8833  \u001b[0m | \u001b[0m 0.6237  \u001b[0m | \u001b[0m 8.257   \u001b[0m | \u001b[0m 107.0   \u001b[0m | \u001b[0m 0.854   \u001b[0m |\n",
      "| \u001b[0m 18      \u001b[0m | \u001b[0m-2.526   \u001b[0m | \u001b[0m 0.8959  \u001b[0m | \u001b[0m 0.4281  \u001b[0m | \u001b[0m 9.754   \u001b[0m | \u001b[0m 113.3   \u001b[0m | \u001b[0m 0.9243  \u001b[0m |\n",
      "| \u001b[0m 19      \u001b[0m | \u001b[0m-3.097   \u001b[0m | \u001b[0m 0.1147  \u001b[0m | \u001b[0m 0.9495  \u001b[0m | \u001b[0m 6.149   \u001b[0m | \u001b[0m 111.6   \u001b[0m | \u001b[0m 0.8816  \u001b[0m |\n",
      "| \u001b[0m 20      \u001b[0m | \u001b[0m-3.017   \u001b[0m | \u001b[0m 0.237   \u001b[0m | \u001b[0m 0.9034  \u001b[0m | \u001b[0m 7.016   \u001b[0m | \u001b[0m 100.1   \u001b[0m | \u001b[0m 0.9234  \u001b[0m |\n",
      "| \u001b[0m 21      \u001b[0m | \u001b[0m-2.336   \u001b[0m | \u001b[0m 0.5268  \u001b[0m | \u001b[0m 0.2752  \u001b[0m | \u001b[0m 3.265   \u001b[0m | \u001b[0m 103.3   \u001b[0m | \u001b[0m 0.8231  \u001b[0m |\n",
      "| \u001b[0m 22      \u001b[0m | \u001b[0m-3.492   \u001b[0m | \u001b[0m 0.9949  \u001b[0m | \u001b[0m 0.0     \u001b[0m | \u001b[0m 3.312   \u001b[0m | \u001b[0m 116.1   \u001b[0m | \u001b[0m 0.9179  \u001b[0m |\n",
      "| \u001b[0m 23      \u001b[0m | \u001b[0m-3.208   \u001b[0m | \u001b[0m 0.732   \u001b[0m | \u001b[0m 0.001862\u001b[0m | \u001b[0m 3.128   \u001b[0m | \u001b[0m 103.3   \u001b[0m | \u001b[0m 0.8997  \u001b[0m |\n",
      "| \u001b[0m 24      \u001b[0m | \u001b[0m-3.112   \u001b[0m | \u001b[0m 0.3885  \u001b[0m | \u001b[0m 0.9258  \u001b[0m | \u001b[0m 8.941   \u001b[0m | \u001b[0m 111.7   \u001b[0m | \u001b[0m 0.8439  \u001b[0m |\n",
      "| \u001b[0m 25      \u001b[0m | \u001b[0m-2.918   \u001b[0m | \u001b[0m 0.0809  \u001b[0m | \u001b[0m 0.85    \u001b[0m | \u001b[0m 8.609   \u001b[0m | \u001b[0m 113.8   \u001b[0m | \u001b[0m 0.9512  \u001b[0m |\n",
      "=====================================================================================\n",
      "{'gamma': 0.8946066635038473, 'learning_rate': 0.08504421136977791, 'max_depth': 3, 'n_estimators': 103, 'subsample': 0.9756285006858827}\n"
     ]
    },
    {
     "data": {
      "application/vnd.jupyter.widget-view+json": {
       "model_id": "1d9794b18ab645a4a343540e539a0990",
       "version_major": 2,
       "version_minor": 0
      },
      "text/plain": [
       "HBox(children=(FloatProgress(value=0.0, max=3.0), HTML(value='')))"
      ]
     },
     "metadata": {},
     "output_type": "display_data"
    },
    {
     "name": "stdout",
     "output_type": "stream",
     "text": [
      "\n",
      "\n",
      "   <--- Validation Errors --->\n",
      "MAE  | Mean: 1.63646, SD: 0.03744\n",
      "RMSE | Mean: 2.23172, SD: 0.10677\n",
      "\n",
      "\n"
     ]
    },
    {
     "data": {
      "application/vnd.jupyter.widget-view+json": {
       "model_id": "090b5ee6f37d4a05babf2f28e174605e",
       "version_major": 2,
       "version_minor": 0
      },
      "text/plain": [
       "HBox(children=(FloatProgress(value=0.0, max=1.0), HTML(value='')))"
      ]
     },
     "metadata": {},
     "output_type": "display_data"
    },
    {
     "name": "stdout",
     "output_type": "stream",
     "text": [
      "|   iter    |  target   |   gamma   | learni... | max_depth | n_esti... | subsample |\n",
      "-------------------------------------------------------------------------------------\n",
      "| \u001b[0m 1       \u001b[0m | \u001b[0m-2.854   \u001b[0m | \u001b[0m 0.417   \u001b[0m | \u001b[0m 0.7203  \u001b[0m | \u001b[0m 3.001   \u001b[0m | \u001b[0m 106.0   \u001b[0m | \u001b[0m 0.8294  \u001b[0m |\n",
      "| \u001b[95m 2       \u001b[0m | \u001b[95m-2.444   \u001b[0m | \u001b[95m 0.09234 \u001b[0m | \u001b[95m 0.1863  \u001b[0m | \u001b[95m 5.419   \u001b[0m | \u001b[95m 107.9   \u001b[0m | \u001b[95m 0.9078  \u001b[0m |\n",
      "| \u001b[0m 3       \u001b[0m | \u001b[0m-2.873   \u001b[0m | \u001b[0m 0.4192  \u001b[0m | \u001b[0m 0.6852  \u001b[0m | \u001b[0m 4.431   \u001b[0m | \u001b[0m 117.6   \u001b[0m | \u001b[0m 0.8055  \u001b[0m |\n",
      "| \u001b[0m 4       \u001b[0m | \u001b[0m-2.597   \u001b[0m | \u001b[0m 0.6705  \u001b[0m | \u001b[0m 0.4173  \u001b[0m | \u001b[0m 6.911   \u001b[0m | \u001b[0m 102.8   \u001b[0m | \u001b[0m 0.8396  \u001b[0m |\n",
      "| \u001b[0m 5       \u001b[0m | \u001b[0m-3.131   \u001b[0m | \u001b[0m 0.8007  \u001b[0m | \u001b[0m 0.9683  \u001b[0m | \u001b[0m 5.194   \u001b[0m | \u001b[0m 113.8   \u001b[0m | \u001b[0m 0.9753  \u001b[0m |\n",
      "| \u001b[95m 6       \u001b[0m | \u001b[95m-2.31    \u001b[0m | \u001b[95m 0.8946  \u001b[0m | \u001b[95m 0.08504 \u001b[0m | \u001b[95m 3.273   \u001b[0m | \u001b[95m 103.4   \u001b[0m | \u001b[95m 0.9756  \u001b[0m |\n",
      "| \u001b[0m 7       \u001b[0m | \u001b[0m-2.625   \u001b[0m | \u001b[0m 0.09835 \u001b[0m | \u001b[0m 0.4211  \u001b[0m | \u001b[0m 9.705   \u001b[0m | \u001b[0m 110.7   \u001b[0m | \u001b[0m 0.9384  \u001b[0m |\n",
      "| \u001b[0m 8       \u001b[0m | \u001b[0m-2.804   \u001b[0m | \u001b[0m 0.3155  \u001b[0m | \u001b[0m 0.6865  \u001b[0m | \u001b[0m 8.842   \u001b[0m | \u001b[0m 100.4   \u001b[0m | \u001b[0m 0.95    \u001b[0m |\n",
      "| \u001b[0m 9       \u001b[0m | \u001b[0m-2.908   \u001b[0m | \u001b[0m 0.9889  \u001b[0m | \u001b[0m 0.7482  \u001b[0m | \u001b[0m 4.963   \u001b[0m | \u001b[0m 115.8   \u001b[0m | \u001b[0m 0.8206  \u001b[0m |\n",
      "| \u001b[0m 10      \u001b[0m | \u001b[0m-3.14    \u001b[0m | \u001b[0m 0.4479  \u001b[0m | \u001b[0m 0.9086  \u001b[0m | \u001b[0m 5.055   \u001b[0m | \u001b[0m 105.8   \u001b[0m | \u001b[0m 0.826   \u001b[0m |\n",
      "| \u001b[0m 11      \u001b[0m | \u001b[0m-2.757   \u001b[0m | \u001b[0m 0.01937 \u001b[0m | \u001b[0m 0.6788  \u001b[0m | \u001b[0m 4.481   \u001b[0m | \u001b[0m 105.3   \u001b[0m | \u001b[0m 0.8983  \u001b[0m |\n",
      "| \u001b[0m 12      \u001b[0m | \u001b[0m-2.715   \u001b[0m | \u001b[0m 0.05336 \u001b[0m | \u001b[0m 0.5741  \u001b[0m | \u001b[0m 4.027   \u001b[0m | \u001b[0m 111.8   \u001b[0m | \u001b[0m 0.94    \u001b[0m |\n",
      "| \u001b[0m 13      \u001b[0m | \u001b[0m-2.642   \u001b[0m | \u001b[0m 0.1023  \u001b[0m | \u001b[0m 0.4141  \u001b[0m | \u001b[0m 7.861   \u001b[0m | \u001b[0m 108.3   \u001b[0m | \u001b[0m 0.81    \u001b[0m |\n",
      "| \u001b[0m 14      \u001b[0m | \u001b[0m-2.794   \u001b[0m | \u001b[0m 0.5359  \u001b[0m | \u001b[0m 0.6638  \u001b[0m | \u001b[0m 6.604   \u001b[0m | \u001b[0m 118.9   \u001b[0m | \u001b[0m 0.9173  \u001b[0m |\n",
      "| \u001b[0m 15      \u001b[0m | \u001b[0m-2.34    \u001b[0m | \u001b[0m 0.9034  \u001b[0m | \u001b[0m 0.1375  \u001b[0m | \u001b[0m 3.975   \u001b[0m | \u001b[0m 116.1   \u001b[0m | \u001b[0m 0.8795  \u001b[0m |\n",
      "| \u001b[0m 16      \u001b[0m | \u001b[0m-3.107   \u001b[0m | \u001b[0m 0.1654  \u001b[0m | \u001b[0m 0.9275  \u001b[0m | \u001b[0m 5.434   \u001b[0m | \u001b[0m 115.0   \u001b[0m | \u001b[0m 0.9452  \u001b[0m |\n",
      "| \u001b[0m 17      \u001b[0m | \u001b[0m-2.817   \u001b[0m | \u001b[0m 0.8833  \u001b[0m | \u001b[0m 0.6237  \u001b[0m | \u001b[0m 8.257   \u001b[0m | \u001b[0m 107.0   \u001b[0m | \u001b[0m 0.854   \u001b[0m |\n",
      "| \u001b[0m 18      \u001b[0m | \u001b[0m-2.598   \u001b[0m | \u001b[0m 0.8959  \u001b[0m | \u001b[0m 0.4281  \u001b[0m | \u001b[0m 9.754   \u001b[0m | \u001b[0m 113.3   \u001b[0m | \u001b[0m 0.9243  \u001b[0m |\n",
      "| \u001b[0m 19      \u001b[0m | \u001b[0m-3.204   \u001b[0m | \u001b[0m 0.1147  \u001b[0m | \u001b[0m 0.9495  \u001b[0m | \u001b[0m 6.149   \u001b[0m | \u001b[0m 111.6   \u001b[0m | \u001b[0m 0.8816  \u001b[0m |\n",
      "| \u001b[0m 20      \u001b[0m | \u001b[0m-3.099   \u001b[0m | \u001b[0m 0.237   \u001b[0m | \u001b[0m 0.9034  \u001b[0m | \u001b[0m 7.016   \u001b[0m | \u001b[0m 100.1   \u001b[0m | \u001b[0m 0.9234  \u001b[0m |\n",
      "| \u001b[0m 21      \u001b[0m | \u001b[0m-3.231   \u001b[0m | \u001b[0m 0.7804  \u001b[0m | \u001b[0m 0.9487  \u001b[0m | \u001b[0m 4.638   \u001b[0m | \u001b[0m 118.7   \u001b[0m | \u001b[0m 0.8511  \u001b[0m |\n",
      "| \u001b[0m 22      \u001b[0m | \u001b[0m-2.614   \u001b[0m | \u001b[0m 0.2999  \u001b[0m | \u001b[0m 0.4585  \u001b[0m | \u001b[0m 7.103   \u001b[0m | \u001b[0m 114.9   \u001b[0m | \u001b[0m 0.8948  \u001b[0m |\n",
      "| \u001b[0m 23      \u001b[0m | \u001b[0m-2.56    \u001b[0m | \u001b[0m 0.1843  \u001b[0m | \u001b[0m 0.3827  \u001b[0m | \u001b[0m 9.67    \u001b[0m | \u001b[0m 110.7   \u001b[0m | \u001b[0m 0.9902  \u001b[0m |\n",
      "| \u001b[0m 24      \u001b[0m | \u001b[0m-2.364   \u001b[0m | \u001b[0m 0.6082  \u001b[0m | \u001b[0m 0.1922  \u001b[0m | \u001b[0m 3.557   \u001b[0m | \u001b[0m 103.8   \u001b[0m | \u001b[0m 0.9702  \u001b[0m |\n",
      "| \u001b[0m 25      \u001b[0m | \u001b[0m-2.332   \u001b[0m | \u001b[0m 0.7851  \u001b[0m | \u001b[0m 0.04695 \u001b[0m | \u001b[0m 3.93    \u001b[0m | \u001b[0m 103.0   \u001b[0m | \u001b[0m 0.965   \u001b[0m |\n",
      "=====================================================================================\n",
      "{'gamma': 0.8946066635038473, 'learning_rate': 0.08504421136977791, 'max_depth': 3, 'n_estimators': 103, 'subsample': 0.9756285006858827}\n"
     ]
    },
    {
     "data": {
      "application/vnd.jupyter.widget-view+json": {
       "model_id": "04371deb0db7413eb8ac6b064ecfe885",
       "version_major": 2,
       "version_minor": 0
      },
      "text/plain": [
       "HBox(children=(FloatProgress(value=0.0, max=3.0), HTML(value='')))"
      ]
     },
     "metadata": {},
     "output_type": "display_data"
    },
    {
     "name": "stdout",
     "output_type": "stream",
     "text": [
      "\n",
      "\n",
      "   <--- Validation Errors --->\n",
      "MAE  | Mean: 1.69125, SD: 0.03756\n",
      "RMSE | Mean: 2.30091, SD: 0.09664\n",
      "\n",
      "\n"
     ]
    },
    {
     "data": {
      "application/vnd.jupyter.widget-view+json": {
       "model_id": "b1b3153ae78641449b68fa2d63f42130",
       "version_major": 2,
       "version_minor": 0
      },
      "text/plain": [
       "HBox(children=(FloatProgress(value=0.0, max=1.0), HTML(value='')))"
      ]
     },
     "metadata": {},
     "output_type": "display_data"
    },
    {
     "name": "stdout",
     "output_type": "stream",
     "text": [
      "|   iter    |  target   |   gamma   | learni... | max_depth | n_esti... | subsample |\n",
      "-------------------------------------------------------------------------------------\n",
      "| \u001b[0m 1       \u001b[0m | \u001b[0m-2.668   \u001b[0m | \u001b[0m 0.417   \u001b[0m | \u001b[0m 0.7203  \u001b[0m | \u001b[0m 3.001   \u001b[0m | \u001b[0m 106.0   \u001b[0m | \u001b[0m 0.8294  \u001b[0m |\n",
      "| \u001b[95m 2       \u001b[0m | \u001b[95m-2.283   \u001b[0m | \u001b[95m 0.09234 \u001b[0m | \u001b[95m 0.1863  \u001b[0m | \u001b[95m 5.419   \u001b[0m | \u001b[95m 107.9   \u001b[0m | \u001b[95m 0.9078  \u001b[0m |\n",
      "| \u001b[0m 3       \u001b[0m | \u001b[0m-2.636   \u001b[0m | \u001b[0m 0.4192  \u001b[0m | \u001b[0m 0.6852  \u001b[0m | \u001b[0m 4.431   \u001b[0m | \u001b[0m 117.6   \u001b[0m | \u001b[0m 0.8055  \u001b[0m |\n",
      "| \u001b[0m 4       \u001b[0m | \u001b[0m-2.468   \u001b[0m | \u001b[0m 0.6705  \u001b[0m | \u001b[0m 0.4173  \u001b[0m | \u001b[0m 6.911   \u001b[0m | \u001b[0m 102.8   \u001b[0m | \u001b[0m 0.8396  \u001b[0m |\n",
      "| \u001b[0m 5       \u001b[0m | \u001b[0m-2.916   \u001b[0m | \u001b[0m 0.8007  \u001b[0m | \u001b[0m 0.9683  \u001b[0m | \u001b[0m 5.194   \u001b[0m | \u001b[0m 113.8   \u001b[0m | \u001b[0m 0.9753  \u001b[0m |\n",
      "| \u001b[95m 6       \u001b[0m | \u001b[95m-2.195   \u001b[0m | \u001b[95m 0.8946  \u001b[0m | \u001b[95m 0.08504 \u001b[0m | \u001b[95m 3.273   \u001b[0m | \u001b[95m 103.4   \u001b[0m | \u001b[95m 0.9756  \u001b[0m |\n",
      "| \u001b[0m 7       \u001b[0m | \u001b[0m-2.417   \u001b[0m | \u001b[0m 0.09835 \u001b[0m | \u001b[0m 0.4211  \u001b[0m | \u001b[0m 9.705   \u001b[0m | \u001b[0m 110.7   \u001b[0m | \u001b[0m 0.9384  \u001b[0m |\n",
      "| \u001b[0m 8       \u001b[0m | \u001b[0m-2.69    \u001b[0m | \u001b[0m 0.3155  \u001b[0m | \u001b[0m 0.6865  \u001b[0m | \u001b[0m 8.842   \u001b[0m | \u001b[0m 100.4   \u001b[0m | \u001b[0m 0.95    \u001b[0m |\n",
      "| \u001b[0m 9       \u001b[0m | \u001b[0m-2.8     \u001b[0m | \u001b[0m 0.9889  \u001b[0m | \u001b[0m 0.7482  \u001b[0m | \u001b[0m 4.963   \u001b[0m | \u001b[0m 115.8   \u001b[0m | \u001b[0m 0.8206  \u001b[0m |\n",
      "| \u001b[0m 10      \u001b[0m | \u001b[0m-2.922   \u001b[0m | \u001b[0m 0.4479  \u001b[0m | \u001b[0m 0.9086  \u001b[0m | \u001b[0m 5.055   \u001b[0m | \u001b[0m 105.8   \u001b[0m | \u001b[0m 0.826   \u001b[0m |\n",
      "| \u001b[0m 11      \u001b[0m | \u001b[0m-2.62    \u001b[0m | \u001b[0m 0.01937 \u001b[0m | \u001b[0m 0.6788  \u001b[0m | \u001b[0m 4.481   \u001b[0m | \u001b[0m 105.3   \u001b[0m | \u001b[0m 0.8983  \u001b[0m |\n",
      "| \u001b[0m 12      \u001b[0m | \u001b[0m-2.498   \u001b[0m | \u001b[0m 0.05336 \u001b[0m | \u001b[0m 0.5741  \u001b[0m | \u001b[0m 4.027   \u001b[0m | \u001b[0m 111.8   \u001b[0m | \u001b[0m 0.94    \u001b[0m |\n",
      "| \u001b[0m 13      \u001b[0m | \u001b[0m-2.479   \u001b[0m | \u001b[0m 0.1023  \u001b[0m | \u001b[0m 0.4141  \u001b[0m | \u001b[0m 7.861   \u001b[0m | \u001b[0m 108.3   \u001b[0m | \u001b[0m 0.81    \u001b[0m |\n",
      "| \u001b[0m 14      \u001b[0m | \u001b[0m-2.663   \u001b[0m | \u001b[0m 0.5359  \u001b[0m | \u001b[0m 0.6638  \u001b[0m | \u001b[0m 6.604   \u001b[0m | \u001b[0m 118.9   \u001b[0m | \u001b[0m 0.9173  \u001b[0m |\n",
      "| \u001b[0m 15      \u001b[0m | \u001b[0m-2.215   \u001b[0m | \u001b[0m 0.9034  \u001b[0m | \u001b[0m 0.1375  \u001b[0m | \u001b[0m 3.975   \u001b[0m | \u001b[0m 116.1   \u001b[0m | \u001b[0m 0.8795  \u001b[0m |\n",
      "| \u001b[0m 16      \u001b[0m | \u001b[0m-2.88    \u001b[0m | \u001b[0m 0.1654  \u001b[0m | \u001b[0m 0.9275  \u001b[0m | \u001b[0m 5.434   \u001b[0m | \u001b[0m 115.0   \u001b[0m | \u001b[0m 0.9452  \u001b[0m |\n",
      "| \u001b[0m 17      \u001b[0m | \u001b[0m-2.65    \u001b[0m | \u001b[0m 0.8833  \u001b[0m | \u001b[0m 0.6237  \u001b[0m | \u001b[0m 8.257   \u001b[0m | \u001b[0m 107.0   \u001b[0m | \u001b[0m 0.854   \u001b[0m |\n",
      "| \u001b[0m 18      \u001b[0m | \u001b[0m-2.439   \u001b[0m | \u001b[0m 0.8959  \u001b[0m | \u001b[0m 0.4281  \u001b[0m | \u001b[0m 9.754   \u001b[0m | \u001b[0m 113.3   \u001b[0m | \u001b[0m 0.9243  \u001b[0m |\n",
      "| \u001b[0m 19      \u001b[0m | \u001b[0m-2.99    \u001b[0m | \u001b[0m 0.1147  \u001b[0m | \u001b[0m 0.9495  \u001b[0m | \u001b[0m 6.149   \u001b[0m | \u001b[0m 111.6   \u001b[0m | \u001b[0m 0.8816  \u001b[0m |\n",
      "| \u001b[0m 20      \u001b[0m | \u001b[0m-2.922   \u001b[0m | \u001b[0m 0.237   \u001b[0m | \u001b[0m 0.9034  \u001b[0m | \u001b[0m 7.016   \u001b[0m | \u001b[0m 100.1   \u001b[0m | \u001b[0m 0.9234  \u001b[0m |\n",
      "| \u001b[0m 21      \u001b[0m | \u001b[0m-2.209   \u001b[0m | \u001b[0m 0.7939  \u001b[0m | \u001b[0m 0.04394 \u001b[0m | \u001b[0m 4.127   \u001b[0m | \u001b[0m 116.1   \u001b[0m | \u001b[0m 0.9821  \u001b[0m |\n",
      "| \u001b[0m 22      \u001b[0m | \u001b[0m-3.426   \u001b[0m | \u001b[0m 0.3283  \u001b[0m | \u001b[0m 0.0     \u001b[0m | \u001b[0m 3.451   \u001b[0m | \u001b[0m 116.0   \u001b[0m | \u001b[0m 1.0     \u001b[0m |\n",
      "| \u001b[0m 23      \u001b[0m | \u001b[0m-2.25    \u001b[0m | \u001b[0m 0.7702  \u001b[0m | \u001b[0m 0.1385  \u001b[0m | \u001b[0m 4.128   \u001b[0m | \u001b[0m 116.4   \u001b[0m | \u001b[0m 0.8457  \u001b[0m |\n",
      "| \u001b[0m 24      \u001b[0m | \u001b[0m-2.967   \u001b[0m | \u001b[0m 0.3885  \u001b[0m | \u001b[0m 0.9258  \u001b[0m | \u001b[0m 8.941   \u001b[0m | \u001b[0m 111.7   \u001b[0m | \u001b[0m 0.8439  \u001b[0m |\n",
      "| \u001b[0m 25      \u001b[0m | \u001b[0m-2.313   \u001b[0m | \u001b[0m 1.0     \u001b[0m | \u001b[0m 0.265   \u001b[0m | \u001b[0m 4.29    \u001b[0m | \u001b[0m 116.2   \u001b[0m | \u001b[0m 1.0     \u001b[0m |\n",
      "=====================================================================================\n",
      "{'gamma': 0.8946066635038473, 'learning_rate': 0.08504421136977791, 'max_depth': 3, 'n_estimators': 103, 'subsample': 0.9756285006858827}\n"
     ]
    },
    {
     "data": {
      "application/vnd.jupyter.widget-view+json": {
       "model_id": "8920ad2cff1f4376b2287e9fa12d6417",
       "version_major": 2,
       "version_minor": 0
      },
      "text/plain": [
       "HBox(children=(FloatProgress(value=0.0, max=3.0), HTML(value='')))"
      ]
     },
     "metadata": {},
     "output_type": "display_data"
    },
    {
     "name": "stdout",
     "output_type": "stream",
     "text": [
      "\n",
      "\n",
      "   <--- Validation Errors --->\n",
      "MAE  | Mean: 1.61147, SD: 0.03596\n",
      "RMSE | Mean: 2.18406, SD: 0.08891\n",
      "\n",
      "\n"
     ]
    },
    {
     "data": {
      "application/vnd.jupyter.widget-view+json": {
       "model_id": "a253b273406d4134b20066943a4ad07f",
       "version_major": 2,
       "version_minor": 0
      },
      "text/plain": [
       "HBox(children=(FloatProgress(value=0.0, max=1.0), HTML(value='')))"
      ]
     },
     "metadata": {},
     "output_type": "display_data"
    },
    {
     "name": "stdout",
     "output_type": "stream",
     "text": [
      "|   iter    |  target   |   gamma   | learni... | max_depth | n_esti... | subsample |\n",
      "-------------------------------------------------------------------------------------\n",
      "| \u001b[0m 1       \u001b[0m | \u001b[0m-2.794   \u001b[0m | \u001b[0m 0.417   \u001b[0m | \u001b[0m 0.7203  \u001b[0m | \u001b[0m 3.001   \u001b[0m | \u001b[0m 106.0   \u001b[0m | \u001b[0m 0.8294  \u001b[0m |\n",
      "| \u001b[95m 2       \u001b[0m | \u001b[95m-2.405   \u001b[0m | \u001b[95m 0.09234 \u001b[0m | \u001b[95m 0.1863  \u001b[0m | \u001b[95m 5.419   \u001b[0m | \u001b[95m 107.9   \u001b[0m | \u001b[95m 0.9078  \u001b[0m |\n",
      "| \u001b[0m 3       \u001b[0m | \u001b[0m-2.818   \u001b[0m | \u001b[0m 0.4192  \u001b[0m | \u001b[0m 0.6852  \u001b[0m | \u001b[0m 4.431   \u001b[0m | \u001b[0m 117.6   \u001b[0m | \u001b[0m 0.8055  \u001b[0m |\n",
      "| \u001b[0m 4       \u001b[0m | \u001b[0m-2.549   \u001b[0m | \u001b[0m 0.6705  \u001b[0m | \u001b[0m 0.4173  \u001b[0m | \u001b[0m 6.911   \u001b[0m | \u001b[0m 102.8   \u001b[0m | \u001b[0m 0.8396  \u001b[0m |\n",
      "| \u001b[0m 5       \u001b[0m | \u001b[0m-3.05    \u001b[0m | \u001b[0m 0.8007  \u001b[0m | \u001b[0m 0.9683  \u001b[0m | \u001b[0m 5.194   \u001b[0m | \u001b[0m 113.8   \u001b[0m | \u001b[0m 0.9753  \u001b[0m |\n",
      "| \u001b[95m 6       \u001b[0m | \u001b[95m-2.307   \u001b[0m | \u001b[95m 0.8946  \u001b[0m | \u001b[95m 0.08504 \u001b[0m | \u001b[95m 3.273   \u001b[0m | \u001b[95m 103.4   \u001b[0m | \u001b[95m 0.9756  \u001b[0m |\n",
      "| \u001b[0m 7       \u001b[0m | \u001b[0m-2.615   \u001b[0m | \u001b[0m 0.09835 \u001b[0m | \u001b[0m 0.4211  \u001b[0m | \u001b[0m 9.705   \u001b[0m | \u001b[0m 110.7   \u001b[0m | \u001b[0m 0.9384  \u001b[0m |\n",
      "| \u001b[0m 8       \u001b[0m | \u001b[0m-2.707   \u001b[0m | \u001b[0m 0.3155  \u001b[0m | \u001b[0m 0.6865  \u001b[0m | \u001b[0m 8.842   \u001b[0m | \u001b[0m 100.4   \u001b[0m | \u001b[0m 0.95    \u001b[0m |\n",
      "| \u001b[0m 9       \u001b[0m | \u001b[0m-2.895   \u001b[0m | \u001b[0m 0.9889  \u001b[0m | \u001b[0m 0.7482  \u001b[0m | \u001b[0m 4.963   \u001b[0m | \u001b[0m 115.8   \u001b[0m | \u001b[0m 0.8206  \u001b[0m |\n",
      "| \u001b[0m 10      \u001b[0m | \u001b[0m-3.165   \u001b[0m | \u001b[0m 0.4479  \u001b[0m | \u001b[0m 0.9086  \u001b[0m | \u001b[0m 5.055   \u001b[0m | \u001b[0m 105.8   \u001b[0m | \u001b[0m 0.826   \u001b[0m |\n",
      "| \u001b[0m 11      \u001b[0m | \u001b[0m-2.799   \u001b[0m | \u001b[0m 0.01937 \u001b[0m | \u001b[0m 0.6788  \u001b[0m | \u001b[0m 4.481   \u001b[0m | \u001b[0m 105.3   \u001b[0m | \u001b[0m 0.8983  \u001b[0m |\n",
      "| \u001b[0m 12      \u001b[0m | \u001b[0m-2.681   \u001b[0m | \u001b[0m 0.05336 \u001b[0m | \u001b[0m 0.5741  \u001b[0m | \u001b[0m 4.027   \u001b[0m | \u001b[0m 111.8   \u001b[0m | \u001b[0m 0.94    \u001b[0m |\n",
      "| \u001b[0m 13      \u001b[0m | \u001b[0m-2.597   \u001b[0m | \u001b[0m 0.1023  \u001b[0m | \u001b[0m 0.4141  \u001b[0m | \u001b[0m 7.861   \u001b[0m | \u001b[0m 108.3   \u001b[0m | \u001b[0m 0.81    \u001b[0m |\n",
      "| \u001b[0m 14      \u001b[0m | \u001b[0m-2.728   \u001b[0m | \u001b[0m 0.5359  \u001b[0m | \u001b[0m 0.6638  \u001b[0m | \u001b[0m 6.604   \u001b[0m | \u001b[0m 118.9   \u001b[0m | \u001b[0m 0.9173  \u001b[0m |\n",
      "| \u001b[0m 15      \u001b[0m | \u001b[0m-2.323   \u001b[0m | \u001b[0m 0.9034  \u001b[0m | \u001b[0m 0.1375  \u001b[0m | \u001b[0m 3.975   \u001b[0m | \u001b[0m 116.1   \u001b[0m | \u001b[0m 0.8795  \u001b[0m |\n",
      "| \u001b[0m 16      \u001b[0m | \u001b[0m-3.0     \u001b[0m | \u001b[0m 0.1654  \u001b[0m | \u001b[0m 0.9275  \u001b[0m | \u001b[0m 5.434   \u001b[0m | \u001b[0m 115.0   \u001b[0m | \u001b[0m 0.9452  \u001b[0m |\n",
      "| \u001b[0m 17      \u001b[0m | \u001b[0m-2.733   \u001b[0m | \u001b[0m 0.8833  \u001b[0m | \u001b[0m 0.6237  \u001b[0m | \u001b[0m 8.257   \u001b[0m | \u001b[0m 107.0   \u001b[0m | \u001b[0m 0.854   \u001b[0m |\n",
      "| \u001b[0m 18      \u001b[0m | \u001b[0m-2.601   \u001b[0m | \u001b[0m 0.8959  \u001b[0m | \u001b[0m 0.4281  \u001b[0m | \u001b[0m 9.754   \u001b[0m | \u001b[0m 113.3   \u001b[0m | \u001b[0m 0.9243  \u001b[0m |\n",
      "| \u001b[0m 19      \u001b[0m | \u001b[0m-3.08    \u001b[0m | \u001b[0m 0.1147  \u001b[0m | \u001b[0m 0.9495  \u001b[0m | \u001b[0m 6.149   \u001b[0m | \u001b[0m 111.6   \u001b[0m | \u001b[0m 0.8816  \u001b[0m |\n",
      "| \u001b[0m 20      \u001b[0m | \u001b[0m-2.987   \u001b[0m | \u001b[0m 0.237   \u001b[0m | \u001b[0m 0.9034  \u001b[0m | \u001b[0m 7.016   \u001b[0m | \u001b[0m 100.1   \u001b[0m | \u001b[0m 0.9234  \u001b[0m |\n",
      "| \u001b[0m 21      \u001b[0m | \u001b[0m-2.453   \u001b[0m | \u001b[0m 0.73    \u001b[0m | \u001b[0m 0.3525  \u001b[0m | \u001b[0m 3.218   \u001b[0m | \u001b[0m 103.0   \u001b[0m | \u001b[0m 0.9443  \u001b[0m |\n",
      "| \u001b[0m 22      \u001b[0m | \u001b[0m-3.695   \u001b[0m | \u001b[0m 0.9945  \u001b[0m | \u001b[0m 0.0     \u001b[0m | \u001b[0m 3.351   \u001b[0m | \u001b[0m 116.1   \u001b[0m | \u001b[0m 0.9146  \u001b[0m |\n",
      "| \u001b[0m 23      \u001b[0m | \u001b[0m-3.366   \u001b[0m | \u001b[0m 0.732   \u001b[0m | \u001b[0m 0.001862\u001b[0m | \u001b[0m 3.128   \u001b[0m | \u001b[0m 103.3   \u001b[0m | \u001b[0m 0.8997  \u001b[0m |\n",
      "| \u001b[0m 24      \u001b[0m | \u001b[0m-3.106   \u001b[0m | \u001b[0m 0.3885  \u001b[0m | \u001b[0m 0.9258  \u001b[0m | \u001b[0m 8.941   \u001b[0m | \u001b[0m 111.7   \u001b[0m | \u001b[0m 0.8439  \u001b[0m |\n",
      "| \u001b[0m 25      \u001b[0m | \u001b[0m-2.834   \u001b[0m | \u001b[0m 0.0809  \u001b[0m | \u001b[0m 0.85    \u001b[0m | \u001b[0m 8.609   \u001b[0m | \u001b[0m 113.8   \u001b[0m | \u001b[0m 0.9512  \u001b[0m |\n",
      "=====================================================================================\n",
      "{'gamma': 0.8946066635038473, 'learning_rate': 0.08504421136977791, 'max_depth': 3, 'n_estimators': 103, 'subsample': 0.9756285006858827}\n"
     ]
    },
    {
     "data": {
      "application/vnd.jupyter.widget-view+json": {
       "model_id": "04b52dd2b0ab4aa7aa1bde4e4d4a9986",
       "version_major": 2,
       "version_minor": 0
      },
      "text/plain": [
       "HBox(children=(FloatProgress(value=0.0, max=3.0), HTML(value='')))"
      ]
     },
     "metadata": {},
     "output_type": "display_data"
    },
    {
     "name": "stdout",
     "output_type": "stream",
     "text": [
      "\n",
      "\n",
      "   <--- Validation Errors --->\n",
      "MAE  | Mean: 1.68853, SD: 0.0392\n",
      "RMSE | Mean: 2.2847, SD: 0.10605\n",
      "\n",
      "\n"
     ]
    },
    {
     "data": {
      "application/vnd.jupyter.widget-view+json": {
       "model_id": "baf41fd723db49fcab2c35ff142867c8",
       "version_major": 2,
       "version_minor": 0
      },
      "text/plain": [
       "HBox(children=(FloatProgress(value=0.0, max=1.0), HTML(value='')))"
      ]
     },
     "metadata": {},
     "output_type": "display_data"
    },
    {
     "name": "stdout",
     "output_type": "stream",
     "text": [
      "|   iter    |  target   |   gamma   | learni... | max_depth | n_esti... | subsample |\n",
      "-------------------------------------------------------------------------------------\n",
      "| \u001b[0m 1       \u001b[0m | \u001b[0m-2.39    \u001b[0m | \u001b[0m 0.417   \u001b[0m | \u001b[0m 0.7203  \u001b[0m | \u001b[0m 3.001   \u001b[0m | \u001b[0m 106.0   \u001b[0m | \u001b[0m 0.8294  \u001b[0m |\n",
      "| \u001b[95m 2       \u001b[0m | \u001b[95m-2.025   \u001b[0m | \u001b[95m 0.09234 \u001b[0m | \u001b[95m 0.1863  \u001b[0m | \u001b[95m 5.419   \u001b[0m | \u001b[95m 107.9   \u001b[0m | \u001b[95m 0.9078  \u001b[0m |\n",
      "| \u001b[0m 3       \u001b[0m | \u001b[0m-2.415   \u001b[0m | \u001b[0m 0.4192  \u001b[0m | \u001b[0m 0.6852  \u001b[0m | \u001b[0m 4.431   \u001b[0m | \u001b[0m 117.6   \u001b[0m | \u001b[0m 0.8055  \u001b[0m |\n",
      "| \u001b[0m 4       \u001b[0m | \u001b[0m-2.203   \u001b[0m | \u001b[0m 0.6705  \u001b[0m | \u001b[0m 0.4173  \u001b[0m | \u001b[0m 6.911   \u001b[0m | \u001b[0m 102.8   \u001b[0m | \u001b[0m 0.8396  \u001b[0m |\n",
      "| \u001b[0m 5       \u001b[0m | \u001b[0m-2.552   \u001b[0m | \u001b[0m 0.8007  \u001b[0m | \u001b[0m 0.9683  \u001b[0m | \u001b[0m 5.194   \u001b[0m | \u001b[0m 113.8   \u001b[0m | \u001b[0m 0.9753  \u001b[0m |\n",
      "| \u001b[95m 6       \u001b[0m | \u001b[95m-1.945   \u001b[0m | \u001b[95m 0.8946  \u001b[0m | \u001b[95m 0.08504 \u001b[0m | \u001b[95m 3.273   \u001b[0m | \u001b[95m 103.4   \u001b[0m | \u001b[95m 0.9756  \u001b[0m |\n",
      "| \u001b[0m 7       \u001b[0m | \u001b[0m-2.17    \u001b[0m | \u001b[0m 0.09835 \u001b[0m | \u001b[0m 0.4211  \u001b[0m | \u001b[0m 9.705   \u001b[0m | \u001b[0m 110.7   \u001b[0m | \u001b[0m 0.9384  \u001b[0m |\n",
      "| \u001b[0m 8       \u001b[0m | \u001b[0m-2.292   \u001b[0m | \u001b[0m 0.3155  \u001b[0m | \u001b[0m 0.6865  \u001b[0m | \u001b[0m 8.842   \u001b[0m | \u001b[0m 100.4   \u001b[0m | \u001b[0m 0.95    \u001b[0m |\n",
      "| \u001b[0m 9       \u001b[0m | \u001b[0m-2.491   \u001b[0m | \u001b[0m 0.9889  \u001b[0m | \u001b[0m 0.7482  \u001b[0m | \u001b[0m 4.963   \u001b[0m | \u001b[0m 115.8   \u001b[0m | \u001b[0m 0.8206  \u001b[0m |\n",
      "| \u001b[0m 10      \u001b[0m | \u001b[0m-2.722   \u001b[0m | \u001b[0m 0.4479  \u001b[0m | \u001b[0m 0.9086  \u001b[0m | \u001b[0m 5.055   \u001b[0m | \u001b[0m 105.8   \u001b[0m | \u001b[0m 0.826   \u001b[0m |\n",
      "| \u001b[0m 11      \u001b[0m | \u001b[0m-2.357   \u001b[0m | \u001b[0m 0.01937 \u001b[0m | \u001b[0m 0.6788  \u001b[0m | \u001b[0m 4.481   \u001b[0m | \u001b[0m 105.3   \u001b[0m | \u001b[0m 0.8983  \u001b[0m |\n",
      "| \u001b[0m 12      \u001b[0m | \u001b[0m-2.266   \u001b[0m | \u001b[0m 0.05336 \u001b[0m | \u001b[0m 0.5741  \u001b[0m | \u001b[0m 4.027   \u001b[0m | \u001b[0m 111.8   \u001b[0m | \u001b[0m 0.94    \u001b[0m |\n",
      "| \u001b[0m 13      \u001b[0m | \u001b[0m-2.189   \u001b[0m | \u001b[0m 0.1023  \u001b[0m | \u001b[0m 0.4141  \u001b[0m | \u001b[0m 7.861   \u001b[0m | \u001b[0m 108.3   \u001b[0m | \u001b[0m 0.81    \u001b[0m |\n",
      "| \u001b[0m 14      \u001b[0m | \u001b[0m-2.335   \u001b[0m | \u001b[0m 0.5359  \u001b[0m | \u001b[0m 0.6638  \u001b[0m | \u001b[0m 6.604   \u001b[0m | \u001b[0m 118.9   \u001b[0m | \u001b[0m 0.9173  \u001b[0m |\n",
      "| \u001b[0m 15      \u001b[0m | \u001b[0m-1.967   \u001b[0m | \u001b[0m 0.9034  \u001b[0m | \u001b[0m 0.1375  \u001b[0m | \u001b[0m 3.975   \u001b[0m | \u001b[0m 116.1   \u001b[0m | \u001b[0m 0.8795  \u001b[0m |\n",
      "| \u001b[0m 16      \u001b[0m | \u001b[0m-2.56    \u001b[0m | \u001b[0m 0.1654  \u001b[0m | \u001b[0m 0.9275  \u001b[0m | \u001b[0m 5.434   \u001b[0m | \u001b[0m 115.0   \u001b[0m | \u001b[0m 0.9452  \u001b[0m |\n",
      "| \u001b[0m 17      \u001b[0m | \u001b[0m-2.386   \u001b[0m | \u001b[0m 0.8833  \u001b[0m | \u001b[0m 0.6237  \u001b[0m | \u001b[0m 8.257   \u001b[0m | \u001b[0m 107.0   \u001b[0m | \u001b[0m 0.854   \u001b[0m |\n",
      "| \u001b[0m 18      \u001b[0m | \u001b[0m-2.152   \u001b[0m | \u001b[0m 0.8959  \u001b[0m | \u001b[0m 0.4281  \u001b[0m | \u001b[0m 9.754   \u001b[0m | \u001b[0m 113.3   \u001b[0m | \u001b[0m 0.9243  \u001b[0m |\n",
      "| \u001b[0m 19      \u001b[0m | \u001b[0m-2.679   \u001b[0m | \u001b[0m 0.1147  \u001b[0m | \u001b[0m 0.9495  \u001b[0m | \u001b[0m 6.149   \u001b[0m | \u001b[0m 111.6   \u001b[0m | \u001b[0m 0.8816  \u001b[0m |\n",
      "| \u001b[0m 20      \u001b[0m | \u001b[0m-2.548   \u001b[0m | \u001b[0m 0.237   \u001b[0m | \u001b[0m 0.9034  \u001b[0m | \u001b[0m 7.016   \u001b[0m | \u001b[0m 100.1   \u001b[0m | \u001b[0m 0.9234  \u001b[0m |\n",
      "| \u001b[0m 21      \u001b[0m | \u001b[0m-1.954   \u001b[0m | \u001b[0m 0.8708  \u001b[0m | \u001b[0m 0.06057 \u001b[0m | \u001b[0m 3.597   \u001b[0m | \u001b[0m 103.4   \u001b[0m | \u001b[0m 0.9285  \u001b[0m |\n",
      "| \u001b[0m 22      \u001b[0m | \u001b[0m-1.985   \u001b[0m | \u001b[0m 0.237   \u001b[0m | \u001b[0m 0.1836  \u001b[0m | \u001b[0m 3.396   \u001b[0m | \u001b[0m 103.7   \u001b[0m | \u001b[0m 1.0     \u001b[0m |\n",
      "| \u001b[0m 23      \u001b[0m | \u001b[0m-3.286   \u001b[0m | \u001b[0m 1.0     \u001b[0m | \u001b[0m 0.0     \u001b[0m | \u001b[0m 3.083   \u001b[0m | \u001b[0m 116.1   \u001b[0m | \u001b[0m 0.9281  \u001b[0m |\n",
      "| \u001b[0m 24      \u001b[0m | \u001b[0m-2.744   \u001b[0m | \u001b[0m 0.3885  \u001b[0m | \u001b[0m 0.9258  \u001b[0m | \u001b[0m 8.941   \u001b[0m | \u001b[0m 111.7   \u001b[0m | \u001b[0m 0.8439  \u001b[0m |\n",
      "| \u001b[0m 25      \u001b[0m | \u001b[0m-1.948   \u001b[0m | \u001b[0m 0.9344  \u001b[0m | \u001b[0m 0.05833 \u001b[0m | \u001b[0m 3.663   \u001b[0m | \u001b[0m 103.2   \u001b[0m | \u001b[0m 0.9991  \u001b[0m |\n",
      "=====================================================================================\n",
      "{'gamma': 0.8946066635038473, 'learning_rate': 0.08504421136977791, 'max_depth': 3, 'n_estimators': 103, 'subsample': 0.9756285006858827}\n"
     ]
    },
    {
     "data": {
      "application/vnd.jupyter.widget-view+json": {
       "model_id": "8597357414c34e29909644db559cdeae",
       "version_major": 2,
       "version_minor": 0
      },
      "text/plain": [
       "HBox(children=(FloatProgress(value=0.0, max=3.0), HTML(value='')))"
      ]
     },
     "metadata": {},
     "output_type": "display_data"
    },
    {
     "name": "stdout",
     "output_type": "stream",
     "text": [
      "\n",
      "\n",
      "   <--- Validation Errors --->\n",
      "MAE  | Mean: 1.46493, SD: 0.0417\n",
      "RMSE | Mean: 1.95559, SD: 0.09254\n",
      "\n",
      "\n"
     ]
    },
    {
     "data": {
      "application/vnd.jupyter.widget-view+json": {
       "model_id": "fcaf88dbd780422583c17134605286ac",
       "version_major": 2,
       "version_minor": 0
      },
      "text/plain": [
       "HBox(children=(FloatProgress(value=0.0, max=1.0), HTML(value='')))"
      ]
     },
     "metadata": {},
     "output_type": "display_data"
    },
    {
     "name": "stdout",
     "output_type": "stream",
     "text": [
      "|   iter    |  target   |   gamma   | learni... | max_depth | n_esti... | subsample |\n",
      "-------------------------------------------------------------------------------------\n",
      "| \u001b[0m 1       \u001b[0m | \u001b[0m-2.392   \u001b[0m | \u001b[0m 0.417   \u001b[0m | \u001b[0m 0.7203  \u001b[0m | \u001b[0m 3.001   \u001b[0m | \u001b[0m 106.0   \u001b[0m | \u001b[0m 0.8294  \u001b[0m |\n",
      "| \u001b[95m 2       \u001b[0m | \u001b[95m-2.116   \u001b[0m | \u001b[95m 0.09234 \u001b[0m | \u001b[95m 0.1863  \u001b[0m | \u001b[95m 5.419   \u001b[0m | \u001b[95m 107.9   \u001b[0m | \u001b[95m 0.9078  \u001b[0m |\n",
      "| \u001b[0m 3       \u001b[0m | \u001b[0m-2.456   \u001b[0m | \u001b[0m 0.4192  \u001b[0m | \u001b[0m 0.6852  \u001b[0m | \u001b[0m 4.431   \u001b[0m | \u001b[0m 117.6   \u001b[0m | \u001b[0m 0.8055  \u001b[0m |\n",
      "| \u001b[0m 4       \u001b[0m | \u001b[0m-2.264   \u001b[0m | \u001b[0m 0.6705  \u001b[0m | \u001b[0m 0.4173  \u001b[0m | \u001b[0m 6.911   \u001b[0m | \u001b[0m 102.8   \u001b[0m | \u001b[0m 0.8396  \u001b[0m |\n",
      "| \u001b[0m 5       \u001b[0m | \u001b[0m-2.674   \u001b[0m | \u001b[0m 0.8007  \u001b[0m | \u001b[0m 0.9683  \u001b[0m | \u001b[0m 5.194   \u001b[0m | \u001b[0m 113.8   \u001b[0m | \u001b[0m 0.9753  \u001b[0m |\n",
      "| \u001b[95m 6       \u001b[0m | \u001b[95m-2.021   \u001b[0m | \u001b[95m 0.8946  \u001b[0m | \u001b[95m 0.08504 \u001b[0m | \u001b[95m 3.273   \u001b[0m | \u001b[95m 103.4   \u001b[0m | \u001b[95m 0.9756  \u001b[0m |\n",
      "| \u001b[0m 7       \u001b[0m | \u001b[0m-2.28    \u001b[0m | \u001b[0m 0.09835 \u001b[0m | \u001b[0m 0.4211  \u001b[0m | \u001b[0m 9.705   \u001b[0m | \u001b[0m 110.7   \u001b[0m | \u001b[0m 0.9384  \u001b[0m |\n",
      "| \u001b[0m 8       \u001b[0m | \u001b[0m-2.429   \u001b[0m | \u001b[0m 0.3155  \u001b[0m | \u001b[0m 0.6865  \u001b[0m | \u001b[0m 8.842   \u001b[0m | \u001b[0m 100.4   \u001b[0m | \u001b[0m 0.95    \u001b[0m |\n",
      "| \u001b[0m 9       \u001b[0m | \u001b[0m-2.532   \u001b[0m | \u001b[0m 0.9889  \u001b[0m | \u001b[0m 0.7482  \u001b[0m | \u001b[0m 4.963   \u001b[0m | \u001b[0m 115.8   \u001b[0m | \u001b[0m 0.8206  \u001b[0m |\n",
      "| \u001b[0m 10      \u001b[0m | \u001b[0m-2.725   \u001b[0m | \u001b[0m 0.4479  \u001b[0m | \u001b[0m 0.9086  \u001b[0m | \u001b[0m 5.055   \u001b[0m | \u001b[0m 105.8   \u001b[0m | \u001b[0m 0.826   \u001b[0m |\n",
      "| \u001b[0m 11      \u001b[0m | \u001b[0m-2.486   \u001b[0m | \u001b[0m 0.01937 \u001b[0m | \u001b[0m 0.6788  \u001b[0m | \u001b[0m 4.481   \u001b[0m | \u001b[0m 105.3   \u001b[0m | \u001b[0m 0.8983  \u001b[0m |\n",
      "| \u001b[0m 12      \u001b[0m | \u001b[0m-2.335   \u001b[0m | \u001b[0m 0.05336 \u001b[0m | \u001b[0m 0.5741  \u001b[0m | \u001b[0m 4.027   \u001b[0m | \u001b[0m 111.8   \u001b[0m | \u001b[0m 0.94    \u001b[0m |\n",
      "| \u001b[0m 13      \u001b[0m | \u001b[0m-2.286   \u001b[0m | \u001b[0m 0.1023  \u001b[0m | \u001b[0m 0.4141  \u001b[0m | \u001b[0m 7.861   \u001b[0m | \u001b[0m 108.3   \u001b[0m | \u001b[0m 0.81    \u001b[0m |\n",
      "| \u001b[0m 14      \u001b[0m | \u001b[0m-2.38    \u001b[0m | \u001b[0m 0.5359  \u001b[0m | \u001b[0m 0.6638  \u001b[0m | \u001b[0m 6.604   \u001b[0m | \u001b[0m 118.9   \u001b[0m | \u001b[0m 0.9173  \u001b[0m |\n",
      "| \u001b[0m 15      \u001b[0m | \u001b[0m-2.047   \u001b[0m | \u001b[0m 0.9034  \u001b[0m | \u001b[0m 0.1375  \u001b[0m | \u001b[0m 3.975   \u001b[0m | \u001b[0m 116.1   \u001b[0m | \u001b[0m 0.8795  \u001b[0m |\n",
      "| \u001b[0m 16      \u001b[0m | \u001b[0m-2.656   \u001b[0m | \u001b[0m 0.1654  \u001b[0m | \u001b[0m 0.9275  \u001b[0m | \u001b[0m 5.434   \u001b[0m | \u001b[0m 115.0   \u001b[0m | \u001b[0m 0.9452  \u001b[0m |\n",
      "| \u001b[0m 17      \u001b[0m | \u001b[0m-2.429   \u001b[0m | \u001b[0m 0.8833  \u001b[0m | \u001b[0m 0.6237  \u001b[0m | \u001b[0m 8.257   \u001b[0m | \u001b[0m 107.0   \u001b[0m | \u001b[0m 0.854   \u001b[0m |\n",
      "| \u001b[0m 18      \u001b[0m | \u001b[0m-2.22    \u001b[0m | \u001b[0m 0.8959  \u001b[0m | \u001b[0m 0.4281  \u001b[0m | \u001b[0m 9.754   \u001b[0m | \u001b[0m 113.3   \u001b[0m | \u001b[0m 0.9243  \u001b[0m |\n",
      "| \u001b[0m 19      \u001b[0m | \u001b[0m-2.716   \u001b[0m | \u001b[0m 0.1147  \u001b[0m | \u001b[0m 0.9495  \u001b[0m | \u001b[0m 6.149   \u001b[0m | \u001b[0m 111.6   \u001b[0m | \u001b[0m 0.8816  \u001b[0m |\n",
      "| \u001b[0m 20      \u001b[0m | \u001b[0m-2.586   \u001b[0m | \u001b[0m 0.237   \u001b[0m | \u001b[0m 0.9034  \u001b[0m | \u001b[0m 7.016   \u001b[0m | \u001b[0m 100.1   \u001b[0m | \u001b[0m 0.9234  \u001b[0m |\n",
      "| \u001b[0m 21      \u001b[0m | \u001b[0m-2.042   \u001b[0m | \u001b[0m 0.7348  \u001b[0m | \u001b[0m 0.1324  \u001b[0m | \u001b[0m 3.429   \u001b[0m | \u001b[0m 102.8   \u001b[0m | \u001b[0m 0.8897  \u001b[0m |\n",
      "| \u001b[0m 22      \u001b[0m | \u001b[0m-3.494   \u001b[0m | \u001b[0m 1.0     \u001b[0m | \u001b[0m 0.0     \u001b[0m | \u001b[0m 3.076   \u001b[0m | \u001b[0m 116.1   \u001b[0m | \u001b[0m 0.9205  \u001b[0m |\n",
      "| \u001b[0m 23      \u001b[0m | \u001b[0m-2.022   \u001b[0m | \u001b[0m 0.698   \u001b[0m | \u001b[0m 0.09027 \u001b[0m | \u001b[0m 3.141   \u001b[0m | \u001b[0m 103.1   \u001b[0m | \u001b[0m 0.8246  \u001b[0m |\n",
      "| \u001b[0m 24      \u001b[0m | \u001b[0m-2.823   \u001b[0m | \u001b[0m 0.3885  \u001b[0m | \u001b[0m 0.9258  \u001b[0m | \u001b[0m 8.941   \u001b[0m | \u001b[0m 111.7   \u001b[0m | \u001b[0m 0.8439  \u001b[0m |\n",
      "| \u001b[0m 25      \u001b[0m | \u001b[0m-2.069   \u001b[0m | \u001b[0m 0.6052  \u001b[0m | \u001b[0m 0.2114  \u001b[0m | \u001b[0m 3.414   \u001b[0m | \u001b[0m 102.9   \u001b[0m | \u001b[0m 0.9198  \u001b[0m |\n",
      "=====================================================================================\n",
      "{'gamma': 0.8946066635038473, 'learning_rate': 0.08504421136977791, 'max_depth': 3, 'n_estimators': 103, 'subsample': 0.9756285006858827}\n"
     ]
    },
    {
     "data": {
      "application/vnd.jupyter.widget-view+json": {
       "model_id": "9457cebb612b4bae86a80b7bb0b8b698",
       "version_major": 2,
       "version_minor": 0
      },
      "text/plain": [
       "HBox(children=(FloatProgress(value=0.0, max=3.0), HTML(value='')))"
      ]
     },
     "metadata": {},
     "output_type": "display_data"
    },
    {
     "name": "stdout",
     "output_type": "stream",
     "text": [
      "\n",
      "\n",
      "   <--- Validation Errors --->\n",
      "MAE  | Mean: 1.51352, SD: 0.0396\n",
      "RMSE | Mean: 2.00438, SD: 0.0877\n",
      "\n",
      "\n"
     ]
    },
    {
     "data": {
      "application/vnd.jupyter.widget-view+json": {
       "model_id": "ff8352a2da7f4744959ff56469fd4485",
       "version_major": 2,
       "version_minor": 0
      },
      "text/plain": [
       "HBox(children=(FloatProgress(value=0.0, max=1.0), HTML(value='')))"
      ]
     },
     "metadata": {},
     "output_type": "display_data"
    },
    {
     "name": "stdout",
     "output_type": "stream",
     "text": [
      "|   iter    |  target   |   gamma   | learni... | max_depth | n_esti... | subsample |\n",
      "-------------------------------------------------------------------------------------\n",
      "| \u001b[0m 1       \u001b[0m | \u001b[0m-2.372   \u001b[0m | \u001b[0m 0.417   \u001b[0m | \u001b[0m 0.7203  \u001b[0m | \u001b[0m 3.001   \u001b[0m | \u001b[0m 106.0   \u001b[0m | \u001b[0m 0.8294  \u001b[0m |\n",
      "| \u001b[95m 2       \u001b[0m | \u001b[95m-2.065   \u001b[0m | \u001b[95m 0.09234 \u001b[0m | \u001b[95m 0.1863  \u001b[0m | \u001b[95m 5.419   \u001b[0m | \u001b[95m 107.9   \u001b[0m | \u001b[95m 0.9078  \u001b[0m |\n",
      "| \u001b[0m 3       \u001b[0m | \u001b[0m-2.498   \u001b[0m | \u001b[0m 0.4192  \u001b[0m | \u001b[0m 0.6852  \u001b[0m | \u001b[0m 4.431   \u001b[0m | \u001b[0m 117.6   \u001b[0m | \u001b[0m 0.8055  \u001b[0m |\n",
      "| \u001b[0m 4       \u001b[0m | \u001b[0m-2.264   \u001b[0m | \u001b[0m 0.6705  \u001b[0m | \u001b[0m 0.4173  \u001b[0m | \u001b[0m 6.911   \u001b[0m | \u001b[0m 102.8   \u001b[0m | \u001b[0m 0.8396  \u001b[0m |\n",
      "| \u001b[0m 5       \u001b[0m | \u001b[0m-2.654   \u001b[0m | \u001b[0m 0.8007  \u001b[0m | \u001b[0m 0.9683  \u001b[0m | \u001b[0m 5.194   \u001b[0m | \u001b[0m 113.8   \u001b[0m | \u001b[0m 0.9753  \u001b[0m |\n",
      "| \u001b[95m 6       \u001b[0m | \u001b[95m-1.978   \u001b[0m | \u001b[95m 0.8946  \u001b[0m | \u001b[95m 0.08504 \u001b[0m | \u001b[95m 3.273   \u001b[0m | \u001b[95m 103.4   \u001b[0m | \u001b[95m 0.9756  \u001b[0m |\n",
      "| \u001b[0m 7       \u001b[0m | \u001b[0m-2.185   \u001b[0m | \u001b[0m 0.09835 \u001b[0m | \u001b[0m 0.4211  \u001b[0m | \u001b[0m 9.705   \u001b[0m | \u001b[0m 110.7   \u001b[0m | \u001b[0m 0.9384  \u001b[0m |\n",
      "| \u001b[0m 8       \u001b[0m | \u001b[0m-2.404   \u001b[0m | \u001b[0m 0.3155  \u001b[0m | \u001b[0m 0.6865  \u001b[0m | \u001b[0m 8.842   \u001b[0m | \u001b[0m 100.4   \u001b[0m | \u001b[0m 0.95    \u001b[0m |\n",
      "| \u001b[0m 9       \u001b[0m | \u001b[0m-2.474   \u001b[0m | \u001b[0m 0.9889  \u001b[0m | \u001b[0m 0.7482  \u001b[0m | \u001b[0m 4.963   \u001b[0m | \u001b[0m 115.8   \u001b[0m | \u001b[0m 0.8206  \u001b[0m |\n",
      "| \u001b[0m 10      \u001b[0m | \u001b[0m-2.719   \u001b[0m | \u001b[0m 0.4479  \u001b[0m | \u001b[0m 0.9086  \u001b[0m | \u001b[0m 5.055   \u001b[0m | \u001b[0m 105.8   \u001b[0m | \u001b[0m 0.826   \u001b[0m |\n",
      "| \u001b[0m 11      \u001b[0m | \u001b[0m-2.406   \u001b[0m | \u001b[0m 0.01937 \u001b[0m | \u001b[0m 0.6788  \u001b[0m | \u001b[0m 4.481   \u001b[0m | \u001b[0m 105.3   \u001b[0m | \u001b[0m 0.8983  \u001b[0m |\n",
      "| \u001b[0m 12      \u001b[0m | \u001b[0m-2.315   \u001b[0m | \u001b[0m 0.05336 \u001b[0m | \u001b[0m 0.5741  \u001b[0m | \u001b[0m 4.027   \u001b[0m | \u001b[0m 111.8   \u001b[0m | \u001b[0m 0.94    \u001b[0m |\n",
      "| \u001b[0m 13      \u001b[0m | \u001b[0m-2.264   \u001b[0m | \u001b[0m 0.1023  \u001b[0m | \u001b[0m 0.4141  \u001b[0m | \u001b[0m 7.861   \u001b[0m | \u001b[0m 108.3   \u001b[0m | \u001b[0m 0.81    \u001b[0m |\n",
      "| \u001b[0m 14      \u001b[0m | \u001b[0m-2.415   \u001b[0m | \u001b[0m 0.5359  \u001b[0m | \u001b[0m 0.6638  \u001b[0m | \u001b[0m 6.604   \u001b[0m | \u001b[0m 118.9   \u001b[0m | \u001b[0m 0.9173  \u001b[0m |\n",
      "| \u001b[0m 15      \u001b[0m | \u001b[0m-2.002   \u001b[0m | \u001b[0m 0.9034  \u001b[0m | \u001b[0m 0.1375  \u001b[0m | \u001b[0m 3.975   \u001b[0m | \u001b[0m 116.1   \u001b[0m | \u001b[0m 0.8795  \u001b[0m |\n",
      "| \u001b[0m 16      \u001b[0m | \u001b[0m-2.631   \u001b[0m | \u001b[0m 0.1654  \u001b[0m | \u001b[0m 0.9275  \u001b[0m | \u001b[0m 5.434   \u001b[0m | \u001b[0m 115.0   \u001b[0m | \u001b[0m 0.9452  \u001b[0m |\n",
      "| \u001b[0m 17      \u001b[0m | \u001b[0m-2.345   \u001b[0m | \u001b[0m 0.8833  \u001b[0m | \u001b[0m 0.6237  \u001b[0m | \u001b[0m 8.257   \u001b[0m | \u001b[0m 107.0   \u001b[0m | \u001b[0m 0.854   \u001b[0m |\n",
      "| \u001b[0m 18      \u001b[0m | \u001b[0m-2.228   \u001b[0m | \u001b[0m 0.8959  \u001b[0m | \u001b[0m 0.4281  \u001b[0m | \u001b[0m 9.754   \u001b[0m | \u001b[0m 113.3   \u001b[0m | \u001b[0m 0.9243  \u001b[0m |\n",
      "| \u001b[0m 19      \u001b[0m | \u001b[0m-2.735   \u001b[0m | \u001b[0m 0.1147  \u001b[0m | \u001b[0m 0.9495  \u001b[0m | \u001b[0m 6.149   \u001b[0m | \u001b[0m 111.6   \u001b[0m | \u001b[0m 0.8816  \u001b[0m |\n",
      "| \u001b[0m 20      \u001b[0m | \u001b[0m-2.662   \u001b[0m | \u001b[0m 0.237   \u001b[0m | \u001b[0m 0.9034  \u001b[0m | \u001b[0m 7.016   \u001b[0m | \u001b[0m 100.1   \u001b[0m | \u001b[0m 0.9234  \u001b[0m |\n",
      "| \u001b[0m 21      \u001b[0m | \u001b[0m-1.988   \u001b[0m | \u001b[0m 0.7939  \u001b[0m | \u001b[0m 0.04394 \u001b[0m | \u001b[0m 4.127   \u001b[0m | \u001b[0m 116.1   \u001b[0m | \u001b[0m 0.9821  \u001b[0m |\n",
      "| \u001b[0m 22      \u001b[0m | \u001b[0m-2.979   \u001b[0m | \u001b[0m 0.428   \u001b[0m | \u001b[0m 0.0     \u001b[0m | \u001b[0m 3.451   \u001b[0m | \u001b[0m 115.8   \u001b[0m | \u001b[0m 1.0     \u001b[0m |\n",
      "| \u001b[0m 23      \u001b[0m | \u001b[0m-2.029   \u001b[0m | \u001b[0m 0.7702  \u001b[0m | \u001b[0m 0.1385  \u001b[0m | \u001b[0m 4.128   \u001b[0m | \u001b[0m 116.4   \u001b[0m | \u001b[0m 0.8457  \u001b[0m |\n",
      "| \u001b[0m 24      \u001b[0m | \u001b[0m-2.786   \u001b[0m | \u001b[0m 0.3885  \u001b[0m | \u001b[0m 0.9258  \u001b[0m | \u001b[0m 8.941   \u001b[0m | \u001b[0m 111.7   \u001b[0m | \u001b[0m 0.8439  \u001b[0m |\n",
      "| \u001b[0m 25      \u001b[0m | \u001b[0m-2.125   \u001b[0m | \u001b[0m 1.0     \u001b[0m | \u001b[0m 0.2763  \u001b[0m | \u001b[0m 4.312   \u001b[0m | \u001b[0m 116.2   \u001b[0m | \u001b[0m 1.0     \u001b[0m |\n",
      "=====================================================================================\n",
      "{'gamma': 0.8946066635038473, 'learning_rate': 0.08504421136977791, 'max_depth': 3, 'n_estimators': 103, 'subsample': 0.9756285006858827}\n"
     ]
    },
    {
     "data": {
      "application/vnd.jupyter.widget-view+json": {
       "model_id": "311a341d5f8744dabd4d4efb1cdd83fb",
       "version_major": 2,
       "version_minor": 0
      },
      "text/plain": [
       "HBox(children=(FloatProgress(value=0.0, max=3.0), HTML(value='')))"
      ]
     },
     "metadata": {},
     "output_type": "display_data"
    },
    {
     "name": "stdout",
     "output_type": "stream",
     "text": [
      "\n",
      "\n",
      "   <--- Validation Errors --->\n",
      "MAE  | Mean: 1.42438, SD: 0.0209\n",
      "RMSE | Mean: 1.96015, SD: 0.0543\n",
      "\n",
      "\n"
     ]
    },
    {
     "data": {
      "application/vnd.jupyter.widget-view+json": {
       "model_id": "89f12a90fc514411948369de431c38ce",
       "version_major": 2,
       "version_minor": 0
      },
      "text/plain": [
       "HBox(children=(FloatProgress(value=0.0, max=1.0), HTML(value='')))"
      ]
     },
     "metadata": {},
     "output_type": "display_data"
    },
    {
     "name": "stdout",
     "output_type": "stream",
     "text": [
      "|   iter    |  target   |   gamma   | learni... | max_depth | n_esti... | subsample |\n",
      "-------------------------------------------------------------------------------------\n",
      "| \u001b[0m 1       \u001b[0m | \u001b[0m-2.289   \u001b[0m | \u001b[0m 0.417   \u001b[0m | \u001b[0m 0.7203  \u001b[0m | \u001b[0m 3.001   \u001b[0m | \u001b[0m 106.0   \u001b[0m | \u001b[0m 0.8294  \u001b[0m |\n",
      "| \u001b[95m 2       \u001b[0m | \u001b[95m-1.96    \u001b[0m | \u001b[95m 0.09234 \u001b[0m | \u001b[95m 0.1863  \u001b[0m | \u001b[95m 5.419   \u001b[0m | \u001b[95m 107.9   \u001b[0m | \u001b[95m 0.9078  \u001b[0m |\n",
      "| \u001b[0m 3       \u001b[0m | \u001b[0m-2.373   \u001b[0m | \u001b[0m 0.4192  \u001b[0m | \u001b[0m 0.6852  \u001b[0m | \u001b[0m 4.431   \u001b[0m | \u001b[0m 117.6   \u001b[0m | \u001b[0m 0.8055  \u001b[0m |\n",
      "| \u001b[0m 4       \u001b[0m | \u001b[0m-2.137   \u001b[0m | \u001b[0m 0.6705  \u001b[0m | \u001b[0m 0.4173  \u001b[0m | \u001b[0m 6.911   \u001b[0m | \u001b[0m 102.8   \u001b[0m | \u001b[0m 0.8396  \u001b[0m |\n",
      "| \u001b[0m 5       \u001b[0m | \u001b[0m-2.516   \u001b[0m | \u001b[0m 0.8007  \u001b[0m | \u001b[0m 0.9683  \u001b[0m | \u001b[0m 5.194   \u001b[0m | \u001b[0m 113.8   \u001b[0m | \u001b[0m 0.9753  \u001b[0m |\n",
      "| \u001b[95m 6       \u001b[0m | \u001b[95m-1.892   \u001b[0m | \u001b[95m 0.8946  \u001b[0m | \u001b[95m 0.08504 \u001b[0m | \u001b[95m 3.273   \u001b[0m | \u001b[95m 103.4   \u001b[0m | \u001b[95m 0.9756  \u001b[0m |\n",
      "| \u001b[0m 7       \u001b[0m | \u001b[0m-2.143   \u001b[0m | \u001b[0m 0.09835 \u001b[0m | \u001b[0m 0.4211  \u001b[0m | \u001b[0m 9.705   \u001b[0m | \u001b[0m 110.7   \u001b[0m | \u001b[0m 0.9384  \u001b[0m |\n",
      "| \u001b[0m 8       \u001b[0m | \u001b[0m-2.275   \u001b[0m | \u001b[0m 0.3155  \u001b[0m | \u001b[0m 0.6865  \u001b[0m | \u001b[0m 8.842   \u001b[0m | \u001b[0m 100.4   \u001b[0m | \u001b[0m 0.95    \u001b[0m |\n",
      "| \u001b[0m 9       \u001b[0m | \u001b[0m-2.377   \u001b[0m | \u001b[0m 0.9889  \u001b[0m | \u001b[0m 0.7482  \u001b[0m | \u001b[0m 4.963   \u001b[0m | \u001b[0m 115.8   \u001b[0m | \u001b[0m 0.8206  \u001b[0m |\n",
      "| \u001b[0m 10      \u001b[0m | \u001b[0m-2.558   \u001b[0m | \u001b[0m 0.4479  \u001b[0m | \u001b[0m 0.9086  \u001b[0m | \u001b[0m 5.055   \u001b[0m | \u001b[0m 105.8   \u001b[0m | \u001b[0m 0.826   \u001b[0m |\n",
      "| \u001b[0m 11      \u001b[0m | \u001b[0m-2.273   \u001b[0m | \u001b[0m 0.01937 \u001b[0m | \u001b[0m 0.6788  \u001b[0m | \u001b[0m 4.481   \u001b[0m | \u001b[0m 105.3   \u001b[0m | \u001b[0m 0.8983  \u001b[0m |\n",
      "| \u001b[0m 12      \u001b[0m | \u001b[0m-2.142   \u001b[0m | \u001b[0m 0.05336 \u001b[0m | \u001b[0m 0.5741  \u001b[0m | \u001b[0m 4.027   \u001b[0m | \u001b[0m 111.8   \u001b[0m | \u001b[0m 0.94    \u001b[0m |\n",
      "| \u001b[0m 13      \u001b[0m | \u001b[0m-2.162   \u001b[0m | \u001b[0m 0.1023  \u001b[0m | \u001b[0m 0.4141  \u001b[0m | \u001b[0m 7.861   \u001b[0m | \u001b[0m 108.3   \u001b[0m | \u001b[0m 0.81    \u001b[0m |\n",
      "| \u001b[0m 14      \u001b[0m | \u001b[0m-2.316   \u001b[0m | \u001b[0m 0.5359  \u001b[0m | \u001b[0m 0.6638  \u001b[0m | \u001b[0m 6.604   \u001b[0m | \u001b[0m 118.9   \u001b[0m | \u001b[0m 0.9173  \u001b[0m |\n",
      "| \u001b[0m 15      \u001b[0m | \u001b[0m-1.904   \u001b[0m | \u001b[0m 0.9034  \u001b[0m | \u001b[0m 0.1375  \u001b[0m | \u001b[0m 3.975   \u001b[0m | \u001b[0m 116.1   \u001b[0m | \u001b[0m 0.8795  \u001b[0m |\n",
      "| \u001b[0m 16      \u001b[0m | \u001b[0m-2.464   \u001b[0m | \u001b[0m 0.1654  \u001b[0m | \u001b[0m 0.9275  \u001b[0m | \u001b[0m 5.434   \u001b[0m | \u001b[0m 115.0   \u001b[0m | \u001b[0m 0.9452  \u001b[0m |\n",
      "| \u001b[0m 17      \u001b[0m | \u001b[0m-2.296   \u001b[0m | \u001b[0m 0.8833  \u001b[0m | \u001b[0m 0.6237  \u001b[0m | \u001b[0m 8.257   \u001b[0m | \u001b[0m 107.0   \u001b[0m | \u001b[0m 0.854   \u001b[0m |\n",
      "| \u001b[0m 18      \u001b[0m | \u001b[0m-2.084   \u001b[0m | \u001b[0m 0.8959  \u001b[0m | \u001b[0m 0.4281  \u001b[0m | \u001b[0m 9.754   \u001b[0m | \u001b[0m 113.3   \u001b[0m | \u001b[0m 0.9243  \u001b[0m |\n",
      "| \u001b[0m 19      \u001b[0m | \u001b[0m-2.592   \u001b[0m | \u001b[0m 0.1147  \u001b[0m | \u001b[0m 0.9495  \u001b[0m | \u001b[0m 6.149   \u001b[0m | \u001b[0m 111.6   \u001b[0m | \u001b[0m 0.8816  \u001b[0m |\n",
      "| \u001b[0m 20      \u001b[0m | \u001b[0m-2.464   \u001b[0m | \u001b[0m 0.237   \u001b[0m | \u001b[0m 0.9034  \u001b[0m | \u001b[0m 7.016   \u001b[0m | \u001b[0m 100.1   \u001b[0m | \u001b[0m 0.9234  \u001b[0m |\n",
      "| \u001b[0m 21      \u001b[0m | \u001b[0m-1.896   \u001b[0m | \u001b[0m 0.7939  \u001b[0m | \u001b[0m 0.04394 \u001b[0m | \u001b[0m 4.127   \u001b[0m | \u001b[0m 116.1   \u001b[0m | \u001b[0m 0.9821  \u001b[0m |\n",
      "| \u001b[0m 22      \u001b[0m | \u001b[0m-2.945   \u001b[0m | \u001b[0m 0.4753  \u001b[0m | \u001b[0m 0.0     \u001b[0m | \u001b[0m 3.504   \u001b[0m | \u001b[0m 115.8   \u001b[0m | \u001b[0m 1.0     \u001b[0m |\n",
      "| \u001b[0m 23      \u001b[0m | \u001b[0m-1.938   \u001b[0m | \u001b[0m 0.7702  \u001b[0m | \u001b[0m 0.1385  \u001b[0m | \u001b[0m 4.128   \u001b[0m | \u001b[0m 116.4   \u001b[0m | \u001b[0m 0.8457  \u001b[0m |\n",
      "| \u001b[0m 24      \u001b[0m | \u001b[0m-2.589   \u001b[0m | \u001b[0m 0.3885  \u001b[0m | \u001b[0m 0.9258  \u001b[0m | \u001b[0m 8.941   \u001b[0m | \u001b[0m 111.7   \u001b[0m | \u001b[0m 0.8439  \u001b[0m |\n",
      "| \u001b[0m 25      \u001b[0m | \u001b[0m-1.911   \u001b[0m | \u001b[0m 1.0     \u001b[0m | \u001b[0m 0.09343 \u001b[0m | \u001b[0m 4.293   \u001b[0m | \u001b[0m 116.1   \u001b[0m | \u001b[0m 0.8     \u001b[0m |\n",
      "=====================================================================================\n",
      "{'gamma': 0.8946066635038473, 'learning_rate': 0.08504421136977791, 'max_depth': 3, 'n_estimators': 103, 'subsample': 0.9756285006858827}\n"
     ]
    },
    {
     "data": {
      "application/vnd.jupyter.widget-view+json": {
       "model_id": "d19db0cf6dd94f5391f556a9402a5367",
       "version_major": 2,
       "version_minor": 0
      },
      "text/plain": [
       "HBox(children=(FloatProgress(value=0.0, max=3.0), HTML(value='')))"
      ]
     },
     "metadata": {},
     "output_type": "display_data"
    },
    {
     "name": "stdout",
     "output_type": "stream",
     "text": [
      "\n",
      "\n",
      "   <--- Validation Errors --->\n",
      "MAE  | Mean: 1.42561, SD: 0.02522\n",
      "RMSE | Mean: 1.91278, SD: 0.0526\n",
      "\n",
      "\n",
      "\n"
     ]
    }
   ],
   "source": [
    "rmse_table = pd.DataFrame()\n",
    "mae_table = pd.DataFrame()\n",
    "models = [bo_xgb]\n",
    "#models=[ridge, lasso, vanilla_xgb, bo_xgb, base_keras_model]\n",
    "for punt in tqdm(PUNT_TYPES):\n",
    "    if punt == []:\n",
    "        punt = 'Base'\n",
    "    else:\n",
    "        punt = '+'.join(punt)\n",
    "    df = pd.read_csv(os.path.join(DATA_DIR,'ABT', punt+'.csv'))\n",
    "    X = df.loc[:, df.columns != 'VALUE']\n",
    "    y = df['VALUE'].values.reshape(-1,1).flatten()\n",
    "    for model in tqdm(models):\n",
    "        rmse_value, mae_value = model(X, y)\n",
    "        rmse_table.loc[punt, model.__name__] = rmse_value\n",
    "        mae_table.loc[punt, model.__name__] = mae_value\n"
   ]
  },
  {
   "cell_type": "code",
   "execution_count": 30,
   "id": "de63dba1",
   "metadata": {},
   "outputs": [
    {
     "name": "stdout",
     "output_type": "stream",
     "text": [
      "           bo_xgb\n",
      "Base     1.904370\n",
      "FG%      1.732306\n",
      "FT%      1.755836\n",
      "PTS      1.566192\n",
      "TRB      1.636463\n",
      "AST      1.691248\n",
      "STL      1.611466\n",
      "BLK      1.688529\n",
      "FG%+TRB  1.464932\n",
      "BLK+FG%  1.513515\n",
      "AST+STL  1.424376\n",
      "PTS+FT%  1.425609\n",
      "           bo_xgb\n",
      "Base     2.560931\n",
      "FG%      2.289170\n",
      "FT%      2.331099\n",
      "PTS      2.151405\n",
      "TRB      2.231718\n",
      "AST      2.300905\n",
      "STL      2.184062\n",
      "BLK      2.284696\n",
      "FG%+TRB  1.955586\n",
      "BLK+FG%  2.004376\n",
      "AST+STL  1.960146\n",
      "PTS+FT%  1.912780\n"
     ]
    }
   ],
   "source": [
    "print(rmse_table)\n",
    "print(mae_table)"
   ]
  },
  {
   "cell_type": "markdown",
   "id": "6f8c84ef",
   "metadata": {},
   "source": [
    "### Making Predictions"
   ]
  },
  {
   "cell_type": "code",
   "execution_count": 24,
   "id": "0fd43b65",
   "metadata": {},
   "outputs": [
    {
     "name": "stdout",
     "output_type": "stream",
     "text": [
      "1.7282533284491566\n",
      "2.48234542403067\n"
     ]
    }
   ],
   "source": [
    "df = pd.read_csv(DATA_DIR+'/Predictions/predictions.csv')\n",
    "df.drop(columns=['PLAYER','TEAM','SEASON'], inplace=True)\n",
    "df = pd.get_dummies(df)\n",
    "X = df.loc[:, df.columns != 'VALUE']\n",
    "y = df['VALUE'].values.reshape(-1,1).flatten()\n",
    "values = clf.predict(X)\n",
    "\n",
    "print(utils.calculate_MAE(values, y))\n",
    "print(utils.calculate_RMSE(values, y))"
   ]
  },
  {
   "cell_type": "code",
   "execution_count": 25,
   "id": "75307ced",
   "metadata": {},
   "outputs": [],
   "source": [
    "df = pd.read_csv(DATA_DIR+'/Predictions/predictions.csv')\n",
    "df['PRED'] = values\n",
    "df.to_csv(DATA_DIR+'/Predictions/end.csv')"
   ]
  },
  {
   "cell_type": "code",
   "execution_count": null,
   "id": "65867996",
   "metadata": {},
   "outputs": [],
   "source": []
  }
 ],
 "metadata": {
  "kernelspec": {
   "display_name": "Python 3",
   "language": "python",
   "name": "python3"
  },
  "language_info": {
   "codemirror_mode": {
    "name": "ipython",
    "version": 3
   },
   "file_extension": ".py",
   "mimetype": "text/x-python",
   "name": "python",
   "nbconvert_exporter": "python",
   "pygments_lexer": "ipython3",
   "version": "3.8.8"
  }
 },
 "nbformat": 4,
 "nbformat_minor": 5
}
