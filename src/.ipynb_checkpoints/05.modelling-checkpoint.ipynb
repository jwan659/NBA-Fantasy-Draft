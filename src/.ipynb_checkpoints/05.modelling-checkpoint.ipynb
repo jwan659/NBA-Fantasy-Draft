{
 "cells": [
  {
   "cell_type": "code",
   "execution_count": 90,
   "id": "f9441432",
   "metadata": {},
   "outputs": [],
   "source": [
    "import os\n",
    "import glob\n",
    "import warnings\n",
    "import numpy as np\n",
    "import pandas as pd\n",
    "import matplotlib.pyplot as plt\n",
    "import lightgbm as lgb\n",
    "from tqdm import tqdm_notebook as tqdm\n",
    "from skopt import BayesSearchCV\n",
    "from sklearn.ensemble import GradientBoostingRegressor\n",
    "from sklearn.linear_model import LinearRegression\n",
    "from sklearn.linear_model import Lasso\n",
    "from sklearn.linear_model import Ridge\n",
    "from sklearn.metrics import mean_absolute_error as mae\n",
    "from sklearn.metrics import mean_squared_error as mse\n",
    "from sklearn.metrics import r2_score as r2\n",
    "from sklearn.model_selection import cross_val_score\n",
    "from sklearn.model_selection import GridSearchCV\n",
    "from sklearn.model_selection import RepeatedKFold\n",
    "from sklearn.model_selection import train_test_split\n",
    "from xgboost import XGBRegressor\n",
    "import xgboost as xgb\n",
    "import utils\n",
    "from constants import DATA_DIR\n",
    "warnings.filterwarnings('ignore')"
   ]
  },
  {
   "cell_type": "markdown",
   "id": "1487313b",
   "metadata": {},
   "source": [
    "Ridge Regression"
   ]
  },
  {
   "cell_type": "code",
   "execution_count": 91,
   "id": "f0a7bdb8",
   "metadata": {},
   "outputs": [],
   "source": [
    "df = pd.read_csv(os.path.join(DATA_DIR,'ABT','data.csv'))\n",
    "X = df.loc[:, df.columns != 'VALUE']\n",
    "y = df['VALUE']\n",
    "y = y.values.reshape(-1,1).flatten()\n",
    "X_train, X_test, y_train, y_test = train_test_split(X, y, random_state=0, stratify=None)\n",
    "cv = RepeatedKFold(n_splits=2, n_repeats=1000)"
   ]
  },
  {
   "cell_type": "code",
   "execution_count": 94,
   "id": "0bc373e3",
   "metadata": {},
   "outputs": [
    {
     "name": "stdout",
     "output_type": "stream",
     "text": [
      "{'alpha': 1}\n"
     ]
    }
   ],
   "source": [
    "model = Ridge()\n",
    "parameters = {'alpha':[0.1, 1, 10]}\n",
    "Ridge_reg= GridSearchCV(model, parameters, scoring='neg_root_mean_squared_error', cv=cv, n_jobs=-1)\n",
    "Ridge_reg.fit(X, y)\n",
    "best_ridge = Ridge_reg.best_estimator_\n",
    "print(Ridge_reg.best_params_)"
   ]
  },
  {
   "cell_type": "code",
   "execution_count": 95,
   "id": "35d0e385",
   "metadata": {},
   "outputs": [
    {
     "data": {
      "application/vnd.jupyter.widget-view+json": {
       "model_id": "42d2ec9dff1149e4986574f96fb0d746",
       "version_major": 2,
       "version_minor": 0
      },
      "text/plain": [
       "HBox(children=(FloatProgress(value=0.0, max=3.0), HTML(value='')))"
      ]
     },
     "metadata": {},
     "output_type": "display_data"
    },
    {
     "name": "stdout",
     "output_type": "stream",
     "text": [
      "\n",
      "\n",
      "   <--- Validation Errors --->\n",
      "MAE  | Mean: 2.32775, SD: 0.07068\n",
      "RMSE | Mean: 3.01866, SD: 0.10272\n",
      "\n"
     ]
    }
   ],
   "source": [
    "errors = utils.cross_val(best_ridge, X, y, n_folds=3)\n",
    "utils.summarize_errors(errors, verbose=0)"
   ]
  },
  {
   "cell_type": "markdown",
   "id": "e201c37c",
   "metadata": {},
   "source": [
    "### Lasso Regression"
   ]
  },
  {
   "cell_type": "code",
   "execution_count": 96,
   "id": "128173b3",
   "metadata": {},
   "outputs": [],
   "source": [
    "df = pd.read_csv(os.path.join(DATA_DIR,'ABT','abt.csv'))\n",
    "X = df.loc[:, df.columns != 'VALUE']\n",
    "y = df['VALUE']\n",
    "y = y.values.reshape(-1,1).flatten()\n",
    "cv = RepeatedKFold(n_splits=2, n_repeats=1000)"
   ]
  },
  {
   "cell_type": "code",
   "execution_count": 99,
   "id": "4dd0b8b4",
   "metadata": {},
   "outputs": [
    {
     "name": "stdout",
     "output_type": "stream",
     "text": [
      "{'alpha': 0.001}\n"
     ]
    }
   ],
   "source": [
    "parameters = {'alpha':[1e-4, 1e-3, 1e-2]}\n",
    "lasso_result = GridSearchCV(Lasso(), parameters, scoring='neg_root_mean_squared_error',cv=cv,n_jobs=-1)\n",
    "lasso_result.fit(X, y)\n",
    "best_model = lasso_result.best_estimator_\n",
    "print(lasso_result.best_params_)"
   ]
  },
  {
   "cell_type": "code",
   "execution_count": 100,
   "id": "6d1abd6a",
   "metadata": {},
   "outputs": [
    {
     "data": {
      "application/vnd.jupyter.widget-view+json": {
       "model_id": "14512a69380f4514ae421e949cee44f8",
       "version_major": 2,
       "version_minor": 0
      },
      "text/plain": [
       "HBox(children=(FloatProgress(value=0.0, max=3.0), HTML(value='')))"
      ]
     },
     "metadata": {},
     "output_type": "display_data"
    },
    {
     "name": "stdout",
     "output_type": "stream",
     "text": [
      "\n",
      "\n",
      "   <--- Validation Errors --->\n",
      "MAE  | Mean: 2.32643, SD: 0.06842\n",
      "RMSE | Mean: 3.02067, SD: 0.10082\n",
      "\n"
     ]
    }
   ],
   "source": [
    "errors = utils.cross_val(best_model, X, y, n_folds=3)\n",
    "utils.summarize_errors(errors, verbose=0)"
   ]
  },
  {
   "cell_type": "markdown",
   "id": "4c9ebc2e",
   "metadata": {},
   "source": [
    "### Vanilla XGBRegressor"
   ]
  },
  {
   "cell_type": "code",
   "execution_count": 101,
   "id": "137a5647",
   "metadata": {},
   "outputs": [],
   "source": [
    "xg_reg = XGBRegressor()\n",
    "model = xg_reg.fit(X, y)"
   ]
  },
  {
   "cell_type": "code",
   "execution_count": 102,
   "id": "199c2d3a",
   "metadata": {},
   "outputs": [
    {
     "data": {
      "application/vnd.jupyter.widget-view+json": {
       "model_id": "4debcb4464794dec9d4c69ab000367b8",
       "version_major": 2,
       "version_minor": 0
      },
      "text/plain": [
       "HBox(children=(FloatProgress(value=0.0, max=3.0), HTML(value='')))"
      ]
     },
     "metadata": {},
     "output_type": "display_data"
    },
    {
     "name": "stdout",
     "output_type": "stream",
     "text": [
      "\n",
      "\n",
      "   <--- Validation Errors --->\n",
      "MAE  | Mean: 2.27302, SD: 0.04217\n",
      "RMSE | Mean: 3.06709, SD: 0.10056\n",
      "\n"
     ]
    }
   ],
   "source": [
    "errors = utils.cross_val(model, X, y, n_folds=3)\n",
    "utils.summarize_errors(errors, verbose=0)"
   ]
  },
  {
   "cell_type": "markdown",
   "id": "18eea015",
   "metadata": {},
   "source": [
    "###  XGBRegressor w/Bayesian Optimized Hyperparameters"
   ]
  },
  {
   "cell_type": "code",
   "execution_count": 103,
   "id": "5059f27c",
   "metadata": {},
   "outputs": [],
   "source": [
    "from bayes_opt import BayesianOptimization"
   ]
  },
  {
   "cell_type": "code",
   "execution_count": 104,
   "id": "2ce628e6",
   "metadata": {},
   "outputs": [],
   "source": [
    "cv = RepeatedKFold(n_splits=2, n_repeats=10)\n",
    "def bo_tune_xgb(max_depth, gamma, n_estimators, learning_rate, subsample):\n",
    "    params = {'gamma': gamma, \n",
    "              'learning_rate':learning_rate, \n",
    "              'max_depth': int(max_depth), \n",
    "              'n_estimators': int(n_estimators), \n",
    "              'subsample': subsample, \n",
    "              'eta': 0.1, \n",
    "              'eval_metric': 'rmse'}\n",
    "    scores = cross_val_score(XGBRegressor(random_state=42, **params), X, y, \n",
    "                             scoring='neg_root_mean_squared_error', cv=3).mean()\n",
    "    score = scores.mean()\n",
    "    return score"
   ]
  },
  {
   "cell_type": "code",
   "execution_count": 105,
   "id": "36dd57fa",
   "metadata": {
    "scrolled": true
   },
   "outputs": [
    {
     "name": "stdout",
     "output_type": "stream",
     "text": [
      "|   iter    |  target   |   gamma   | learni... | max_depth | n_esti... | subsample |\n",
      "-------------------------------------------------------------------------------------\n",
      "| \u001b[0m 1       \u001b[0m | \u001b[0m-3.431   \u001b[0m | \u001b[0m 0.3745  \u001b[0m | \u001b[0m 0.9507  \u001b[0m | \u001b[0m 8.124   \u001b[0m | \u001b[0m 112.0   \u001b[0m | \u001b[0m 0.8312  \u001b[0m |\n",
      "| \u001b[95m 2       \u001b[0m | \u001b[95m-2.867   \u001b[0m | \u001b[95m 0.156   \u001b[0m | \u001b[95m 0.05808 \u001b[0m | \u001b[95m 9.063   \u001b[0m | \u001b[95m 112.0   \u001b[0m | \u001b[95m 0.9416  \u001b[0m |\n",
      "| \u001b[0m 3       \u001b[0m | \u001b[0m-3.46    \u001b[0m | \u001b[0m 0.02058 \u001b[0m | \u001b[0m 0.9699  \u001b[0m | \u001b[0m 8.827   \u001b[0m | \u001b[0m 104.2   \u001b[0m | \u001b[0m 0.8364  \u001b[0m |\n",
      "| \u001b[0m 4       \u001b[0m | \u001b[0m-2.999   \u001b[0m | \u001b[0m 0.1834  \u001b[0m | \u001b[0m 0.3042  \u001b[0m | \u001b[0m 6.673   \u001b[0m | \u001b[0m 108.6   \u001b[0m | \u001b[0m 0.8582  \u001b[0m |\n",
      "| \u001b[95m 5       \u001b[0m | \u001b[95m-2.818   \u001b[0m | \u001b[95m 0.6119  \u001b[0m | \u001b[95m 0.1395  \u001b[0m | \u001b[95m 5.045   \u001b[0m | \u001b[95m 107.3   \u001b[0m | \u001b[95m 0.8912  \u001b[0m |\n",
      "| \u001b[0m 6       \u001b[0m | \u001b[0m-2.914   \u001b[0m | \u001b[0m 0.7852  \u001b[0m | \u001b[0m 0.1997  \u001b[0m | \u001b[0m 6.6     \u001b[0m | \u001b[0m 111.8   \u001b[0m | \u001b[0m 0.8093  \u001b[0m |\n",
      "| \u001b[0m 7       \u001b[0m | \u001b[0m-2.857   \u001b[0m | \u001b[0m 0.6075  \u001b[0m | \u001b[0m 0.1705  \u001b[0m | \u001b[0m 3.455   \u001b[0m | \u001b[0m 119.0   \u001b[0m | \u001b[0m 0.9931  \u001b[0m |\n",
      "| \u001b[0m 8       \u001b[0m | \u001b[0m-2.882   \u001b[0m | \u001b[0m 0.8084  \u001b[0m | \u001b[0m 0.3046  \u001b[0m | \u001b[0m 3.684   \u001b[0m | \u001b[0m 113.7   \u001b[0m | \u001b[0m 0.888   \u001b[0m |\n",
      "| \u001b[0m 9       \u001b[0m | \u001b[0m-2.993   \u001b[0m | \u001b[0m 0.122   \u001b[0m | \u001b[0m 0.4952  \u001b[0m | \u001b[0m 3.241   \u001b[0m | \u001b[0m 118.2   \u001b[0m | \u001b[0m 0.8518  \u001b[0m |\n",
      "| \u001b[0m 10      \u001b[0m | \u001b[0m-2.991   \u001b[0m | \u001b[0m 0.6625  \u001b[0m | \u001b[0m 0.3117  \u001b[0m | \u001b[0m 6.64    \u001b[0m | \u001b[0m 110.9   \u001b[0m | \u001b[0m 0.837   \u001b[0m |\n",
      "| \u001b[0m 11      \u001b[0m | \u001b[0m-3.247   \u001b[0m | \u001b[0m 0.9696  \u001b[0m | \u001b[0m 0.7751  \u001b[0m | \u001b[0m 9.576   \u001b[0m | \u001b[0m 117.9   \u001b[0m | \u001b[0m 0.9196  \u001b[0m |\n",
      "| \u001b[0m 12      \u001b[0m | \u001b[0m-2.831   \u001b[0m | \u001b[0m 0.9219  \u001b[0m | \u001b[0m 0.08849 \u001b[0m | \u001b[0m 4.372   \u001b[0m | \u001b[0m 100.9   \u001b[0m | \u001b[0m 0.8651  \u001b[0m |\n",
      "| \u001b[0m 13      \u001b[0m | \u001b[0m-2.967   \u001b[0m | \u001b[0m 0.3887  \u001b[0m | \u001b[0m 0.2713  \u001b[0m | \u001b[0m 8.801   \u001b[0m | \u001b[0m 107.1   \u001b[0m | \u001b[0m 0.8562  \u001b[0m |\n",
      "| \u001b[0m 14      \u001b[0m | \u001b[0m-2.916   \u001b[0m | \u001b[0m 0.5427  \u001b[0m | \u001b[0m 0.1409  \u001b[0m | \u001b[0m 8.615   \u001b[0m | \u001b[0m 101.5   \u001b[0m | \u001b[0m 0.9974  \u001b[0m |\n",
      "| \u001b[0m 15      \u001b[0m | \u001b[0m-2.862   \u001b[0m | \u001b[0m 0.7722  \u001b[0m | \u001b[0m 0.1987  \u001b[0m | \u001b[0m 3.039   \u001b[0m | \u001b[0m 116.3   \u001b[0m | \u001b[0m 0.9414  \u001b[0m |\n",
      "| \u001b[0m 16      \u001b[0m | \u001b[0m-3.191   \u001b[0m | \u001b[0m 0.729   \u001b[0m | \u001b[0m 0.7713  \u001b[0m | \u001b[0m 3.518   \u001b[0m | \u001b[0m 107.2   \u001b[0m | \u001b[0m 0.8232  \u001b[0m |\n",
      "| \u001b[0m 17      \u001b[0m | \u001b[0m-3.189   \u001b[0m | \u001b[0m 0.8631  \u001b[0m | \u001b[0m 0.6233  \u001b[0m | \u001b[0m 5.316   \u001b[0m | \u001b[0m 101.3   \u001b[0m | \u001b[0m 0.8622  \u001b[0m |\n",
      "| \u001b[0m 18      \u001b[0m | \u001b[0m-3.223   \u001b[0m | \u001b[0m 0.3252  \u001b[0m | \u001b[0m 0.7296  \u001b[0m | \u001b[0m 7.463   \u001b[0m | \u001b[0m 117.7   \u001b[0m | \u001b[0m 0.8944  \u001b[0m |\n",
      "| \u001b[0m 19      \u001b[0m | \u001b[0m-3.157   \u001b[0m | \u001b[0m 0.1196  \u001b[0m | \u001b[0m 0.7132  \u001b[0m | \u001b[0m 8.325   \u001b[0m | \u001b[0m 111.2   \u001b[0m | \u001b[0m 0.9542  \u001b[0m |\n",
      "| \u001b[0m 20      \u001b[0m | \u001b[0m-3.136   \u001b[0m | \u001b[0m 0.4938  \u001b[0m | \u001b[0m 0.5227  \u001b[0m | \u001b[0m 5.993   \u001b[0m | \u001b[0m 100.5   \u001b[0m | \u001b[0m 0.8216  \u001b[0m |\n",
      "| \u001b[95m 21      \u001b[0m | \u001b[95m-2.805   \u001b[0m | \u001b[95m 0.6587  \u001b[0m | \u001b[95m 0.07559 \u001b[0m | \u001b[95m 5.057   \u001b[0m | \u001b[95m 107.3   \u001b[0m | \u001b[95m 0.9037  \u001b[0m |\n",
      "| \u001b[0m 22      \u001b[0m | \u001b[0m-4.258   \u001b[0m | \u001b[0m 0.7333  \u001b[0m | \u001b[0m 0.0     \u001b[0m | \u001b[0m 5.435   \u001b[0m | \u001b[0m 107.4   \u001b[0m | \u001b[0m 0.9445  \u001b[0m |\n",
      "| \u001b[0m 23      \u001b[0m | \u001b[0m-3.039   \u001b[0m | \u001b[0m 0.8832  \u001b[0m | \u001b[0m 0.02234 \u001b[0m | \u001b[0m 4.328   \u001b[0m | \u001b[0m 101.0   \u001b[0m | \u001b[0m 0.907   \u001b[0m |\n",
      "| \u001b[0m 24      \u001b[0m | \u001b[0m-3.33    \u001b[0m | \u001b[0m 0.6768  \u001b[0m | \u001b[0m 0.01089 \u001b[0m | \u001b[0m 3.515   \u001b[0m | \u001b[0m 118.9   \u001b[0m | \u001b[0m 0.9453  \u001b[0m |\n",
      "| \u001b[0m 25      \u001b[0m | \u001b[0m-2.83    \u001b[0m | \u001b[0m 0.8076  \u001b[0m | \u001b[0m 0.1758  \u001b[0m | \u001b[0m 5.217   \u001b[0m | \u001b[0m 105.4   \u001b[0m | \u001b[0m 0.9452  \u001b[0m |\n",
      "=====================================================================================\n"
     ]
    }
   ],
   "source": [
    "params = {'max_depth': (3, 10), \n",
    "          'gamma': (0, 1), \n",
    "          'n_estimators':(100,120), \n",
    "          'learning_rate':(0,1), \n",
    "          'subsample': (0.8, 1)}\n",
    "xgb_bo = BayesianOptimization(bo_tune_xgb, params, random_state = 42)\n",
    "xgb_bo.maximize(n_iter=5, init_points=20, acq='ei')"
   ]
  },
  {
   "cell_type": "code",
   "execution_count": 106,
   "id": "2e419a70",
   "metadata": {},
   "outputs": [
    {
     "data": {
      "text/plain": [
       "{'gamma': 0.6586518558565275,\n",
       " 'learning_rate': 0.07559046078933696,\n",
       " 'max_depth': 5,\n",
       " 'n_estimators': 107,\n",
       " 'subsample': 0.9037180568061505}"
      ]
     },
     "execution_count": 106,
     "metadata": {},
     "output_type": "execute_result"
    }
   ],
   "source": [
    "params = xgb_bo.max['params']\n",
    "params['max_depth']= int(params['max_depth'])\n",
    "params['n_estimators']= int(params['n_estimators'])\n",
    "params"
   ]
  },
  {
   "cell_type": "code",
   "execution_count": 107,
   "id": "d4d82894",
   "metadata": {},
   "outputs": [
    {
     "data": {
      "application/vnd.jupyter.widget-view+json": {
       "model_id": "60150d279db243c8b6df4a3e27812f16",
       "version_major": 2,
       "version_minor": 0
      },
      "text/plain": [
       "HBox(children=(FloatProgress(value=0.0, max=3.0), HTML(value='')))"
      ]
     },
     "metadata": {},
     "output_type": "display_data"
    },
    {
     "name": "stdout",
     "output_type": "stream",
     "text": [
      "\n",
      "\n",
      "   <--- Validation Errors --->\n",
      "MAE  | Mean: 2.155, SD: 0.02676\n",
      "RMSE | Mean: 2.87323, SD: 0.0892\n",
      "\n"
     ]
    }
   ],
   "source": [
    "clf= XGBRegressor(**params)\n",
    "errors = utils.cross_val(clf, X, y, n_folds=3)\n",
    "utils.summarize_errors(errors, verbose=0)"
   ]
  },
  {
   "cell_type": "markdown",
   "id": "8b509433",
   "metadata": {},
   "source": [
    "### Neural Network"
   ]
  },
  {
   "cell_type": "code",
   "execution_count": 119,
   "id": "0599bc82",
   "metadata": {},
   "outputs": [],
   "source": [
    "from keras.models import Sequential\n",
    "from keras.layers import Dense, Dropout\n",
    "from keras.wrappers.scikit_learn import KerasRegressor\n",
    "from sklearn.preprocessing import StandardScaler\n",
    "from sklearn.pipeline import Pipeline\n",
    "from sklearn.model_selection import KFold\n",
    "from sklearn import preprocessing\n",
    "from keras import regularizers\n",
    "from keras.callbacks import ModelCheckpoint\n",
    "import math"
   ]
  },
  {
   "cell_type": "code",
   "execution_count": 169,
   "id": "54b1857d",
   "metadata": {},
   "outputs": [],
   "source": [
    "def get_modelcheckpoint_path():\n",
    "    #Create a file path for a model and save models in hdf5 files with datetime, validation losses and epochs\n",
    "    parent = DATA_DIR+\"/NN/\"\n",
    "    child = pd.Timestamp.now().strftime('%Y%m%d-%Hh%Mm') + \"-model-epoch_{epoch:02d}-rmse_{val_loss:.5f}.hdf5\"\n",
    "    return parent + child \n",
    "\n",
    "def baseline_model():\n",
    "    # create model\n",
    "    model = Sequential()\n",
    "    model.add(Dense(X.shape[1], input_dim=X.shape[1], kernel_initializer='normal', activation='relu'))\n",
    "    model.add(Dense(15, kernel_initializer='normal', activation='relu'))\n",
    "    model.add(Dense(1, kernel_initializer='normal'))\n",
    "    model.compile(loss='mean_squared_error', optimizer='adam')\n",
    "    return model\n",
    "\n",
    "def dropout_model():\n",
    "    # create model\n",
    "    model = Sequential()\n",
    "    model.add(Dense(X.shape[1], input_dim=X.shape[1], kernel_initializer='normal', activation='relu'))\n",
    "    model.add(Dense(15, kernel_initializer='normal', activation='relu'))\n",
    "    #model.add(Dense(8, kernel_initializer='normal', activation='relu'))\n",
    "    model.add(Dropout(0.2))\n",
    "    model.add(Dense(1, kernel_initializer='normal'))\n",
    "    model.compile(loss='mean_squared_error', optimizer='adam')\n",
    "    return model\n",
    "\n",
    "def create_regressor(model, verbose=0):\n",
    "    reg = KerasRegressor(build_fn=model, epochs=100, batch_size=5, validation_split=0.2, shuffle=True, verbose=verbose)\n",
    "    return reg\n",
    "\n",
    "def plot_learning_process(history):\n",
    "    # summarize history for loss\n",
    "    plt.plot(history.history['loss'])\n",
    "    plt.plot(history.history['val_loss'])\n",
    "    plt.title('model loss')\n",
    "    plt.ylabel('loss')\n",
    "    plt.xlabel('epoch')\n",
    "    plt.legend(['train', 'test'], loc='upper left')\n",
    "    plt.show()\n",
    "    return None"
   ]
  },
  {
   "cell_type": "code",
   "execution_count": 173,
   "id": "2363bf3b",
   "metadata": {},
   "outputs": [
    {
     "data": {
      "image/png": "[encoded data removed]",
      "text/plain": [
       "<Figure size 432x288 with 1 Axes>"
      ]
     },
     "metadata": {
      "needs_background": "light"
     },
     "output_type": "display_data"
    }
   ],
   "source": [
    "base_keras = create_regressor(baseline_model, 1)\n",
    "base_history = base_keras.fit(X, y)\n",
    "plot_learning_process(base_history)"
   ]
  },
  {
   "cell_type": "code",
   "execution_count": 165,
   "id": "40b93b8a",
   "metadata": {},
   "outputs": [
    {
     "data": {
      "application/vnd.jupyter.widget-view+json": {
       "model_id": "7990204b02d4459d9a2c3af033bb1c8f",
       "version_major": 2,
       "version_minor": 0
      },
      "text/plain": [
       "HBox(children=(FloatProgress(value=0.0, max=5.0), HTML(value='')))"
      ]
     },
     "metadata": {},
     "output_type": "display_data"
    },
    {
     "name": "stdout",
     "output_type": "stream",
     "text": [
      "\n"
     ]
    }
   ],
   "source": [
    "errors = utils.cross_val(base_keras, X, y, n_folds=5)"
   ]
  },
  {
   "cell_type": "code",
   "execution_count": 174,
   "id": "d9593f67",
   "metadata": {},
   "outputs": [
    {
     "data": {
      "text/html": [
       "<div>\n",
       "<style scoped>\n",
       "    .dataframe tbody tr th:only-of-type {\n",
       "        vertical-align: middle;\n",
       "    }\n",
       "\n",
       "    .dataframe tbody tr th {\n",
       "        vertical-align: top;\n",
       "    }\n",
       "\n",
       "    .dataframe thead th {\n",
       "        text-align: right;\n",
       "    }\n",
       "</style>\n",
       "<table border=\"1\" class=\"dataframe\">\n",
       "  <thead>\n",
       "    <tr style=\"text-align: right;\">\n",
       "      <th></th>\n",
       "      <th></th>\n",
       "      <th></th>\n",
       "      <th></th>\n",
       "      <th></th>\n",
       "      <th></th>\n",
       "    </tr>\n",
       "    <tr>\n",
       "      <th>MAE</th>\n",
       "      <th></th>\n",
       "      <th></th>\n",
       "      <th></th>\n",
       "      <th></th>\n",
       "      <th></th>\n",
       "    </tr>\n",
       "  </thead>\n",
       "  <tbody>\n",
       "    <tr>\n",
       "      <th>train</th>\n",
       "      <td>2.380198</td>\n",
       "      <td>2.348606</td>\n",
       "      <td>2.273531</td>\n",
       "      <td>2.232481</td>\n",
       "      <td>2.260320</td>\n",
       "    </tr>\n",
       "    <tr>\n",
       "      <th>valid</th>\n",
       "      <td>2.667108</td>\n",
       "      <td>2.390620</td>\n",
       "      <td>2.397268</td>\n",
       "      <td>2.386748</td>\n",
       "      <td>2.206534</td>\n",
       "    </tr>\n",
       "  </tbody>\n",
       "</table>\n",
       "</div>"
      ],
      "text/plain": [
       "                                                       \n",
       "MAE                                                    \n",
       "train  2.380198  2.348606  2.273531  2.232481  2.260320\n",
       "valid  2.667108  2.390620  2.397268  2.386748  2.206534"
      ]
     },
     "metadata": {},
     "output_type": "display_data"
    },
    {
     "data": {
      "text/html": [
       "<div>\n",
       "<style scoped>\n",
       "    .dataframe tbody tr th:only-of-type {\n",
       "        vertical-align: middle;\n",
       "    }\n",
       "\n",
       "    .dataframe tbody tr th {\n",
       "        vertical-align: top;\n",
       "    }\n",
       "\n",
       "    .dataframe thead th {\n",
       "        text-align: right;\n",
       "    }\n",
       "</style>\n",
       "<table border=\"1\" class=\"dataframe\">\n",
       "  <thead>\n",
       "    <tr style=\"text-align: right;\">\n",
       "      <th></th>\n",
       "      <th></th>\n",
       "      <th></th>\n",
       "      <th></th>\n",
       "      <th></th>\n",
       "      <th></th>\n",
       "    </tr>\n",
       "    <tr>\n",
       "      <th>RMSE</th>\n",
       "      <th></th>\n",
       "      <th></th>\n",
       "      <th></th>\n",
       "      <th></th>\n",
       "      <th></th>\n",
       "    </tr>\n",
       "  </thead>\n",
       "  <tbody>\n",
       "    <tr>\n",
       "      <th>train</th>\n",
       "      <td>3.012647</td>\n",
       "      <td>3.032024</td>\n",
       "      <td>2.961114</td>\n",
       "      <td>2.977765</td>\n",
       "      <td>2.961708</td>\n",
       "    </tr>\n",
       "    <tr>\n",
       "      <th>valid</th>\n",
       "      <td>3.355114</td>\n",
       "      <td>3.057458</td>\n",
       "      <td>3.027008</td>\n",
       "      <td>3.126795</td>\n",
       "      <td>2.893297</td>\n",
       "    </tr>\n",
       "  </tbody>\n",
       "</table>\n",
       "</div>"
      ],
      "text/plain": [
       "                                                       \n",
       "RMSE                                                   \n",
       "train  3.012647  3.032024  2.961114  2.977765  2.961708\n",
       "valid  3.355114  3.057458  3.027008  3.126795  2.893297"
      ]
     },
     "metadata": {},
     "output_type": "display_data"
    },
    {
     "name": "stdout",
     "output_type": "stream",
     "text": [
      "\n",
      "   <--- Validation Errors --->\n",
      "MAE  | Mean: 2.40966, SD: 0.14736\n",
      "RMSE | Mean: 3.09193, SD: 0.15188\n",
      "\n"
     ]
    }
   ],
   "source": [
    "utils.summarize_errors(errors, verbose=1)"
   ]
  },
  {
   "cell_type": "code",
   "execution_count": 175,
   "id": "de63dba1",
   "metadata": {},
   "outputs": [
    {
     "data": {
      "image/png": "[encoded data removed]",
      "text/plain": [
       "<Figure size 432x288 with 1 Axes>"
      ]
     },
     "metadata": {
      "needs_background": "light"
     },
     "output_type": "display_data"
    }
   ],
   "source": [
    "dropout_keras = create_regressor(dropout_model, 1)\n",
    "dropout_history = base_keras.fit(X, y)\n",
    "plot_learning_process(dropout_history)"
   ]
  },
  {
   "cell_type": "code",
   "execution_count": 176,
   "id": "3ef4576e",
   "metadata": {
    "scrolled": true
   },
   "outputs": [
    {
     "data": {
      "application/vnd.jupyter.widget-view+json": {
       "model_id": "6200eb48f297436c921451e790715f43",
       "version_major": 2,
       "version_minor": 0
      },
      "text/plain": [
       "HBox(children=(FloatProgress(value=0.0, max=5.0), HTML(value='')))"
      ]
     },
     "metadata": {},
     "output_type": "display_data"
    },
    {
     "name": "stdout",
     "output_type": "stream",
     "text": [
      "\n"
     ]
    },
    {
     "data": {
      "text/html": [
       "<div>\n",
       "<style scoped>\n",
       "    .dataframe tbody tr th:only-of-type {\n",
       "        vertical-align: middle;\n",
       "    }\n",
       "\n",
       "    .dataframe tbody tr th {\n",
       "        vertical-align: top;\n",
       "    }\n",
       "\n",
       "    .dataframe thead th {\n",
       "        text-align: right;\n",
       "    }\n",
       "</style>\n",
       "<table border=\"1\" class=\"dataframe\">\n",
       "  <thead>\n",
       "    <tr style=\"text-align: right;\">\n",
       "      <th></th>\n",
       "      <th></th>\n",
       "      <th></th>\n",
       "      <th></th>\n",
       "      <th></th>\n",
       "      <th></th>\n",
       "    </tr>\n",
       "    <tr>\n",
       "      <th>MAE</th>\n",
       "      <th></th>\n",
       "      <th></th>\n",
       "      <th></th>\n",
       "      <th></th>\n",
       "      <th></th>\n",
       "    </tr>\n",
       "  </thead>\n",
       "  <tbody>\n",
       "    <tr>\n",
       "      <th>train</th>\n",
       "      <td>2.185478</td>\n",
       "      <td>2.234422</td>\n",
       "      <td>2.237876</td>\n",
       "      <td>2.296975</td>\n",
       "      <td>2.362023</td>\n",
       "    </tr>\n",
       "    <tr>\n",
       "      <th>valid</th>\n",
       "      <td>2.470519</td>\n",
       "      <td>2.281643</td>\n",
       "      <td>2.345931</td>\n",
       "      <td>2.396979</td>\n",
       "      <td>2.306531</td>\n",
       "    </tr>\n",
       "  </tbody>\n",
       "</table>\n",
       "</div>"
      ],
      "text/plain": [
       "                                                       \n",
       "MAE                                                    \n",
       "train  2.185478  2.234422  2.237876  2.296975  2.362023\n",
       "valid  2.470519  2.281643  2.345931  2.396979  2.306531"
      ]
     },
     "metadata": {},
     "output_type": "display_data"
    },
    {
     "data": {
      "text/html": [
       "<div>\n",
       "<style scoped>\n",
       "    .dataframe tbody tr th:only-of-type {\n",
       "        vertical-align: middle;\n",
       "    }\n",
       "\n",
       "    .dataframe tbody tr th {\n",
       "        vertical-align: top;\n",
       "    }\n",
       "\n",
       "    .dataframe thead th {\n",
       "        text-align: right;\n",
       "    }\n",
       "</style>\n",
       "<table border=\"1\" class=\"dataframe\">\n",
       "  <thead>\n",
       "    <tr style=\"text-align: right;\">\n",
       "      <th></th>\n",
       "      <th></th>\n",
       "      <th></th>\n",
       "      <th></th>\n",
       "      <th></th>\n",
       "      <th></th>\n",
       "    </tr>\n",
       "    <tr>\n",
       "      <th>RMSE</th>\n",
       "      <th></th>\n",
       "      <th></th>\n",
       "      <th></th>\n",
       "      <th></th>\n",
       "      <th></th>\n",
       "    </tr>\n",
       "  </thead>\n",
       "  <tbody>\n",
       "    <tr>\n",
       "      <th>train</th>\n",
       "      <td>2.877507</td>\n",
       "      <td>2.958758</td>\n",
       "      <td>2.965994</td>\n",
       "      <td>2.966675</td>\n",
       "      <td>3.037837</td>\n",
       "    </tr>\n",
       "    <tr>\n",
       "      <th>valid</th>\n",
       "      <td>3.240956</td>\n",
       "      <td>2.999483</td>\n",
       "      <td>2.995798</td>\n",
       "      <td>3.092190</td>\n",
       "      <td>2.953686</td>\n",
       "    </tr>\n",
       "  </tbody>\n",
       "</table>\n",
       "</div>"
      ],
      "text/plain": [
       "                                                       \n",
       "RMSE                                                   \n",
       "train  2.877507  2.958758  2.965994  2.966675  3.037837\n",
       "valid  3.240956  2.999483  2.995798  3.092190  2.953686"
      ]
     },
     "metadata": {},
     "output_type": "display_data"
    },
    {
     "name": "stdout",
     "output_type": "stream",
     "text": [
      "\n",
      "   <--- Validation Errors --->\n",
      "MAE  | Mean: 2.36032, SD: 0.0675\n",
      "RMSE | Mean: 3.05642, SD: 0.10277\n",
      "\n"
     ]
    }
   ],
   "source": [
    "errors = utils.cross_val(dropout_keras, X, y, n_folds=5)\n",
    "utils.summarize_errors(errors, verbose=1)"
   ]
  },
  {
   "cell_type": "code",
   "execution_count": null,
   "id": "b7383523",
   "metadata": {},
   "outputs": [],
   "source": []
  }
 ],
 "metadata": {
  "kernelspec": {
   "display_name": "Python 3",
   "language": "python",
   "name": "python3"
  },
  "language_info": {
   "codemirror_mode": {
    "name": "ipython",
    "version": 3
   },
   "file_extension": ".py",
   "mimetype": "text/x-python",
   "name": "python",
   "nbconvert_exporter": "python",
   "pygments_lexer": "ipython3",
   "version": "3.8.8"
  }
 },
 "nbformat": 4,
 "nbformat_minor": 5
}
