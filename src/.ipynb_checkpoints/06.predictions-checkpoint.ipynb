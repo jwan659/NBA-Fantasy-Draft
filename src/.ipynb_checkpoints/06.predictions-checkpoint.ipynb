{
 "cells": [
  {
   "cell_type": "markdown",
   "id": "76bd4d8a",
   "metadata": {},
   "source": [
    "Lastly, we'll run our predictions. We want to run predictions for all punt types since we don't know the punt type we'll be going with at the beginning of the draft. After the first couple of picks, we'll have a better idea of which stats we want to tank and thus, we can refer to the dataset correspondingly."
   ]
  },
  {
   "cell_type": "code",
   "execution_count": 1,
   "id": "0d088e81",
   "metadata": {},
   "outputs": [],
   "source": [
    "import os\n",
    "import utils\n",
    "import warnings\n",
    "\n",
    "import numpy as np\n",
    "import pandas as pd\n",
    "import matplotlib.pyplot as plt\n",
    "import xgboost as xgb\n",
    "\n",
    "from bayes_opt import BayesianOptimization\n",
    "from sklearn.ensemble import GradientBoostingRegressor\n",
    "from sklearn.linear_model import LinearRegression\n",
    "from sklearn.linear_model import Lasso\n",
    "from sklearn.linear_model import Ridge\n",
    "from sklearn.metrics import mean_absolute_error as mae\n",
    "from sklearn.metrics import mean_squared_error as mse\n",
    "from sklearn.model_selection import cross_val_score\n",
    "from sklearn.model_selection import GridSearchCV\n",
    "from sklearn.model_selection import RepeatedKFold\n",
    "from sklearn.model_selection import train_test_split\n",
    "from tqdm import tqdm_notebook as tqdm\n",
    "from xgboost import XGBRegressor\n",
    "\n",
    "from constants import DATA_DIR\n",
    "from constants import PUNT_TYPES\n",
    "warnings.filterwarnings('ignore')"
   ]
  },
  {
   "cell_type": "markdown",
   "id": "06c037e5",
   "metadata": {},
   "source": [
    "First, we'll refit the model again using the optimal parameter found before on the ABT. Next we'll come up with predicted value using the past season's data and store it in a new folder. This is done for each punt type."
   ]
  },
  {
   "cell_type": "code",
   "execution_count": 2,
   "id": "3399dafc",
   "metadata": {
    "scrolled": true
   },
   "outputs": [
    {
     "data": {
      "application/vnd.jupyter.widget-view+json": {
       "model_id": "e6cd0461e9b0435d9c3c74b76033825d",
       "version_major": 2,
       "version_minor": 0
      },
      "text/plain": [
       "HBox(children=(FloatProgress(value=0.0, max=536.0), HTML(value='')))"
      ]
     },
     "metadata": {},
     "output_type": "display_data"
    },
    {
     "name": "stdout",
     "output_type": "stream",
     "text": [
      "\n"
     ]
    },
    {
     "data": {
      "application/vnd.jupyter.widget-view+json": {
       "model_id": "939b4dd406a347b293520a04a39ad044",
       "version_major": 2,
       "version_minor": 0
      },
      "text/plain": [
       "HBox(children=(FloatProgress(value=0.0, max=536.0), HTML(value='')))"
      ]
     },
     "metadata": {},
     "output_type": "display_data"
    },
    {
     "name": "stdout",
     "output_type": "stream",
     "text": [
      "\n"
     ]
    },
    {
     "data": {
      "application/vnd.jupyter.widget-view+json": {
       "model_id": "bc7d31f600434568a775cd1fb7bfdd2b",
       "version_major": 2,
       "version_minor": 0
      },
      "text/plain": [
       "HBox(children=(FloatProgress(value=0.0, max=536.0), HTML(value='')))"
      ]
     },
     "metadata": {},
     "output_type": "display_data"
    },
    {
     "name": "stdout",
     "output_type": "stream",
     "text": [
      "\n"
     ]
    },
    {
     "data": {
      "application/vnd.jupyter.widget-view+json": {
       "model_id": "a3c1fa89281b4635a8eb0a8e157c1ee9",
       "version_major": 2,
       "version_minor": 0
      },
      "text/plain": [
       "HBox(children=(FloatProgress(value=0.0, max=536.0), HTML(value='')))"
      ]
     },
     "metadata": {},
     "output_type": "display_data"
    },
    {
     "name": "stdout",
     "output_type": "stream",
     "text": [
      "\n"
     ]
    },
    {
     "data": {
      "application/vnd.jupyter.widget-view+json": {
       "model_id": "a516e99ad58b4713b8ff4e87a4dddece",
       "version_major": 2,
       "version_minor": 0
      },
      "text/plain": [
       "HBox(children=(FloatProgress(value=0.0, max=536.0), HTML(value='')))"
      ]
     },
     "metadata": {},
     "output_type": "display_data"
    },
    {
     "name": "stdout",
     "output_type": "stream",
     "text": [
      "\n"
     ]
    },
    {
     "data": {
      "application/vnd.jupyter.widget-view+json": {
       "model_id": "f05ee6452ced45349133b9cf01ba3999",
       "version_major": 2,
       "version_minor": 0
      },
      "text/plain": [
       "HBox(children=(FloatProgress(value=0.0, max=536.0), HTML(value='')))"
      ]
     },
     "metadata": {},
     "output_type": "display_data"
    },
    {
     "name": "stdout",
     "output_type": "stream",
     "text": [
      "\n"
     ]
    },
    {
     "data": {
      "application/vnd.jupyter.widget-view+json": {
       "model_id": "2c049ff7ad504b93858462127a91c256",
       "version_major": 2,
       "version_minor": 0
      },
      "text/plain": [
       "HBox(children=(FloatProgress(value=0.0, max=536.0), HTML(value='')))"
      ]
     },
     "metadata": {},
     "output_type": "display_data"
    },
    {
     "name": "stdout",
     "output_type": "stream",
     "text": [
      "\n"
     ]
    },
    {
     "data": {
      "application/vnd.jupyter.widget-view+json": {
       "model_id": "80f857e1e66e4f3ba3544e0a209a2c86",
       "version_major": 2,
       "version_minor": 0
      },
      "text/plain": [
       "HBox(children=(FloatProgress(value=0.0, max=536.0), HTML(value='')))"
      ]
     },
     "metadata": {},
     "output_type": "display_data"
    },
    {
     "name": "stdout",
     "output_type": "stream",
     "text": [
      "\n"
     ]
    },
    {
     "data": {
      "application/vnd.jupyter.widget-view+json": {
       "model_id": "3c60ada6623647778762fc7b7ae6fdab",
       "version_major": 2,
       "version_minor": 0
      },
      "text/plain": [
       "HBox(children=(FloatProgress(value=0.0, max=536.0), HTML(value='')))"
      ]
     },
     "metadata": {},
     "output_type": "display_data"
    },
    {
     "name": "stdout",
     "output_type": "stream",
     "text": [
      "\n"
     ]
    },
    {
     "data": {
      "application/vnd.jupyter.widget-view+json": {
       "model_id": "3243dc583e904ac6a871f230144250bc",
       "version_major": 2,
       "version_minor": 0
      },
      "text/plain": [
       "HBox(children=(FloatProgress(value=0.0, max=536.0), HTML(value='')))"
      ]
     },
     "metadata": {},
     "output_type": "display_data"
    },
    {
     "name": "stdout",
     "output_type": "stream",
     "text": [
      "\n"
     ]
    },
    {
     "data": {
      "application/vnd.jupyter.widget-view+json": {
       "model_id": "225d74dde749417eb38230033ab27154",
       "version_major": 2,
       "version_minor": 0
      },
      "text/plain": [
       "HBox(children=(FloatProgress(value=0.0, max=536.0), HTML(value='')))"
      ]
     },
     "metadata": {},
     "output_type": "display_data"
    },
    {
     "name": "stdout",
     "output_type": "stream",
     "text": [
      "\n"
     ]
    },
    {
     "data": {
      "application/vnd.jupyter.widget-view+json": {
       "model_id": "e5b42e7de92b4bc0b4de722a974fdd45",
       "version_major": 2,
       "version_minor": 0
      },
      "text/plain": [
       "HBox(children=(FloatProgress(value=0.0, max=536.0), HTML(value='')))"
      ]
     },
     "metadata": {},
     "output_type": "display_data"
    },
    {
     "name": "stdout",
     "output_type": "stream",
     "text": [
      "\n"
     ]
    }
   ],
   "source": [
    "# Read fitting data with parameters, Create datasets\n",
    "weight = 'quad'\n",
    "season = '2020-21'\n",
    "for punt in PUNT_TYPES:\n",
    "    # fit the model\n",
    "    if punt == []:\n",
    "        punt_name = 'Base'\n",
    "    else:\n",
    "        punt_name = '+'.join(punt)\n",
    "    train = pd.read_csv(os.path.join(DATA_DIR,'ABT',punt_name+'.csv'))\n",
    "    X = train.loc[:, train.columns != 'VALUE']\n",
    "    y = train['VALUE'].values.reshape(-1,1).flatten()\n",
    "    lasso = Lasso(alpha=1e-3)\n",
    "    lasso.fit(X, y)\n",
    "    \n",
    "    # get prediction data\n",
    "    merged = utils.csv_concatenate(os.path.join(DATA_DIR,punt_name,'Value'))\n",
    "    merged.sort_values(by=['SEASON'], inplace=True)\n",
    "    pred_data = utils.weigh_data(weight, season, merged, True)\n",
    "    pred_data.set_index('PLAYER',inplace=True)\n",
    "    pred_y = pred_data['VALUE']\n",
    "    pred_data.drop(columns=['TEAM','SEASON','VALUE'], inplace=True)\n",
    "    pred_data = pd.get_dummies(pred_data)\n",
    "    pred = lasso.predict(pred_data)\n",
    "    \n",
    "    #dataset created\n",
    "    pred_data['PRED'] = pred\n",
    "    pred_data.to_csv(os.path.join(DATA_DIR,'PRED',punt_name+'.csv'))"
   ]
  },
  {
   "cell_type": "markdown",
   "id": "05a9826a",
   "metadata": {},
   "source": [
    "After this our work is essentially done! We've figured out how we can optimize our drafting based on which category we want to punt and trained our models to predict our scores within ~1 RMSE. Next we can just include some helper functions that will aide us on drafting day."
   ]
  },
  {
   "cell_type": "code",
   "execution_count": 3,
   "id": "199bd45d",
   "metadata": {
    "scrolled": true
   },
   "outputs": [
    {
     "data": {
      "text/html": [
       "<div>\n",
       "<style scoped>\n",
       "    .dataframe tbody tr th:only-of-type {\n",
       "        vertical-align: middle;\n",
       "    }\n",
       "\n",
       "    .dataframe tbody tr th {\n",
       "        vertical-align: top;\n",
       "    }\n",
       "\n",
       "    .dataframe thead th {\n",
       "        text-align: right;\n",
       "    }\n",
       "</style>\n",
       "<table border=\"1\" class=\"dataframe\">\n",
       "  <thead>\n",
       "    <tr style=\"text-align: right;\">\n",
       "      <th></th>\n",
       "      <th>James Harden</th>\n",
       "      <th>Bradley Beal</th>\n",
       "      <th>Fred VanVleet</th>\n",
       "      <th>Sum</th>\n",
       "    </tr>\n",
       "    <tr>\n",
       "      <th>Punt</th>\n",
       "      <th></th>\n",
       "      <th></th>\n",
       "      <th></th>\n",
       "      <th></th>\n",
       "    </tr>\n",
       "  </thead>\n",
       "  <tbody>\n",
       "    <tr>\n",
       "      <th>Base</th>\n",
       "      <td>14.317128</td>\n",
       "      <td>10.650868</td>\n",
       "      <td>10.872908</td>\n",
       "      <td>35.840904</td>\n",
       "    </tr>\n",
       "    <tr>\n",
       "      <th>FG%</th>\n",
       "      <td>11.760281</td>\n",
       "      <td>7.718878</td>\n",
       "      <td>10.196662</td>\n",
       "      <td>29.675821</td>\n",
       "    </tr>\n",
       "    <tr>\n",
       "      <th>BLK+FG%</th>\n",
       "      <td>10.751292</td>\n",
       "      <td>7.658457</td>\n",
       "      <td>9.748664</td>\n",
       "      <td>28.158412</td>\n",
       "    </tr>\n",
       "    <tr>\n",
       "      <th>BLK</th>\n",
       "      <td>10.788879</td>\n",
       "      <td>7.943299</td>\n",
       "      <td>9.311119</td>\n",
       "      <td>28.043297</td>\n",
       "    </tr>\n",
       "    <tr>\n",
       "      <th>FG%+TRB</th>\n",
       "      <td>10.197947</td>\n",
       "      <td>7.278019</td>\n",
       "      <td>10.006377</td>\n",
       "      <td>27.482344</td>\n",
       "    </tr>\n",
       "    <tr>\n",
       "      <th>TRB</th>\n",
       "      <td>10.237596</td>\n",
       "      <td>7.571286</td>\n",
       "      <td>9.568914</td>\n",
       "      <td>27.377796</td>\n",
       "    </tr>\n",
       "    <tr>\n",
       "      <th>FT%</th>\n",
       "      <td>11.079537</td>\n",
       "      <td>7.223532</td>\n",
       "      <td>8.872134</td>\n",
       "      <td>27.175202</td>\n",
       "    </tr>\n",
       "    <tr>\n",
       "      <th>STL</th>\n",
       "      <td>9.954248</td>\n",
       "      <td>6.624912</td>\n",
       "      <td>7.203903</td>\n",
       "      <td>23.783064</td>\n",
       "    </tr>\n",
       "    <tr>\n",
       "      <th>PTS</th>\n",
       "      <td>8.671526</td>\n",
       "      <td>4.252741</td>\n",
       "      <td>8.097697</td>\n",
       "      <td>21.021964</td>\n",
       "    </tr>\n",
       "    <tr>\n",
       "      <th>AST</th>\n",
       "      <td>7.441505</td>\n",
       "      <td>6.214798</td>\n",
       "      <td>7.269583</td>\n",
       "      <td>20.925886</td>\n",
       "    </tr>\n",
       "    <tr>\n",
       "      <th>PTS+FT%</th>\n",
       "      <td>7.944411</td>\n",
       "      <td>3.459469</td>\n",
       "      <td>7.206709</td>\n",
       "      <td>18.610590</td>\n",
       "    </tr>\n",
       "    <tr>\n",
       "      <th>AST+STL</th>\n",
       "      <td>5.587622</td>\n",
       "      <td>4.825252</td>\n",
       "      <td>4.713192</td>\n",
       "      <td>15.126066</td>\n",
       "    </tr>\n",
       "  </tbody>\n",
       "</table>\n",
       "</div>"
      ],
      "text/plain": [
       "         James Harden  Bradley Beal  Fred VanVleet        Sum\n",
       "Punt                                                         \n",
       "Base        14.317128     10.650868      10.872908  35.840904\n",
       "FG%         11.760281      7.718878      10.196662  29.675821\n",
       "BLK+FG%     10.751292      7.658457       9.748664  28.158412\n",
       "BLK         10.788879      7.943299       9.311119  28.043297\n",
       "FG%+TRB     10.197947      7.278019      10.006377  27.482344\n",
       "TRB         10.237596      7.571286       9.568914  27.377796\n",
       "FT%         11.079537      7.223532       8.872134  27.175202\n",
       "STL          9.954248      6.624912       7.203903  23.783064\n",
       "PTS          8.671526      4.252741       8.097697  21.021964\n",
       "AST          7.441505      6.214798       7.269583  20.925886\n",
       "PTS+FT%      7.944411      3.459469       7.206709  18.610590\n",
       "AST+STL      5.587622      4.825252       4.713192  15.126066"
      ]
     },
     "execution_count": 3,
     "metadata": {},
     "output_type": "execute_result"
    }
   ],
   "source": [
    "def which_punt(player_list):\n",
    "    rows = []\n",
    "    for punt in PUNT_TYPES:\n",
    "        if punt == []:\n",
    "            punt_name = 'Base'\n",
    "        else:\n",
    "            punt_name = '+'.join(punt)\n",
    "        \n",
    "        df = pd.read_csv(os.path.join(DATA_DIR,'PRED',punt_name+'.csv')).set_index('PLAYER')\n",
    "        stats=[punt_name]\n",
    "        for player in player_list:\n",
    "            stats.append(df.loc[player,'PRED'])\n",
    "        rows.append(stats)\n",
    "    columns = ['Punt']\n",
    "    for player in player_list:\n",
    "        columns.append(player)\n",
    "    rank = pd.DataFrame(rows,columns=columns)\n",
    "    rank['Sum'] = rank.sum(1)\n",
    "    rank.sort_values(by='Sum', ascending=False, inplace=True)\n",
    "    rank.set_index('Punt', inplace=True)\n",
    "    return rank\n",
    "\n",
    "player_list = ['James Harden','Bradley Beal','Fred VanVleet']\n",
    "which_punt(player_list)"
   ]
  },
  {
   "cell_type": "code",
   "execution_count": null,
   "id": "fe870de3",
   "metadata": {},
   "outputs": [],
   "source": []
  }
 ],
 "metadata": {
  "kernelspec": {
   "display_name": "Python 3",
   "language": "python",
   "name": "python3"
  },
  "language_info": {
   "codemirror_mode": {
    "name": "ipython",
    "version": 3
   },
   "file_extension": ".py",
   "mimetype": "text/x-python",
   "name": "python",
   "nbconvert_exporter": "python",
   "pygments_lexer": "ipython3",
   "version": "3.8.8"
  }
 },
 "nbformat": 4,
 "nbformat_minor": 5
}
