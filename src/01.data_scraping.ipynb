{
 "cells": [
  {
   "cell_type": "code",
   "execution_count": 6,
   "id": "54453950",
   "metadata": {},
   "outputs": [],
   "source": [
    "import os\n",
    "import re\n",
    "import time\n",
    "import glob\n",
    "import numpy as np\n",
    "import pandas as pd\n",
    "import lxml\n",
    "from requests import get\n",
    "from bs4 import BeautifulSoup\n",
    "from basketball_reference_scraper.teams import get_roster_stats as grs\n",
    "from basketball_reference_scraper.utils import remove_accents\n",
    "from urllib.request import urlopen\n",
    "from bs4 import BeautifulSoup\n",
    "from tqdm import tqdm_notebook as tqdm\n",
    "from tqdm.notebook import tqdm\n",
    "from constants import DATA_DIR #TEAMS, SECONDS_SLEEP"
   ]
  },
  {
   "cell_type": "code",
   "execution_count": 9,
   "id": "1a060624",
   "metadata": {},
   "outputs": [],
   "source": [
    "class DataScraper():\n",
    "    def get_roster_stats(self, team, season):\n",
    "        df = grs(team, season)\n",
    "        return df\n",
    "    \n",
    "    # some players were traded midseason and therefore appear more than once, let's merge them\n",
    "    def merge_duplicates(self, df):\n",
    "        duplicate = df.pivot_table(index=['PLAYER'], aggfunc='size')\n",
    "        duplicate = duplicate[duplicate != 1]\n",
    "        for player in duplicate.index:\n",
    "            df1 = df.loc[df['PLAYER'] == player].fillna(0)\n",
    "            df1 = df1.apply(pd.to_numeric, errors='ignore')\n",
    "            # create merged row\n",
    "            merged = df1.iloc[0]\n",
    "            total_games = df1['G'].sum()\n",
    "            merged['G'] = total_games\n",
    "            merged['GS'] = df1['GS'].sum()\n",
    "            weighted_stats = pd.DataFrame()\n",
    "            \n",
    "            for index, row in df1._get_numeric_data().iterrows():\n",
    "                weight = row['G']/total_games #calculate weight\n",
    "                new_row = row*weight #muliply weight to get new values\n",
    "                weighted_stats = weighted_stats.append(new_row) #add to df\n",
    "            \n",
    "            weighted_stats = weighted_stats.sum(axis=0, skipna=True)\n",
    "            merged_stats = ['MP','FG','FGA','3P','3PA','2P','2PA','FT','FTA', \n",
    "                            'ORB','DRB','TRB','AST','STL','BLK','TOV','PF','PTS']\n",
    "            \n",
    "            for stat in merged_stats:\n",
    "                merged[stat] = weighted_stats[stat]\n",
    "            \n",
    "            # calulate % stats\n",
    "            merged['FG%'] = merged['FG']/merged['FGA']\n",
    "            merged['3P%'] = merged['3P']/merged['3PA']\n",
    "            merged['2P%'] = merged['2P']/merged['2PA']\n",
    "            merged['eFG%'] = (merged['FG']+0.5*merged['3P'])/merged['FGA']\n",
    "            merged['FT%'] = merged['FT']/merged['FTA']\n",
    "            merged=merged.fillna(0)\n",
    "            \n",
    "            df = df[df.PLAYER != player]\n",
    "            df = df.append(merged)\n",
    "           \n",
    "        return df\n",
    "        "
   ]
  },
  {
   "cell_type": "code",
   "execution_count": 10,
   "id": "63a75bce",
   "metadata": {},
   "outputs": [
    {
     "data": {
      "application/vnd.jupyter.widget-view+json": {
       "model_id": "a6939ac091a84e1fbcb36244a7f3a07a",
       "version_major": 2,
       "version_minor": 0
      },
      "text/plain": [
       "HBox(children=(FloatProgress(value=0.0, max=13.0), HTML(value='')))"
      ]
     },
     "metadata": {},
     "output_type": "display_data"
    },
    {
     "data": {
      "application/vnd.jupyter.widget-view+json": {
       "model_id": "7b0b132889184be09843fa0709faa78e",
       "version_major": 2,
       "version_minor": 0
      },
      "text/plain": [
       "HBox(children=(FloatProgress(value=0.0, max=30.0), HTML(value='')))"
      ]
     },
     "metadata": {},
     "output_type": "display_data"
    },
    {
     "name": "stdout",
     "output_type": "stream",
     "text": [
      "\n"
     ]
    },
    {
     "name": "stderr",
     "output_type": "stream",
     "text": [
      "<ipython-input-9-a31a5f9d3ece>:34: RuntimeWarning: invalid value encountered in double_scalars\n",
      "  merged['3P%'] = merged['3P']/merged['3PA']\n",
      "<ipython-input-9-a31a5f9d3ece>:37: RuntimeWarning: invalid value encountered in double_scalars\n",
      "  merged['FT%'] = merged['FT']/merged['FTA']\n"
     ]
    },
    {
     "data": {
      "application/vnd.jupyter.widget-view+json": {
       "model_id": "961e908fadea486784abde0ebf72f765",
       "version_major": 2,
       "version_minor": 0
      },
      "text/plain": [
       "HBox(children=(FloatProgress(value=0.0, max=30.0), HTML(value='')))"
      ]
     },
     "metadata": {},
     "output_type": "display_data"
    },
    {
     "name": "stdout",
     "output_type": "stream",
     "text": [
      "\n"
     ]
    },
    {
     "data": {
      "application/vnd.jupyter.widget-view+json": {
       "model_id": "1dff8cc1bdf34cba99511a2c5f64af5d",
       "version_major": 2,
       "version_minor": 0
      },
      "text/plain": [
       "HBox(children=(FloatProgress(value=0.0, max=30.0), HTML(value='')))"
      ]
     },
     "metadata": {},
     "output_type": "display_data"
    },
    {
     "name": "stdout",
     "output_type": "stream",
     "text": [
      "\n"
     ]
    },
    {
     "data": {
      "application/vnd.jupyter.widget-view+json": {
       "model_id": "9c73d36aca4d4c87ac25d17ce128145e",
       "version_major": 2,
       "version_minor": 0
      },
      "text/plain": [
       "HBox(children=(FloatProgress(value=0.0, max=30.0), HTML(value='')))"
      ]
     },
     "metadata": {},
     "output_type": "display_data"
    },
    {
     "name": "stdout",
     "output_type": "stream",
     "text": [
      "\n"
     ]
    },
    {
     "data": {
      "application/vnd.jupyter.widget-view+json": {
       "model_id": "0212a76a98fe4940996db9ca0082dda7",
       "version_major": 2,
       "version_minor": 0
      },
      "text/plain": [
       "HBox(children=(FloatProgress(value=0.0, max=30.0), HTML(value='')))"
      ]
     },
     "metadata": {},
     "output_type": "display_data"
    },
    {
     "name": "stdout",
     "output_type": "stream",
     "text": [
      "\n"
     ]
    },
    {
     "data": {
      "application/vnd.jupyter.widget-view+json": {
       "model_id": "530730cf5815476d85663edad42f95d0",
       "version_major": 2,
       "version_minor": 0
      },
      "text/plain": [
       "HBox(children=(FloatProgress(value=0.0, max=30.0), HTML(value='')))"
      ]
     },
     "metadata": {},
     "output_type": "display_data"
    },
    {
     "name": "stdout",
     "output_type": "stream",
     "text": [
      "\n"
     ]
    },
    {
     "data": {
      "application/vnd.jupyter.widget-view+json": {
       "model_id": "6b71fd7e1ed7475d85207a3031bb0b97",
       "version_major": 2,
       "version_minor": 0
      },
      "text/plain": [
       "HBox(children=(FloatProgress(value=0.0, max=30.0), HTML(value='')))"
      ]
     },
     "metadata": {},
     "output_type": "display_data"
    },
    {
     "name": "stdout",
     "output_type": "stream",
     "text": [
      "\n"
     ]
    },
    {
     "data": {
      "application/vnd.jupyter.widget-view+json": {
       "model_id": "4971de694f2d45ef83ccbb7418510acb",
       "version_major": 2,
       "version_minor": 0
      },
      "text/plain": [
       "HBox(children=(FloatProgress(value=0.0, max=30.0), HTML(value='')))"
      ]
     },
     "metadata": {},
     "output_type": "display_data"
    },
    {
     "name": "stdout",
     "output_type": "stream",
     "text": [
      "\n"
     ]
    },
    {
     "data": {
      "application/vnd.jupyter.widget-view+json": {
       "model_id": "2bf059a72fd345cdb77202d362d2e823",
       "version_major": 2,
       "version_minor": 0
      },
      "text/plain": [
       "HBox(children=(FloatProgress(value=0.0, max=30.0), HTML(value='')))"
      ]
     },
     "metadata": {},
     "output_type": "display_data"
    },
    {
     "name": "stdout",
     "output_type": "stream",
     "text": [
      "\n"
     ]
    },
    {
     "data": {
      "application/vnd.jupyter.widget-view+json": {
       "model_id": "0ca1a3b2de38445eb30793e845044332",
       "version_major": 2,
       "version_minor": 0
      },
      "text/plain": [
       "HBox(children=(FloatProgress(value=0.0, max=30.0), HTML(value='')))"
      ]
     },
     "metadata": {},
     "output_type": "display_data"
    },
    {
     "name": "stdout",
     "output_type": "stream",
     "text": [
      "\n"
     ]
    },
    {
     "name": "stderr",
     "output_type": "stream",
     "text": [
      "<ipython-input-9-a31a5f9d3ece>:35: RuntimeWarning: invalid value encountered in double_scalars\n",
      "  merged['2P%'] = merged['2P']/merged['2PA']\n"
     ]
    },
    {
     "data": {
      "application/vnd.jupyter.widget-view+json": {
       "model_id": "daed1d3aa7874bb7bcde62d3fae6115c",
       "version_major": 2,
       "version_minor": 0
      },
      "text/plain": [
       "HBox(children=(FloatProgress(value=0.0, max=30.0), HTML(value='')))"
      ]
     },
     "metadata": {},
     "output_type": "display_data"
    },
    {
     "name": "stdout",
     "output_type": "stream",
     "text": [
      "\n"
     ]
    },
    {
     "data": {
      "application/vnd.jupyter.widget-view+json": {
       "model_id": "7b1cf554b8a546d8a28be77223eb7ce6",
       "version_major": 2,
       "version_minor": 0
      },
      "text/plain": [
       "HBox(children=(FloatProgress(value=0.0, max=30.0), HTML(value='')))"
      ]
     },
     "metadata": {},
     "output_type": "display_data"
    },
    {
     "name": "stdout",
     "output_type": "stream",
     "text": [
      "\n"
     ]
    },
    {
     "data": {
      "application/vnd.jupyter.widget-view+json": {
       "model_id": "9cfb4300af804aca96a979070b4d0c9a",
       "version_major": 2,
       "version_minor": 0
      },
      "text/plain": [
       "HBox(children=(FloatProgress(value=0.0, max=30.0), HTML(value='')))"
      ]
     },
     "metadata": {},
     "output_type": "display_data"
    },
    {
     "name": "stdout",
     "output_type": "stream",
     "text": [
      "\n",
      "\n"
     ]
    }
   ],
   "source": [
    "if not os.path.exists(os.path.join(DATA_DIR,'PlayerStats')):\n",
    "    os.mkdir(os.path.join(DATA_DIR,'PlayerStats'))\n",
    "\n",
    "SEASONS = [2009,2010,2011,2012,2013,2014,2015,2016,2017,2018,2019,2020,2021]\n",
    "TEAMS  = ['ATL','BRK','BOS','CHI','CHO','CLE','DAL','DEN','DET','GSW','HOU','IND','LAC','LAL','MEM',\n",
    "          'MIA','MIL','MIN','NOP','NYK','OKC','ORL','PHI','PHO','POR','SAC','SAS','TOR','UTA','WAS']\n",
    "\n",
    "scraper = DataScraper()\n",
    "for season in tqdm(SEASONS):\n",
    "    df = pd.DataFrame()\n",
    "    for team in tqdm(TEAMS):\n",
    "        df1 = scraper.get_roster_stats(team, season)\n",
    "        df = df.append(df1)\n",
    "    df = scraper.merge_duplicates(df)\n",
    "    df['PLAYER'].str.normalize('NFKD').str.encode('ascii', errors='ignore').str.decode('utf-8')\n",
    "    df.fillna(0, inplace=True)\n",
    "    df.to_csv(DATA_DIR+'/PlayerStats/'+f'{season-1}-{str(season)[2:]}.csv', index=False)"
   ]
  },
  {
   "cell_type": "code",
   "execution_count": null,
   "id": "637f2a26",
   "metadata": {},
   "outputs": [],
   "source": []
  }
 ],
 "metadata": {
  "kernelspec": {
   "display_name": "Python 3",
   "language": "python",
   "name": "python3"
  },
  "language_info": {
   "codemirror_mode": {
    "name": "ipython",
    "version": 3
   },
   "file_extension": ".py",
   "mimetype": "text/x-python",
   "name": "python",
   "nbconvert_exporter": "python",
   "pygments_lexer": "ipython3",
   "version": "3.8.8"
  }
 },
 "nbformat": 4,
 "nbformat_minor": 5
}
