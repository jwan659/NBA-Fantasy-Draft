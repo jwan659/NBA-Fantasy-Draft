{
 "cells": [
  {
   "cell_type": "markdown",
   "id": "c3ba1efb",
   "metadata": {},
   "source": [
    "## Dataset Evaluation"
   ]
  },
  {
   "cell_type": "markdown",
   "id": "2db12211",
   "metadata": {},
   "source": [
    "Sort of a feature engineering 2.0, we want to do a quick evaluation of which weighting system is best at predicting future performance. This important to figure out now so we can test all the models on just one weighting method later on rather than all."
   ]
  },
  {
   "cell_type": "code",
   "execution_count": 1,
   "id": "debdae1f",
   "metadata": {},
   "outputs": [],
   "source": [
    "import math\n",
    "import os\n",
    "import utils\n",
    "import warnings\n",
    "\n",
    "import numpy as np\n",
    "import pandas as pd\n",
    "import matplotlib.pyplot as plt\n",
    "from constants import PUNT_TYPES\n",
    "from constants import DATA_DIR\n",
    "from sklearn.ensemble import GradientBoostingRegressor\n",
    "from sklearn.linear_model import LinearRegression\n",
    "from sklearn.linear_model import Lasso\n",
    "from sklearn.metrics import mean_absolute_error as mae\n",
    "from sklearn.metrics import mean_squared_error as mse\n",
    "from sklearn.model_selection import cross_val_score\n",
    "from sklearn.model_selection import GridSearchCV\n",
    "from sklearn.model_selection import RepeatedKFold\n",
    "from sklearn.model_selection import train_test_split\n",
    "from sklearn.preprocessing import MinMaxScaler\n",
    "\n",
    "warnings.filterwarnings('ignore')"
   ]
  },
  {
   "cell_type": "markdown",
   "id": "38d70b08",
   "metadata": {},
   "source": [
    "Get baseline MAE and RMSE using the average scores across all players for a given punt type and weighting system"
   ]
  },
  {
   "cell_type": "code",
   "execution_count": 2,
   "id": "b79db4f2",
   "metadata": {},
   "outputs": [],
   "source": [
    "def avg_errors(punt_type):\n",
    "    df = utils.csv_concatenate(os.path.join(DATA_DIR,punt_type,'Weighted','base'))\n",
    "    columns = utils.get_punt_columns([])\n",
    "    X = df.loc[:, columns]\n",
    "    y = df['VALUE']\n",
    "    X_train, X_test, y_train, y_test = train_test_split(X, y, random_state=42, stratify=None)\n",
    "    mean_train = np.mean(y_train)\n",
    "    baseline_predictions = np.ones(y_test.shape)*mean_train\n",
    "    return mae(y_test, baseline_predictions), math.sqrt(mse(y_test, baseline_predictions))"
   ]
  },
  {
   "cell_type": "markdown",
   "id": "1d796e3f",
   "metadata": {},
   "source": [
    "Next we'll define a generic function that uses linear regression to predict scores for all players for a given punt/weight."
   ]
  },
  {
   "cell_type": "code",
   "execution_count": 3,
   "id": "6c370132",
   "metadata": {},
   "outputs": [],
   "source": [
    "def reg_errors(punt, weight):\n",
    "    df = utils.csv_concatenate(os.path.join(DATA_DIR,punt,'Weighted',weight))\n",
    "    df.drop(columns=['PLAYER','TEAM','SEASON'], inplace=True)\n",
    "    df = pd.get_dummies(df)\n",
    "    X = df.loc[:, df.columns != 'VALUE']\n",
    "    y = df['VALUE'].values.reshape(-1,1).flatten()\n",
    "    errors = utils.cross_val(LinearRegression(), X, y, n_folds=3, verbose=0)\n",
    "    return np.mean(errors['MAE']['valid']), np.mean(errors['RMSE']['valid'])"
   ]
  },
  {
   "cell_type": "markdown",
   "id": "e835a0ee",
   "metadata": {},
   "source": [
    "Across all punting strategies, using the quad dataset seems to yield the smallest RMSE and MAE. As such, this dataset will be used in the next step, which is to select the best algorithm for each punting strategy."
   ]
  },
  {
   "cell_type": "code",
   "execution_count": 4,
   "id": "804dd0a5",
   "metadata": {},
   "outputs": [
    {
     "data": {
      "application/vnd.jupyter.widget-view+json": {
       "model_id": "266138255b3b47f595e9b1952b6a004b",
       "version_major": 2,
       "version_minor": 0
      },
      "text/plain": [
       "  0%|          | 0/3 [00:00<?, ?it/s]"
      ]
     },
     "metadata": {},
     "output_type": "display_data"
    },
    {
     "data": {
      "application/vnd.jupyter.widget-view+json": {
       "model_id": "7e63a05d9772473c9327d4b9f3af3602",
       "version_major": 2,
       "version_minor": 0
      },
      "text/plain": [
       "  0%|          | 0/3 [00:00<?, ?it/s]"
      ]
     },
     "metadata": {},
     "output_type": "display_data"
    },
    {
     "data": {
      "application/vnd.jupyter.widget-view+json": {
       "model_id": "43463f464bb84d24ace9df118008daf3",
       "version_major": 2,
       "version_minor": 0
      },
      "text/plain": [
       "  0%|          | 0/3 [00:00<?, ?it/s]"
      ]
     },
     "metadata": {},
     "output_type": "display_data"
    },
    {
     "data": {
      "application/vnd.jupyter.widget-view+json": {
       "model_id": "3af5bd00febb41f48611e519ade270a1",
       "version_major": 2,
       "version_minor": 0
      },
      "text/plain": [
       "  0%|          | 0/3 [00:00<?, ?it/s]"
      ]
     },
     "metadata": {},
     "output_type": "display_data"
    },
    {
     "data": {
      "application/vnd.jupyter.widget-view+json": {
       "model_id": "612ad845e6834d2da46f6f48dd5c35e2",
       "version_major": 2,
       "version_minor": 0
      },
      "text/plain": [
       "  0%|          | 0/3 [00:00<?, ?it/s]"
      ]
     },
     "metadata": {},
     "output_type": "display_data"
    },
    {
     "data": {
      "application/vnd.jupyter.widget-view+json": {
       "model_id": "5597e8aa02bd4185a364c1d97bf3ea62",
       "version_major": 2,
       "version_minor": 0
      },
      "text/plain": [
       "  0%|          | 0/3 [00:00<?, ?it/s]"
      ]
     },
     "metadata": {},
     "output_type": "display_data"
    },
    {
     "data": {
      "application/vnd.jupyter.widget-view+json": {
       "model_id": "15874fc231574fc7b88f1a593ebdbf73",
       "version_major": 2,
       "version_minor": 0
      },
      "text/plain": [
       "  0%|          | 0/3 [00:00<?, ?it/s]"
      ]
     },
     "metadata": {},
     "output_type": "display_data"
    },
    {
     "data": {
      "application/vnd.jupyter.widget-view+json": {
       "model_id": "263a05834dc64998b2e25cb18e8973cd",
       "version_major": 2,
       "version_minor": 0
      },
      "text/plain": [
       "  0%|          | 0/3 [00:00<?, ?it/s]"
      ]
     },
     "metadata": {},
     "output_type": "display_data"
    },
    {
     "data": {
      "application/vnd.jupyter.widget-view+json": {
       "model_id": "220a7fcac57a41358dce880bb661d08a",
       "version_major": 2,
       "version_minor": 0
      },
      "text/plain": [
       "  0%|          | 0/3 [00:00<?, ?it/s]"
      ]
     },
     "metadata": {},
     "output_type": "display_data"
    },
    {
     "data": {
      "application/vnd.jupyter.widget-view+json": {
       "model_id": "572e70f7935642629ee8e65676ae53ed",
       "version_major": 2,
       "version_minor": 0
      },
      "text/plain": [
       "  0%|          | 0/3 [00:00<?, ?it/s]"
      ]
     },
     "metadata": {},
     "output_type": "display_data"
    },
    {
     "data": {
      "application/vnd.jupyter.widget-view+json": {
       "model_id": "204de6bcabe340cdbe74071571fb7c3f",
       "version_major": 2,
       "version_minor": 0
      },
      "text/plain": [
       "  0%|          | 0/3 [00:00<?, ?it/s]"
      ]
     },
     "metadata": {},
     "output_type": "display_data"
    },
    {
     "data": {
      "application/vnd.jupyter.widget-view+json": {
       "model_id": "8c3abfbdd63f497787279c806d655c5c",
       "version_major": 2,
       "version_minor": 0
      },
      "text/plain": [
       "  0%|          | 0/3 [00:00<?, ?it/s]"
      ]
     },
     "metadata": {},
     "output_type": "display_data"
    },
    {
     "data": {
      "application/vnd.jupyter.widget-view+json": {
       "model_id": "c73e2de5d97e45cc96e4a84a1ef21bf1",
       "version_major": 2,
       "version_minor": 0
      },
      "text/plain": [
       "  0%|          | 0/3 [00:00<?, ?it/s]"
      ]
     },
     "metadata": {},
     "output_type": "display_data"
    },
    {
     "data": {
      "application/vnd.jupyter.widget-view+json": {
       "model_id": "98c99f9006144a969fc1f31ee84f4e7c",
       "version_major": 2,
       "version_minor": 0
      },
      "text/plain": [
       "  0%|          | 0/3 [00:00<?, ?it/s]"
      ]
     },
     "metadata": {},
     "output_type": "display_data"
    },
    {
     "data": {
      "application/vnd.jupyter.widget-view+json": {
       "model_id": "91844ff9edf84ade81f3c7b2490346af",
       "version_major": 2,
       "version_minor": 0
      },
      "text/plain": [
       "  0%|          | 0/3 [00:00<?, ?it/s]"
      ]
     },
     "metadata": {},
     "output_type": "display_data"
    },
    {
     "data": {
      "application/vnd.jupyter.widget-view+json": {
       "model_id": "94212368844a40e29586739b9e60c9fd",
       "version_major": 2,
       "version_minor": 0
      },
      "text/plain": [
       "  0%|          | 0/3 [00:00<?, ?it/s]"
      ]
     },
     "metadata": {},
     "output_type": "display_data"
    },
    {
     "data": {
      "application/vnd.jupyter.widget-view+json": {
       "model_id": "f53a7a5c27a74b43927a511612894cf9",
       "version_major": 2,
       "version_minor": 0
      },
      "text/plain": [
       "  0%|          | 0/3 [00:00<?, ?it/s]"
      ]
     },
     "metadata": {},
     "output_type": "display_data"
    },
    {
     "data": {
      "application/vnd.jupyter.widget-view+json": {
       "model_id": "1f38432220db4bd8ae4c537be84cf88d",
       "version_major": 2,
       "version_minor": 0
      },
      "text/plain": [
       "  0%|          | 0/3 [00:00<?, ?it/s]"
      ]
     },
     "metadata": {},
     "output_type": "display_data"
    },
    {
     "data": {
      "application/vnd.jupyter.widget-view+json": {
       "model_id": "dc220dde81f84f46815e2450c29a446a",
       "version_major": 2,
       "version_minor": 0
      },
      "text/plain": [
       "  0%|          | 0/3 [00:00<?, ?it/s]"
      ]
     },
     "metadata": {},
     "output_type": "display_data"
    },
    {
     "data": {
      "application/vnd.jupyter.widget-view+json": {
       "model_id": "05bfdae0234645fa8b91393053f1c612",
       "version_major": 2,
       "version_minor": 0
      },
      "text/plain": [
       "  0%|          | 0/3 [00:00<?, ?it/s]"
      ]
     },
     "metadata": {},
     "output_type": "display_data"
    },
    {
     "data": {
      "application/vnd.jupyter.widget-view+json": {
       "model_id": "e2263f6aee454009b52f3013413dcf65",
       "version_major": 2,
       "version_minor": 0
      },
      "text/plain": [
       "  0%|          | 0/3 [00:00<?, ?it/s]"
      ]
     },
     "metadata": {},
     "output_type": "display_data"
    },
    {
     "data": {
      "application/vnd.jupyter.widget-view+json": {
       "model_id": "6111a2f505db4f8190a8dc2772a5c5d7",
       "version_major": 2,
       "version_minor": 0
      },
      "text/plain": [
       "  0%|          | 0/3 [00:00<?, ?it/s]"
      ]
     },
     "metadata": {},
     "output_type": "display_data"
    },
    {
     "data": {
      "application/vnd.jupyter.widget-view+json": {
       "model_id": "bb92597e79b14a15a3027b838ebcb92d",
       "version_major": 2,
       "version_minor": 0
      },
      "text/plain": [
       "  0%|          | 0/3 [00:00<?, ?it/s]"
      ]
     },
     "metadata": {},
     "output_type": "display_data"
    },
    {
     "data": {
      "application/vnd.jupyter.widget-view+json": {
       "model_id": "f059c52c1ec34cc88bb940d85cfd7527",
       "version_major": 2,
       "version_minor": 0
      },
      "text/plain": [
       "  0%|          | 0/3 [00:00<?, ?it/s]"
      ]
     },
     "metadata": {},
     "output_type": "display_data"
    },
    {
     "data": {
      "application/vnd.jupyter.widget-view+json": {
       "model_id": "dfdcbdfddba5417289e9e29091ac9cea",
       "version_major": 2,
       "version_minor": 0
      },
      "text/plain": [
       "  0%|          | 0/3 [00:00<?, ?it/s]"
      ]
     },
     "metadata": {},
     "output_type": "display_data"
    },
    {
     "data": {
      "application/vnd.jupyter.widget-view+json": {
       "model_id": "137fae1fdcdf492a95213ccd99dfc048",
       "version_major": 2,
       "version_minor": 0
      },
      "text/plain": [
       "  0%|          | 0/3 [00:00<?, ?it/s]"
      ]
     },
     "metadata": {},
     "output_type": "display_data"
    },
    {
     "data": {
      "application/vnd.jupyter.widget-view+json": {
       "model_id": "dd4ab6f3b8c44ce1991936076d243599",
       "version_major": 2,
       "version_minor": 0
      },
      "text/plain": [
       "  0%|          | 0/3 [00:00<?, ?it/s]"
      ]
     },
     "metadata": {},
     "output_type": "display_data"
    },
    {
     "data": {
      "application/vnd.jupyter.widget-view+json": {
       "model_id": "ff19a9eb1ed441b5b0f6e917f34544e4",
       "version_major": 2,
       "version_minor": 0
      },
      "text/plain": [
       "  0%|          | 0/3 [00:00<?, ?it/s]"
      ]
     },
     "metadata": {},
     "output_type": "display_data"
    },
    {
     "data": {
      "application/vnd.jupyter.widget-view+json": {
       "model_id": "42279ea74bbf4144832df6715e2c33fc",
       "version_major": 2,
       "version_minor": 0
      },
      "text/plain": [
       "  0%|          | 0/3 [00:00<?, ?it/s]"
      ]
     },
     "metadata": {},
     "output_type": "display_data"
    },
    {
     "data": {
      "application/vnd.jupyter.widget-view+json": {
       "model_id": "4f82d27cca0c44969e3e05cbad358c53",
       "version_major": 2,
       "version_minor": 0
      },
      "text/plain": [
       "  0%|          | 0/3 [00:00<?, ?it/s]"
      ]
     },
     "metadata": {},
     "output_type": "display_data"
    },
    {
     "data": {
      "application/vnd.jupyter.widget-view+json": {
       "model_id": "26c861dc9b224076b9c4791d684985ad",
       "version_major": 2,
       "version_minor": 0
      },
      "text/plain": [
       "  0%|          | 0/3 [00:00<?, ?it/s]"
      ]
     },
     "metadata": {},
     "output_type": "display_data"
    },
    {
     "data": {
      "application/vnd.jupyter.widget-view+json": {
       "model_id": "16abe79958cd40f5b2130249b4e81bb8",
       "version_major": 2,
       "version_minor": 0
      },
      "text/plain": [
       "  0%|          | 0/3 [00:00<?, ?it/s]"
      ]
     },
     "metadata": {},
     "output_type": "display_data"
    },
    {
     "data": {
      "application/vnd.jupyter.widget-view+json": {
       "model_id": "c98d825996dd47ddb7fc4571db66c14f",
       "version_major": 2,
       "version_minor": 0
      },
      "text/plain": [
       "  0%|          | 0/3 [00:00<?, ?it/s]"
      ]
     },
     "metadata": {},
     "output_type": "display_data"
    },
    {
     "data": {
      "application/vnd.jupyter.widget-view+json": {
       "model_id": "a743a5178a55475aa558fa09fa3dfef6",
       "version_major": 2,
       "version_minor": 0
      },
      "text/plain": [
       "  0%|          | 0/3 [00:00<?, ?it/s]"
      ]
     },
     "metadata": {},
     "output_type": "display_data"
    },
    {
     "data": {
      "application/vnd.jupyter.widget-view+json": {
       "model_id": "bb9ae9e5a52b4659ba16d35a66f305e1",
       "version_major": 2,
       "version_minor": 0
      },
      "text/plain": [
       "  0%|          | 0/3 [00:00<?, ?it/s]"
      ]
     },
     "metadata": {},
     "output_type": "display_data"
    },
    {
     "data": {
      "application/vnd.jupyter.widget-view+json": {
       "model_id": "801a4e2ed1594128a9a133654de240cc",
       "version_major": 2,
       "version_minor": 0
      },
      "text/plain": [
       "  0%|          | 0/3 [00:00<?, ?it/s]"
      ]
     },
     "metadata": {},
     "output_type": "display_data"
    },
    {
     "data": {
      "application/vnd.jupyter.widget-view+json": {
       "model_id": "854b638a3caf404ba648c4d717314420",
       "version_major": 2,
       "version_minor": 0
      },
      "text/plain": [
       "  0%|          | 0/3 [00:00<?, ?it/s]"
      ]
     },
     "metadata": {},
     "output_type": "display_data"
    },
    {
     "data": {
      "application/vnd.jupyter.widget-view+json": {
       "model_id": "8285916510aa4dafb4fee33aa8b45b92",
       "version_major": 2,
       "version_minor": 0
      },
      "text/plain": [
       "  0%|          | 0/3 [00:00<?, ?it/s]"
      ]
     },
     "metadata": {},
     "output_type": "display_data"
    },
    {
     "data": {
      "application/vnd.jupyter.widget-view+json": {
       "model_id": "13c9cf40cdbd449398295a1b728915e1",
       "version_major": 2,
       "version_minor": 0
      },
      "text/plain": [
       "  0%|          | 0/3 [00:00<?, ?it/s]"
      ]
     },
     "metadata": {},
     "output_type": "display_data"
    },
    {
     "data": {
      "application/vnd.jupyter.widget-view+json": {
       "model_id": "33b3edd373d340d99c940145d0358bcd",
       "version_major": 2,
       "version_minor": 0
      },
      "text/plain": [
       "  0%|          | 0/3 [00:00<?, ?it/s]"
      ]
     },
     "metadata": {},
     "output_type": "display_data"
    },
    {
     "data": {
      "application/vnd.jupyter.widget-view+json": {
       "model_id": "36b70bb34fd748e4b8f4281b85c93700",
       "version_major": 2,
       "version_minor": 0
      },
      "text/plain": [
       "  0%|          | 0/3 [00:00<?, ?it/s]"
      ]
     },
     "metadata": {},
     "output_type": "display_data"
    },
    {
     "data": {
      "application/vnd.jupyter.widget-view+json": {
       "model_id": "7d61cab7bc4d4646a367087ad36f7095",
       "version_major": 2,
       "version_minor": 0
      },
      "text/plain": [
       "  0%|          | 0/3 [00:00<?, ?it/s]"
      ]
     },
     "metadata": {},
     "output_type": "display_data"
    },
    {
     "data": {
      "application/vnd.jupyter.widget-view+json": {
       "model_id": "b580133b95a044e1906cdeb5edc82c01",
       "version_major": 2,
       "version_minor": 0
      },
      "text/plain": [
       "  0%|          | 0/3 [00:00<?, ?it/s]"
      ]
     },
     "metadata": {},
     "output_type": "display_data"
    },
    {
     "data": {
      "application/vnd.jupyter.widget-view+json": {
       "model_id": "9d62176058674bdcbde98381d2d66a5e",
       "version_major": 2,
       "version_minor": 0
      },
      "text/plain": [
       "  0%|          | 0/3 [00:00<?, ?it/s]"
      ]
     },
     "metadata": {},
     "output_type": "display_data"
    },
    {
     "data": {
      "application/vnd.jupyter.widget-view+json": {
       "model_id": "c915a9baea1046f1b672c1904a2ea520",
       "version_major": 2,
       "version_minor": 0
      },
      "text/plain": [
       "  0%|          | 0/3 [00:00<?, ?it/s]"
      ]
     },
     "metadata": {},
     "output_type": "display_data"
    },
    {
     "data": {
      "application/vnd.jupyter.widget-view+json": {
       "model_id": "48813d01793a421aa9378234a9558d97",
       "version_major": 2,
       "version_minor": 0
      },
      "text/plain": [
       "  0%|          | 0/3 [00:00<?, ?it/s]"
      ]
     },
     "metadata": {},
     "output_type": "display_data"
    },
    {
     "data": {
      "application/vnd.jupyter.widget-view+json": {
       "model_id": "6fbb47416db049308e6e048d737c1c40",
       "version_major": 2,
       "version_minor": 0
      },
      "text/plain": [
       "  0%|          | 0/3 [00:00<?, ?it/s]"
      ]
     },
     "metadata": {},
     "output_type": "display_data"
    },
    {
     "data": {
      "application/vnd.jupyter.widget-view+json": {
       "model_id": "563f3f472cf144dbb7dbfb9679e14f0c",
       "version_major": 2,
       "version_minor": 0
      },
      "text/plain": [
       "  0%|          | 0/3 [00:00<?, ?it/s]"
      ]
     },
     "metadata": {},
     "output_type": "display_data"
    },
    {
     "name": "stdout",
     "output_type": "stream",
     "text": [
      "          average      base      sqrt    linear      quad\n",
      "FG%      4.520541  2.693742  2.630471  2.588626  2.551013\n",
      "FT%      4.448247  2.764350  2.701690  2.660382  2.623586\n",
      "PTS      4.069522  2.528208  2.471565  2.434229  2.401121\n",
      "TRB      4.395504  2.653984  2.596743  2.559652  2.528187\n",
      "AST      4.436189  2.747983  2.684297  2.641655  2.602720\n",
      "STL      4.301335  2.612119  2.553075  2.514172  2.479196\n",
      "BLK      4.627029  2.741989  2.680671  2.640446  2.604305\n",
      "FG%+TRB  3.845354  2.276777  2.228812  2.198202  2.173251\n",
      "BLK+FG%  4.073944  2.357082  2.304798  2.270801  2.240823\n",
      "AST+STL  3.745995  2.311106  2.260251  2.226558  2.196426\n",
      "PTS+FT%  3.457323  2.245463  2.198375  2.167819  2.141827\n",
      "Base     4.533830  2.729065  2.664717  2.621930  2.582999\n",
      "          average      base      sqrt    linear      quad\n",
      "FG%      3.553158  2.059476  2.005970  1.968155  1.930998\n",
      "FT%      3.547790  2.115966  2.059686  2.023190  1.986221\n",
      "PTS      3.170360  1.909548  1.861259  1.826987  1.794002\n",
      "TRB      3.430471  2.021739  1.968979  1.931965  1.899584\n",
      "AST      3.474214  2.081399  2.029107  1.994053  1.959452\n",
      "STL      3.380863  1.991217  1.940231  1.906333  1.871979\n",
      "BLK      3.663717  2.103644  2.048577  2.008751  1.973299\n",
      "FG%+TRB  3.019569  1.738085  1.694381  1.664111  1.636995\n",
      "BLK+FG%  3.242219  1.815775  1.769791  1.736283  1.703095\n",
      "AST+STL  2.942144  1.741670  1.698384  1.669980  1.641366\n",
      "PTS+FT%  2.743816  1.698433  1.656084  1.630222  1.604243\n",
      "Base     3.557509  2.083289  2.028842  1.989302  1.951104\n"
     ]
    }
   ],
   "source": [
    "# analyze which weighting is best for each punt type\n",
    "rmse_table = pd.DataFrame()\n",
    "mae_table = pd.DataFrame()\n",
    "weights = ['average','base','sqrt','linear','quad']\n",
    "for punt in PUNT_TYPES:\n",
    "    if punt == []:\n",
    "        punt = 'Base'\n",
    "    else:\n",
    "        punt = '+'.join(punt)\n",
    "    for weight in weights:\n",
    "        if weight =='average':\n",
    "            mae_value, rmse_value = avg_errors(punt)\n",
    "        else:\n",
    "            mae_value, rmse_value = reg_errors(punt, weight)\n",
    "        rmse_table.loc[punt,weight] = rmse_value\n",
    "        mae_table.loc[punt,weight] = mae_value\n",
    "print(rmse_table)\n",
    "print(mae_table)"
   ]
  },
  {
   "cell_type": "markdown",
   "id": "ed53e83e",
   "metadata": {},
   "source": [
    "Create ABTs for each punt."
   ]
  },
  {
   "cell_type": "code",
   "execution_count": 5,
   "id": "6a4cfb26",
   "metadata": {},
   "outputs": [],
   "source": [
    "for punt in PUNT_TYPES:\n",
    "    if punt == []:\n",
    "        punt = 'Base'\n",
    "    else:\n",
    "        punt = '+'.join(punt)\n",
    "    df = utils.csv_concatenate(os.path.join(DATA_DIR,punt,'Weighted','quad'))\n",
    "    df.drop(columns=['PLAYER','TEAM','SEASON'], inplace=True)\n",
    "    df = pd.get_dummies(df)\n",
    "    directory = os.path.join(DATA_DIR,'ABT')\n",
    "    if not os.path.exists(directory):\n",
    "        os.makedirs(directory)\n",
    "    df.to_csv(os.path.join(DATA_DIR,'ABT',punt+'.csv'), index=False)"
   ]
  },
  {
   "cell_type": "code",
   "execution_count": null,
   "id": "7e73a6e5",
   "metadata": {},
   "outputs": [],
   "source": []
  }
 ],
 "metadata": {
  "interpreter": {
   "hash": "f34e4307ae1a7e0887163dada84fcd23da92a8679be79e99c3106e0145f5ffd4"
  },
  "kernelspec": {
   "display_name": "Python 3.8.8 64-bit ('base': conda)",
   "name": "python3"
  },
  "language_info": {
   "codemirror_mode": {
    "name": "ipython",
    "version": 3
   },
   "file_extension": ".py",
   "mimetype": "text/x-python",
   "name": "python",
   "nbconvert_exporter": "python",
   "pygments_lexer": "ipython3",
   "version": "3.8.8"
  }
 },
 "nbformat": 4,
 "nbformat_minor": 5
}
