{
 "cells": [
  {
   "cell_type": "code",
   "execution_count": 18,
   "id": "debdae1f",
   "metadata": {},
   "outputs": [],
   "source": [
    "import os\n",
    "import glob\n",
    "import warnings\n",
    "import numpy as np\n",
    "import pandas as pd\n",
    "import matplotlib.pyplot as plt\n",
    "from sklearn.feature_selection import SelectKBest\n",
    "from sklearn.feature_selection import f_regression\n",
    "import warnings\n",
    "from tqdm import tqdm_notebook as tqdm\n",
    "from sklearn.ensemble import GradientBoostingRegressor\n",
    "from sklearn.linear_model import LinearRegression\n",
    "from sklearn.linear_model import Lasso\n",
    "from sklearn.linear_model import LassoCV\n",
    "from sklearn.metrics import mean_absolute_error as mae\n",
    "from sklearn.metrics import mean_squared_error as mse\n",
    "from sklearn.metrics import r2_score as r2\n",
    "from sklearn.model_selection import cross_val_score\n",
    "from sklearn.model_selection import GridSearchCV\n",
    "from sklearn.model_selection import RepeatedKFold\n",
    "from sklearn.model_selection import train_test_split\n",
    "from sklearn.preprocessing import MinMaxScaler\n",
    "\n",
    "import utils\n",
    "from constants import DATA_DIR\n",
    "warnings.filterwarnings('ignore')"
   ]
  },
  {
   "cell_type": "code",
   "execution_count": 63,
   "id": "a9a2d26a",
   "metadata": {},
   "outputs": [
    {
     "name": "stdout",
     "output_type": "stream",
     "text": [
      "base\n",
      "Accuracy: -2.032 (0.060)\n",
      "2.101902874253372\n",
      "2.7309948663894716\n",
      "0.5421193442301511\n",
      "\n",
      "\n",
      "sqrt\n",
      "Accuracy: -2.025 (0.060)\n",
      "2.011288108656903\n",
      "2.710368043069314\n",
      "0.5033347249459064\n",
      "\n",
      "\n",
      "linear\n",
      "Accuracy: -1.983 (0.060)\n",
      "2.019474849804771\n",
      "2.6380193327973394\n",
      "0.6041351183932735\n",
      "\n",
      "\n",
      "quad\n",
      "Accuracy: -1.851 (0.059)\n",
      "2.25911357193135\n",
      "2.913820840097076\n",
      "0.533433477006312\n",
      "\n",
      "\n"
     ]
    }
   ],
   "source": [
    "weights = ['base','sqrt','linear','quad']\n",
    "seasons = ['2016-17','2017-18','2018-19','2019-20']\n",
    "\n",
    "for weight in weights:\n",
    "    df = pd.DataFrame()\n",
    "    mean = []\n",
    "    for season in seasons:\n",
    "        df1 = pd.read_csv(os.path.join(DATA_DIR,'Weighted',weight,season+'.csv'))\n",
    "        df = df.append(df1)\n",
    "    df.fillna(0, inplace=True)\n",
    "    X = df.loc[:, df.columns != 'VALUE']._get_numeric_data()\n",
    "    y = df['VALUE']\n",
    "    X_train, X_test, y_train, y_test = train_test_split(X, y, stratify=None)\n",
    "    cv = RepeatedKFold(n_splits=2, n_repeats=1000)\n",
    "    \n",
    "    reg = LinearRegression()\n",
    "    scores = cross_val_score(reg, X_train, y_train, scoring='neg_mean_absolute_error', cv=cv)\n",
    "    model = reg.fit(X_train, y_train)\n",
    "    y_pred = model.predict(X_test)\n",
    "    mean.append(np.mean(scores))\n",
    "    print(weight)\n",
    "    print('Accuracy: %.3f (%.3f)' % (np.mean(scores), np.std(scores)))\n",
    "    print(mae(y_test, y_pred))\n",
    "    print(mse(y_test, y_pred, squared=False))\n",
    "    print(r2(y_test, y_pred))\n",
    "    print('\\n')\n",
    "    \n",
    "    #print(sum(mean) / len(mean))"
   ]
  },
  {
   "cell_type": "code",
   "execution_count": null,
   "id": "a92fe335",
   "metadata": {},
   "outputs": [],
   "source": []
  },
  {
   "cell_type": "code",
   "execution_count": null,
   "id": "90f94ab4",
   "metadata": {},
   "outputs": [],
   "source": []
  }
 ],
 "metadata": {
  "kernelspec": {
   "display_name": "Python 3",
   "language": "python",
   "name": "python3"
  },
  "language_info": {
   "codemirror_mode": {
    "name": "ipython",
    "version": 3
   },
   "file_extension": ".py",
   "mimetype": "text/x-python",
   "name": "python",
   "nbconvert_exporter": "python",
   "pygments_lexer": "ipython3",
   "version": "3.8.8"
  }
 },
 "nbformat": 4,
 "nbformat_minor": 5
}
