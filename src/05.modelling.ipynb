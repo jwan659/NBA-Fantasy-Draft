{
 "cells": [
  {
   "cell_type": "code",
   "execution_count": 1,
   "id": "f9441432",
   "metadata": {},
   "outputs": [],
   "source": [
    "import os\n",
    "import utils\n",
    "import warnings\n",
    "\n",
    "import matplotlib.pyplot as plt\n",
    "import numpy as np\n",
    "import pandas as pd\n",
    "import xgboost as xgb\n",
    "\n",
    "from bayes_opt import BayesianOptimization\n",
    "from tqdm import tqdm_notebook as tqdm\n",
    "from sklearn.ensemble import GradientBoostingRegressor\n",
    "from sklearn.linear_model import LinearRegression\n",
    "from sklearn.linear_model import Lasso\n",
    "from sklearn.linear_model import Ridge\n",
    "from sklearn.metrics import mean_absolute_error as mae\n",
    "from sklearn.metrics import mean_squared_error as mse\n",
    "from sklearn.metrics import r2_score as r2\n",
    "from sklearn.model_selection import cross_val_score\n",
    "from sklearn.model_selection import GridSearchCV\n",
    "from sklearn.model_selection import RepeatedKFold\n",
    "from sklearn.model_selection import train_test_split\n",
    "from xgboost import XGBRegressor\n",
    "from constants import DATA_DIR\n",
    "\n",
    "warnings.filterwarnings('ignore')"
   ]
  },
  {
   "cell_type": "code",
   "execution_count": 2,
   "id": "6222bdff",
   "metadata": {},
   "outputs": [],
   "source": [
    "cv = RepeatedKFold(n_splits=2, n_repeats=1000)"
   ]
  },
  {
   "cell_type": "markdown",
   "id": "1487313b",
   "metadata": {},
   "source": [
    "### Ridge Regression"
   ]
  },
  {
   "cell_type": "code",
   "execution_count": 3,
   "id": "f0a7bdb8",
   "metadata": {},
   "outputs": [],
   "source": [
    "select = pd.read_csv(os.path.join(DATA_DIR,'ABT','select_features.csv'))\n",
    "X = select.loc[:, select.columns != 'VALUE']\n",
    "y = select['VALUE'].values.reshape(-1,1).flatten()"
   ]
  },
  {
   "cell_type": "code",
   "execution_count": 4,
   "id": "0bc373e3",
   "metadata": {},
   "outputs": [
    {
     "name": "stdout",
     "output_type": "stream",
     "text": [
      "{'alpha': 1}\n"
     ]
    }
   ],
   "source": [
    "parameters = {'alpha':[0.1, 1, 10]}\n",
    "Ridge_reg= GridSearchCV(Ridge(), parameters, scoring='neg_root_mean_squared_error', cv=cv, n_jobs=-1)\n",
    "Ridge_reg.fit(X, y)\n",
    "best_ridge = Ridge_reg.best_estimator_\n",
    "print(Ridge_reg.best_params_)"
   ]
  },
  {
   "cell_type": "code",
   "execution_count": 5,
   "id": "35d0e385",
   "metadata": {},
   "outputs": [
    {
     "data": {
      "application/vnd.jupyter.widget-view+json": {
       "model_id": "7f8ae38bcfdf4a349a603dc2424b70d2",
       "version_major": 2,
       "version_minor": 0
      },
      "text/plain": [
       "HBox(children=(FloatProgress(value=0.0, max=3.0), HTML(value='')))"
      ]
     },
     "metadata": {},
     "output_type": "display_data"
    },
    {
     "name": "stdout",
     "output_type": "stream",
     "text": [
      "\n",
      "\n",
      "   <--- Validation Errors --->\n",
      "MAE  | Mean: 2.26407, SD: 0.06303\n",
      "RMSE | Mean: 2.94542, SD: 0.09279\n",
      "\n"
     ]
    }
   ],
   "source": [
    "errors = utils.cross_val(best_ridge, X, y, n_folds=3)\n",
    "utils.summarize_errors(errors, verbose=0)"
   ]
  },
  {
   "cell_type": "markdown",
   "id": "e201c37c",
   "metadata": {},
   "source": [
    "### Lasso Regression"
   ]
  },
  {
   "cell_type": "code",
   "execution_count": 6,
   "id": "128173b3",
   "metadata": {},
   "outputs": [],
   "source": [
    "all_features = pd.read_csv(os.path.join(DATA_DIR,'ABT','all_features.csv'))\n",
    "X = all_features.loc[:, all_features.columns != 'VALUE']\n",
    "y = all_features['VALUE'].values.reshape(-1,1).flatten()"
   ]
  },
  {
   "cell_type": "code",
   "execution_count": 7,
   "id": "4dd0b8b4",
   "metadata": {},
   "outputs": [
    {
     "name": "stdout",
     "output_type": "stream",
     "text": [
      "{'alpha': 0.001}\n"
     ]
    }
   ],
   "source": [
    "parameters = {'alpha':[1e-4, 1e-3, 1e-2]}\n",
    "lasso_result = GridSearchCV(Lasso(), parameters, scoring='neg_root_mean_squared_error',cv=cv,n_jobs=-1)\n",
    "lasso_result.fit(X, y)\n",
    "best_model = lasso_result.best_estimator_\n",
    "print(lasso_result.best_params_)"
   ]
  },
  {
   "cell_type": "code",
   "execution_count": 9,
   "id": "6d1abd6a",
   "metadata": {},
   "outputs": [
    {
     "data": {
      "application/vnd.jupyter.widget-view+json": {
       "model_id": "10adae9303b048e9b9965bb85d38d39b",
       "version_major": 2,
       "version_minor": 0
      },
      "text/plain": [
       "HBox(children=(FloatProgress(value=0.0, max=3.0), HTML(value='')))"
      ]
     },
     "metadata": {},
     "output_type": "display_data"
    },
    {
     "name": "stdout",
     "output_type": "stream",
     "text": [
      "\n",
      "\n",
      "   <--- Validation Errors --->\n",
      "MAE  | Mean: 2.24534, SD: 0.059\n",
      "RMSE | Mean: 2.91975, SD: 0.08845\n",
      "\n"
     ]
    }
   ],
   "source": [
    "errors = utils.cross_val(best_model, X, y, n_folds=3)\n",
    "utils.summarize_errors(errors, verbose=0)"
   ]
  },
  {
   "cell_type": "markdown",
   "id": "4c9ebc2e",
   "metadata": {},
   "source": [
    "### Vanilla XGBRegressor"
   ]
  },
  {
   "cell_type": "code",
   "execution_count": 10,
   "id": "137a5647",
   "metadata": {},
   "outputs": [
    {
     "data": {
      "application/vnd.jupyter.widget-view+json": {
       "model_id": "01b6c658eac04e048857d380a381ffdf",
       "version_major": 2,
       "version_minor": 0
      },
      "text/plain": [
       "HBox(children=(FloatProgress(value=0.0, max=3.0), HTML(value='')))"
      ]
     },
     "metadata": {},
     "output_type": "display_data"
    },
    {
     "name": "stdout",
     "output_type": "stream",
     "text": [
      "\n",
      "\n",
      "   <--- Validation Errors --->\n",
      "MAE  | Mean: 2.16093, SD: 0.0641\n",
      "RMSE | Mean: 2.90949, SD: 0.0947\n",
      "\n"
     ]
    }
   ],
   "source": [
    "vanilla_reg = XGBRegressor().fit(X, y)\n",
    "errors = utils.cross_val(vanilla_reg, X, y, n_folds=3)\n",
    "utils.summarize_errors(errors, verbose=0)"
   ]
  },
  {
   "cell_type": "markdown",
   "id": "18eea015",
   "metadata": {},
   "source": [
    "###  XGBRegressor w/Bayesian Optimized Hyperparameters"
   ]
  },
  {
   "cell_type": "code",
   "execution_count": 11,
   "id": "2ce628e6",
   "metadata": {},
   "outputs": [],
   "source": [
    "def bo_tune_xgb(max_depth, gamma, n_estimators, learning_rate, subsample):\n",
    "    params = {'gamma': gamma, \n",
    "              'learning_rate':learning_rate, \n",
    "              'max_depth': int(max_depth), \n",
    "              'n_estimators': int(n_estimators), \n",
    "              'subsample': subsample, \n",
    "              'eta': 0.1, \n",
    "              'eval_metric': 'rmse'}\n",
    "    scores = cross_val_score(XGBRegressor(random_state=42, **params), X, y, \n",
    "                             scoring='neg_root_mean_squared_error', cv=3).mean()\n",
    "    score = scores.mean()\n",
    "    return score"
   ]
  },
  {
   "cell_type": "code",
   "execution_count": 12,
   "id": "36dd57fa",
   "metadata": {
    "scrolled": true
   },
   "outputs": [
    {
     "name": "stdout",
     "output_type": "stream",
     "text": [
      "|   iter    |  target   |   gamma   | learni... | max_depth | n_esti... | subsample |\n",
      "-------------------------------------------------------------------------------------\n",
      "| \u001b[0m 1       \u001b[0m | \u001b[0m-3.307   \u001b[0m | \u001b[0m 0.3745  \u001b[0m | \u001b[0m 0.9507  \u001b[0m | \u001b[0m 8.124   \u001b[0m | \u001b[0m 112.0   \u001b[0m | \u001b[0m 0.8312  \u001b[0m |\n",
      "| \u001b[95m 2       \u001b[0m | \u001b[95m-2.725   \u001b[0m | \u001b[95m 0.156   \u001b[0m | \u001b[95m 0.05808 \u001b[0m | \u001b[95m 9.063   \u001b[0m | \u001b[95m 112.0   \u001b[0m | \u001b[95m 0.9416  \u001b[0m |\n",
      "| \u001b[0m 3       \u001b[0m | \u001b[0m-3.304   \u001b[0m | \u001b[0m 0.02058 \u001b[0m | \u001b[0m 0.9699  \u001b[0m | \u001b[0m 8.827   \u001b[0m | \u001b[0m 104.2   \u001b[0m | \u001b[0m 0.8364  \u001b[0m |\n",
      "| \u001b[0m 4       \u001b[0m | \u001b[0m-2.799   \u001b[0m | \u001b[0m 0.1834  \u001b[0m | \u001b[0m 0.3042  \u001b[0m | \u001b[0m 6.673   \u001b[0m | \u001b[0m 108.6   \u001b[0m | \u001b[0m 0.8582  \u001b[0m |\n",
      "| \u001b[95m 5       \u001b[0m | \u001b[95m-2.68    \u001b[0m | \u001b[95m 0.6119  \u001b[0m | \u001b[95m 0.1395  \u001b[0m | \u001b[95m 5.045   \u001b[0m | \u001b[95m 107.3   \u001b[0m | \u001b[95m 0.8912  \u001b[0m |\n",
      "| \u001b[0m 6       \u001b[0m | \u001b[0m-2.75    \u001b[0m | \u001b[0m 0.7852  \u001b[0m | \u001b[0m 0.1997  \u001b[0m | \u001b[0m 6.6     \u001b[0m | \u001b[0m 111.8   \u001b[0m | \u001b[0m 0.8093  \u001b[0m |\n",
      "| \u001b[0m 7       \u001b[0m | \u001b[0m-2.741   \u001b[0m | \u001b[0m 0.6075  \u001b[0m | \u001b[0m 0.1705  \u001b[0m | \u001b[0m 3.455   \u001b[0m | \u001b[0m 119.0   \u001b[0m | \u001b[0m 0.9931  \u001b[0m |\n",
      "| \u001b[0m 8       \u001b[0m | \u001b[0m-2.714   \u001b[0m | \u001b[0m 0.8084  \u001b[0m | \u001b[0m 0.3046  \u001b[0m | \u001b[0m 3.684   \u001b[0m | \u001b[0m 113.7   \u001b[0m | \u001b[0m 0.888   \u001b[0m |\n",
      "| \u001b[0m 9       \u001b[0m | \u001b[0m-2.838   \u001b[0m | \u001b[0m 0.122   \u001b[0m | \u001b[0m 0.4952  \u001b[0m | \u001b[0m 3.241   \u001b[0m | \u001b[0m 118.2   \u001b[0m | \u001b[0m 0.8518  \u001b[0m |\n",
      "| \u001b[0m 10      \u001b[0m | \u001b[0m-2.795   \u001b[0m | \u001b[0m 0.6625  \u001b[0m | \u001b[0m 0.3117  \u001b[0m | \u001b[0m 6.64    \u001b[0m | \u001b[0m 110.9   \u001b[0m | \u001b[0m 0.837   \u001b[0m |\n",
      "| \u001b[0m 11      \u001b[0m | \u001b[0m-3.076   \u001b[0m | \u001b[0m 0.9696  \u001b[0m | \u001b[0m 0.7751  \u001b[0m | \u001b[0m 9.576   \u001b[0m | \u001b[0m 117.9   \u001b[0m | \u001b[0m 0.9196  \u001b[0m |\n",
      "| \u001b[0m 12      \u001b[0m | \u001b[0m-2.711   \u001b[0m | \u001b[0m 0.9219  \u001b[0m | \u001b[0m 0.08849 \u001b[0m | \u001b[0m 4.372   \u001b[0m | \u001b[0m 100.9   \u001b[0m | \u001b[0m 0.8651  \u001b[0m |\n",
      "| \u001b[0m 13      \u001b[0m | \u001b[0m-2.792   \u001b[0m | \u001b[0m 0.3887  \u001b[0m | \u001b[0m 0.2713  \u001b[0m | \u001b[0m 8.801   \u001b[0m | \u001b[0m 107.1   \u001b[0m | \u001b[0m 0.8562  \u001b[0m |\n",
      "| \u001b[0m 14      \u001b[0m | \u001b[0m-2.767   \u001b[0m | \u001b[0m 0.5427  \u001b[0m | \u001b[0m 0.1409  \u001b[0m | \u001b[0m 8.615   \u001b[0m | \u001b[0m 101.5   \u001b[0m | \u001b[0m 0.9974  \u001b[0m |\n",
      "| \u001b[0m 15      \u001b[0m | \u001b[0m-2.734   \u001b[0m | \u001b[0m 0.7722  \u001b[0m | \u001b[0m 0.1987  \u001b[0m | \u001b[0m 3.039   \u001b[0m | \u001b[0m 116.3   \u001b[0m | \u001b[0m 0.9414  \u001b[0m |\n",
      "| \u001b[0m 16      \u001b[0m | \u001b[0m-2.973   \u001b[0m | \u001b[0m 0.729   \u001b[0m | \u001b[0m 0.7713  \u001b[0m | \u001b[0m 3.518   \u001b[0m | \u001b[0m 107.2   \u001b[0m | \u001b[0m 0.8232  \u001b[0m |\n",
      "| \u001b[0m 17      \u001b[0m | \u001b[0m-2.979   \u001b[0m | \u001b[0m 0.8631  \u001b[0m | \u001b[0m 0.6233  \u001b[0m | \u001b[0m 5.316   \u001b[0m | \u001b[0m 101.3   \u001b[0m | \u001b[0m 0.8622  \u001b[0m |\n",
      "| \u001b[0m 18      \u001b[0m | \u001b[0m-3.021   \u001b[0m | \u001b[0m 0.3252  \u001b[0m | \u001b[0m 0.7296  \u001b[0m | \u001b[0m 7.463   \u001b[0m | \u001b[0m 117.7   \u001b[0m | \u001b[0m 0.8944  \u001b[0m |\n",
      "| \u001b[0m 19      \u001b[0m | \u001b[0m-3.053   \u001b[0m | \u001b[0m 0.1196  \u001b[0m | \u001b[0m 0.7132  \u001b[0m | \u001b[0m 8.325   \u001b[0m | \u001b[0m 111.2   \u001b[0m | \u001b[0m 0.9542  \u001b[0m |\n",
      "| \u001b[0m 20      \u001b[0m | \u001b[0m-2.956   \u001b[0m | \u001b[0m 0.4938  \u001b[0m | \u001b[0m 0.5227  \u001b[0m | \u001b[0m 5.993   \u001b[0m | \u001b[0m 100.5   \u001b[0m | \u001b[0m 0.8216  \u001b[0m |\n",
      "| \u001b[95m 21      \u001b[0m | \u001b[95m-2.672   \u001b[0m | \u001b[95m 0.6587  \u001b[0m | \u001b[95m 0.07559 \u001b[0m | \u001b[95m 5.057   \u001b[0m | \u001b[95m 107.3   \u001b[0m | \u001b[95m 0.9037  \u001b[0m |\n",
      "| \u001b[0m 22      \u001b[0m | \u001b[0m-2.715   \u001b[0m | \u001b[0m 0.5984  \u001b[0m | \u001b[0m 0.04298 \u001b[0m | \u001b[0m 5.69    \u001b[0m | \u001b[0m 107.8   \u001b[0m | \u001b[0m 0.998   \u001b[0m |\n",
      "| \u001b[0m 23      \u001b[0m | \u001b[0m-4.543   \u001b[0m | \u001b[0m 0.8053  \u001b[0m | \u001b[0m 0.0     \u001b[0m | \u001b[0m 5.815   \u001b[0m | \u001b[0m 106.7   \u001b[0m | \u001b[0m 0.8     \u001b[0m |\n",
      "| \u001b[0m 24      \u001b[0m | \u001b[0m-4.543   \u001b[0m | \u001b[0m 0.634   \u001b[0m | \u001b[0m 0.0     \u001b[0m | \u001b[0m 5.02    \u001b[0m | \u001b[0m 107.9   \u001b[0m | \u001b[0m 1.0     \u001b[0m |\n",
      "| \u001b[0m 25      \u001b[0m | \u001b[0m-2.694   \u001b[0m | \u001b[0m 0.8076  \u001b[0m | \u001b[0m 0.1758  \u001b[0m | \u001b[0m 5.217   \u001b[0m | \u001b[0m 105.4   \u001b[0m | \u001b[0m 0.9452  \u001b[0m |\n",
      "=====================================================================================\n"
     ]
    }
   ],
   "source": [
    "params = {'max_depth': (3, 10), \n",
    "          'gamma': (0, 1), \n",
    "          'n_estimators':(100,120), \n",
    "          'learning_rate':(0,1), \n",
    "          'subsample': (0.8, 1)}\n",
    "xgb_bo = BayesianOptimization(bo_tune_xgb, params, random_state = 42)\n",
    "xgb_bo.maximize(n_iter=5, init_points=20)"
   ]
  },
  {
   "cell_type": "code",
   "execution_count": 13,
   "id": "2e419a70",
   "metadata": {},
   "outputs": [
    {
     "data": {
      "text/plain": [
       "{'gamma': 0.6586518558565275,\n",
       " 'learning_rate': 0.07559046078933696,\n",
       " 'max_depth': 5,\n",
       " 'n_estimators': 107,\n",
       " 'subsample': 0.9037180568061505}"
      ]
     },
     "execution_count": 13,
     "metadata": {},
     "output_type": "execute_result"
    }
   ],
   "source": [
    "params = xgb_bo.max['params']\n",
    "params['max_depth']= int(params['max_depth'])\n",
    "params['n_estimators']= int(params['n_estimators'])\n",
    "params"
   ]
  },
  {
   "cell_type": "code",
   "execution_count": 14,
   "id": "d4d82894",
   "metadata": {},
   "outputs": [
    {
     "data": {
      "application/vnd.jupyter.widget-view+json": {
       "model_id": "3f4be93dcd594aa08a4991ffcbb80a22",
       "version_major": 2,
       "version_minor": 0
      },
      "text/plain": [
       "HBox(children=(FloatProgress(value=0.0, max=3.0), HTML(value='')))"
      ]
     },
     "metadata": {},
     "output_type": "display_data"
    },
    {
     "name": "stdout",
     "output_type": "stream",
     "text": [
      "\n",
      "\n",
      "   <--- Validation Errors --->\n",
      "MAE  | Mean: 2.0495, SD: 0.0484\n",
      "RMSE | Mean: 2.74749, SD: 0.08083\n",
      "\n"
     ]
    }
   ],
   "source": [
    "clf = XGBRegressor(**params)\n",
    "errors = utils.cross_val(clf, X, y, n_folds=3)\n",
    "utils.summarize_errors(errors, verbose=0)"
   ]
  },
  {
   "cell_type": "markdown",
   "id": "8b509433",
   "metadata": {},
   "source": [
    "### Neural Network"
   ]
  },
  {
   "cell_type": "code",
   "execution_count": 15,
   "id": "0599bc82",
   "metadata": {},
   "outputs": [],
   "source": [
    "from keras.models import Sequential\n",
    "from keras.layers import Dense, Dropout\n",
    "from keras.wrappers.scikit_learn import KerasRegressor\n",
    "from sklearn.preprocessing import StandardScaler\n",
    "from sklearn.pipeline import Pipeline\n",
    "from sklearn.model_selection import KFold\n",
    "from sklearn import preprocessing\n",
    "from keras import regularizers\n",
    "from keras.callbacks import ModelCheckpoint\n",
    "import math"
   ]
  },
  {
   "cell_type": "code",
   "execution_count": 16,
   "id": "54b1857d",
   "metadata": {},
   "outputs": [],
   "source": [
    "def get_modelcheckpoint_path():\n",
    "    #Create a file path for a model and save models in hdf5 files with datetime, validation losses and epochs\n",
    "    parent = DATA_DIR+\"/NN/\"\n",
    "    child = pd.Timestamp.now().strftime('%Y%m%d-%Hh%Mm') + \"-model-epoch_{epoch:02d}-rmse_{val_loss:.5f}.hdf5\"\n",
    "    return parent + child \n",
    "\n",
    "def baseline_model():\n",
    "    # create model\n",
    "    model = Sequential()\n",
    "    model.add(Dense(X.shape[1], input_dim=X.shape[1], kernel_initializer='normal', activation='relu'))\n",
    "    model.add(Dense(15, kernel_initializer='normal', activation='relu'))\n",
    "    model.add(Dense(1, kernel_initializer='normal'))\n",
    "    model.compile(loss='mean_squared_error', optimizer='adam')\n",
    "    return model\n",
    "\n",
    "def dropout_model():\n",
    "    # create model\n",
    "    model = Sequential()\n",
    "    model.add(Dense(X.shape[1], input_dim=X.shape[1], kernel_initializer='normal', activation='relu'))\n",
    "    model.add(Dense(15, kernel_initializer='normal', activation='relu'))\n",
    "    #model.add(Dense(8, kernel_initializer='normal', activation='relu'))\n",
    "    model.add(Dropout(0.2))\n",
    "    model.add(Dense(1, kernel_initializer='normal'))\n",
    "    model.compile(loss='mean_squared_error', optimizer='adam')\n",
    "    return model\n",
    "\n",
    "def create_regressor(model, verbose=0):\n",
    "    reg = KerasRegressor(build_fn=model, epochs=100, batch_size=5, validation_split=0.2, shuffle=True, verbose=verbose)\n",
    "    return reg\n",
    "\n",
    "def plot_learning_process(history):\n",
    "    # summarize history for loss\n",
    "    plt.plot(history.history['loss'])\n",
    "    plt.plot(history.history['val_loss'])\n",
    "    plt.title('model loss')\n",
    "    plt.ylabel('loss')\n",
    "    plt.xlabel('epoch')\n",
    "    plt.legend(['train', 'test'], loc='upper left')\n",
    "    plt.show()\n",
    "    return None"
   ]
  },
  {
   "cell_type": "code",
   "execution_count": 17,
   "id": "2363bf3b",
   "metadata": {
    "scrolled": false
   },
   "outputs": [
    {
     "data": {
      "image/png": "[encoded data removed]",
      "text/plain": [
       "<Figure size 432x288 with 1 Axes>"
      ]
     },
     "metadata": {
      "needs_background": "light"
     },
     "output_type": "display_data"
    }
   ],
   "source": [
    "base_keras = create_regressor(baseline_model, 0)\n",
    "base_history = base_keras.fit(X, y)\n",
    "plot_learning_process(base_history)"
   ]
  },
  {
   "cell_type": "code",
   "execution_count": 18,
   "id": "40b93b8a",
   "metadata": {},
   "outputs": [
    {
     "data": {
      "application/vnd.jupyter.widget-view+json": {
       "model_id": "c48b26241add4b99b74f7cabb2ac3941",
       "version_major": 2,
       "version_minor": 0
      },
      "text/plain": [
       "HBox(children=(FloatProgress(value=0.0, max=5.0), HTML(value='')))"
      ]
     },
     "metadata": {},
     "output_type": "display_data"
    },
    {
     "name": "stdout",
     "output_type": "stream",
     "text": [
      "\n"
     ]
    }
   ],
   "source": [
    "errors = utils.cross_val(base_keras, X, y, n_folds=5)"
   ]
  },
  {
   "cell_type": "code",
   "execution_count": 19,
   "id": "d9593f67",
   "metadata": {},
   "outputs": [
    {
     "data": {
      "text/html": [
       "<div>\n",
       "<style scoped>\n",
       "    .dataframe tbody tr th:only-of-type {\n",
       "        vertical-align: middle;\n",
       "    }\n",
       "\n",
       "    .dataframe tbody tr th {\n",
       "        vertical-align: top;\n",
       "    }\n",
       "\n",
       "    .dataframe thead th {\n",
       "        text-align: right;\n",
       "    }\n",
       "</style>\n",
       "<table border=\"1\" class=\"dataframe\">\n",
       "  <thead>\n",
       "    <tr style=\"text-align: right;\">\n",
       "      <th></th>\n",
       "      <th></th>\n",
       "      <th></th>\n",
       "      <th></th>\n",
       "      <th></th>\n",
       "      <th></th>\n",
       "    </tr>\n",
       "    <tr>\n",
       "      <th>MAE</th>\n",
       "      <th></th>\n",
       "      <th></th>\n",
       "      <th></th>\n",
       "      <th></th>\n",
       "      <th></th>\n",
       "    </tr>\n",
       "  </thead>\n",
       "  <tbody>\n",
       "    <tr>\n",
       "      <th>train</th>\n",
       "      <td>2.228084</td>\n",
       "      <td>2.419893</td>\n",
       "      <td>2.122955</td>\n",
       "      <td>2.145709</td>\n",
       "      <td>2.089684</td>\n",
       "    </tr>\n",
       "    <tr>\n",
       "      <th>valid</th>\n",
       "      <td>2.523885</td>\n",
       "      <td>2.466550</td>\n",
       "      <td>2.286262</td>\n",
       "      <td>2.241118</td>\n",
       "      <td>2.086371</td>\n",
       "    </tr>\n",
       "  </tbody>\n",
       "</table>\n",
       "</div>"
      ],
      "text/plain": [
       "                                                       \n",
       "MAE                                                    \n",
       "train  2.228084  2.419893  2.122955  2.145709  2.089684\n",
       "valid  2.523885  2.466550  2.286262  2.241118  2.086371"
      ]
     },
     "metadata": {},
     "output_type": "display_data"
    },
    {
     "data": {
      "text/html": [
       "<div>\n",
       "<style scoped>\n",
       "    .dataframe tbody tr th:only-of-type {\n",
       "        vertical-align: middle;\n",
       "    }\n",
       "\n",
       "    .dataframe tbody tr th {\n",
       "        vertical-align: top;\n",
       "    }\n",
       "\n",
       "    .dataframe thead th {\n",
       "        text-align: right;\n",
       "    }\n",
       "</style>\n",
       "<table border=\"1\" class=\"dataframe\">\n",
       "  <thead>\n",
       "    <tr style=\"text-align: right;\">\n",
       "      <th></th>\n",
       "      <th></th>\n",
       "      <th></th>\n",
       "      <th></th>\n",
       "      <th></th>\n",
       "      <th></th>\n",
       "    </tr>\n",
       "    <tr>\n",
       "      <th>RMSE</th>\n",
       "      <th></th>\n",
       "      <th></th>\n",
       "      <th></th>\n",
       "      <th></th>\n",
       "      <th></th>\n",
       "    </tr>\n",
       "  </thead>\n",
       "  <tbody>\n",
       "    <tr>\n",
       "      <th>train</th>\n",
       "      <td>2.881606</td>\n",
       "      <td>3.084353</td>\n",
       "      <td>2.816215</td>\n",
       "      <td>2.797916</td>\n",
       "      <td>2.796475</td>\n",
       "    </tr>\n",
       "    <tr>\n",
       "      <th>valid</th>\n",
       "      <td>3.221719</td>\n",
       "      <td>3.116847</td>\n",
       "      <td>2.929782</td>\n",
       "      <td>2.997158</td>\n",
       "      <td>2.719221</td>\n",
       "    </tr>\n",
       "  </tbody>\n",
       "</table>\n",
       "</div>"
      ],
      "text/plain": [
       "                                                       \n",
       "RMSE                                                   \n",
       "train  2.881606  3.084353  2.816215  2.797916  2.796475\n",
       "valid  3.221719  3.116847  2.929782  2.997158  2.719221"
      ]
     },
     "metadata": {},
     "output_type": "display_data"
    },
    {
     "name": "stdout",
     "output_type": "stream",
     "text": [
      "\n",
      "   <--- Validation Errors --->\n",
      "MAE  | Mean: 2.32084, SD: 0.15811\n",
      "RMSE | Mean: 2.99695, SD: 0.1712\n",
      "\n"
     ]
    }
   ],
   "source": [
    "utils.summarize_errors(errors, verbose=1)"
   ]
  },
  {
   "cell_type": "code",
   "execution_count": 20,
   "id": "de63dba1",
   "metadata": {},
   "outputs": [
    {
     "data": {
      "image/png": "[encoded data removed]",
      "text/plain": [
       "<Figure size 432x288 with 1 Axes>"
      ]
     },
     "metadata": {
      "needs_background": "light"
     },
     "output_type": "display_data"
    }
   ],
   "source": [
    "dropout_keras = create_regressor(dropout_model, 0)\n",
    "dropout_history = base_keras.fit(X, y)\n",
    "plot_learning_process(dropout_history)"
   ]
  },
  {
   "cell_type": "code",
   "execution_count": 21,
   "id": "3ef4576e",
   "metadata": {
    "scrolled": true
   },
   "outputs": [
    {
     "data": {
      "application/vnd.jupyter.widget-view+json": {
       "model_id": "99e3c29b89384c17bf5141766aa1f497",
       "version_major": 2,
       "version_minor": 0
      },
      "text/plain": [
       "HBox(children=(FloatProgress(value=0.0, max=5.0), HTML(value='')))"
      ]
     },
     "metadata": {},
     "output_type": "display_data"
    },
    {
     "name": "stdout",
     "output_type": "stream",
     "text": [
      "\n"
     ]
    },
    {
     "data": {
      "text/html": [
       "<div>\n",
       "<style scoped>\n",
       "    .dataframe tbody tr th:only-of-type {\n",
       "        vertical-align: middle;\n",
       "    }\n",
       "\n",
       "    .dataframe tbody tr th {\n",
       "        vertical-align: top;\n",
       "    }\n",
       "\n",
       "    .dataframe thead th {\n",
       "        text-align: right;\n",
       "    }\n",
       "</style>\n",
       "<table border=\"1\" class=\"dataframe\">\n",
       "  <thead>\n",
       "    <tr style=\"text-align: right;\">\n",
       "      <th></th>\n",
       "      <th></th>\n",
       "      <th></th>\n",
       "      <th></th>\n",
       "      <th></th>\n",
       "      <th></th>\n",
       "    </tr>\n",
       "    <tr>\n",
       "      <th>MAE</th>\n",
       "      <th></th>\n",
       "      <th></th>\n",
       "      <th></th>\n",
       "      <th></th>\n",
       "      <th></th>\n",
       "    </tr>\n",
       "  </thead>\n",
       "  <tbody>\n",
       "    <tr>\n",
       "      <th>train</th>\n",
       "      <td>2.104696</td>\n",
       "      <td>2.233723</td>\n",
       "      <td>2.126895</td>\n",
       "      <td>2.148265</td>\n",
       "      <td>2.193417</td>\n",
       "    </tr>\n",
       "    <tr>\n",
       "      <th>valid</th>\n",
       "      <td>2.390583</td>\n",
       "      <td>2.244504</td>\n",
       "      <td>2.297468</td>\n",
       "      <td>2.310699</td>\n",
       "      <td>2.172835</td>\n",
       "    </tr>\n",
       "  </tbody>\n",
       "</table>\n",
       "</div>"
      ],
      "text/plain": [
       "                                                       \n",
       "MAE                                                    \n",
       "train  2.104696  2.233723  2.126895  2.148265  2.193417\n",
       "valid  2.390583  2.244504  2.297468  2.310699  2.172835"
      ]
     },
     "metadata": {},
     "output_type": "display_data"
    },
    {
     "data": {
      "text/html": [
       "<div>\n",
       "<style scoped>\n",
       "    .dataframe tbody tr th:only-of-type {\n",
       "        vertical-align: middle;\n",
       "    }\n",
       "\n",
       "    .dataframe tbody tr th {\n",
       "        vertical-align: top;\n",
       "    }\n",
       "\n",
       "    .dataframe thead th {\n",
       "        text-align: right;\n",
       "    }\n",
       "</style>\n",
       "<table border=\"1\" class=\"dataframe\">\n",
       "  <thead>\n",
       "    <tr style=\"text-align: right;\">\n",
       "      <th></th>\n",
       "      <th></th>\n",
       "      <th></th>\n",
       "      <th></th>\n",
       "      <th></th>\n",
       "      <th></th>\n",
       "    </tr>\n",
       "    <tr>\n",
       "      <th>RMSE</th>\n",
       "      <th></th>\n",
       "      <th></th>\n",
       "      <th></th>\n",
       "      <th></th>\n",
       "      <th></th>\n",
       "    </tr>\n",
       "  </thead>\n",
       "  <tbody>\n",
       "    <tr>\n",
       "      <th>train</th>\n",
       "      <td>2.783425</td>\n",
       "      <td>2.957422</td>\n",
       "      <td>2.822957</td>\n",
       "      <td>2.833598</td>\n",
       "      <td>2.901940</td>\n",
       "    </tr>\n",
       "    <tr>\n",
       "      <th>valid</th>\n",
       "      <td>3.160612</td>\n",
       "      <td>2.896682</td>\n",
       "      <td>2.953841</td>\n",
       "      <td>3.067642</td>\n",
       "      <td>2.795313</td>\n",
       "    </tr>\n",
       "  </tbody>\n",
       "</table>\n",
       "</div>"
      ],
      "text/plain": [
       "                                                       \n",
       "RMSE                                                   \n",
       "train  2.783425  2.957422  2.822957  2.833598  2.901940\n",
       "valid  3.160612  2.896682  2.953841  3.067642  2.795313"
      ]
     },
     "metadata": {},
     "output_type": "display_data"
    },
    {
     "name": "stdout",
     "output_type": "stream",
     "text": [
      "\n",
      "   <--- Validation Errors --->\n",
      "MAE  | Mean: 2.28322, SD: 0.07234\n",
      "RMSE | Mean: 2.97482, SD: 0.12799\n",
      "\n"
     ]
    }
   ],
   "source": [
    "errors = utils.cross_val(dropout_keras, X, y, n_folds=5)\n",
    "utils.summarize_errors(errors, verbose=1)"
   ]
  },
  {
   "cell_type": "markdown",
   "id": "6f8c84ef",
   "metadata": {},
   "source": [
    "### Making Predictions"
   ]
  },
  {
   "cell_type": "code",
   "execution_count": 24,
   "id": "0fd43b65",
   "metadata": {},
   "outputs": [
    {
     "name": "stdout",
     "output_type": "stream",
     "text": [
      "1.7282533284491566\n",
      "2.48234542403067\n"
     ]
    }
   ],
   "source": [
    "df = pd.read_csv(DATA_DIR+'/Predictions/predictions.csv')\n",
    "df.drop(columns=['PLAYER','TEAM','SEASON'], inplace=True)\n",
    "df = pd.get_dummies(df)\n",
    "X = df.loc[:, df.columns != 'VALUE']\n",
    "y = df['VALUE'].values.reshape(-1,1).flatten()\n",
    "values = clf.predict(X)\n",
    "\n",
    "print(utils.calculate_MAE(values, y))\n",
    "print(utils.calculate_RMSE(values, y))"
   ]
  },
  {
   "cell_type": "code",
   "execution_count": 25,
   "id": "75307ced",
   "metadata": {},
   "outputs": [],
   "source": [
    "df = pd.read_csv(DATA_DIR+'/Predictions/predictions.csv')\n",
    "df['PRED'] = values\n",
    "df.to_csv(DATA_DIR+'/Predictions/end.csv')"
   ]
  },
  {
   "cell_type": "code",
   "execution_count": null,
   "id": "65867996",
   "metadata": {},
   "outputs": [],
   "source": []
  }
 ],
 "metadata": {
  "kernelspec": {
   "display_name": "Python 3",
   "language": "python",
   "name": "python3"
  },
  "language_info": {
   "codemirror_mode": {
    "name": "ipython",
    "version": 3
   },
   "file_extension": ".py",
   "mimetype": "text/x-python",
   "name": "python",
   "nbconvert_exporter": "python",
   "pygments_lexer": "ipython3",
   "version": "3.8.8"
  }
 },
 "nbformat": 4,
 "nbformat_minor": 5
}
