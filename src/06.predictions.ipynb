{
 "cells": [
  {
   "cell_type": "markdown",
   "id": "76bd4d8a",
   "metadata": {},
   "source": [
    "Lastly, we'll run our predictions. We want to run predictions for all punt types since we don't know the punt type we'll be going with at the beginning of the draft. After the first couple of picks, we'll have a better idea of which stats we want to tank and thus, we can refer to the dataset correspondingly."
   ]
  },
  {
   "cell_type": "code",
   "execution_count": 1,
   "id": "0d088e81",
   "metadata": {},
   "outputs": [],
   "source": [
    "import os\n",
    "import utils\n",
    "import warnings\n",
    "\n",
    "import numpy as np\n",
    "import pandas as pd\n",
    "import matplotlib.pyplot as plt\n",
    "import xgboost as xgb\n",
    "\n",
    "from bayes_opt import BayesianOptimization\n",
    "from sklearn.ensemble import GradientBoostingRegressor\n",
    "from sklearn.linear_model import LinearRegression\n",
    "from sklearn.linear_model import Lasso\n",
    "from sklearn.linear_model import Ridge\n",
    "from sklearn.metrics import mean_absolute_error as mae\n",
    "from sklearn.metrics import mean_squared_error as mse\n",
    "from sklearn.model_selection import cross_val_score\n",
    "from sklearn.model_selection import GridSearchCV\n",
    "from sklearn.model_selection import RepeatedKFold\n",
    "from sklearn.model_selection import train_test_split\n",
    "from tqdm import tqdm_notebook as tqdm\n",
    "from xgboost import XGBRegressor\n",
    "\n",
    "from constants import DATA_DIR\n",
    "from constants import PUNT_TYPES\n",
    "warnings.filterwarnings('ignore')"
   ]
  },
  {
   "cell_type": "markdown",
   "id": "06c037e5",
   "metadata": {},
   "source": [
    "First, we'll refit the model again using the optimal parameter found before on the ABT. Next we'll come up with predicted value using the past season's data and store it in a new folder. This is done for each punt type."
   ]
  },
  {
   "cell_type": "code",
   "execution_count": 2,
   "id": "3399dafc",
   "metadata": {
    "scrolled": true
   },
   "outputs": [
    {
     "data": {
      "application/vnd.jupyter.widget-view+json": {
       "model_id": "2f90b01d330740a18c3108c360f07484",
       "version_major": 2,
       "version_minor": 0
      },
      "text/plain": [
       "  0%|          | 0/536 [00:00<?, ?it/s]"
      ]
     },
     "metadata": {},
     "output_type": "display_data"
    },
    {
     "data": {
      "application/vnd.jupyter.widget-view+json": {
       "model_id": "bdad7a50d9ac40d296251fa50674e4b8",
       "version_major": 2,
       "version_minor": 0
      },
      "text/plain": [
       "  0%|          | 0/536 [00:00<?, ?it/s]"
      ]
     },
     "metadata": {},
     "output_type": "display_data"
    },
    {
     "data": {
      "application/vnd.jupyter.widget-view+json": {
       "model_id": "91a1bb1e04b94ad08b7da18f6efe52d9",
       "version_major": 2,
       "version_minor": 0
      },
      "text/plain": [
       "  0%|          | 0/536 [00:00<?, ?it/s]"
      ]
     },
     "metadata": {},
     "output_type": "display_data"
    },
    {
     "data": {
      "application/vnd.jupyter.widget-view+json": {
       "model_id": "5b7b4ca5f9ff4859a7bbdda729f5967a",
       "version_major": 2,
       "version_minor": 0
      },
      "text/plain": [
       "  0%|          | 0/536 [00:00<?, ?it/s]"
      ]
     },
     "metadata": {},
     "output_type": "display_data"
    },
    {
     "data": {
      "application/vnd.jupyter.widget-view+json": {
       "model_id": "1a84106c6b7c45b9aeb3220be2bf34a3",
       "version_major": 2,
       "version_minor": 0
      },
      "text/plain": [
       "  0%|          | 0/536 [00:00<?, ?it/s]"
      ]
     },
     "metadata": {},
     "output_type": "display_data"
    },
    {
     "data": {
      "application/vnd.jupyter.widget-view+json": {
       "model_id": "5d971af3230f4bd9bb7b0926382362c0",
       "version_major": 2,
       "version_minor": 0
      },
      "text/plain": [
       "  0%|          | 0/536 [00:00<?, ?it/s]"
      ]
     },
     "metadata": {},
     "output_type": "display_data"
    },
    {
     "data": {
      "application/vnd.jupyter.widget-view+json": {
       "model_id": "dbaf4480598f4666ae37035d0d0964fc",
       "version_major": 2,
       "version_minor": 0
      },
      "text/plain": [
       "  0%|          | 0/536 [00:00<?, ?it/s]"
      ]
     },
     "metadata": {},
     "output_type": "display_data"
    },
    {
     "data": {
      "application/vnd.jupyter.widget-view+json": {
       "model_id": "ba50d91075da4dfb833a5c2305ab75c5",
       "version_major": 2,
       "version_minor": 0
      },
      "text/plain": [
       "  0%|          | 0/536 [00:00<?, ?it/s]"
      ]
     },
     "metadata": {},
     "output_type": "display_data"
    },
    {
     "data": {
      "application/vnd.jupyter.widget-view+json": {
       "model_id": "3c88d6ea8df24243a1ac898413a81b00",
       "version_major": 2,
       "version_minor": 0
      },
      "text/plain": [
       "  0%|          | 0/536 [00:00<?, ?it/s]"
      ]
     },
     "metadata": {},
     "output_type": "display_data"
    },
    {
     "data": {
      "application/vnd.jupyter.widget-view+json": {
       "model_id": "2d012f54d4dc4081b8d347d00218fded",
       "version_major": 2,
       "version_minor": 0
      },
      "text/plain": [
       "  0%|          | 0/536 [00:00<?, ?it/s]"
      ]
     },
     "metadata": {},
     "output_type": "display_data"
    },
    {
     "data": {
      "application/vnd.jupyter.widget-view+json": {
       "model_id": "69ee6bb7f7724cf0a9e014f6253c3259",
       "version_major": 2,
       "version_minor": 0
      },
      "text/plain": [
       "  0%|          | 0/536 [00:00<?, ?it/s]"
      ]
     },
     "metadata": {},
     "output_type": "display_data"
    },
    {
     "data": {
      "application/vnd.jupyter.widget-view+json": {
       "model_id": "f2e84652aba940b590bc5ac8e0e8cc6d",
       "version_major": 2,
       "version_minor": 0
      },
      "text/plain": [
       "  0%|          | 0/536 [00:00<?, ?it/s]"
      ]
     },
     "metadata": {},
     "output_type": "display_data"
    }
   ],
   "source": [
    "# Read fitting data with parameters, Create datasets\n",
    "weight = 'quad'\n",
    "season = '2020-21'\n",
    "for punt in PUNT_TYPES:\n",
    "    # fit the model\n",
    "    if punt == []:\n",
    "        punt_name = 'Base'\n",
    "    else:\n",
    "        punt_name = '+'.join(punt)\n",
    "    train = pd.read_csv(os.path.join(DATA_DIR,'ABT',punt_name+'.csv'))\n",
    "    X = train.loc[:, train.columns != 'VALUE']\n",
    "    y = train['VALUE'].values.reshape(-1,1).flatten()\n",
    "    lasso = Lasso(alpha=1e-3)\n",
    "    lasso.fit(X, y)\n",
    "    \n",
    "    # get prediction data\n",
    "    merged = utils.csv_concatenate(os.path.join(DATA_DIR,punt_name,'Value'))\n",
    "    merged.sort_values(by=['SEASON'], inplace=True)\n",
    "    pred_data = utils.weigh_data(weight, season, merged, True)\n",
    "    pred_data.set_index('PLAYER',inplace=True)\n",
    "    pred_y = pred_data['VALUE']\n",
    "    pred_data.drop(columns=['TEAM','SEASON','VALUE'], inplace=True)\n",
    "    pred_data = pd.get_dummies(pred_data)\n",
    "    pred = lasso.predict(pred_data)\n",
    "    \n",
    "    #dataset created\n",
    "    pred_data['PRED'] = pred\n",
    "    pred_data.to_csv(os.path.join(DATA_DIR,'PRED',punt_name+'.csv'))"
   ]
  },
  {
   "cell_type": "markdown",
   "id": "05a9826a",
   "metadata": {},
   "source": [
    "After this our work is essentially done! We've figured out how we can optimize our drafting based on which category we want to punt and trained our models to predict our scores within ~1 RMSE. Next we can just include some helper functions that will aide us on drafting day."
   ]
  },
  {
   "cell_type": "code",
   "execution_count": 3,
   "id": "199bd45d",
   "metadata": {
    "scrolled": true
   },
   "outputs": [
    {
     "data": {
      "text/html": [
       "<div>\n",
       "<style scoped>\n",
       "    .dataframe tbody tr th:only-of-type {\n",
       "        vertical-align: middle;\n",
       "    }\n",
       "\n",
       "    .dataframe tbody tr th {\n",
       "        vertical-align: top;\n",
       "    }\n",
       "\n",
       "    .dataframe thead th {\n",
       "        text-align: right;\n",
       "    }\n",
       "</style>\n",
       "<table border=\"1\" class=\"dataframe\">\n",
       "  <thead>\n",
       "    <tr style=\"text-align: right;\">\n",
       "      <th></th>\n",
       "      <th>James Harden</th>\n",
       "      <th>Bradley Beal</th>\n",
       "      <th>Fred VanVleet</th>\n",
       "      <th>Sum</th>\n",
       "    </tr>\n",
       "    <tr>\n",
       "      <th>Punt</th>\n",
       "      <th></th>\n",
       "      <th></th>\n",
       "      <th></th>\n",
       "      <th></th>\n",
       "    </tr>\n",
       "  </thead>\n",
       "  <tbody>\n",
       "    <tr>\n",
       "      <th>BLK</th>\n",
       "      <td>15.284158</td>\n",
       "      <td>12.925977</td>\n",
       "      <td>10.220119</td>\n",
       "      <td>38.430254</td>\n",
       "    </tr>\n",
       "    <tr>\n",
       "      <th>TRB</th>\n",
       "      <td>14.505938</td>\n",
       "      <td>12.404694</td>\n",
       "      <td>10.305183</td>\n",
       "      <td>37.215815</td>\n",
       "    </tr>\n",
       "    <tr>\n",
       "      <th>FG%</th>\n",
       "      <td>14.786225</td>\n",
       "      <td>11.178986</td>\n",
       "      <td>9.809171</td>\n",
       "      <td>35.774382</td>\n",
       "    </tr>\n",
       "    <tr>\n",
       "      <th>Base</th>\n",
       "      <td>14.422065</td>\n",
       "      <td>11.784520</td>\n",
       "      <td>9.337040</td>\n",
       "      <td>35.543625</td>\n",
       "    </tr>\n",
       "    <tr>\n",
       "      <th>BLK+FG%</th>\n",
       "      <td>13.829057</td>\n",
       "      <td>10.834691</td>\n",
       "      <td>9.521696</td>\n",
       "      <td>34.185444</td>\n",
       "    </tr>\n",
       "    <tr>\n",
       "      <th>FT%</th>\n",
       "      <td>13.473266</td>\n",
       "      <td>10.741512</td>\n",
       "      <td>9.606276</td>\n",
       "      <td>33.821054</td>\n",
       "    </tr>\n",
       "    <tr>\n",
       "      <th>STL</th>\n",
       "      <td>14.134821</td>\n",
       "      <td>11.652780</td>\n",
       "      <td>8.012662</td>\n",
       "      <td>33.800262</td>\n",
       "    </tr>\n",
       "    <tr>\n",
       "      <th>FG%+TRB</th>\n",
       "      <td>13.060544</td>\n",
       "      <td>10.316197</td>\n",
       "      <td>9.617793</td>\n",
       "      <td>32.994534</td>\n",
       "    </tr>\n",
       "    <tr>\n",
       "      <th>AST</th>\n",
       "      <td>11.550151</td>\n",
       "      <td>11.065892</td>\n",
       "      <td>8.171584</td>\n",
       "      <td>30.787627</td>\n",
       "    </tr>\n",
       "    <tr>\n",
       "      <th>PTS</th>\n",
       "      <td>12.774580</td>\n",
       "      <td>9.182079</td>\n",
       "      <td>8.713859</td>\n",
       "      <td>30.670517</td>\n",
       "    </tr>\n",
       "    <tr>\n",
       "      <th>AST+STL</th>\n",
       "      <td>9.456201</td>\n",
       "      <td>9.440536</td>\n",
       "      <td>5.673768</td>\n",
       "      <td>24.570505</td>\n",
       "    </tr>\n",
       "    <tr>\n",
       "      <th>PTS+FT%</th>\n",
       "      <td>10.004499</td>\n",
       "      <td>6.672479</td>\n",
       "      <td>7.791584</td>\n",
       "      <td>24.468561</td>\n",
       "    </tr>\n",
       "  </tbody>\n",
       "</table>\n",
       "</div>"
      ],
      "text/plain": [
       "         James Harden  Bradley Beal  Fred VanVleet        Sum\n",
       "Punt                                                         \n",
       "BLK         15.284158     12.925977      10.220119  38.430254\n",
       "TRB         14.505938     12.404694      10.305183  37.215815\n",
       "FG%         14.786225     11.178986       9.809171  35.774382\n",
       "Base        14.422065     11.784520       9.337040  35.543625\n",
       "BLK+FG%     13.829057     10.834691       9.521696  34.185444\n",
       "FT%         13.473266     10.741512       9.606276  33.821054\n",
       "STL         14.134821     11.652780       8.012662  33.800262\n",
       "FG%+TRB     13.060544     10.316197       9.617793  32.994534\n",
       "AST         11.550151     11.065892       8.171584  30.787627\n",
       "PTS         12.774580      9.182079       8.713859  30.670517\n",
       "AST+STL      9.456201      9.440536       5.673768  24.570505\n",
       "PTS+FT%     10.004499      6.672479       7.791584  24.468561"
      ]
     },
     "execution_count": 3,
     "metadata": {},
     "output_type": "execute_result"
    }
   ],
   "source": [
    "def which_punt(player_list):\n",
    "    rows = []\n",
    "    for punt in PUNT_TYPES:\n",
    "        if punt == []:\n",
    "            punt_name = 'Base'\n",
    "        else:\n",
    "            punt_name = '+'.join(punt)\n",
    "        \n",
    "        df = pd.read_csv(os.path.join(DATA_DIR,'PRED',punt_name+'.csv')).set_index('PLAYER')\n",
    "        stats=[punt_name]\n",
    "        for player in player_list:\n",
    "            stats.append(df.loc[player,'PRED'])\n",
    "        rows.append(stats)\n",
    "    columns = ['Punt']\n",
    "    for player in player_list:\n",
    "        columns.append(player)\n",
    "    rank = pd.DataFrame(rows,columns=columns)\n",
    "    rank['Sum'] = rank.sum(1)\n",
    "    rank.sort_values(by='Sum', ascending=False, inplace=True)\n",
    "    rank.set_index('Punt', inplace=True)\n",
    "    return rank\n",
    "\n",
    "player_list = ['James Harden','Bradley Beal','Fred VanVleet']\n",
    "which_punt(player_list)"
   ]
  },
  {
   "cell_type": "code",
   "execution_count": null,
   "id": "fe870de3",
   "metadata": {},
   "outputs": [],
   "source": []
  }
 ],
 "metadata": {
  "interpreter": {
   "hash": "f34e4307ae1a7e0887163dada84fcd23da92a8679be79e99c3106e0145f5ffd4"
  },
  "kernelspec": {
   "display_name": "Python 3.8.8 64-bit ('base': conda)",
   "name": "python3"
  },
  "language_info": {
   "codemirror_mode": {
    "name": "ipython",
    "version": 3
   },
   "file_extension": ".py",
   "mimetype": "text/x-python",
   "name": "python",
   "nbconvert_exporter": "python",
   "pygments_lexer": "ipython3",
   "version": "3.8.8"
  }
 },
 "nbformat": 4,
 "nbformat_minor": 5
}
